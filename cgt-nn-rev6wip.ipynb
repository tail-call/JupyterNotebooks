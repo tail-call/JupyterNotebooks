{
 "cells": [
  {
   "cell_type": "markdown",
   "id": "3601460f",
   "metadata": {},
   "source": [
    "# Методы исследования характеристических свойств нейронных сетей с применением теоретико-игрового подхода\n",
    "\n",
    "- **Теория**: И.В.Томилов ivan-tomilov3@yandex.ru\n",
    "- **Реализация**: М.А.Зайцева maria@tail-call.ru\n",
    "- **Поддержка CUDA**: А.Е.Григорьева admin@linkennt.ru\n",
    "- **Ревизия**: 6\n",
    "\n",
    "- **Другие ревизии**: [ссылка](https://disk.yandex.ru/d/aZozDpBlzh_z1A)\n",
    "<!-- please do not append text into this block -->"
   ]
  },
  {
   "cell_type": "markdown",
   "id": "3e53163b",
   "metadata": {},
   "source": [
    "## 0. Изменения\n",
    "\n",
    "**Модифицировано определение диагональной маски.** Строка в определении\n",
    "метода `.backward()` класса `CustomReluFunction`:\n",
    "```python\n",
    "diagonal_mask = torch.diag(bernoulli_mask) / (1 - p.item()+1e-5)\n",
    "```\n",
    "заменена на:\n",
    "```python\n",
    "diagonal_mask = torch.diag(bernoulli_mask)\n",
    "```"
   ]
  },
  {
   "cell_type": "markdown",
   "id": "39a4bc90",
   "metadata": {},
   "source": [
    "## 1. Настройки"
   ]
  },
  {
   "cell_type": "code",
   "execution_count": 1,
   "id": "30fabc90",
   "metadata": {
    "scrolled": true,
    "vscode": {
     "languageId": "shellscript"
    }
   },
   "outputs": [],
   "source": [
    "## 1.1 Install dependencies\n",
    "\n",
    "# pip install -r requirements.txt"
   ]
  },
  {
   "cell_type": "code",
   "execution_count": 2,
   "id": "bedf16ba",
   "metadata": {},
   "outputs": [],
   "source": [
    "## 1.2 Import library\n",
    "\n",
    "import cgtnnlib.common as lib"
   ]
  },
  {
   "cell_type": "markdown",
   "id": "582f0286",
   "metadata": {},
   "source": [
    "## 2. Обучение"
   ]
  },
  {
   "cell_type": "code",
   "execution_count": null,
   "id": "28c4d097",
   "metadata": {},
   "outputs": [
    {
     "data": {
      "text/plain": [
       "TrainingParameters(dataset=Dataset(name='wisc_bc_data.csv', number=1, classes_count=2, data=DatasetData(train_dataset=<torch.utils.data.dataset.TensorDataset object at 0x151228fb0>, test_dataset=<torch.utils.data.dataset.TensorDataset object at 0x151255eb0>, train_loader=<torch.utils.data.dataloader.DataLoader object at 0x15115d940>, test_loader=<torch.utils.data.dataloader.DataLoader object at 0x15115d910>)), criterion=CrossEntropyLoss(), experiment_params=ExperimentParameters(iteration=0, p=0), model_a_path='pth/model-1A-c-P0_N0.pth', model_b_path='pth/model-1B-c-P0_N0.pth', loss_curve_plot_col_index=0)"
      ]
     },
     "metadata": {},
     "output_type": "display_data"
    },
    {
     "name": "stdout",
     "output_type": "stream",
     "text": [
      "NOTE: Training model RegularNetwork(inputs_count: 30, outputs_count: 2) in dry run mode. No changes to weights will be applied. An array of 20 -1s is generated for running_losses.\n",
      "NOTE: Training model AugmentedReLUNetwork(p: 0, inputs_count: 30, outputs_count: 2) in dry run mode. No changes to weights will be applied. An array of 20 -1s is generated for running_losses.\n"
     ]
    },
    {
     "data": {
      "text/plain": [
       "TrainingParameters(dataset=Dataset(name='car_evaluation.csv', number=2, classes_count=4, data=DatasetData(train_dataset=<torch.utils.data.dataset.TensorDataset object at 0x151117320>, test_dataset=<torch.utils.data.dataset.TensorDataset object at 0x151288bc0>, train_loader=<torch.utils.data.dataloader.DataLoader object at 0x1511173e0>, test_loader=<torch.utils.data.dataloader.DataLoader object at 0x1511d7ef0>)), criterion=CrossEntropyLoss(), experiment_params=ExperimentParameters(iteration=0, p=0), model_a_path='pth/model-2A-c-P0_N0.pth', model_b_path='pth/model-2B-c-P0_N0.pth', loss_curve_plot_col_index=1)"
      ]
     },
     "metadata": {},
     "output_type": "display_data"
    },
    {
     "name": "stdout",
     "output_type": "stream",
     "text": [
      "NOTE: Training model RegularNetwork(inputs_count: 6, outputs_count: 4) in dry run mode. No changes to weights will be applied. An array of 20 -1s is generated for running_losses.\n",
      "NOTE: Training model AugmentedReLUNetwork(p: 0, inputs_count: 6, outputs_count: 4) in dry run mode. No changes to weights will be applied. An array of 20 -1s is generated for running_losses.\n"
     ]
    },
    {
     "data": {
      "text/plain": [
       "TrainingParameters(dataset=Dataset(name='StudentPerformanceFactors.csv', number=3, classes_count=1, data=DatasetData(train_dataset=<torch.utils.data.dataset.TensorDataset object at 0x151216cc0>, test_dataset=<torch.utils.data.dataset.TensorDataset object at 0x15128ac00>, train_loader=<torch.utils.data.dataloader.DataLoader object at 0x15117d4c0>, test_loader=<torch.utils.data.dataloader.DataLoader object at 0x1511ed970>)), criterion=MSELoss(), experiment_params=ExperimentParameters(iteration=0, p=0), model_a_path='pth/model-3A-c-P0_N0.pth', model_b_path='pth/model-3B-c-P0_N0.pth', loss_curve_plot_col_index=2)"
      ]
     },
     "metadata": {},
     "output_type": "display_data"
    },
    {
     "name": "stdout",
     "output_type": "stream",
     "text": [
      "NOTE: Training model RegularNetwork(inputs_count: 19, outputs_count: 1) in dry run mode. No changes to weights will be applied. An array of 20 -1s is generated for running_losses.\n",
      "NOTE: Training model AugmentedReLUNetwork(p: 0, inputs_count: 19, outputs_count: 1) in dry run mode. No changes to weights will be applied. An array of 20 -1s is generated for running_losses.\n",
      "NOTE: save_plot called but no figure will be saved. Path: report/loss__p0_N0.png\n"
     ]
    },
    {
     "data": {
      "text/plain": [
       "TrainingParameters(dataset=Dataset(name='wisc_bc_data.csv', number=1, classes_count=2, data=DatasetData(train_dataset=<torch.utils.data.dataset.TensorDataset object at 0x151228fb0>, test_dataset=<torch.utils.data.dataset.TensorDataset object at 0x151255eb0>, train_loader=<torch.utils.data.dataloader.DataLoader object at 0x15115d940>, test_loader=<torch.utils.data.dataloader.DataLoader object at 0x15115d910>)), criterion=CrossEntropyLoss(), experiment_params=ExperimentParameters(iteration=0, p=0.01), model_a_path='pth/model-1A-c-P0.01_N0.pth', model_b_path='pth/model-1B-c-P0.01_N0.pth', loss_curve_plot_col_index=0)"
      ]
     },
     "metadata": {},
     "output_type": "display_data"
    },
    {
     "name": "stdout",
     "output_type": "stream",
     "text": [
      "NOTE: Training model RegularNetwork(inputs_count: 30, outputs_count: 2) in dry run mode. No changes to weights will be applied. An array of 20 -1s is generated for running_losses.\n",
      "NOTE: Training model AugmentedReLUNetwork(p: 0.01, inputs_count: 30, outputs_count: 2) in dry run mode. No changes to weights will be applied. An array of 20 -1s is generated for running_losses.\n"
     ]
    },
    {
     "data": {
      "text/plain": [
       "TrainingParameters(dataset=Dataset(name='car_evaluation.csv', number=2, classes_count=4, data=DatasetData(train_dataset=<torch.utils.data.dataset.TensorDataset object at 0x151117320>, test_dataset=<torch.utils.data.dataset.TensorDataset object at 0x151288bc0>, train_loader=<torch.utils.data.dataloader.DataLoader object at 0x1511173e0>, test_loader=<torch.utils.data.dataloader.DataLoader object at 0x1511d7ef0>)), criterion=CrossEntropyLoss(), experiment_params=ExperimentParameters(iteration=0, p=0.01), model_a_path='pth/model-2A-c-P0.01_N0.pth', model_b_path='pth/model-2B-c-P0.01_N0.pth', loss_curve_plot_col_index=1)"
      ]
     },
     "metadata": {},
     "output_type": "display_data"
    },
    {
     "name": "stdout",
     "output_type": "stream",
     "text": [
      "NOTE: Training model RegularNetwork(inputs_count: 6, outputs_count: 4) in dry run mode. No changes to weights will be applied. An array of 20 -1s is generated for running_losses.\n",
      "NOTE: Training model AugmentedReLUNetwork(p: 0.01, inputs_count: 6, outputs_count: 4) in dry run mode. No changes to weights will be applied. An array of 20 -1s is generated for running_losses.\n"
     ]
    },
    {
     "data": {
      "text/plain": [
       "TrainingParameters(dataset=Dataset(name='StudentPerformanceFactors.csv', number=3, classes_count=1, data=DatasetData(train_dataset=<torch.utils.data.dataset.TensorDataset object at 0x151216cc0>, test_dataset=<torch.utils.data.dataset.TensorDataset object at 0x15128ac00>, train_loader=<torch.utils.data.dataloader.DataLoader object at 0x15117d4c0>, test_loader=<torch.utils.data.dataloader.DataLoader object at 0x1511ed970>)), criterion=MSELoss(), experiment_params=ExperimentParameters(iteration=0, p=0.01), model_a_path='pth/model-3A-c-P0.01_N0.pth', model_b_path='pth/model-3B-c-P0.01_N0.pth', loss_curve_plot_col_index=2)"
      ]
     },
     "metadata": {},
     "output_type": "display_data"
    },
    {
     "name": "stdout",
     "output_type": "stream",
     "text": [
      "NOTE: Training model RegularNetwork(inputs_count: 19, outputs_count: 1) in dry run mode. No changes to weights will be applied. An array of 20 -1s is generated for running_losses.\n",
      "NOTE: Training model AugmentedReLUNetwork(p: 0.01, inputs_count: 19, outputs_count: 1) in dry run mode. No changes to weights will be applied. An array of 20 -1s is generated for running_losses.\n",
      "NOTE: save_plot called but no figure will be saved. Path: report/loss__p0.01_N0.png\n"
     ]
    },
    {
     "data": {
      "text/plain": [
       "TrainingParameters(dataset=Dataset(name='wisc_bc_data.csv', number=1, classes_count=2, data=DatasetData(train_dataset=<torch.utils.data.dataset.TensorDataset object at 0x151228fb0>, test_dataset=<torch.utils.data.dataset.TensorDataset object at 0x151255eb0>, train_loader=<torch.utils.data.dataloader.DataLoader object at 0x15115d940>, test_loader=<torch.utils.data.dataloader.DataLoader object at 0x15115d910>)), criterion=CrossEntropyLoss(), experiment_params=ExperimentParameters(iteration=0, p=0.05), model_a_path='pth/model-1A-c-P0.05_N0.pth', model_b_path='pth/model-1B-c-P0.05_N0.pth', loss_curve_plot_col_index=0)"
      ]
     },
     "metadata": {},
     "output_type": "display_data"
    },
    {
     "name": "stdout",
     "output_type": "stream",
     "text": [
      "NOTE: Training model RegularNetwork(inputs_count: 30, outputs_count: 2) in dry run mode. No changes to weights will be applied. An array of 20 -1s is generated for running_losses.\n",
      "NOTE: Training model AugmentedReLUNetwork(p: 0.05, inputs_count: 30, outputs_count: 2) in dry run mode. No changes to weights will be applied. An array of 20 -1s is generated for running_losses.\n"
     ]
    },
    {
     "data": {
      "text/plain": [
       "TrainingParameters(dataset=Dataset(name='car_evaluation.csv', number=2, classes_count=4, data=DatasetData(train_dataset=<torch.utils.data.dataset.TensorDataset object at 0x151117320>, test_dataset=<torch.utils.data.dataset.TensorDataset object at 0x151288bc0>, train_loader=<torch.utils.data.dataloader.DataLoader object at 0x1511173e0>, test_loader=<torch.utils.data.dataloader.DataLoader object at 0x1511d7ef0>)), criterion=CrossEntropyLoss(), experiment_params=ExperimentParameters(iteration=0, p=0.05), model_a_path='pth/model-2A-c-P0.05_N0.pth', model_b_path='pth/model-2B-c-P0.05_N0.pth', loss_curve_plot_col_index=1)"
      ]
     },
     "metadata": {},
     "output_type": "display_data"
    },
    {
     "name": "stdout",
     "output_type": "stream",
     "text": [
      "NOTE: Training model RegularNetwork(inputs_count: 6, outputs_count: 4) in dry run mode. No changes to weights will be applied. An array of 20 -1s is generated for running_losses.\n",
      "NOTE: Training model AugmentedReLUNetwork(p: 0.05, inputs_count: 6, outputs_count: 4) in dry run mode. No changes to weights will be applied. An array of 20 -1s is generated for running_losses.\n"
     ]
    },
    {
     "data": {
      "text/plain": [
       "TrainingParameters(dataset=Dataset(name='StudentPerformanceFactors.csv', number=3, classes_count=1, data=DatasetData(train_dataset=<torch.utils.data.dataset.TensorDataset object at 0x151216cc0>, test_dataset=<torch.utils.data.dataset.TensorDataset object at 0x15128ac00>, train_loader=<torch.utils.data.dataloader.DataLoader object at 0x15117d4c0>, test_loader=<torch.utils.data.dataloader.DataLoader object at 0x1511ed970>)), criterion=MSELoss(), experiment_params=ExperimentParameters(iteration=0, p=0.05), model_a_path='pth/model-3A-c-P0.05_N0.pth', model_b_path='pth/model-3B-c-P0.05_N0.pth', loss_curve_plot_col_index=2)"
      ]
     },
     "metadata": {},
     "output_type": "display_data"
    },
    {
     "name": "stdout",
     "output_type": "stream",
     "text": [
      "NOTE: Training model RegularNetwork(inputs_count: 19, outputs_count: 1) in dry run mode. No changes to weights will be applied. An array of 20 -1s is generated for running_losses.\n",
      "NOTE: Training model AugmentedReLUNetwork(p: 0.05, inputs_count: 19, outputs_count: 1) in dry run mode. No changes to weights will be applied. An array of 20 -1s is generated for running_losses.\n",
      "NOTE: save_plot called but no figure will be saved. Path: report/loss__p0.05_N0.png\n"
     ]
    },
    {
     "data": {
      "text/plain": [
       "TrainingParameters(dataset=Dataset(name='wisc_bc_data.csv', number=1, classes_count=2, data=DatasetData(train_dataset=<torch.utils.data.dataset.TensorDataset object at 0x151228fb0>, test_dataset=<torch.utils.data.dataset.TensorDataset object at 0x151255eb0>, train_loader=<torch.utils.data.dataloader.DataLoader object at 0x15115d940>, test_loader=<torch.utils.data.dataloader.DataLoader object at 0x15115d910>)), criterion=CrossEntropyLoss(), experiment_params=ExperimentParameters(iteration=0, p=0.5), model_a_path='pth/model-1A-c-P0.5_N0.pth', model_b_path='pth/model-1B-c-P0.5_N0.pth', loss_curve_plot_col_index=0)"
      ]
     },
     "metadata": {},
     "output_type": "display_data"
    },
    {
     "name": "stdout",
     "output_type": "stream",
     "text": [
      "NOTE: Training model RegularNetwork(inputs_count: 30, outputs_count: 2) in dry run mode. No changes to weights will be applied. An array of 20 -1s is generated for running_losses.\n",
      "NOTE: Training model AugmentedReLUNetwork(p: 0.5, inputs_count: 30, outputs_count: 2) in dry run mode. No changes to weights will be applied. An array of 20 -1s is generated for running_losses.\n"
     ]
    },
    {
     "data": {
      "text/plain": [
       "TrainingParameters(dataset=Dataset(name='car_evaluation.csv', number=2, classes_count=4, data=DatasetData(train_dataset=<torch.utils.data.dataset.TensorDataset object at 0x151117320>, test_dataset=<torch.utils.data.dataset.TensorDataset object at 0x151288bc0>, train_loader=<torch.utils.data.dataloader.DataLoader object at 0x1511173e0>, test_loader=<torch.utils.data.dataloader.DataLoader object at 0x1511d7ef0>)), criterion=CrossEntropyLoss(), experiment_params=ExperimentParameters(iteration=0, p=0.5), model_a_path='pth/model-2A-c-P0.5_N0.pth', model_b_path='pth/model-2B-c-P0.5_N0.pth', loss_curve_plot_col_index=1)"
      ]
     },
     "metadata": {},
     "output_type": "display_data"
    },
    {
     "name": "stdout",
     "output_type": "stream",
     "text": [
      "NOTE: Training model RegularNetwork(inputs_count: 6, outputs_count: 4) in dry run mode. No changes to weights will be applied. An array of 20 -1s is generated for running_losses.\n",
      "NOTE: Training model AugmentedReLUNetwork(p: 0.5, inputs_count: 6, outputs_count: 4) in dry run mode. No changes to weights will be applied. An array of 20 -1s is generated for running_losses.\n"
     ]
    },
    {
     "data": {
      "text/plain": [
       "TrainingParameters(dataset=Dataset(name='StudentPerformanceFactors.csv', number=3, classes_count=1, data=DatasetData(train_dataset=<torch.utils.data.dataset.TensorDataset object at 0x151216cc0>, test_dataset=<torch.utils.data.dataset.TensorDataset object at 0x15128ac00>, train_loader=<torch.utils.data.dataloader.DataLoader object at 0x15117d4c0>, test_loader=<torch.utils.data.dataloader.DataLoader object at 0x1511ed970>)), criterion=MSELoss(), experiment_params=ExperimentParameters(iteration=0, p=0.5), model_a_path='pth/model-3A-c-P0.5_N0.pth', model_b_path='pth/model-3B-c-P0.5_N0.pth', loss_curve_plot_col_index=2)"
      ]
     },
     "metadata": {},
     "output_type": "display_data"
    },
    {
     "name": "stdout",
     "output_type": "stream",
     "text": [
      "NOTE: Training model RegularNetwork(inputs_count: 19, outputs_count: 1) in dry run mode. No changes to weights will be applied. An array of 20 -1s is generated for running_losses.\n",
      "NOTE: Training model AugmentedReLUNetwork(p: 0.5, inputs_count: 19, outputs_count: 1) in dry run mode. No changes to weights will be applied. An array of 20 -1s is generated for running_losses.\n",
      "NOTE: save_plot called but no figure will be saved. Path: report/loss__p0.5_N0.png\n"
     ]
    },
    {
     "data": {
      "text/plain": [
       "TrainingParameters(dataset=Dataset(name='wisc_bc_data.csv', number=1, classes_count=2, data=DatasetData(train_dataset=<torch.utils.data.dataset.TensorDataset object at 0x151228fb0>, test_dataset=<torch.utils.data.dataset.TensorDataset object at 0x151255eb0>, train_loader=<torch.utils.data.dataloader.DataLoader object at 0x15115d940>, test_loader=<torch.utils.data.dataloader.DataLoader object at 0x15115d910>)), criterion=CrossEntropyLoss(), experiment_params=ExperimentParameters(iteration=0, p=0.9), model_a_path='pth/model-1A-c-P0.9_N0.pth', model_b_path='pth/model-1B-c-P0.9_N0.pth', loss_curve_plot_col_index=0)"
      ]
     },
     "metadata": {},
     "output_type": "display_data"
    },
    {
     "name": "stdout",
     "output_type": "stream",
     "text": [
      "NOTE: Training model RegularNetwork(inputs_count: 30, outputs_count: 2) in dry run mode. No changes to weights will be applied. An array of 20 -1s is generated for running_losses.\n",
      "NOTE: Training model AugmentedReLUNetwork(p: 0.9, inputs_count: 30, outputs_count: 2) in dry run mode. No changes to weights will be applied. An array of 20 -1s is generated for running_losses.\n"
     ]
    },
    {
     "data": {
      "text/plain": [
       "TrainingParameters(dataset=Dataset(name='car_evaluation.csv', number=2, classes_count=4, data=DatasetData(train_dataset=<torch.utils.data.dataset.TensorDataset object at 0x151117320>, test_dataset=<torch.utils.data.dataset.TensorDataset object at 0x151288bc0>, train_loader=<torch.utils.data.dataloader.DataLoader object at 0x1511173e0>, test_loader=<torch.utils.data.dataloader.DataLoader object at 0x1511d7ef0>)), criterion=CrossEntropyLoss(), experiment_params=ExperimentParameters(iteration=0, p=0.9), model_a_path='pth/model-2A-c-P0.9_N0.pth', model_b_path='pth/model-2B-c-P0.9_N0.pth', loss_curve_plot_col_index=1)"
      ]
     },
     "metadata": {},
     "output_type": "display_data"
    },
    {
     "name": "stdout",
     "output_type": "stream",
     "text": [
      "NOTE: Training model RegularNetwork(inputs_count: 6, outputs_count: 4) in dry run mode. No changes to weights will be applied. An array of 20 -1s is generated for running_losses.\n",
      "NOTE: Training model AugmentedReLUNetwork(p: 0.9, inputs_count: 6, outputs_count: 4) in dry run mode. No changes to weights will be applied. An array of 20 -1s is generated for running_losses.\n"
     ]
    },
    {
     "data": {
      "text/plain": [
       "TrainingParameters(dataset=Dataset(name='StudentPerformanceFactors.csv', number=3, classes_count=1, data=DatasetData(train_dataset=<torch.utils.data.dataset.TensorDataset object at 0x151216cc0>, test_dataset=<torch.utils.data.dataset.TensorDataset object at 0x15128ac00>, train_loader=<torch.utils.data.dataloader.DataLoader object at 0x15117d4c0>, test_loader=<torch.utils.data.dataloader.DataLoader object at 0x1511ed970>)), criterion=MSELoss(), experiment_params=ExperimentParameters(iteration=0, p=0.9), model_a_path='pth/model-3A-c-P0.9_N0.pth', model_b_path='pth/model-3B-c-P0.9_N0.pth', loss_curve_plot_col_index=2)"
      ]
     },
     "metadata": {},
     "output_type": "display_data"
    },
    {
     "name": "stdout",
     "output_type": "stream",
     "text": [
      "NOTE: Training model RegularNetwork(inputs_count: 19, outputs_count: 1) in dry run mode. No changes to weights will be applied. An array of 20 -1s is generated for running_losses.\n",
      "NOTE: Training model AugmentedReLUNetwork(p: 0.9, inputs_count: 19, outputs_count: 1) in dry run mode. No changes to weights will be applied. An array of 20 -1s is generated for running_losses.\n",
      "NOTE: save_plot called but no figure will be saved. Path: report/loss__p0.9_N0.png\n"
     ]
    },
    {
     "data": {
      "text/plain": [
       "TrainingParameters(dataset=Dataset(name='wisc_bc_data.csv', number=1, classes_count=2, data=DatasetData(train_dataset=<torch.utils.data.dataset.TensorDataset object at 0x151228fb0>, test_dataset=<torch.utils.data.dataset.TensorDataset object at 0x151255eb0>, train_loader=<torch.utils.data.dataloader.DataLoader object at 0x15115d940>, test_loader=<torch.utils.data.dataloader.DataLoader object at 0x15115d910>)), criterion=CrossEntropyLoss(), experiment_params=ExperimentParameters(iteration=0, p=0.95), model_a_path='pth/model-1A-c-P0.95_N0.pth', model_b_path='pth/model-1B-c-P0.95_N0.pth', loss_curve_plot_col_index=0)"
      ]
     },
     "metadata": {},
     "output_type": "display_data"
    },
    {
     "name": "stdout",
     "output_type": "stream",
     "text": [
      "NOTE: Training model RegularNetwork(inputs_count: 30, outputs_count: 2) in dry run mode. No changes to weights will be applied. An array of 20 -1s is generated for running_losses.\n",
      "NOTE: Training model AugmentedReLUNetwork(p: 0.95, inputs_count: 30, outputs_count: 2) in dry run mode. No changes to weights will be applied. An array of 20 -1s is generated for running_losses.\n"
     ]
    },
    {
     "data": {
      "text/plain": [
       "TrainingParameters(dataset=Dataset(name='car_evaluation.csv', number=2, classes_count=4, data=DatasetData(train_dataset=<torch.utils.data.dataset.TensorDataset object at 0x151117320>, test_dataset=<torch.utils.data.dataset.TensorDataset object at 0x151288bc0>, train_loader=<torch.utils.data.dataloader.DataLoader object at 0x1511173e0>, test_loader=<torch.utils.data.dataloader.DataLoader object at 0x1511d7ef0>)), criterion=CrossEntropyLoss(), experiment_params=ExperimentParameters(iteration=0, p=0.95), model_a_path='pth/model-2A-c-P0.95_N0.pth', model_b_path='pth/model-2B-c-P0.95_N0.pth', loss_curve_plot_col_index=1)"
      ]
     },
     "metadata": {},
     "output_type": "display_data"
    },
    {
     "name": "stdout",
     "output_type": "stream",
     "text": [
      "NOTE: Training model RegularNetwork(inputs_count: 6, outputs_count: 4) in dry run mode. No changes to weights will be applied. An array of 20 -1s is generated for running_losses.\n",
      "NOTE: Training model AugmentedReLUNetwork(p: 0.95, inputs_count: 6, outputs_count: 4) in dry run mode. No changes to weights will be applied. An array of 20 -1s is generated for running_losses.\n"
     ]
    },
    {
     "data": {
      "text/plain": [
       "TrainingParameters(dataset=Dataset(name='StudentPerformanceFactors.csv', number=3, classes_count=1, data=DatasetData(train_dataset=<torch.utils.data.dataset.TensorDataset object at 0x151216cc0>, test_dataset=<torch.utils.data.dataset.TensorDataset object at 0x15128ac00>, train_loader=<torch.utils.data.dataloader.DataLoader object at 0x15117d4c0>, test_loader=<torch.utils.data.dataloader.DataLoader object at 0x1511ed970>)), criterion=MSELoss(), experiment_params=ExperimentParameters(iteration=0, p=0.95), model_a_path='pth/model-3A-c-P0.95_N0.pth', model_b_path='pth/model-3B-c-P0.95_N0.pth', loss_curve_plot_col_index=2)"
      ]
     },
     "metadata": {},
     "output_type": "display_data"
    },
    {
     "name": "stdout",
     "output_type": "stream",
     "text": [
      "NOTE: Training model RegularNetwork(inputs_count: 19, outputs_count: 1) in dry run mode. No changes to weights will be applied. An array of 20 -1s is generated for running_losses.\n",
      "NOTE: Training model AugmentedReLUNetwork(p: 0.95, inputs_count: 19, outputs_count: 1) in dry run mode. No changes to weights will be applied. An array of 20 -1s is generated for running_losses.\n",
      "NOTE: save_plot called but no figure will be saved. Path: report/loss__p0.95_N0.png\n"
     ]
    },
    {
     "data": {
      "text/plain": [
       "TrainingParameters(dataset=Dataset(name='wisc_bc_data.csv', number=1, classes_count=2, data=DatasetData(train_dataset=<torch.utils.data.dataset.TensorDataset object at 0x151228fb0>, test_dataset=<torch.utils.data.dataset.TensorDataset object at 0x151255eb0>, train_loader=<torch.utils.data.dataloader.DataLoader object at 0x15115d940>, test_loader=<torch.utils.data.dataloader.DataLoader object at 0x15115d910>)), criterion=CrossEntropyLoss(), experiment_params=ExperimentParameters(iteration=0, p=0.99), model_a_path='pth/model-1A-c-P0.99_N0.pth', model_b_path='pth/model-1B-c-P0.99_N0.pth', loss_curve_plot_col_index=0)"
      ]
     },
     "metadata": {},
     "output_type": "display_data"
    },
    {
     "name": "stdout",
     "output_type": "stream",
     "text": [
      "NOTE: Training model RegularNetwork(inputs_count: 30, outputs_count: 2) in dry run mode. No changes to weights will be applied. An array of 20 -1s is generated for running_losses.\n",
      "NOTE: Training model AugmentedReLUNetwork(p: 0.99, inputs_count: 30, outputs_count: 2) in dry run mode. No changes to weights will be applied. An array of 20 -1s is generated for running_losses.\n"
     ]
    },
    {
     "data": {
      "text/plain": [
       "TrainingParameters(dataset=Dataset(name='car_evaluation.csv', number=2, classes_count=4, data=DatasetData(train_dataset=<torch.utils.data.dataset.TensorDataset object at 0x151117320>, test_dataset=<torch.utils.data.dataset.TensorDataset object at 0x151288bc0>, train_loader=<torch.utils.data.dataloader.DataLoader object at 0x1511173e0>, test_loader=<torch.utils.data.dataloader.DataLoader object at 0x1511d7ef0>)), criterion=CrossEntropyLoss(), experiment_params=ExperimentParameters(iteration=0, p=0.99), model_a_path='pth/model-2A-c-P0.99_N0.pth', model_b_path='pth/model-2B-c-P0.99_N0.pth', loss_curve_plot_col_index=1)"
      ]
     },
     "metadata": {},
     "output_type": "display_data"
    },
    {
     "name": "stdout",
     "output_type": "stream",
     "text": [
      "NOTE: Training model RegularNetwork(inputs_count: 6, outputs_count: 4) in dry run mode. No changes to weights will be applied. An array of 20 -1s is generated for running_losses.\n",
      "NOTE: Training model AugmentedReLUNetwork(p: 0.99, inputs_count: 6, outputs_count: 4) in dry run mode. No changes to weights will be applied. An array of 20 -1s is generated for running_losses.\n"
     ]
    },
    {
     "data": {
      "text/plain": [
       "TrainingParameters(dataset=Dataset(name='StudentPerformanceFactors.csv', number=3, classes_count=1, data=DatasetData(train_dataset=<torch.utils.data.dataset.TensorDataset object at 0x151216cc0>, test_dataset=<torch.utils.data.dataset.TensorDataset object at 0x15128ac00>, train_loader=<torch.utils.data.dataloader.DataLoader object at 0x15117d4c0>, test_loader=<torch.utils.data.dataloader.DataLoader object at 0x1511ed970>)), criterion=MSELoss(), experiment_params=ExperimentParameters(iteration=0, p=0.99), model_a_path='pth/model-3A-c-P0.99_N0.pth', model_b_path='pth/model-3B-c-P0.99_N0.pth', loss_curve_plot_col_index=2)"
      ]
     },
     "metadata": {},
     "output_type": "display_data"
    },
    {
     "name": "stdout",
     "output_type": "stream",
     "text": [
      "NOTE: Training model RegularNetwork(inputs_count: 19, outputs_count: 1) in dry run mode. No changes to weights will be applied. An array of 20 -1s is generated for running_losses.\n",
      "NOTE: Training model AugmentedReLUNetwork(p: 0.99, inputs_count: 19, outputs_count: 1) in dry run mode. No changes to weights will be applied. An array of 20 -1s is generated for running_losses.\n",
      "NOTE: save_plot called but no figure will be saved. Path: report/loss__p0.99_N0.png\n"
     ]
    },
    {
     "data": {
      "text/plain": [
       "TrainingParameters(dataset=Dataset(name='wisc_bc_data.csv', number=1, classes_count=2, data=DatasetData(train_dataset=<torch.utils.data.dataset.TensorDataset object at 0x151228fb0>, test_dataset=<torch.utils.data.dataset.TensorDataset object at 0x151255eb0>, train_loader=<torch.utils.data.dataloader.DataLoader object at 0x15115d940>, test_loader=<torch.utils.data.dataloader.DataLoader object at 0x15115d910>)), criterion=CrossEntropyLoss(), experiment_params=ExperimentParameters(iteration=1, p=0), model_a_path='pth/model-1A-c-P0_N1.pth', model_b_path='pth/model-1B-c-P0_N1.pth', loss_curve_plot_col_index=0)"
      ]
     },
     "metadata": {},
     "output_type": "display_data"
    },
    {
     "name": "stdout",
     "output_type": "stream",
     "text": [
      "NOTE: Training model RegularNetwork(inputs_count: 30, outputs_count: 2) in dry run mode. No changes to weights will be applied. An array of 20 -1s is generated for running_losses.\n",
      "NOTE: Training model AugmentedReLUNetwork(p: 0, inputs_count: 30, outputs_count: 2) in dry run mode. No changes to weights will be applied. An array of 20 -1s is generated for running_losses.\n"
     ]
    },
    {
     "data": {
      "text/plain": [
       "TrainingParameters(dataset=Dataset(name='car_evaluation.csv', number=2, classes_count=4, data=DatasetData(train_dataset=<torch.utils.data.dataset.TensorDataset object at 0x151117320>, test_dataset=<torch.utils.data.dataset.TensorDataset object at 0x151288bc0>, train_loader=<torch.utils.data.dataloader.DataLoader object at 0x1511173e0>, test_loader=<torch.utils.data.dataloader.DataLoader object at 0x1511d7ef0>)), criterion=CrossEntropyLoss(), experiment_params=ExperimentParameters(iteration=1, p=0), model_a_path='pth/model-2A-c-P0_N1.pth', model_b_path='pth/model-2B-c-P0_N1.pth', loss_curve_plot_col_index=1)"
      ]
     },
     "metadata": {},
     "output_type": "display_data"
    },
    {
     "name": "stdout",
     "output_type": "stream",
     "text": [
      "NOTE: Training model RegularNetwork(inputs_count: 6, outputs_count: 4) in dry run mode. No changes to weights will be applied. An array of 20 -1s is generated for running_losses.\n",
      "NOTE: Training model AugmentedReLUNetwork(p: 0, inputs_count: 6, outputs_count: 4) in dry run mode. No changes to weights will be applied. An array of 20 -1s is generated for running_losses.\n"
     ]
    },
    {
     "data": {
      "text/plain": [
       "TrainingParameters(dataset=Dataset(name='StudentPerformanceFactors.csv', number=3, classes_count=1, data=DatasetData(train_dataset=<torch.utils.data.dataset.TensorDataset object at 0x151216cc0>, test_dataset=<torch.utils.data.dataset.TensorDataset object at 0x15128ac00>, train_loader=<torch.utils.data.dataloader.DataLoader object at 0x15117d4c0>, test_loader=<torch.utils.data.dataloader.DataLoader object at 0x1511ed970>)), criterion=MSELoss(), experiment_params=ExperimentParameters(iteration=1, p=0), model_a_path='pth/model-3A-c-P0_N1.pth', model_b_path='pth/model-3B-c-P0_N1.pth', loss_curve_plot_col_index=2)"
      ]
     },
     "metadata": {},
     "output_type": "display_data"
    },
    {
     "name": "stdout",
     "output_type": "stream",
     "text": [
      "NOTE: Training model RegularNetwork(inputs_count: 19, outputs_count: 1) in dry run mode. No changes to weights will be applied. An array of 20 -1s is generated for running_losses.\n",
      "NOTE: Training model AugmentedReLUNetwork(p: 0, inputs_count: 19, outputs_count: 1) in dry run mode. No changes to weights will be applied. An array of 20 -1s is generated for running_losses.\n",
      "NOTE: save_plot called but no figure will be saved. Path: report/loss__p0_N1.png\n"
     ]
    },
    {
     "data": {
      "text/plain": [
       "TrainingParameters(dataset=Dataset(name='wisc_bc_data.csv', number=1, classes_count=2, data=DatasetData(train_dataset=<torch.utils.data.dataset.TensorDataset object at 0x151228fb0>, test_dataset=<torch.utils.data.dataset.TensorDataset object at 0x151255eb0>, train_loader=<torch.utils.data.dataloader.DataLoader object at 0x15115d940>, test_loader=<torch.utils.data.dataloader.DataLoader object at 0x15115d910>)), criterion=CrossEntropyLoss(), experiment_params=ExperimentParameters(iteration=1, p=0.01), model_a_path='pth/model-1A-c-P0.01_N1.pth', model_b_path='pth/model-1B-c-P0.01_N1.pth', loss_curve_plot_col_index=0)"
      ]
     },
     "metadata": {},
     "output_type": "display_data"
    },
    {
     "name": "stdout",
     "output_type": "stream",
     "text": [
      "NOTE: Training model RegularNetwork(inputs_count: 30, outputs_count: 2) in dry run mode. No changes to weights will be applied. An array of 20 -1s is generated for running_losses.\n",
      "NOTE: Training model AugmentedReLUNetwork(p: 0.01, inputs_count: 30, outputs_count: 2) in dry run mode. No changes to weights will be applied. An array of 20 -1s is generated for running_losses.\n"
     ]
    },
    {
     "data": {
      "text/plain": [
       "TrainingParameters(dataset=Dataset(name='car_evaluation.csv', number=2, classes_count=4, data=DatasetData(train_dataset=<torch.utils.data.dataset.TensorDataset object at 0x151117320>, test_dataset=<torch.utils.data.dataset.TensorDataset object at 0x151288bc0>, train_loader=<torch.utils.data.dataloader.DataLoader object at 0x1511173e0>, test_loader=<torch.utils.data.dataloader.DataLoader object at 0x1511d7ef0>)), criterion=CrossEntropyLoss(), experiment_params=ExperimentParameters(iteration=1, p=0.01), model_a_path='pth/model-2A-c-P0.01_N1.pth', model_b_path='pth/model-2B-c-P0.01_N1.pth', loss_curve_plot_col_index=1)"
      ]
     },
     "metadata": {},
     "output_type": "display_data"
    },
    {
     "name": "stdout",
     "output_type": "stream",
     "text": [
      "NOTE: Training model RegularNetwork(inputs_count: 6, outputs_count: 4) in dry run mode. No changes to weights will be applied. An array of 20 -1s is generated for running_losses.\n",
      "NOTE: Training model AugmentedReLUNetwork(p: 0.01, inputs_count: 6, outputs_count: 4) in dry run mode. No changes to weights will be applied. An array of 20 -1s is generated for running_losses.\n"
     ]
    },
    {
     "data": {
      "text/plain": [
       "TrainingParameters(dataset=Dataset(name='StudentPerformanceFactors.csv', number=3, classes_count=1, data=DatasetData(train_dataset=<torch.utils.data.dataset.TensorDataset object at 0x151216cc0>, test_dataset=<torch.utils.data.dataset.TensorDataset object at 0x15128ac00>, train_loader=<torch.utils.data.dataloader.DataLoader object at 0x15117d4c0>, test_loader=<torch.utils.data.dataloader.DataLoader object at 0x1511ed970>)), criterion=MSELoss(), experiment_params=ExperimentParameters(iteration=1, p=0.01), model_a_path='pth/model-3A-c-P0.01_N1.pth', model_b_path='pth/model-3B-c-P0.01_N1.pth', loss_curve_plot_col_index=2)"
      ]
     },
     "metadata": {},
     "output_type": "display_data"
    },
    {
     "name": "stdout",
     "output_type": "stream",
     "text": [
      "NOTE: Training model RegularNetwork(inputs_count: 19, outputs_count: 1) in dry run mode. No changes to weights will be applied. An array of 20 -1s is generated for running_losses.\n",
      "NOTE: Training model AugmentedReLUNetwork(p: 0.01, inputs_count: 19, outputs_count: 1) in dry run mode. No changes to weights will be applied. An array of 20 -1s is generated for running_losses.\n",
      "NOTE: save_plot called but no figure will be saved. Path: report/loss__p0.01_N1.png\n"
     ]
    },
    {
     "data": {
      "text/plain": [
       "TrainingParameters(dataset=Dataset(name='wisc_bc_data.csv', number=1, classes_count=2, data=DatasetData(train_dataset=<torch.utils.data.dataset.TensorDataset object at 0x151228fb0>, test_dataset=<torch.utils.data.dataset.TensorDataset object at 0x151255eb0>, train_loader=<torch.utils.data.dataloader.DataLoader object at 0x15115d940>, test_loader=<torch.utils.data.dataloader.DataLoader object at 0x15115d910>)), criterion=CrossEntropyLoss(), experiment_params=ExperimentParameters(iteration=1, p=0.05), model_a_path='pth/model-1A-c-P0.05_N1.pth', model_b_path='pth/model-1B-c-P0.05_N1.pth', loss_curve_plot_col_index=0)"
      ]
     },
     "metadata": {},
     "output_type": "display_data"
    },
    {
     "name": "stdout",
     "output_type": "stream",
     "text": [
      "NOTE: Training model RegularNetwork(inputs_count: 30, outputs_count: 2) in dry run mode. No changes to weights will be applied. An array of 20 -1s is generated for running_losses.\n",
      "NOTE: Training model AugmentedReLUNetwork(p: 0.05, inputs_count: 30, outputs_count: 2) in dry run mode. No changes to weights will be applied. An array of 20 -1s is generated for running_losses.\n"
     ]
    },
    {
     "data": {
      "text/plain": [
       "TrainingParameters(dataset=Dataset(name='car_evaluation.csv', number=2, classes_count=4, data=DatasetData(train_dataset=<torch.utils.data.dataset.TensorDataset object at 0x151117320>, test_dataset=<torch.utils.data.dataset.TensorDataset object at 0x151288bc0>, train_loader=<torch.utils.data.dataloader.DataLoader object at 0x1511173e0>, test_loader=<torch.utils.data.dataloader.DataLoader object at 0x1511d7ef0>)), criterion=CrossEntropyLoss(), experiment_params=ExperimentParameters(iteration=1, p=0.05), model_a_path='pth/model-2A-c-P0.05_N1.pth', model_b_path='pth/model-2B-c-P0.05_N1.pth', loss_curve_plot_col_index=1)"
      ]
     },
     "metadata": {},
     "output_type": "display_data"
    },
    {
     "name": "stdout",
     "output_type": "stream",
     "text": [
      "NOTE: Training model RegularNetwork(inputs_count: 6, outputs_count: 4) in dry run mode. No changes to weights will be applied. An array of 20 -1s is generated for running_losses.\n",
      "NOTE: Training model AugmentedReLUNetwork(p: 0.05, inputs_count: 6, outputs_count: 4) in dry run mode. No changes to weights will be applied. An array of 20 -1s is generated for running_losses.\n"
     ]
    },
    {
     "data": {
      "text/plain": [
       "TrainingParameters(dataset=Dataset(name='StudentPerformanceFactors.csv', number=3, classes_count=1, data=DatasetData(train_dataset=<torch.utils.data.dataset.TensorDataset object at 0x151216cc0>, test_dataset=<torch.utils.data.dataset.TensorDataset object at 0x15128ac00>, train_loader=<torch.utils.data.dataloader.DataLoader object at 0x15117d4c0>, test_loader=<torch.utils.data.dataloader.DataLoader object at 0x1511ed970>)), criterion=MSELoss(), experiment_params=ExperimentParameters(iteration=1, p=0.05), model_a_path='pth/model-3A-c-P0.05_N1.pth', model_b_path='pth/model-3B-c-P0.05_N1.pth', loss_curve_plot_col_index=2)"
      ]
     },
     "metadata": {},
     "output_type": "display_data"
    },
    {
     "name": "stdout",
     "output_type": "stream",
     "text": [
      "NOTE: Training model RegularNetwork(inputs_count: 19, outputs_count: 1) in dry run mode. No changes to weights will be applied. An array of 20 -1s is generated for running_losses.\n",
      "NOTE: Training model AugmentedReLUNetwork(p: 0.05, inputs_count: 19, outputs_count: 1) in dry run mode. No changes to weights will be applied. An array of 20 -1s is generated for running_losses.\n",
      "NOTE: save_plot called but no figure will be saved. Path: report/loss__p0.05_N1.png\n"
     ]
    },
    {
     "data": {
      "text/plain": [
       "TrainingParameters(dataset=Dataset(name='wisc_bc_data.csv', number=1, classes_count=2, data=DatasetData(train_dataset=<torch.utils.data.dataset.TensorDataset object at 0x151228fb0>, test_dataset=<torch.utils.data.dataset.TensorDataset object at 0x151255eb0>, train_loader=<torch.utils.data.dataloader.DataLoader object at 0x15115d940>, test_loader=<torch.utils.data.dataloader.DataLoader object at 0x15115d910>)), criterion=CrossEntropyLoss(), experiment_params=ExperimentParameters(iteration=1, p=0.5), model_a_path='pth/model-1A-c-P0.5_N1.pth', model_b_path='pth/model-1B-c-P0.5_N1.pth', loss_curve_plot_col_index=0)"
      ]
     },
     "metadata": {},
     "output_type": "display_data"
    },
    {
     "name": "stdout",
     "output_type": "stream",
     "text": [
      "NOTE: Training model RegularNetwork(inputs_count: 30, outputs_count: 2) in dry run mode. No changes to weights will be applied. An array of 20 -1s is generated for running_losses.\n",
      "NOTE: Training model AugmentedReLUNetwork(p: 0.5, inputs_count: 30, outputs_count: 2) in dry run mode. No changes to weights will be applied. An array of 20 -1s is generated for running_losses.\n"
     ]
    },
    {
     "data": {
      "text/plain": [
       "TrainingParameters(dataset=Dataset(name='car_evaluation.csv', number=2, classes_count=4, data=DatasetData(train_dataset=<torch.utils.data.dataset.TensorDataset object at 0x151117320>, test_dataset=<torch.utils.data.dataset.TensorDataset object at 0x151288bc0>, train_loader=<torch.utils.data.dataloader.DataLoader object at 0x1511173e0>, test_loader=<torch.utils.data.dataloader.DataLoader object at 0x1511d7ef0>)), criterion=CrossEntropyLoss(), experiment_params=ExperimentParameters(iteration=1, p=0.5), model_a_path='pth/model-2A-c-P0.5_N1.pth', model_b_path='pth/model-2B-c-P0.5_N1.pth', loss_curve_plot_col_index=1)"
      ]
     },
     "metadata": {},
     "output_type": "display_data"
    },
    {
     "name": "stdout",
     "output_type": "stream",
     "text": [
      "NOTE: Training model RegularNetwork(inputs_count: 6, outputs_count: 4) in dry run mode. No changes to weights will be applied. An array of 20 -1s is generated for running_losses.\n",
      "NOTE: Training model AugmentedReLUNetwork(p: 0.5, inputs_count: 6, outputs_count: 4) in dry run mode. No changes to weights will be applied. An array of 20 -1s is generated for running_losses.\n"
     ]
    },
    {
     "data": {
      "text/plain": [
       "TrainingParameters(dataset=Dataset(name='StudentPerformanceFactors.csv', number=3, classes_count=1, data=DatasetData(train_dataset=<torch.utils.data.dataset.TensorDataset object at 0x151216cc0>, test_dataset=<torch.utils.data.dataset.TensorDataset object at 0x15128ac00>, train_loader=<torch.utils.data.dataloader.DataLoader object at 0x15117d4c0>, test_loader=<torch.utils.data.dataloader.DataLoader object at 0x1511ed970>)), criterion=MSELoss(), experiment_params=ExperimentParameters(iteration=1, p=0.5), model_a_path='pth/model-3A-c-P0.5_N1.pth', model_b_path='pth/model-3B-c-P0.5_N1.pth', loss_curve_plot_col_index=2)"
      ]
     },
     "metadata": {},
     "output_type": "display_data"
    },
    {
     "name": "stdout",
     "output_type": "stream",
     "text": [
      "NOTE: Training model RegularNetwork(inputs_count: 19, outputs_count: 1) in dry run mode. No changes to weights will be applied. An array of 20 -1s is generated for running_losses.\n",
      "NOTE: Training model AugmentedReLUNetwork(p: 0.5, inputs_count: 19, outputs_count: 1) in dry run mode. No changes to weights will be applied. An array of 20 -1s is generated for running_losses.\n",
      "NOTE: save_plot called but no figure will be saved. Path: report/loss__p0.5_N1.png\n"
     ]
    },
    {
     "data": {
      "text/plain": [
       "TrainingParameters(dataset=Dataset(name='wisc_bc_data.csv', number=1, classes_count=2, data=DatasetData(train_dataset=<torch.utils.data.dataset.TensorDataset object at 0x151228fb0>, test_dataset=<torch.utils.data.dataset.TensorDataset object at 0x151255eb0>, train_loader=<torch.utils.data.dataloader.DataLoader object at 0x15115d940>, test_loader=<torch.utils.data.dataloader.DataLoader object at 0x15115d910>)), criterion=CrossEntropyLoss(), experiment_params=ExperimentParameters(iteration=1, p=0.9), model_a_path='pth/model-1A-c-P0.9_N1.pth', model_b_path='pth/model-1B-c-P0.9_N1.pth', loss_curve_plot_col_index=0)"
      ]
     },
     "metadata": {},
     "output_type": "display_data"
    },
    {
     "name": "stdout",
     "output_type": "stream",
     "text": [
      "NOTE: Training model RegularNetwork(inputs_count: 30, outputs_count: 2) in dry run mode. No changes to weights will be applied. An array of 20 -1s is generated for running_losses.\n",
      "NOTE: Training model AugmentedReLUNetwork(p: 0.9, inputs_count: 30, outputs_count: 2) in dry run mode. No changes to weights will be applied. An array of 20 -1s is generated for running_losses.\n"
     ]
    },
    {
     "data": {
      "text/plain": [
       "TrainingParameters(dataset=Dataset(name='car_evaluation.csv', number=2, classes_count=4, data=DatasetData(train_dataset=<torch.utils.data.dataset.TensorDataset object at 0x151117320>, test_dataset=<torch.utils.data.dataset.TensorDataset object at 0x151288bc0>, train_loader=<torch.utils.data.dataloader.DataLoader object at 0x1511173e0>, test_loader=<torch.utils.data.dataloader.DataLoader object at 0x1511d7ef0>)), criterion=CrossEntropyLoss(), experiment_params=ExperimentParameters(iteration=1, p=0.9), model_a_path='pth/model-2A-c-P0.9_N1.pth', model_b_path='pth/model-2B-c-P0.9_N1.pth', loss_curve_plot_col_index=1)"
      ]
     },
     "metadata": {},
     "output_type": "display_data"
    },
    {
     "name": "stdout",
     "output_type": "stream",
     "text": [
      "NOTE: Training model RegularNetwork(inputs_count: 6, outputs_count: 4) in dry run mode. No changes to weights will be applied. An array of 20 -1s is generated for running_losses.\n",
      "NOTE: Training model AugmentedReLUNetwork(p: 0.9, inputs_count: 6, outputs_count: 4) in dry run mode. No changes to weights will be applied. An array of 20 -1s is generated for running_losses.\n"
     ]
    },
    {
     "data": {
      "text/plain": [
       "TrainingParameters(dataset=Dataset(name='StudentPerformanceFactors.csv', number=3, classes_count=1, data=DatasetData(train_dataset=<torch.utils.data.dataset.TensorDataset object at 0x151216cc0>, test_dataset=<torch.utils.data.dataset.TensorDataset object at 0x15128ac00>, train_loader=<torch.utils.data.dataloader.DataLoader object at 0x15117d4c0>, test_loader=<torch.utils.data.dataloader.DataLoader object at 0x1511ed970>)), criterion=MSELoss(), experiment_params=ExperimentParameters(iteration=1, p=0.9), model_a_path='pth/model-3A-c-P0.9_N1.pth', model_b_path='pth/model-3B-c-P0.9_N1.pth', loss_curve_plot_col_index=2)"
      ]
     },
     "metadata": {},
     "output_type": "display_data"
    },
    {
     "name": "stdout",
     "output_type": "stream",
     "text": [
      "NOTE: Training model RegularNetwork(inputs_count: 19, outputs_count: 1) in dry run mode. No changes to weights will be applied. An array of 20 -1s is generated for running_losses.\n",
      "NOTE: Training model AugmentedReLUNetwork(p: 0.9, inputs_count: 19, outputs_count: 1) in dry run mode. No changes to weights will be applied. An array of 20 -1s is generated for running_losses.\n",
      "NOTE: save_plot called but no figure will be saved. Path: report/loss__p0.9_N1.png\n"
     ]
    },
    {
     "data": {
      "text/plain": [
       "TrainingParameters(dataset=Dataset(name='wisc_bc_data.csv', number=1, classes_count=2, data=DatasetData(train_dataset=<torch.utils.data.dataset.TensorDataset object at 0x151228fb0>, test_dataset=<torch.utils.data.dataset.TensorDataset object at 0x151255eb0>, train_loader=<torch.utils.data.dataloader.DataLoader object at 0x15115d940>, test_loader=<torch.utils.data.dataloader.DataLoader object at 0x15115d910>)), criterion=CrossEntropyLoss(), experiment_params=ExperimentParameters(iteration=1, p=0.95), model_a_path='pth/model-1A-c-P0.95_N1.pth', model_b_path='pth/model-1B-c-P0.95_N1.pth', loss_curve_plot_col_index=0)"
      ]
     },
     "metadata": {},
     "output_type": "display_data"
    },
    {
     "name": "stdout",
     "output_type": "stream",
     "text": [
      "NOTE: Training model RegularNetwork(inputs_count: 30, outputs_count: 2) in dry run mode. No changes to weights will be applied. An array of 20 -1s is generated for running_losses.\n",
      "NOTE: Training model AugmentedReLUNetwork(p: 0.95, inputs_count: 30, outputs_count: 2) in dry run mode. No changes to weights will be applied. An array of 20 -1s is generated for running_losses.\n"
     ]
    },
    {
     "data": {
      "text/plain": [
       "TrainingParameters(dataset=Dataset(name='car_evaluation.csv', number=2, classes_count=4, data=DatasetData(train_dataset=<torch.utils.data.dataset.TensorDataset object at 0x151117320>, test_dataset=<torch.utils.data.dataset.TensorDataset object at 0x151288bc0>, train_loader=<torch.utils.data.dataloader.DataLoader object at 0x1511173e0>, test_loader=<torch.utils.data.dataloader.DataLoader object at 0x1511d7ef0>)), criterion=CrossEntropyLoss(), experiment_params=ExperimentParameters(iteration=1, p=0.95), model_a_path='pth/model-2A-c-P0.95_N1.pth', model_b_path='pth/model-2B-c-P0.95_N1.pth', loss_curve_plot_col_index=1)"
      ]
     },
     "metadata": {},
     "output_type": "display_data"
    },
    {
     "name": "stdout",
     "output_type": "stream",
     "text": [
      "NOTE: Training model RegularNetwork(inputs_count: 6, outputs_count: 4) in dry run mode. No changes to weights will be applied. An array of 20 -1s is generated for running_losses.\n",
      "NOTE: Training model AugmentedReLUNetwork(p: 0.95, inputs_count: 6, outputs_count: 4) in dry run mode. No changes to weights will be applied. An array of 20 -1s is generated for running_losses.\n"
     ]
    },
    {
     "data": {
      "text/plain": [
       "TrainingParameters(dataset=Dataset(name='StudentPerformanceFactors.csv', number=3, classes_count=1, data=DatasetData(train_dataset=<torch.utils.data.dataset.TensorDataset object at 0x151216cc0>, test_dataset=<torch.utils.data.dataset.TensorDataset object at 0x15128ac00>, train_loader=<torch.utils.data.dataloader.DataLoader object at 0x15117d4c0>, test_loader=<torch.utils.data.dataloader.DataLoader object at 0x1511ed970>)), criterion=MSELoss(), experiment_params=ExperimentParameters(iteration=1, p=0.95), model_a_path='pth/model-3A-c-P0.95_N1.pth', model_b_path='pth/model-3B-c-P0.95_N1.pth', loss_curve_plot_col_index=2)"
      ]
     },
     "metadata": {},
     "output_type": "display_data"
    },
    {
     "name": "stdout",
     "output_type": "stream",
     "text": [
      "NOTE: Training model RegularNetwork(inputs_count: 19, outputs_count: 1) in dry run mode. No changes to weights will be applied. An array of 20 -1s is generated for running_losses.\n",
      "NOTE: Training model AugmentedReLUNetwork(p: 0.95, inputs_count: 19, outputs_count: 1) in dry run mode. No changes to weights will be applied. An array of 20 -1s is generated for running_losses.\n",
      "NOTE: save_plot called but no figure will be saved. Path: report/loss__p0.95_N1.png\n"
     ]
    },
    {
     "data": {
      "text/plain": [
       "TrainingParameters(dataset=Dataset(name='wisc_bc_data.csv', number=1, classes_count=2, data=DatasetData(train_dataset=<torch.utils.data.dataset.TensorDataset object at 0x151228fb0>, test_dataset=<torch.utils.data.dataset.TensorDataset object at 0x151255eb0>, train_loader=<torch.utils.data.dataloader.DataLoader object at 0x15115d940>, test_loader=<torch.utils.data.dataloader.DataLoader object at 0x15115d910>)), criterion=CrossEntropyLoss(), experiment_params=ExperimentParameters(iteration=1, p=0.99), model_a_path='pth/model-1A-c-P0.99_N1.pth', model_b_path='pth/model-1B-c-P0.99_N1.pth', loss_curve_plot_col_index=0)"
      ]
     },
     "metadata": {},
     "output_type": "display_data"
    },
    {
     "name": "stdout",
     "output_type": "stream",
     "text": [
      "NOTE: Training model RegularNetwork(inputs_count: 30, outputs_count: 2) in dry run mode. No changes to weights will be applied. An array of 20 -1s is generated for running_losses.\n",
      "NOTE: Training model AugmentedReLUNetwork(p: 0.99, inputs_count: 30, outputs_count: 2) in dry run mode. No changes to weights will be applied. An array of 20 -1s is generated for running_losses.\n"
     ]
    },
    {
     "data": {
      "text/plain": [
       "TrainingParameters(dataset=Dataset(name='car_evaluation.csv', number=2, classes_count=4, data=DatasetData(train_dataset=<torch.utils.data.dataset.TensorDataset object at 0x151117320>, test_dataset=<torch.utils.data.dataset.TensorDataset object at 0x151288bc0>, train_loader=<torch.utils.data.dataloader.DataLoader object at 0x1511173e0>, test_loader=<torch.utils.data.dataloader.DataLoader object at 0x1511d7ef0>)), criterion=CrossEntropyLoss(), experiment_params=ExperimentParameters(iteration=1, p=0.99), model_a_path='pth/model-2A-c-P0.99_N1.pth', model_b_path='pth/model-2B-c-P0.99_N1.pth', loss_curve_plot_col_index=1)"
      ]
     },
     "metadata": {},
     "output_type": "display_data"
    },
    {
     "name": "stdout",
     "output_type": "stream",
     "text": [
      "NOTE: Training model RegularNetwork(inputs_count: 6, outputs_count: 4) in dry run mode. No changes to weights will be applied. An array of 20 -1s is generated for running_losses.\n",
      "NOTE: Training model AugmentedReLUNetwork(p: 0.99, inputs_count: 6, outputs_count: 4) in dry run mode. No changes to weights will be applied. An array of 20 -1s is generated for running_losses.\n"
     ]
    },
    {
     "data": {
      "text/plain": [
       "TrainingParameters(dataset=Dataset(name='StudentPerformanceFactors.csv', number=3, classes_count=1, data=DatasetData(train_dataset=<torch.utils.data.dataset.TensorDataset object at 0x151216cc0>, test_dataset=<torch.utils.data.dataset.TensorDataset object at 0x15128ac00>, train_loader=<torch.utils.data.dataloader.DataLoader object at 0x15117d4c0>, test_loader=<torch.utils.data.dataloader.DataLoader object at 0x1511ed970>)), criterion=MSELoss(), experiment_params=ExperimentParameters(iteration=1, p=0.99), model_a_path='pth/model-3A-c-P0.99_N1.pth', model_b_path='pth/model-3B-c-P0.99_N1.pth', loss_curve_plot_col_index=2)"
      ]
     },
     "metadata": {},
     "output_type": "display_data"
    },
    {
     "name": "stdout",
     "output_type": "stream",
     "text": [
      "NOTE: Training model RegularNetwork(inputs_count: 19, outputs_count: 1) in dry run mode. No changes to weights will be applied. An array of 20 -1s is generated for running_losses.\n",
      "NOTE: Training model AugmentedReLUNetwork(p: 0.99, inputs_count: 19, outputs_count: 1) in dry run mode. No changes to weights will be applied. An array of 20 -1s is generated for running_losses.\n",
      "NOTE: save_plot called but no figure will be saved. Path: report/loss__p0.99_N1.png\n"
     ]
    },
    {
     "data": {
      "text/plain": [
       "TrainingParameters(dataset=Dataset(name='wisc_bc_data.csv', number=1, classes_count=2, data=DatasetData(train_dataset=<torch.utils.data.dataset.TensorDataset object at 0x151228fb0>, test_dataset=<torch.utils.data.dataset.TensorDataset object at 0x151255eb0>, train_loader=<torch.utils.data.dataloader.DataLoader object at 0x15115d940>, test_loader=<torch.utils.data.dataloader.DataLoader object at 0x15115d910>)), criterion=CrossEntropyLoss(), experiment_params=ExperimentParameters(iteration=2, p=0), model_a_path='pth/model-1A-c-P0_N2.pth', model_b_path='pth/model-1B-c-P0_N2.pth', loss_curve_plot_col_index=0)"
      ]
     },
     "metadata": {},
     "output_type": "display_data"
    },
    {
     "name": "stdout",
     "output_type": "stream",
     "text": [
      "NOTE: Training model RegularNetwork(inputs_count: 30, outputs_count: 2) in dry run mode. No changes to weights will be applied. An array of 20 -1s is generated for running_losses.\n",
      "NOTE: Training model AugmentedReLUNetwork(p: 0, inputs_count: 30, outputs_count: 2) in dry run mode. No changes to weights will be applied. An array of 20 -1s is generated for running_losses.\n"
     ]
    },
    {
     "data": {
      "text/plain": [
       "TrainingParameters(dataset=Dataset(name='car_evaluation.csv', number=2, classes_count=4, data=DatasetData(train_dataset=<torch.utils.data.dataset.TensorDataset object at 0x151117320>, test_dataset=<torch.utils.data.dataset.TensorDataset object at 0x151288bc0>, train_loader=<torch.utils.data.dataloader.DataLoader object at 0x1511173e0>, test_loader=<torch.utils.data.dataloader.DataLoader object at 0x1511d7ef0>)), criterion=CrossEntropyLoss(), experiment_params=ExperimentParameters(iteration=2, p=0), model_a_path='pth/model-2A-c-P0_N2.pth', model_b_path='pth/model-2B-c-P0_N2.pth', loss_curve_plot_col_index=1)"
      ]
     },
     "metadata": {},
     "output_type": "display_data"
    },
    {
     "name": "stdout",
     "output_type": "stream",
     "text": [
      "NOTE: Training model RegularNetwork(inputs_count: 6, outputs_count: 4) in dry run mode. No changes to weights will be applied. An array of 20 -1s is generated for running_losses.\n",
      "NOTE: Training model AugmentedReLUNetwork(p: 0, inputs_count: 6, outputs_count: 4) in dry run mode. No changes to weights will be applied. An array of 20 -1s is generated for running_losses.\n"
     ]
    },
    {
     "data": {
      "text/plain": [
       "TrainingParameters(dataset=Dataset(name='StudentPerformanceFactors.csv', number=3, classes_count=1, data=DatasetData(train_dataset=<torch.utils.data.dataset.TensorDataset object at 0x151216cc0>, test_dataset=<torch.utils.data.dataset.TensorDataset object at 0x15128ac00>, train_loader=<torch.utils.data.dataloader.DataLoader object at 0x15117d4c0>, test_loader=<torch.utils.data.dataloader.DataLoader object at 0x1511ed970>)), criterion=MSELoss(), experiment_params=ExperimentParameters(iteration=2, p=0), model_a_path='pth/model-3A-c-P0_N2.pth', model_b_path='pth/model-3B-c-P0_N2.pth', loss_curve_plot_col_index=2)"
      ]
     },
     "metadata": {},
     "output_type": "display_data"
    },
    {
     "name": "stdout",
     "output_type": "stream",
     "text": [
      "NOTE: Training model RegularNetwork(inputs_count: 19, outputs_count: 1) in dry run mode. No changes to weights will be applied. An array of 20 -1s is generated for running_losses.\n",
      "NOTE: Training model AugmentedReLUNetwork(p: 0, inputs_count: 19, outputs_count: 1) in dry run mode. No changes to weights will be applied. An array of 20 -1s is generated for running_losses.\n",
      "NOTE: save_plot called but no figure will be saved. Path: report/loss__p0_N2.png\n"
     ]
    },
    {
     "data": {
      "text/plain": [
       "TrainingParameters(dataset=Dataset(name='wisc_bc_data.csv', number=1, classes_count=2, data=DatasetData(train_dataset=<torch.utils.data.dataset.TensorDataset object at 0x151228fb0>, test_dataset=<torch.utils.data.dataset.TensorDataset object at 0x151255eb0>, train_loader=<torch.utils.data.dataloader.DataLoader object at 0x15115d940>, test_loader=<torch.utils.data.dataloader.DataLoader object at 0x15115d910>)), criterion=CrossEntropyLoss(), experiment_params=ExperimentParameters(iteration=2, p=0.01), model_a_path='pth/model-1A-c-P0.01_N2.pth', model_b_path='pth/model-1B-c-P0.01_N2.pth', loss_curve_plot_col_index=0)"
      ]
     },
     "metadata": {},
     "output_type": "display_data"
    },
    {
     "name": "stdout",
     "output_type": "stream",
     "text": [
      "NOTE: Training model RegularNetwork(inputs_count: 30, outputs_count: 2) in dry run mode. No changes to weights will be applied. An array of 20 -1s is generated for running_losses.\n",
      "NOTE: Training model AugmentedReLUNetwork(p: 0.01, inputs_count: 30, outputs_count: 2) in dry run mode. No changes to weights will be applied. An array of 20 -1s is generated for running_losses.\n"
     ]
    },
    {
     "data": {
      "text/plain": [
       "TrainingParameters(dataset=Dataset(name='car_evaluation.csv', number=2, classes_count=4, data=DatasetData(train_dataset=<torch.utils.data.dataset.TensorDataset object at 0x151117320>, test_dataset=<torch.utils.data.dataset.TensorDataset object at 0x151288bc0>, train_loader=<torch.utils.data.dataloader.DataLoader object at 0x1511173e0>, test_loader=<torch.utils.data.dataloader.DataLoader object at 0x1511d7ef0>)), criterion=CrossEntropyLoss(), experiment_params=ExperimentParameters(iteration=2, p=0.01), model_a_path='pth/model-2A-c-P0.01_N2.pth', model_b_path='pth/model-2B-c-P0.01_N2.pth', loss_curve_plot_col_index=1)"
      ]
     },
     "metadata": {},
     "output_type": "display_data"
    },
    {
     "name": "stdout",
     "output_type": "stream",
     "text": [
      "NOTE: Training model RegularNetwork(inputs_count: 6, outputs_count: 4) in dry run mode. No changes to weights will be applied. An array of 20 -1s is generated for running_losses.\n",
      "NOTE: Training model AugmentedReLUNetwork(p: 0.01, inputs_count: 6, outputs_count: 4) in dry run mode. No changes to weights will be applied. An array of 20 -1s is generated for running_losses.\n"
     ]
    },
    {
     "data": {
      "text/plain": [
       "TrainingParameters(dataset=Dataset(name='StudentPerformanceFactors.csv', number=3, classes_count=1, data=DatasetData(train_dataset=<torch.utils.data.dataset.TensorDataset object at 0x151216cc0>, test_dataset=<torch.utils.data.dataset.TensorDataset object at 0x15128ac00>, train_loader=<torch.utils.data.dataloader.DataLoader object at 0x15117d4c0>, test_loader=<torch.utils.data.dataloader.DataLoader object at 0x1511ed970>)), criterion=MSELoss(), experiment_params=ExperimentParameters(iteration=2, p=0.01), model_a_path='pth/model-3A-c-P0.01_N2.pth', model_b_path='pth/model-3B-c-P0.01_N2.pth', loss_curve_plot_col_index=2)"
      ]
     },
     "metadata": {},
     "output_type": "display_data"
    },
    {
     "name": "stdout",
     "output_type": "stream",
     "text": [
      "NOTE: Training model RegularNetwork(inputs_count: 19, outputs_count: 1) in dry run mode. No changes to weights will be applied. An array of 20 -1s is generated for running_losses.\n",
      "NOTE: Training model AugmentedReLUNetwork(p: 0.01, inputs_count: 19, outputs_count: 1) in dry run mode. No changes to weights will be applied. An array of 20 -1s is generated for running_losses.\n",
      "NOTE: save_plot called but no figure will be saved. Path: report/loss__p0.01_N2.png\n"
     ]
    },
    {
     "data": {
      "text/plain": [
       "TrainingParameters(dataset=Dataset(name='wisc_bc_data.csv', number=1, classes_count=2, data=DatasetData(train_dataset=<torch.utils.data.dataset.TensorDataset object at 0x151228fb0>, test_dataset=<torch.utils.data.dataset.TensorDataset object at 0x151255eb0>, train_loader=<torch.utils.data.dataloader.DataLoader object at 0x15115d940>, test_loader=<torch.utils.data.dataloader.DataLoader object at 0x15115d910>)), criterion=CrossEntropyLoss(), experiment_params=ExperimentParameters(iteration=2, p=0.05), model_a_path='pth/model-1A-c-P0.05_N2.pth', model_b_path='pth/model-1B-c-P0.05_N2.pth', loss_curve_plot_col_index=0)"
      ]
     },
     "metadata": {},
     "output_type": "display_data"
    },
    {
     "name": "stdout",
     "output_type": "stream",
     "text": [
      "NOTE: Training model RegularNetwork(inputs_count: 30, outputs_count: 2) in dry run mode. No changes to weights will be applied. An array of 20 -1s is generated for running_losses.\n",
      "NOTE: Training model AugmentedReLUNetwork(p: 0.05, inputs_count: 30, outputs_count: 2) in dry run mode. No changes to weights will be applied. An array of 20 -1s is generated for running_losses.\n"
     ]
    },
    {
     "data": {
      "text/plain": [
       "TrainingParameters(dataset=Dataset(name='car_evaluation.csv', number=2, classes_count=4, data=DatasetData(train_dataset=<torch.utils.data.dataset.TensorDataset object at 0x151117320>, test_dataset=<torch.utils.data.dataset.TensorDataset object at 0x151288bc0>, train_loader=<torch.utils.data.dataloader.DataLoader object at 0x1511173e0>, test_loader=<torch.utils.data.dataloader.DataLoader object at 0x1511d7ef0>)), criterion=CrossEntropyLoss(), experiment_params=ExperimentParameters(iteration=2, p=0.05), model_a_path='pth/model-2A-c-P0.05_N2.pth', model_b_path='pth/model-2B-c-P0.05_N2.pth', loss_curve_plot_col_index=1)"
      ]
     },
     "metadata": {},
     "output_type": "display_data"
    },
    {
     "name": "stdout",
     "output_type": "stream",
     "text": [
      "NOTE: Training model RegularNetwork(inputs_count: 6, outputs_count: 4) in dry run mode. No changes to weights will be applied. An array of 20 -1s is generated for running_losses.\n",
      "NOTE: Training model AugmentedReLUNetwork(p: 0.05, inputs_count: 6, outputs_count: 4) in dry run mode. No changes to weights will be applied. An array of 20 -1s is generated for running_losses.\n"
     ]
    },
    {
     "data": {
      "text/plain": [
       "TrainingParameters(dataset=Dataset(name='StudentPerformanceFactors.csv', number=3, classes_count=1, data=DatasetData(train_dataset=<torch.utils.data.dataset.TensorDataset object at 0x151216cc0>, test_dataset=<torch.utils.data.dataset.TensorDataset object at 0x15128ac00>, train_loader=<torch.utils.data.dataloader.DataLoader object at 0x15117d4c0>, test_loader=<torch.utils.data.dataloader.DataLoader object at 0x1511ed970>)), criterion=MSELoss(), experiment_params=ExperimentParameters(iteration=2, p=0.05), model_a_path='pth/model-3A-c-P0.05_N2.pth', model_b_path='pth/model-3B-c-P0.05_N2.pth', loss_curve_plot_col_index=2)"
      ]
     },
     "metadata": {},
     "output_type": "display_data"
    },
    {
     "name": "stdout",
     "output_type": "stream",
     "text": [
      "NOTE: Training model RegularNetwork(inputs_count: 19, outputs_count: 1) in dry run mode. No changes to weights will be applied. An array of 20 -1s is generated for running_losses.\n",
      "NOTE: Training model AugmentedReLUNetwork(p: 0.05, inputs_count: 19, outputs_count: 1) in dry run mode. No changes to weights will be applied. An array of 20 -1s is generated for running_losses.\n",
      "NOTE: save_plot called but no figure will be saved. Path: report/loss__p0.05_N2.png\n"
     ]
    },
    {
     "data": {
      "text/plain": [
       "TrainingParameters(dataset=Dataset(name='wisc_bc_data.csv', number=1, classes_count=2, data=DatasetData(train_dataset=<torch.utils.data.dataset.TensorDataset object at 0x151228fb0>, test_dataset=<torch.utils.data.dataset.TensorDataset object at 0x151255eb0>, train_loader=<torch.utils.data.dataloader.DataLoader object at 0x15115d940>, test_loader=<torch.utils.data.dataloader.DataLoader object at 0x15115d910>)), criterion=CrossEntropyLoss(), experiment_params=ExperimentParameters(iteration=2, p=0.5), model_a_path='pth/model-1A-c-P0.5_N2.pth', model_b_path='pth/model-1B-c-P0.5_N2.pth', loss_curve_plot_col_index=0)"
      ]
     },
     "metadata": {},
     "output_type": "display_data"
    },
    {
     "name": "stdout",
     "output_type": "stream",
     "text": [
      "NOTE: Training model RegularNetwork(inputs_count: 30, outputs_count: 2) in dry run mode. No changes to weights will be applied. An array of 20 -1s is generated for running_losses.\n",
      "NOTE: Training model AugmentedReLUNetwork(p: 0.5, inputs_count: 30, outputs_count: 2) in dry run mode. No changes to weights will be applied. An array of 20 -1s is generated for running_losses.\n"
     ]
    },
    {
     "data": {
      "text/plain": [
       "TrainingParameters(dataset=Dataset(name='car_evaluation.csv', number=2, classes_count=4, data=DatasetData(train_dataset=<torch.utils.data.dataset.TensorDataset object at 0x151117320>, test_dataset=<torch.utils.data.dataset.TensorDataset object at 0x151288bc0>, train_loader=<torch.utils.data.dataloader.DataLoader object at 0x1511173e0>, test_loader=<torch.utils.data.dataloader.DataLoader object at 0x1511d7ef0>)), criterion=CrossEntropyLoss(), experiment_params=ExperimentParameters(iteration=2, p=0.5), model_a_path='pth/model-2A-c-P0.5_N2.pth', model_b_path='pth/model-2B-c-P0.5_N2.pth', loss_curve_plot_col_index=1)"
      ]
     },
     "metadata": {},
     "output_type": "display_data"
    },
    {
     "name": "stdout",
     "output_type": "stream",
     "text": [
      "NOTE: Training model RegularNetwork(inputs_count: 6, outputs_count: 4) in dry run mode. No changes to weights will be applied. An array of 20 -1s is generated for running_losses.\n",
      "NOTE: Training model AugmentedReLUNetwork(p: 0.5, inputs_count: 6, outputs_count: 4) in dry run mode. No changes to weights will be applied. An array of 20 -1s is generated for running_losses.\n"
     ]
    },
    {
     "data": {
      "text/plain": [
       "TrainingParameters(dataset=Dataset(name='StudentPerformanceFactors.csv', number=3, classes_count=1, data=DatasetData(train_dataset=<torch.utils.data.dataset.TensorDataset object at 0x151216cc0>, test_dataset=<torch.utils.data.dataset.TensorDataset object at 0x15128ac00>, train_loader=<torch.utils.data.dataloader.DataLoader object at 0x15117d4c0>, test_loader=<torch.utils.data.dataloader.DataLoader object at 0x1511ed970>)), criterion=MSELoss(), experiment_params=ExperimentParameters(iteration=2, p=0.5), model_a_path='pth/model-3A-c-P0.5_N2.pth', model_b_path='pth/model-3B-c-P0.5_N2.pth', loss_curve_plot_col_index=2)"
      ]
     },
     "metadata": {},
     "output_type": "display_data"
    },
    {
     "name": "stdout",
     "output_type": "stream",
     "text": [
      "NOTE: Training model RegularNetwork(inputs_count: 19, outputs_count: 1) in dry run mode. No changes to weights will be applied. An array of 20 -1s is generated for running_losses.\n",
      "NOTE: Training model AugmentedReLUNetwork(p: 0.5, inputs_count: 19, outputs_count: 1) in dry run mode. No changes to weights will be applied. An array of 20 -1s is generated for running_losses.\n",
      "NOTE: save_plot called but no figure will be saved. Path: report/loss__p0.5_N2.png\n"
     ]
    },
    {
     "data": {
      "text/plain": [
       "TrainingParameters(dataset=Dataset(name='wisc_bc_data.csv', number=1, classes_count=2, data=DatasetData(train_dataset=<torch.utils.data.dataset.TensorDataset object at 0x151228fb0>, test_dataset=<torch.utils.data.dataset.TensorDataset object at 0x151255eb0>, train_loader=<torch.utils.data.dataloader.DataLoader object at 0x15115d940>, test_loader=<torch.utils.data.dataloader.DataLoader object at 0x15115d910>)), criterion=CrossEntropyLoss(), experiment_params=ExperimentParameters(iteration=2, p=0.9), model_a_path='pth/model-1A-c-P0.9_N2.pth', model_b_path='pth/model-1B-c-P0.9_N2.pth', loss_curve_plot_col_index=0)"
      ]
     },
     "metadata": {},
     "output_type": "display_data"
    },
    {
     "name": "stdout",
     "output_type": "stream",
     "text": [
      "NOTE: Training model RegularNetwork(inputs_count: 30, outputs_count: 2) in dry run mode. No changes to weights will be applied. An array of 20 -1s is generated for running_losses.\n",
      "NOTE: Training model AugmentedReLUNetwork(p: 0.9, inputs_count: 30, outputs_count: 2) in dry run mode. No changes to weights will be applied. An array of 20 -1s is generated for running_losses.\n"
     ]
    },
    {
     "data": {
      "text/plain": [
       "TrainingParameters(dataset=Dataset(name='car_evaluation.csv', number=2, classes_count=4, data=DatasetData(train_dataset=<torch.utils.data.dataset.TensorDataset object at 0x151117320>, test_dataset=<torch.utils.data.dataset.TensorDataset object at 0x151288bc0>, train_loader=<torch.utils.data.dataloader.DataLoader object at 0x1511173e0>, test_loader=<torch.utils.data.dataloader.DataLoader object at 0x1511d7ef0>)), criterion=CrossEntropyLoss(), experiment_params=ExperimentParameters(iteration=2, p=0.9), model_a_path='pth/model-2A-c-P0.9_N2.pth', model_b_path='pth/model-2B-c-P0.9_N2.pth', loss_curve_plot_col_index=1)"
      ]
     },
     "metadata": {},
     "output_type": "display_data"
    },
    {
     "name": "stdout",
     "output_type": "stream",
     "text": [
      "NOTE: Training model RegularNetwork(inputs_count: 6, outputs_count: 4) in dry run mode. No changes to weights will be applied. An array of 20 -1s is generated for running_losses.\n",
      "NOTE: Training model AugmentedReLUNetwork(p: 0.9, inputs_count: 6, outputs_count: 4) in dry run mode. No changes to weights will be applied. An array of 20 -1s is generated for running_losses.\n"
     ]
    },
    {
     "data": {
      "text/plain": [
       "TrainingParameters(dataset=Dataset(name='StudentPerformanceFactors.csv', number=3, classes_count=1, data=DatasetData(train_dataset=<torch.utils.data.dataset.TensorDataset object at 0x151216cc0>, test_dataset=<torch.utils.data.dataset.TensorDataset object at 0x15128ac00>, train_loader=<torch.utils.data.dataloader.DataLoader object at 0x15117d4c0>, test_loader=<torch.utils.data.dataloader.DataLoader object at 0x1511ed970>)), criterion=MSELoss(), experiment_params=ExperimentParameters(iteration=2, p=0.9), model_a_path='pth/model-3A-c-P0.9_N2.pth', model_b_path='pth/model-3B-c-P0.9_N2.pth', loss_curve_plot_col_index=2)"
      ]
     },
     "metadata": {},
     "output_type": "display_data"
    },
    {
     "name": "stdout",
     "output_type": "stream",
     "text": [
      "NOTE: Training model RegularNetwork(inputs_count: 19, outputs_count: 1) in dry run mode. No changes to weights will be applied. An array of 20 -1s is generated for running_losses.\n",
      "NOTE: Training model AugmentedReLUNetwork(p: 0.9, inputs_count: 19, outputs_count: 1) in dry run mode. No changes to weights will be applied. An array of 20 -1s is generated for running_losses.\n",
      "NOTE: save_plot called but no figure will be saved. Path: report/loss__p0.9_N2.png\n"
     ]
    },
    {
     "data": {
      "text/plain": [
       "TrainingParameters(dataset=Dataset(name='wisc_bc_data.csv', number=1, classes_count=2, data=DatasetData(train_dataset=<torch.utils.data.dataset.TensorDataset object at 0x151228fb0>, test_dataset=<torch.utils.data.dataset.TensorDataset object at 0x151255eb0>, train_loader=<torch.utils.data.dataloader.DataLoader object at 0x15115d940>, test_loader=<torch.utils.data.dataloader.DataLoader object at 0x15115d910>)), criterion=CrossEntropyLoss(), experiment_params=ExperimentParameters(iteration=2, p=0.95), model_a_path='pth/model-1A-c-P0.95_N2.pth', model_b_path='pth/model-1B-c-P0.95_N2.pth', loss_curve_plot_col_index=0)"
      ]
     },
     "metadata": {},
     "output_type": "display_data"
    },
    {
     "name": "stdout",
     "output_type": "stream",
     "text": [
      "NOTE: Training model RegularNetwork(inputs_count: 30, outputs_count: 2) in dry run mode. No changes to weights will be applied. An array of 20 -1s is generated for running_losses.\n",
      "NOTE: Training model AugmentedReLUNetwork(p: 0.95, inputs_count: 30, outputs_count: 2) in dry run mode. No changes to weights will be applied. An array of 20 -1s is generated for running_losses.\n"
     ]
    },
    {
     "data": {
      "text/plain": [
       "TrainingParameters(dataset=Dataset(name='car_evaluation.csv', number=2, classes_count=4, data=DatasetData(train_dataset=<torch.utils.data.dataset.TensorDataset object at 0x151117320>, test_dataset=<torch.utils.data.dataset.TensorDataset object at 0x151288bc0>, train_loader=<torch.utils.data.dataloader.DataLoader object at 0x1511173e0>, test_loader=<torch.utils.data.dataloader.DataLoader object at 0x1511d7ef0>)), criterion=CrossEntropyLoss(), experiment_params=ExperimentParameters(iteration=2, p=0.95), model_a_path='pth/model-2A-c-P0.95_N2.pth', model_b_path='pth/model-2B-c-P0.95_N2.pth', loss_curve_plot_col_index=1)"
      ]
     },
     "metadata": {},
     "output_type": "display_data"
    },
    {
     "name": "stdout",
     "output_type": "stream",
     "text": [
      "NOTE: Training model RegularNetwork(inputs_count: 6, outputs_count: 4) in dry run mode. No changes to weights will be applied. An array of 20 -1s is generated for running_losses.\n",
      "NOTE: Training model AugmentedReLUNetwork(p: 0.95, inputs_count: 6, outputs_count: 4) in dry run mode. No changes to weights will be applied. An array of 20 -1s is generated for running_losses.\n"
     ]
    },
    {
     "data": {
      "text/plain": [
       "TrainingParameters(dataset=Dataset(name='StudentPerformanceFactors.csv', number=3, classes_count=1, data=DatasetData(train_dataset=<torch.utils.data.dataset.TensorDataset object at 0x151216cc0>, test_dataset=<torch.utils.data.dataset.TensorDataset object at 0x15128ac00>, train_loader=<torch.utils.data.dataloader.DataLoader object at 0x15117d4c0>, test_loader=<torch.utils.data.dataloader.DataLoader object at 0x1511ed970>)), criterion=MSELoss(), experiment_params=ExperimentParameters(iteration=2, p=0.95), model_a_path='pth/model-3A-c-P0.95_N2.pth', model_b_path='pth/model-3B-c-P0.95_N2.pth', loss_curve_plot_col_index=2)"
      ]
     },
     "metadata": {},
     "output_type": "display_data"
    },
    {
     "name": "stdout",
     "output_type": "stream",
     "text": [
      "NOTE: Training model RegularNetwork(inputs_count: 19, outputs_count: 1) in dry run mode. No changes to weights will be applied. An array of 20 -1s is generated for running_losses.\n",
      "NOTE: Training model AugmentedReLUNetwork(p: 0.95, inputs_count: 19, outputs_count: 1) in dry run mode. No changes to weights will be applied. An array of 20 -1s is generated for running_losses.\n",
      "NOTE: save_plot called but no figure will be saved. Path: report/loss__p0.95_N2.png\n"
     ]
    },
    {
     "data": {
      "text/plain": [
       "TrainingParameters(dataset=Dataset(name='wisc_bc_data.csv', number=1, classes_count=2, data=DatasetData(train_dataset=<torch.utils.data.dataset.TensorDataset object at 0x151228fb0>, test_dataset=<torch.utils.data.dataset.TensorDataset object at 0x151255eb0>, train_loader=<torch.utils.data.dataloader.DataLoader object at 0x15115d940>, test_loader=<torch.utils.data.dataloader.DataLoader object at 0x15115d910>)), criterion=CrossEntropyLoss(), experiment_params=ExperimentParameters(iteration=2, p=0.99), model_a_path='pth/model-1A-c-P0.99_N2.pth', model_b_path='pth/model-1B-c-P0.99_N2.pth', loss_curve_plot_col_index=0)"
      ]
     },
     "metadata": {},
     "output_type": "display_data"
    },
    {
     "name": "stdout",
     "output_type": "stream",
     "text": [
      "NOTE: Training model RegularNetwork(inputs_count: 30, outputs_count: 2) in dry run mode. No changes to weights will be applied. An array of 20 -1s is generated for running_losses.\n",
      "NOTE: Training model AugmentedReLUNetwork(p: 0.99, inputs_count: 30, outputs_count: 2) in dry run mode. No changes to weights will be applied. An array of 20 -1s is generated for running_losses.\n"
     ]
    },
    {
     "data": {
      "text/plain": [
       "TrainingParameters(dataset=Dataset(name='car_evaluation.csv', number=2, classes_count=4, data=DatasetData(train_dataset=<torch.utils.data.dataset.TensorDataset object at 0x151117320>, test_dataset=<torch.utils.data.dataset.TensorDataset object at 0x151288bc0>, train_loader=<torch.utils.data.dataloader.DataLoader object at 0x1511173e0>, test_loader=<torch.utils.data.dataloader.DataLoader object at 0x1511d7ef0>)), criterion=CrossEntropyLoss(), experiment_params=ExperimentParameters(iteration=2, p=0.99), model_a_path='pth/model-2A-c-P0.99_N2.pth', model_b_path='pth/model-2B-c-P0.99_N2.pth', loss_curve_plot_col_index=1)"
      ]
     },
     "metadata": {},
     "output_type": "display_data"
    },
    {
     "name": "stdout",
     "output_type": "stream",
     "text": [
      "NOTE: Training model RegularNetwork(inputs_count: 6, outputs_count: 4) in dry run mode. No changes to weights will be applied. An array of 20 -1s is generated for running_losses.\n",
      "NOTE: Training model AugmentedReLUNetwork(p: 0.99, inputs_count: 6, outputs_count: 4) in dry run mode. No changes to weights will be applied. An array of 20 -1s is generated for running_losses.\n"
     ]
    },
    {
     "data": {
      "text/plain": [
       "TrainingParameters(dataset=Dataset(name='StudentPerformanceFactors.csv', number=3, classes_count=1, data=DatasetData(train_dataset=<torch.utils.data.dataset.TensorDataset object at 0x151216cc0>, test_dataset=<torch.utils.data.dataset.TensorDataset object at 0x15128ac00>, train_loader=<torch.utils.data.dataloader.DataLoader object at 0x15117d4c0>, test_loader=<torch.utils.data.dataloader.DataLoader object at 0x1511ed970>)), criterion=MSELoss(), experiment_params=ExperimentParameters(iteration=2, p=0.99), model_a_path='pth/model-3A-c-P0.99_N2.pth', model_b_path='pth/model-3B-c-P0.99_N2.pth', loss_curve_plot_col_index=2)"
      ]
     },
     "metadata": {},
     "output_type": "display_data"
    },
    {
     "name": "stdout",
     "output_type": "stream",
     "text": [
      "NOTE: Training model RegularNetwork(inputs_count: 19, outputs_count: 1) in dry run mode. No changes to weights will be applied. An array of 20 -1s is generated for running_losses.\n",
      "NOTE: Training model AugmentedReLUNetwork(p: 0.99, inputs_count: 19, outputs_count: 1) in dry run mode. No changes to weights will be applied. An array of 20 -1s is generated for running_losses.\n",
      "NOTE: save_plot called but no figure will be saved. Path: report/loss__p0.99_N2.png\n"
     ]
    },
    {
     "data": {
      "text/plain": [
       "TrainingParameters(dataset=Dataset(name='wisc_bc_data.csv', number=1, classes_count=2, data=DatasetData(train_dataset=<torch.utils.data.dataset.TensorDataset object at 0x151228fb0>, test_dataset=<torch.utils.data.dataset.TensorDataset object at 0x151255eb0>, train_loader=<torch.utils.data.dataloader.DataLoader object at 0x15115d940>, test_loader=<torch.utils.data.dataloader.DataLoader object at 0x15115d910>)), criterion=CrossEntropyLoss(), experiment_params=ExperimentParameters(iteration=3, p=0), model_a_path='pth/model-1A-c-P0_N3.pth', model_b_path='pth/model-1B-c-P0_N3.pth', loss_curve_plot_col_index=0)"
      ]
     },
     "metadata": {},
     "output_type": "display_data"
    },
    {
     "name": "stdout",
     "output_type": "stream",
     "text": [
      "NOTE: Training model RegularNetwork(inputs_count: 30, outputs_count: 2) in dry run mode. No changes to weights will be applied. An array of 20 -1s is generated for running_losses.\n",
      "NOTE: Training model AugmentedReLUNetwork(p: 0, inputs_count: 30, outputs_count: 2) in dry run mode. No changes to weights will be applied. An array of 20 -1s is generated for running_losses.\n"
     ]
    },
    {
     "data": {
      "text/plain": [
       "TrainingParameters(dataset=Dataset(name='car_evaluation.csv', number=2, classes_count=4, data=DatasetData(train_dataset=<torch.utils.data.dataset.TensorDataset object at 0x151117320>, test_dataset=<torch.utils.data.dataset.TensorDataset object at 0x151288bc0>, train_loader=<torch.utils.data.dataloader.DataLoader object at 0x1511173e0>, test_loader=<torch.utils.data.dataloader.DataLoader object at 0x1511d7ef0>)), criterion=CrossEntropyLoss(), experiment_params=ExperimentParameters(iteration=3, p=0), model_a_path='pth/model-2A-c-P0_N3.pth', model_b_path='pth/model-2B-c-P0_N3.pth', loss_curve_plot_col_index=1)"
      ]
     },
     "metadata": {},
     "output_type": "display_data"
    },
    {
     "name": "stdout",
     "output_type": "stream",
     "text": [
      "NOTE: Training model RegularNetwork(inputs_count: 6, outputs_count: 4) in dry run mode. No changes to weights will be applied. An array of 20 -1s is generated for running_losses.\n",
      "NOTE: Training model AugmentedReLUNetwork(p: 0, inputs_count: 6, outputs_count: 4) in dry run mode. No changes to weights will be applied. An array of 20 -1s is generated for running_losses.\n"
     ]
    },
    {
     "data": {
      "text/plain": [
       "TrainingParameters(dataset=Dataset(name='StudentPerformanceFactors.csv', number=3, classes_count=1, data=DatasetData(train_dataset=<torch.utils.data.dataset.TensorDataset object at 0x151216cc0>, test_dataset=<torch.utils.data.dataset.TensorDataset object at 0x15128ac00>, train_loader=<torch.utils.data.dataloader.DataLoader object at 0x15117d4c0>, test_loader=<torch.utils.data.dataloader.DataLoader object at 0x1511ed970>)), criterion=MSELoss(), experiment_params=ExperimentParameters(iteration=3, p=0), model_a_path='pth/model-3A-c-P0_N3.pth', model_b_path='pth/model-3B-c-P0_N3.pth', loss_curve_plot_col_index=2)"
      ]
     },
     "metadata": {},
     "output_type": "display_data"
    },
    {
     "name": "stdout",
     "output_type": "stream",
     "text": [
      "NOTE: Training model RegularNetwork(inputs_count: 19, outputs_count: 1) in dry run mode. No changes to weights will be applied. An array of 20 -1s is generated for running_losses.\n",
      "NOTE: Training model AugmentedReLUNetwork(p: 0, inputs_count: 19, outputs_count: 1) in dry run mode. No changes to weights will be applied. An array of 20 -1s is generated for running_losses.\n",
      "NOTE: save_plot called but no figure will be saved. Path: report/loss__p0_N3.png\n"
     ]
    },
    {
     "data": {
      "text/plain": [
       "TrainingParameters(dataset=Dataset(name='wisc_bc_data.csv', number=1, classes_count=2, data=DatasetData(train_dataset=<torch.utils.data.dataset.TensorDataset object at 0x151228fb0>, test_dataset=<torch.utils.data.dataset.TensorDataset object at 0x151255eb0>, train_loader=<torch.utils.data.dataloader.DataLoader object at 0x15115d940>, test_loader=<torch.utils.data.dataloader.DataLoader object at 0x15115d910>)), criterion=CrossEntropyLoss(), experiment_params=ExperimentParameters(iteration=3, p=0.01), model_a_path='pth/model-1A-c-P0.01_N3.pth', model_b_path='pth/model-1B-c-P0.01_N3.pth', loss_curve_plot_col_index=0)"
      ]
     },
     "metadata": {},
     "output_type": "display_data"
    },
    {
     "name": "stdout",
     "output_type": "stream",
     "text": [
      "NOTE: Training model RegularNetwork(inputs_count: 30, outputs_count: 2) in dry run mode. No changes to weights will be applied. An array of 20 -1s is generated for running_losses.\n",
      "NOTE: Training model AugmentedReLUNetwork(p: 0.01, inputs_count: 30, outputs_count: 2) in dry run mode. No changes to weights will be applied. An array of 20 -1s is generated for running_losses.\n"
     ]
    },
    {
     "data": {
      "text/plain": [
       "TrainingParameters(dataset=Dataset(name='car_evaluation.csv', number=2, classes_count=4, data=DatasetData(train_dataset=<torch.utils.data.dataset.TensorDataset object at 0x151117320>, test_dataset=<torch.utils.data.dataset.TensorDataset object at 0x151288bc0>, train_loader=<torch.utils.data.dataloader.DataLoader object at 0x1511173e0>, test_loader=<torch.utils.data.dataloader.DataLoader object at 0x1511d7ef0>)), criterion=CrossEntropyLoss(), experiment_params=ExperimentParameters(iteration=3, p=0.01), model_a_path='pth/model-2A-c-P0.01_N3.pth', model_b_path='pth/model-2B-c-P0.01_N3.pth', loss_curve_plot_col_index=1)"
      ]
     },
     "metadata": {},
     "output_type": "display_data"
    },
    {
     "name": "stdout",
     "output_type": "stream",
     "text": [
      "NOTE: Training model RegularNetwork(inputs_count: 6, outputs_count: 4) in dry run mode. No changes to weights will be applied. An array of 20 -1s is generated for running_losses.\n",
      "NOTE: Training model AugmentedReLUNetwork(p: 0.01, inputs_count: 6, outputs_count: 4) in dry run mode. No changes to weights will be applied. An array of 20 -1s is generated for running_losses.\n"
     ]
    },
    {
     "data": {
      "text/plain": [
       "TrainingParameters(dataset=Dataset(name='StudentPerformanceFactors.csv', number=3, classes_count=1, data=DatasetData(train_dataset=<torch.utils.data.dataset.TensorDataset object at 0x151216cc0>, test_dataset=<torch.utils.data.dataset.TensorDataset object at 0x15128ac00>, train_loader=<torch.utils.data.dataloader.DataLoader object at 0x15117d4c0>, test_loader=<torch.utils.data.dataloader.DataLoader object at 0x1511ed970>)), criterion=MSELoss(), experiment_params=ExperimentParameters(iteration=3, p=0.01), model_a_path='pth/model-3A-c-P0.01_N3.pth', model_b_path='pth/model-3B-c-P0.01_N3.pth', loss_curve_plot_col_index=2)"
      ]
     },
     "metadata": {},
     "output_type": "display_data"
    },
    {
     "name": "stdout",
     "output_type": "stream",
     "text": [
      "NOTE: Training model RegularNetwork(inputs_count: 19, outputs_count: 1) in dry run mode. No changes to weights will be applied. An array of 20 -1s is generated for running_losses.\n",
      "NOTE: Training model AugmentedReLUNetwork(p: 0.01, inputs_count: 19, outputs_count: 1) in dry run mode. No changes to weights will be applied. An array of 20 -1s is generated for running_losses.\n",
      "NOTE: save_plot called but no figure will be saved. Path: report/loss__p0.01_N3.png\n"
     ]
    },
    {
     "data": {
      "text/plain": [
       "TrainingParameters(dataset=Dataset(name='wisc_bc_data.csv', number=1, classes_count=2, data=DatasetData(train_dataset=<torch.utils.data.dataset.TensorDataset object at 0x151228fb0>, test_dataset=<torch.utils.data.dataset.TensorDataset object at 0x151255eb0>, train_loader=<torch.utils.data.dataloader.DataLoader object at 0x15115d940>, test_loader=<torch.utils.data.dataloader.DataLoader object at 0x15115d910>)), criterion=CrossEntropyLoss(), experiment_params=ExperimentParameters(iteration=3, p=0.05), model_a_path='pth/model-1A-c-P0.05_N3.pth', model_b_path='pth/model-1B-c-P0.05_N3.pth', loss_curve_plot_col_index=0)"
      ]
     },
     "metadata": {},
     "output_type": "display_data"
    },
    {
     "name": "stdout",
     "output_type": "stream",
     "text": [
      "NOTE: Training model RegularNetwork(inputs_count: 30, outputs_count: 2) in dry run mode. No changes to weights will be applied. An array of 20 -1s is generated for running_losses.\n",
      "NOTE: Training model AugmentedReLUNetwork(p: 0.05, inputs_count: 30, outputs_count: 2) in dry run mode. No changes to weights will be applied. An array of 20 -1s is generated for running_losses.\n"
     ]
    },
    {
     "data": {
      "text/plain": [
       "TrainingParameters(dataset=Dataset(name='car_evaluation.csv', number=2, classes_count=4, data=DatasetData(train_dataset=<torch.utils.data.dataset.TensorDataset object at 0x151117320>, test_dataset=<torch.utils.data.dataset.TensorDataset object at 0x151288bc0>, train_loader=<torch.utils.data.dataloader.DataLoader object at 0x1511173e0>, test_loader=<torch.utils.data.dataloader.DataLoader object at 0x1511d7ef0>)), criterion=CrossEntropyLoss(), experiment_params=ExperimentParameters(iteration=3, p=0.05), model_a_path='pth/model-2A-c-P0.05_N3.pth', model_b_path='pth/model-2B-c-P0.05_N3.pth', loss_curve_plot_col_index=1)"
      ]
     },
     "metadata": {},
     "output_type": "display_data"
    },
    {
     "name": "stdout",
     "output_type": "stream",
     "text": [
      "NOTE: Training model RegularNetwork(inputs_count: 6, outputs_count: 4) in dry run mode. No changes to weights will be applied. An array of 20 -1s is generated for running_losses.\n",
      "NOTE: Training model AugmentedReLUNetwork(p: 0.05, inputs_count: 6, outputs_count: 4) in dry run mode. No changes to weights will be applied. An array of 20 -1s is generated for running_losses.\n"
     ]
    },
    {
     "data": {
      "text/plain": [
       "TrainingParameters(dataset=Dataset(name='StudentPerformanceFactors.csv', number=3, classes_count=1, data=DatasetData(train_dataset=<torch.utils.data.dataset.TensorDataset object at 0x151216cc0>, test_dataset=<torch.utils.data.dataset.TensorDataset object at 0x15128ac00>, train_loader=<torch.utils.data.dataloader.DataLoader object at 0x15117d4c0>, test_loader=<torch.utils.data.dataloader.DataLoader object at 0x1511ed970>)), criterion=MSELoss(), experiment_params=ExperimentParameters(iteration=3, p=0.05), model_a_path='pth/model-3A-c-P0.05_N3.pth', model_b_path='pth/model-3B-c-P0.05_N3.pth', loss_curve_plot_col_index=2)"
      ]
     },
     "metadata": {},
     "output_type": "display_data"
    },
    {
     "name": "stdout",
     "output_type": "stream",
     "text": [
      "NOTE: Training model RegularNetwork(inputs_count: 19, outputs_count: 1) in dry run mode. No changes to weights will be applied. An array of 20 -1s is generated for running_losses.\n",
      "NOTE: Training model AugmentedReLUNetwork(p: 0.05, inputs_count: 19, outputs_count: 1) in dry run mode. No changes to weights will be applied. An array of 20 -1s is generated for running_losses.\n",
      "NOTE: save_plot called but no figure will be saved. Path: report/loss__p0.05_N3.png\n"
     ]
    },
    {
     "data": {
      "text/plain": [
       "TrainingParameters(dataset=Dataset(name='wisc_bc_data.csv', number=1, classes_count=2, data=DatasetData(train_dataset=<torch.utils.data.dataset.TensorDataset object at 0x151228fb0>, test_dataset=<torch.utils.data.dataset.TensorDataset object at 0x151255eb0>, train_loader=<torch.utils.data.dataloader.DataLoader object at 0x15115d940>, test_loader=<torch.utils.data.dataloader.DataLoader object at 0x15115d910>)), criterion=CrossEntropyLoss(), experiment_params=ExperimentParameters(iteration=3, p=0.5), model_a_path='pth/model-1A-c-P0.5_N3.pth', model_b_path='pth/model-1B-c-P0.5_N3.pth', loss_curve_plot_col_index=0)"
      ]
     },
     "metadata": {},
     "output_type": "display_data"
    },
    {
     "name": "stdout",
     "output_type": "stream",
     "text": [
      "NOTE: Training model RegularNetwork(inputs_count: 30, outputs_count: 2) in dry run mode. No changes to weights will be applied. An array of 20 -1s is generated for running_losses.\n",
      "NOTE: Training model AugmentedReLUNetwork(p: 0.5, inputs_count: 30, outputs_count: 2) in dry run mode. No changes to weights will be applied. An array of 20 -1s is generated for running_losses.\n"
     ]
    },
    {
     "data": {
      "text/plain": [
       "TrainingParameters(dataset=Dataset(name='car_evaluation.csv', number=2, classes_count=4, data=DatasetData(train_dataset=<torch.utils.data.dataset.TensorDataset object at 0x151117320>, test_dataset=<torch.utils.data.dataset.TensorDataset object at 0x151288bc0>, train_loader=<torch.utils.data.dataloader.DataLoader object at 0x1511173e0>, test_loader=<torch.utils.data.dataloader.DataLoader object at 0x1511d7ef0>)), criterion=CrossEntropyLoss(), experiment_params=ExperimentParameters(iteration=3, p=0.5), model_a_path='pth/model-2A-c-P0.5_N3.pth', model_b_path='pth/model-2B-c-P0.5_N3.pth', loss_curve_plot_col_index=1)"
      ]
     },
     "metadata": {},
     "output_type": "display_data"
    },
    {
     "name": "stdout",
     "output_type": "stream",
     "text": [
      "NOTE: Training model RegularNetwork(inputs_count: 6, outputs_count: 4) in dry run mode. No changes to weights will be applied. An array of 20 -1s is generated for running_losses.\n",
      "NOTE: Training model AugmentedReLUNetwork(p: 0.5, inputs_count: 6, outputs_count: 4) in dry run mode. No changes to weights will be applied. An array of 20 -1s is generated for running_losses.\n"
     ]
    },
    {
     "data": {
      "text/plain": [
       "TrainingParameters(dataset=Dataset(name='StudentPerformanceFactors.csv', number=3, classes_count=1, data=DatasetData(train_dataset=<torch.utils.data.dataset.TensorDataset object at 0x151216cc0>, test_dataset=<torch.utils.data.dataset.TensorDataset object at 0x15128ac00>, train_loader=<torch.utils.data.dataloader.DataLoader object at 0x15117d4c0>, test_loader=<torch.utils.data.dataloader.DataLoader object at 0x1511ed970>)), criterion=MSELoss(), experiment_params=ExperimentParameters(iteration=3, p=0.5), model_a_path='pth/model-3A-c-P0.5_N3.pth', model_b_path='pth/model-3B-c-P0.5_N3.pth', loss_curve_plot_col_index=2)"
      ]
     },
     "metadata": {},
     "output_type": "display_data"
    },
    {
     "name": "stdout",
     "output_type": "stream",
     "text": [
      "NOTE: Training model RegularNetwork(inputs_count: 19, outputs_count: 1) in dry run mode. No changes to weights will be applied. An array of 20 -1s is generated for running_losses.\n",
      "NOTE: Training model AugmentedReLUNetwork(p: 0.5, inputs_count: 19, outputs_count: 1) in dry run mode. No changes to weights will be applied. An array of 20 -1s is generated for running_losses.\n",
      "NOTE: save_plot called but no figure will be saved. Path: report/loss__p0.5_N3.png\n"
     ]
    },
    {
     "data": {
      "text/plain": [
       "TrainingParameters(dataset=Dataset(name='wisc_bc_data.csv', number=1, classes_count=2, data=DatasetData(train_dataset=<torch.utils.data.dataset.TensorDataset object at 0x151228fb0>, test_dataset=<torch.utils.data.dataset.TensorDataset object at 0x151255eb0>, train_loader=<torch.utils.data.dataloader.DataLoader object at 0x15115d940>, test_loader=<torch.utils.data.dataloader.DataLoader object at 0x15115d910>)), criterion=CrossEntropyLoss(), experiment_params=ExperimentParameters(iteration=3, p=0.9), model_a_path='pth/model-1A-c-P0.9_N3.pth', model_b_path='pth/model-1B-c-P0.9_N3.pth', loss_curve_plot_col_index=0)"
      ]
     },
     "metadata": {},
     "output_type": "display_data"
    },
    {
     "name": "stdout",
     "output_type": "stream",
     "text": [
      "NOTE: Training model RegularNetwork(inputs_count: 30, outputs_count: 2) in dry run mode. No changes to weights will be applied. An array of 20 -1s is generated for running_losses.\n",
      "NOTE: Training model AugmentedReLUNetwork(p: 0.9, inputs_count: 30, outputs_count: 2) in dry run mode. No changes to weights will be applied. An array of 20 -1s is generated for running_losses.\n"
     ]
    },
    {
     "data": {
      "text/plain": [
       "TrainingParameters(dataset=Dataset(name='car_evaluation.csv', number=2, classes_count=4, data=DatasetData(train_dataset=<torch.utils.data.dataset.TensorDataset object at 0x151117320>, test_dataset=<torch.utils.data.dataset.TensorDataset object at 0x151288bc0>, train_loader=<torch.utils.data.dataloader.DataLoader object at 0x1511173e0>, test_loader=<torch.utils.data.dataloader.DataLoader object at 0x1511d7ef0>)), criterion=CrossEntropyLoss(), experiment_params=ExperimentParameters(iteration=3, p=0.9), model_a_path='pth/model-2A-c-P0.9_N3.pth', model_b_path='pth/model-2B-c-P0.9_N3.pth', loss_curve_plot_col_index=1)"
      ]
     },
     "metadata": {},
     "output_type": "display_data"
    },
    {
     "name": "stdout",
     "output_type": "stream",
     "text": [
      "NOTE: Training model RegularNetwork(inputs_count: 6, outputs_count: 4) in dry run mode. No changes to weights will be applied. An array of 20 -1s is generated for running_losses.\n",
      "NOTE: Training model AugmentedReLUNetwork(p: 0.9, inputs_count: 6, outputs_count: 4) in dry run mode. No changes to weights will be applied. An array of 20 -1s is generated for running_losses.\n"
     ]
    },
    {
     "data": {
      "text/plain": [
       "TrainingParameters(dataset=Dataset(name='StudentPerformanceFactors.csv', number=3, classes_count=1, data=DatasetData(train_dataset=<torch.utils.data.dataset.TensorDataset object at 0x151216cc0>, test_dataset=<torch.utils.data.dataset.TensorDataset object at 0x15128ac00>, train_loader=<torch.utils.data.dataloader.DataLoader object at 0x15117d4c0>, test_loader=<torch.utils.data.dataloader.DataLoader object at 0x1511ed970>)), criterion=MSELoss(), experiment_params=ExperimentParameters(iteration=3, p=0.9), model_a_path='pth/model-3A-c-P0.9_N3.pth', model_b_path='pth/model-3B-c-P0.9_N3.pth', loss_curve_plot_col_index=2)"
      ]
     },
     "metadata": {},
     "output_type": "display_data"
    },
    {
     "name": "stdout",
     "output_type": "stream",
     "text": [
      "NOTE: Training model RegularNetwork(inputs_count: 19, outputs_count: 1) in dry run mode. No changes to weights will be applied. An array of 20 -1s is generated for running_losses.\n",
      "NOTE: Training model AugmentedReLUNetwork(p: 0.9, inputs_count: 19, outputs_count: 1) in dry run mode. No changes to weights will be applied. An array of 20 -1s is generated for running_losses.\n",
      "NOTE: save_plot called but no figure will be saved. Path: report/loss__p0.9_N3.png\n"
     ]
    },
    {
     "data": {
      "text/plain": [
       "TrainingParameters(dataset=Dataset(name='wisc_bc_data.csv', number=1, classes_count=2, data=DatasetData(train_dataset=<torch.utils.data.dataset.TensorDataset object at 0x151228fb0>, test_dataset=<torch.utils.data.dataset.TensorDataset object at 0x151255eb0>, train_loader=<torch.utils.data.dataloader.DataLoader object at 0x15115d940>, test_loader=<torch.utils.data.dataloader.DataLoader object at 0x15115d910>)), criterion=CrossEntropyLoss(), experiment_params=ExperimentParameters(iteration=3, p=0.95), model_a_path='pth/model-1A-c-P0.95_N3.pth', model_b_path='pth/model-1B-c-P0.95_N3.pth', loss_curve_plot_col_index=0)"
      ]
     },
     "metadata": {},
     "output_type": "display_data"
    },
    {
     "name": "stdout",
     "output_type": "stream",
     "text": [
      "NOTE: Training model RegularNetwork(inputs_count: 30, outputs_count: 2) in dry run mode. No changes to weights will be applied. An array of 20 -1s is generated for running_losses.\n",
      "NOTE: Training model AugmentedReLUNetwork(p: 0.95, inputs_count: 30, outputs_count: 2) in dry run mode. No changes to weights will be applied. An array of 20 -1s is generated for running_losses.\n"
     ]
    },
    {
     "data": {
      "text/plain": [
       "TrainingParameters(dataset=Dataset(name='car_evaluation.csv', number=2, classes_count=4, data=DatasetData(train_dataset=<torch.utils.data.dataset.TensorDataset object at 0x151117320>, test_dataset=<torch.utils.data.dataset.TensorDataset object at 0x151288bc0>, train_loader=<torch.utils.data.dataloader.DataLoader object at 0x1511173e0>, test_loader=<torch.utils.data.dataloader.DataLoader object at 0x1511d7ef0>)), criterion=CrossEntropyLoss(), experiment_params=ExperimentParameters(iteration=3, p=0.95), model_a_path='pth/model-2A-c-P0.95_N3.pth', model_b_path='pth/model-2B-c-P0.95_N3.pth', loss_curve_plot_col_index=1)"
      ]
     },
     "metadata": {},
     "output_type": "display_data"
    },
    {
     "name": "stdout",
     "output_type": "stream",
     "text": [
      "NOTE: Training model RegularNetwork(inputs_count: 6, outputs_count: 4) in dry run mode. No changes to weights will be applied. An array of 20 -1s is generated for running_losses.\n",
      "NOTE: Training model AugmentedReLUNetwork(p: 0.95, inputs_count: 6, outputs_count: 4) in dry run mode. No changes to weights will be applied. An array of 20 -1s is generated for running_losses.\n"
     ]
    },
    {
     "data": {
      "text/plain": [
       "TrainingParameters(dataset=Dataset(name='StudentPerformanceFactors.csv', number=3, classes_count=1, data=DatasetData(train_dataset=<torch.utils.data.dataset.TensorDataset object at 0x151216cc0>, test_dataset=<torch.utils.data.dataset.TensorDataset object at 0x15128ac00>, train_loader=<torch.utils.data.dataloader.DataLoader object at 0x15117d4c0>, test_loader=<torch.utils.data.dataloader.DataLoader object at 0x1511ed970>)), criterion=MSELoss(), experiment_params=ExperimentParameters(iteration=3, p=0.95), model_a_path='pth/model-3A-c-P0.95_N3.pth', model_b_path='pth/model-3B-c-P0.95_N3.pth', loss_curve_plot_col_index=2)"
      ]
     },
     "metadata": {},
     "output_type": "display_data"
    },
    {
     "name": "stdout",
     "output_type": "stream",
     "text": [
      "NOTE: Training model RegularNetwork(inputs_count: 19, outputs_count: 1) in dry run mode. No changes to weights will be applied. An array of 20 -1s is generated for running_losses.\n",
      "NOTE: Training model AugmentedReLUNetwork(p: 0.95, inputs_count: 19, outputs_count: 1) in dry run mode. No changes to weights will be applied. An array of 20 -1s is generated for running_losses.\n",
      "NOTE: save_plot called but no figure will be saved. Path: report/loss__p0.95_N3.png\n"
     ]
    },
    {
     "data": {
      "text/plain": [
       "TrainingParameters(dataset=Dataset(name='wisc_bc_data.csv', number=1, classes_count=2, data=DatasetData(train_dataset=<torch.utils.data.dataset.TensorDataset object at 0x151228fb0>, test_dataset=<torch.utils.data.dataset.TensorDataset object at 0x151255eb0>, train_loader=<torch.utils.data.dataloader.DataLoader object at 0x15115d940>, test_loader=<torch.utils.data.dataloader.DataLoader object at 0x15115d910>)), criterion=CrossEntropyLoss(), experiment_params=ExperimentParameters(iteration=3, p=0.99), model_a_path='pth/model-1A-c-P0.99_N3.pth', model_b_path='pth/model-1B-c-P0.99_N3.pth', loss_curve_plot_col_index=0)"
      ]
     },
     "metadata": {},
     "output_type": "display_data"
    },
    {
     "name": "stdout",
     "output_type": "stream",
     "text": [
      "NOTE: Training model RegularNetwork(inputs_count: 30, outputs_count: 2) in dry run mode. No changes to weights will be applied. An array of 20 -1s is generated for running_losses.\n",
      "NOTE: Training model AugmentedReLUNetwork(p: 0.99, inputs_count: 30, outputs_count: 2) in dry run mode. No changes to weights will be applied. An array of 20 -1s is generated for running_losses.\n"
     ]
    },
    {
     "data": {
      "text/plain": [
       "TrainingParameters(dataset=Dataset(name='car_evaluation.csv', number=2, classes_count=4, data=DatasetData(train_dataset=<torch.utils.data.dataset.TensorDataset object at 0x151117320>, test_dataset=<torch.utils.data.dataset.TensorDataset object at 0x151288bc0>, train_loader=<torch.utils.data.dataloader.DataLoader object at 0x1511173e0>, test_loader=<torch.utils.data.dataloader.DataLoader object at 0x1511d7ef0>)), criterion=CrossEntropyLoss(), experiment_params=ExperimentParameters(iteration=3, p=0.99), model_a_path='pth/model-2A-c-P0.99_N3.pth', model_b_path='pth/model-2B-c-P0.99_N3.pth', loss_curve_plot_col_index=1)"
      ]
     },
     "metadata": {},
     "output_type": "display_data"
    },
    {
     "name": "stdout",
     "output_type": "stream",
     "text": [
      "NOTE: Training model RegularNetwork(inputs_count: 6, outputs_count: 4) in dry run mode. No changes to weights will be applied. An array of 20 -1s is generated for running_losses.\n",
      "NOTE: Training model AugmentedReLUNetwork(p: 0.99, inputs_count: 6, outputs_count: 4) in dry run mode. No changes to weights will be applied. An array of 20 -1s is generated for running_losses.\n"
     ]
    },
    {
     "data": {
      "text/plain": [
       "TrainingParameters(dataset=Dataset(name='StudentPerformanceFactors.csv', number=3, classes_count=1, data=DatasetData(train_dataset=<torch.utils.data.dataset.TensorDataset object at 0x151216cc0>, test_dataset=<torch.utils.data.dataset.TensorDataset object at 0x15128ac00>, train_loader=<torch.utils.data.dataloader.DataLoader object at 0x15117d4c0>, test_loader=<torch.utils.data.dataloader.DataLoader object at 0x1511ed970>)), criterion=MSELoss(), experiment_params=ExperimentParameters(iteration=3, p=0.99), model_a_path='pth/model-3A-c-P0.99_N3.pth', model_b_path='pth/model-3B-c-P0.99_N3.pth', loss_curve_plot_col_index=2)"
      ]
     },
     "metadata": {},
     "output_type": "display_data"
    },
    {
     "name": "stdout",
     "output_type": "stream",
     "text": [
      "NOTE: Training model RegularNetwork(inputs_count: 19, outputs_count: 1) in dry run mode. No changes to weights will be applied. An array of 20 -1s is generated for running_losses.\n",
      "NOTE: Training model AugmentedReLUNetwork(p: 0.99, inputs_count: 19, outputs_count: 1) in dry run mode. No changes to weights will be applied. An array of 20 -1s is generated for running_losses.\n",
      "NOTE: save_plot called but no figure will be saved. Path: report/loss__p0.99_N3.png\n"
     ]
    },
    {
     "data": {
      "text/plain": [
       "TrainingParameters(dataset=Dataset(name='wisc_bc_data.csv', number=1, classes_count=2, data=DatasetData(train_dataset=<torch.utils.data.dataset.TensorDataset object at 0x151228fb0>, test_dataset=<torch.utils.data.dataset.TensorDataset object at 0x151255eb0>, train_loader=<torch.utils.data.dataloader.DataLoader object at 0x15115d940>, test_loader=<torch.utils.data.dataloader.DataLoader object at 0x15115d910>)), criterion=CrossEntropyLoss(), experiment_params=ExperimentParameters(iteration=4, p=0), model_a_path='pth/model-1A-c-P0_N4.pth', model_b_path='pth/model-1B-c-P0_N4.pth', loss_curve_plot_col_index=0)"
      ]
     },
     "metadata": {},
     "output_type": "display_data"
    },
    {
     "name": "stdout",
     "output_type": "stream",
     "text": [
      "NOTE: Training model RegularNetwork(inputs_count: 30, outputs_count: 2) in dry run mode. No changes to weights will be applied. An array of 20 -1s is generated for running_losses.\n",
      "NOTE: Training model AugmentedReLUNetwork(p: 0, inputs_count: 30, outputs_count: 2) in dry run mode. No changes to weights will be applied. An array of 20 -1s is generated for running_losses.\n"
     ]
    },
    {
     "data": {
      "text/plain": [
       "TrainingParameters(dataset=Dataset(name='car_evaluation.csv', number=2, classes_count=4, data=DatasetData(train_dataset=<torch.utils.data.dataset.TensorDataset object at 0x151117320>, test_dataset=<torch.utils.data.dataset.TensorDataset object at 0x151288bc0>, train_loader=<torch.utils.data.dataloader.DataLoader object at 0x1511173e0>, test_loader=<torch.utils.data.dataloader.DataLoader object at 0x1511d7ef0>)), criterion=CrossEntropyLoss(), experiment_params=ExperimentParameters(iteration=4, p=0), model_a_path='pth/model-2A-c-P0_N4.pth', model_b_path='pth/model-2B-c-P0_N4.pth', loss_curve_plot_col_index=1)"
      ]
     },
     "metadata": {},
     "output_type": "display_data"
    },
    {
     "name": "stdout",
     "output_type": "stream",
     "text": [
      "NOTE: Training model RegularNetwork(inputs_count: 6, outputs_count: 4) in dry run mode. No changes to weights will be applied. An array of 20 -1s is generated for running_losses.\n",
      "NOTE: Training model AugmentedReLUNetwork(p: 0, inputs_count: 6, outputs_count: 4) in dry run mode. No changes to weights will be applied. An array of 20 -1s is generated for running_losses.\n"
     ]
    },
    {
     "data": {
      "text/plain": [
       "TrainingParameters(dataset=Dataset(name='StudentPerformanceFactors.csv', number=3, classes_count=1, data=DatasetData(train_dataset=<torch.utils.data.dataset.TensorDataset object at 0x151216cc0>, test_dataset=<torch.utils.data.dataset.TensorDataset object at 0x15128ac00>, train_loader=<torch.utils.data.dataloader.DataLoader object at 0x15117d4c0>, test_loader=<torch.utils.data.dataloader.DataLoader object at 0x1511ed970>)), criterion=MSELoss(), experiment_params=ExperimentParameters(iteration=4, p=0), model_a_path='pth/model-3A-c-P0_N4.pth', model_b_path='pth/model-3B-c-P0_N4.pth', loss_curve_plot_col_index=2)"
      ]
     },
     "metadata": {},
     "output_type": "display_data"
    },
    {
     "name": "stdout",
     "output_type": "stream",
     "text": [
      "NOTE: Training model RegularNetwork(inputs_count: 19, outputs_count: 1) in dry run mode. No changes to weights will be applied. An array of 20 -1s is generated for running_losses.\n",
      "NOTE: Training model AugmentedReLUNetwork(p: 0, inputs_count: 19, outputs_count: 1) in dry run mode. No changes to weights will be applied. An array of 20 -1s is generated for running_losses.\n",
      "NOTE: save_plot called but no figure will be saved. Path: report/loss__p0_N4.png\n"
     ]
    },
    {
     "data": {
      "text/plain": [
       "TrainingParameters(dataset=Dataset(name='wisc_bc_data.csv', number=1, classes_count=2, data=DatasetData(train_dataset=<torch.utils.data.dataset.TensorDataset object at 0x151228fb0>, test_dataset=<torch.utils.data.dataset.TensorDataset object at 0x151255eb0>, train_loader=<torch.utils.data.dataloader.DataLoader object at 0x15115d940>, test_loader=<torch.utils.data.dataloader.DataLoader object at 0x15115d910>)), criterion=CrossEntropyLoss(), experiment_params=ExperimentParameters(iteration=4, p=0.01), model_a_path='pth/model-1A-c-P0.01_N4.pth', model_b_path='pth/model-1B-c-P0.01_N4.pth', loss_curve_plot_col_index=0)"
      ]
     },
     "metadata": {},
     "output_type": "display_data"
    },
    {
     "name": "stdout",
     "output_type": "stream",
     "text": [
      "NOTE: Training model RegularNetwork(inputs_count: 30, outputs_count: 2) in dry run mode. No changes to weights will be applied. An array of 20 -1s is generated for running_losses.\n",
      "NOTE: Training model AugmentedReLUNetwork(p: 0.01, inputs_count: 30, outputs_count: 2) in dry run mode. No changes to weights will be applied. An array of 20 -1s is generated for running_losses.\n"
     ]
    },
    {
     "data": {
      "text/plain": [
       "TrainingParameters(dataset=Dataset(name='car_evaluation.csv', number=2, classes_count=4, data=DatasetData(train_dataset=<torch.utils.data.dataset.TensorDataset object at 0x151117320>, test_dataset=<torch.utils.data.dataset.TensorDataset object at 0x151288bc0>, train_loader=<torch.utils.data.dataloader.DataLoader object at 0x1511173e0>, test_loader=<torch.utils.data.dataloader.DataLoader object at 0x1511d7ef0>)), criterion=CrossEntropyLoss(), experiment_params=ExperimentParameters(iteration=4, p=0.01), model_a_path='pth/model-2A-c-P0.01_N4.pth', model_b_path='pth/model-2B-c-P0.01_N4.pth', loss_curve_plot_col_index=1)"
      ]
     },
     "metadata": {},
     "output_type": "display_data"
    },
    {
     "name": "stdout",
     "output_type": "stream",
     "text": [
      "NOTE: Training model RegularNetwork(inputs_count: 6, outputs_count: 4) in dry run mode. No changes to weights will be applied. An array of 20 -1s is generated for running_losses.\n",
      "NOTE: Training model AugmentedReLUNetwork(p: 0.01, inputs_count: 6, outputs_count: 4) in dry run mode. No changes to weights will be applied. An array of 20 -1s is generated for running_losses.\n"
     ]
    },
    {
     "data": {
      "text/plain": [
       "TrainingParameters(dataset=Dataset(name='StudentPerformanceFactors.csv', number=3, classes_count=1, data=DatasetData(train_dataset=<torch.utils.data.dataset.TensorDataset object at 0x151216cc0>, test_dataset=<torch.utils.data.dataset.TensorDataset object at 0x15128ac00>, train_loader=<torch.utils.data.dataloader.DataLoader object at 0x15117d4c0>, test_loader=<torch.utils.data.dataloader.DataLoader object at 0x1511ed970>)), criterion=MSELoss(), experiment_params=ExperimentParameters(iteration=4, p=0.01), model_a_path='pth/model-3A-c-P0.01_N4.pth', model_b_path='pth/model-3B-c-P0.01_N4.pth', loss_curve_plot_col_index=2)"
      ]
     },
     "metadata": {},
     "output_type": "display_data"
    },
    {
     "name": "stdout",
     "output_type": "stream",
     "text": [
      "NOTE: Training model RegularNetwork(inputs_count: 19, outputs_count: 1) in dry run mode. No changes to weights will be applied. An array of 20 -1s is generated for running_losses.\n",
      "NOTE: Training model AugmentedReLUNetwork(p: 0.01, inputs_count: 19, outputs_count: 1) in dry run mode. No changes to weights will be applied. An array of 20 -1s is generated for running_losses.\n",
      "NOTE: save_plot called but no figure will be saved. Path: report/loss__p0.01_N4.png\n"
     ]
    },
    {
     "data": {
      "text/plain": [
       "TrainingParameters(dataset=Dataset(name='wisc_bc_data.csv', number=1, classes_count=2, data=DatasetData(train_dataset=<torch.utils.data.dataset.TensorDataset object at 0x151228fb0>, test_dataset=<torch.utils.data.dataset.TensorDataset object at 0x151255eb0>, train_loader=<torch.utils.data.dataloader.DataLoader object at 0x15115d940>, test_loader=<torch.utils.data.dataloader.DataLoader object at 0x15115d910>)), criterion=CrossEntropyLoss(), experiment_params=ExperimentParameters(iteration=4, p=0.05), model_a_path='pth/model-1A-c-P0.05_N4.pth', model_b_path='pth/model-1B-c-P0.05_N4.pth', loss_curve_plot_col_index=0)"
      ]
     },
     "metadata": {},
     "output_type": "display_data"
    },
    {
     "name": "stdout",
     "output_type": "stream",
     "text": [
      "NOTE: Training model RegularNetwork(inputs_count: 30, outputs_count: 2) in dry run mode. No changes to weights will be applied. An array of 20 -1s is generated for running_losses.\n",
      "NOTE: Training model AugmentedReLUNetwork(p: 0.05, inputs_count: 30, outputs_count: 2) in dry run mode. No changes to weights will be applied. An array of 20 -1s is generated for running_losses.\n"
     ]
    },
    {
     "data": {
      "text/plain": [
       "TrainingParameters(dataset=Dataset(name='car_evaluation.csv', number=2, classes_count=4, data=DatasetData(train_dataset=<torch.utils.data.dataset.TensorDataset object at 0x151117320>, test_dataset=<torch.utils.data.dataset.TensorDataset object at 0x151288bc0>, train_loader=<torch.utils.data.dataloader.DataLoader object at 0x1511173e0>, test_loader=<torch.utils.data.dataloader.DataLoader object at 0x1511d7ef0>)), criterion=CrossEntropyLoss(), experiment_params=ExperimentParameters(iteration=4, p=0.05), model_a_path='pth/model-2A-c-P0.05_N4.pth', model_b_path='pth/model-2B-c-P0.05_N4.pth', loss_curve_plot_col_index=1)"
      ]
     },
     "metadata": {},
     "output_type": "display_data"
    },
    {
     "name": "stdout",
     "output_type": "stream",
     "text": [
      "NOTE: Training model RegularNetwork(inputs_count: 6, outputs_count: 4) in dry run mode. No changes to weights will be applied. An array of 20 -1s is generated for running_losses.\n",
      "NOTE: Training model AugmentedReLUNetwork(p: 0.05, inputs_count: 6, outputs_count: 4) in dry run mode. No changes to weights will be applied. An array of 20 -1s is generated for running_losses.\n"
     ]
    },
    {
     "data": {
      "text/plain": [
       "TrainingParameters(dataset=Dataset(name='StudentPerformanceFactors.csv', number=3, classes_count=1, data=DatasetData(train_dataset=<torch.utils.data.dataset.TensorDataset object at 0x151216cc0>, test_dataset=<torch.utils.data.dataset.TensorDataset object at 0x15128ac00>, train_loader=<torch.utils.data.dataloader.DataLoader object at 0x15117d4c0>, test_loader=<torch.utils.data.dataloader.DataLoader object at 0x1511ed970>)), criterion=MSELoss(), experiment_params=ExperimentParameters(iteration=4, p=0.05), model_a_path='pth/model-3A-c-P0.05_N4.pth', model_b_path='pth/model-3B-c-P0.05_N4.pth', loss_curve_plot_col_index=2)"
      ]
     },
     "metadata": {},
     "output_type": "display_data"
    },
    {
     "name": "stdout",
     "output_type": "stream",
     "text": [
      "NOTE: Training model RegularNetwork(inputs_count: 19, outputs_count: 1) in dry run mode. No changes to weights will be applied. An array of 20 -1s is generated for running_losses.\n",
      "NOTE: Training model AugmentedReLUNetwork(p: 0.05, inputs_count: 19, outputs_count: 1) in dry run mode. No changes to weights will be applied. An array of 20 -1s is generated for running_losses.\n",
      "NOTE: save_plot called but no figure will be saved. Path: report/loss__p0.05_N4.png\n"
     ]
    },
    {
     "data": {
      "text/plain": [
       "TrainingParameters(dataset=Dataset(name='wisc_bc_data.csv', number=1, classes_count=2, data=DatasetData(train_dataset=<torch.utils.data.dataset.TensorDataset object at 0x151228fb0>, test_dataset=<torch.utils.data.dataset.TensorDataset object at 0x151255eb0>, train_loader=<torch.utils.data.dataloader.DataLoader object at 0x15115d940>, test_loader=<torch.utils.data.dataloader.DataLoader object at 0x15115d910>)), criterion=CrossEntropyLoss(), experiment_params=ExperimentParameters(iteration=4, p=0.5), model_a_path='pth/model-1A-c-P0.5_N4.pth', model_b_path='pth/model-1B-c-P0.5_N4.pth', loss_curve_plot_col_index=0)"
      ]
     },
     "metadata": {},
     "output_type": "display_data"
    },
    {
     "name": "stdout",
     "output_type": "stream",
     "text": [
      "NOTE: Training model RegularNetwork(inputs_count: 30, outputs_count: 2) in dry run mode. No changes to weights will be applied. An array of 20 -1s is generated for running_losses.\n",
      "NOTE: Training model AugmentedReLUNetwork(p: 0.5, inputs_count: 30, outputs_count: 2) in dry run mode. No changes to weights will be applied. An array of 20 -1s is generated for running_losses.\n"
     ]
    },
    {
     "data": {
      "text/plain": [
       "TrainingParameters(dataset=Dataset(name='car_evaluation.csv', number=2, classes_count=4, data=DatasetData(train_dataset=<torch.utils.data.dataset.TensorDataset object at 0x151117320>, test_dataset=<torch.utils.data.dataset.TensorDataset object at 0x151288bc0>, train_loader=<torch.utils.data.dataloader.DataLoader object at 0x1511173e0>, test_loader=<torch.utils.data.dataloader.DataLoader object at 0x1511d7ef0>)), criterion=CrossEntropyLoss(), experiment_params=ExperimentParameters(iteration=4, p=0.5), model_a_path='pth/model-2A-c-P0.5_N4.pth', model_b_path='pth/model-2B-c-P0.5_N4.pth', loss_curve_plot_col_index=1)"
      ]
     },
     "metadata": {},
     "output_type": "display_data"
    },
    {
     "name": "stdout",
     "output_type": "stream",
     "text": [
      "NOTE: Training model RegularNetwork(inputs_count: 6, outputs_count: 4) in dry run mode. No changes to weights will be applied. An array of 20 -1s is generated for running_losses.\n",
      "NOTE: Training model AugmentedReLUNetwork(p: 0.5, inputs_count: 6, outputs_count: 4) in dry run mode. No changes to weights will be applied. An array of 20 -1s is generated for running_losses.\n"
     ]
    },
    {
     "data": {
      "text/plain": [
       "TrainingParameters(dataset=Dataset(name='StudentPerformanceFactors.csv', number=3, classes_count=1, data=DatasetData(train_dataset=<torch.utils.data.dataset.TensorDataset object at 0x151216cc0>, test_dataset=<torch.utils.data.dataset.TensorDataset object at 0x15128ac00>, train_loader=<torch.utils.data.dataloader.DataLoader object at 0x15117d4c0>, test_loader=<torch.utils.data.dataloader.DataLoader object at 0x1511ed970>)), criterion=MSELoss(), experiment_params=ExperimentParameters(iteration=4, p=0.5), model_a_path='pth/model-3A-c-P0.5_N4.pth', model_b_path='pth/model-3B-c-P0.5_N4.pth', loss_curve_plot_col_index=2)"
      ]
     },
     "metadata": {},
     "output_type": "display_data"
    },
    {
     "name": "stdout",
     "output_type": "stream",
     "text": [
      "NOTE: Training model RegularNetwork(inputs_count: 19, outputs_count: 1) in dry run mode. No changes to weights will be applied. An array of 20 -1s is generated for running_losses.\n",
      "NOTE: Training model AugmentedReLUNetwork(p: 0.5, inputs_count: 19, outputs_count: 1) in dry run mode. No changes to weights will be applied. An array of 20 -1s is generated for running_losses.\n",
      "NOTE: save_plot called but no figure will be saved. Path: report/loss__p0.5_N4.png\n"
     ]
    },
    {
     "data": {
      "text/plain": [
       "TrainingParameters(dataset=Dataset(name='wisc_bc_data.csv', number=1, classes_count=2, data=DatasetData(train_dataset=<torch.utils.data.dataset.TensorDataset object at 0x151228fb0>, test_dataset=<torch.utils.data.dataset.TensorDataset object at 0x151255eb0>, train_loader=<torch.utils.data.dataloader.DataLoader object at 0x15115d940>, test_loader=<torch.utils.data.dataloader.DataLoader object at 0x15115d910>)), criterion=CrossEntropyLoss(), experiment_params=ExperimentParameters(iteration=4, p=0.9), model_a_path='pth/model-1A-c-P0.9_N4.pth', model_b_path='pth/model-1B-c-P0.9_N4.pth', loss_curve_plot_col_index=0)"
      ]
     },
     "metadata": {},
     "output_type": "display_data"
    },
    {
     "name": "stdout",
     "output_type": "stream",
     "text": [
      "NOTE: Training model RegularNetwork(inputs_count: 30, outputs_count: 2) in dry run mode. No changes to weights will be applied. An array of 20 -1s is generated for running_losses.\n",
      "NOTE: Training model AugmentedReLUNetwork(p: 0.9, inputs_count: 30, outputs_count: 2) in dry run mode. No changes to weights will be applied. An array of 20 -1s is generated for running_losses.\n"
     ]
    },
    {
     "data": {
      "text/plain": [
       "TrainingParameters(dataset=Dataset(name='car_evaluation.csv', number=2, classes_count=4, data=DatasetData(train_dataset=<torch.utils.data.dataset.TensorDataset object at 0x151117320>, test_dataset=<torch.utils.data.dataset.TensorDataset object at 0x151288bc0>, train_loader=<torch.utils.data.dataloader.DataLoader object at 0x1511173e0>, test_loader=<torch.utils.data.dataloader.DataLoader object at 0x1511d7ef0>)), criterion=CrossEntropyLoss(), experiment_params=ExperimentParameters(iteration=4, p=0.9), model_a_path='pth/model-2A-c-P0.9_N4.pth', model_b_path='pth/model-2B-c-P0.9_N4.pth', loss_curve_plot_col_index=1)"
      ]
     },
     "metadata": {},
     "output_type": "display_data"
    },
    {
     "name": "stdout",
     "output_type": "stream",
     "text": [
      "NOTE: Training model RegularNetwork(inputs_count: 6, outputs_count: 4) in dry run mode. No changes to weights will be applied. An array of 20 -1s is generated for running_losses.\n",
      "NOTE: Training model AugmentedReLUNetwork(p: 0.9, inputs_count: 6, outputs_count: 4) in dry run mode. No changes to weights will be applied. An array of 20 -1s is generated for running_losses.\n"
     ]
    },
    {
     "data": {
      "text/plain": [
       "TrainingParameters(dataset=Dataset(name='StudentPerformanceFactors.csv', number=3, classes_count=1, data=DatasetData(train_dataset=<torch.utils.data.dataset.TensorDataset object at 0x151216cc0>, test_dataset=<torch.utils.data.dataset.TensorDataset object at 0x15128ac00>, train_loader=<torch.utils.data.dataloader.DataLoader object at 0x15117d4c0>, test_loader=<torch.utils.data.dataloader.DataLoader object at 0x1511ed970>)), criterion=MSELoss(), experiment_params=ExperimentParameters(iteration=4, p=0.9), model_a_path='pth/model-3A-c-P0.9_N4.pth', model_b_path='pth/model-3B-c-P0.9_N4.pth', loss_curve_plot_col_index=2)"
      ]
     },
     "metadata": {},
     "output_type": "display_data"
    },
    {
     "name": "stdout",
     "output_type": "stream",
     "text": [
      "NOTE: Training model RegularNetwork(inputs_count: 19, outputs_count: 1) in dry run mode. No changes to weights will be applied. An array of 20 -1s is generated for running_losses.\n",
      "NOTE: Training model AugmentedReLUNetwork(p: 0.9, inputs_count: 19, outputs_count: 1) in dry run mode. No changes to weights will be applied. An array of 20 -1s is generated for running_losses.\n",
      "NOTE: save_plot called but no figure will be saved. Path: report/loss__p0.9_N4.png\n"
     ]
    },
    {
     "data": {
      "text/plain": [
       "TrainingParameters(dataset=Dataset(name='wisc_bc_data.csv', number=1, classes_count=2, data=DatasetData(train_dataset=<torch.utils.data.dataset.TensorDataset object at 0x151228fb0>, test_dataset=<torch.utils.data.dataset.TensorDataset object at 0x151255eb0>, train_loader=<torch.utils.data.dataloader.DataLoader object at 0x15115d940>, test_loader=<torch.utils.data.dataloader.DataLoader object at 0x15115d910>)), criterion=CrossEntropyLoss(), experiment_params=ExperimentParameters(iteration=4, p=0.95), model_a_path='pth/model-1A-c-P0.95_N4.pth', model_b_path='pth/model-1B-c-P0.95_N4.pth', loss_curve_plot_col_index=0)"
      ]
     },
     "metadata": {},
     "output_type": "display_data"
    },
    {
     "name": "stdout",
     "output_type": "stream",
     "text": [
      "NOTE: Training model RegularNetwork(inputs_count: 30, outputs_count: 2) in dry run mode. No changes to weights will be applied. An array of 20 -1s is generated for running_losses.\n",
      "NOTE: Training model AugmentedReLUNetwork(p: 0.95, inputs_count: 30, outputs_count: 2) in dry run mode. No changes to weights will be applied. An array of 20 -1s is generated for running_losses.\n"
     ]
    },
    {
     "data": {
      "text/plain": [
       "TrainingParameters(dataset=Dataset(name='car_evaluation.csv', number=2, classes_count=4, data=DatasetData(train_dataset=<torch.utils.data.dataset.TensorDataset object at 0x151117320>, test_dataset=<torch.utils.data.dataset.TensorDataset object at 0x151288bc0>, train_loader=<torch.utils.data.dataloader.DataLoader object at 0x1511173e0>, test_loader=<torch.utils.data.dataloader.DataLoader object at 0x1511d7ef0>)), criterion=CrossEntropyLoss(), experiment_params=ExperimentParameters(iteration=4, p=0.95), model_a_path='pth/model-2A-c-P0.95_N4.pth', model_b_path='pth/model-2B-c-P0.95_N4.pth', loss_curve_plot_col_index=1)"
      ]
     },
     "metadata": {},
     "output_type": "display_data"
    },
    {
     "name": "stdout",
     "output_type": "stream",
     "text": [
      "NOTE: Training model RegularNetwork(inputs_count: 6, outputs_count: 4) in dry run mode. No changes to weights will be applied. An array of 20 -1s is generated for running_losses.\n",
      "NOTE: Training model AugmentedReLUNetwork(p: 0.95, inputs_count: 6, outputs_count: 4) in dry run mode. No changes to weights will be applied. An array of 20 -1s is generated for running_losses.\n"
     ]
    },
    {
     "data": {
      "text/plain": [
       "TrainingParameters(dataset=Dataset(name='StudentPerformanceFactors.csv', number=3, classes_count=1, data=DatasetData(train_dataset=<torch.utils.data.dataset.TensorDataset object at 0x151216cc0>, test_dataset=<torch.utils.data.dataset.TensorDataset object at 0x15128ac00>, train_loader=<torch.utils.data.dataloader.DataLoader object at 0x15117d4c0>, test_loader=<torch.utils.data.dataloader.DataLoader object at 0x1511ed970>)), criterion=MSELoss(), experiment_params=ExperimentParameters(iteration=4, p=0.95), model_a_path='pth/model-3A-c-P0.95_N4.pth', model_b_path='pth/model-3B-c-P0.95_N4.pth', loss_curve_plot_col_index=2)"
      ]
     },
     "metadata": {},
     "output_type": "display_data"
    },
    {
     "name": "stdout",
     "output_type": "stream",
     "text": [
      "NOTE: Training model RegularNetwork(inputs_count: 19, outputs_count: 1) in dry run mode. No changes to weights will be applied. An array of 20 -1s is generated for running_losses.\n",
      "NOTE: Training model AugmentedReLUNetwork(p: 0.95, inputs_count: 19, outputs_count: 1) in dry run mode. No changes to weights will be applied. An array of 20 -1s is generated for running_losses.\n",
      "NOTE: save_plot called but no figure will be saved. Path: report/loss__p0.95_N4.png\n"
     ]
    },
    {
     "data": {
      "text/plain": [
       "TrainingParameters(dataset=Dataset(name='wisc_bc_data.csv', number=1, classes_count=2, data=DatasetData(train_dataset=<torch.utils.data.dataset.TensorDataset object at 0x151228fb0>, test_dataset=<torch.utils.data.dataset.TensorDataset object at 0x151255eb0>, train_loader=<torch.utils.data.dataloader.DataLoader object at 0x15115d940>, test_loader=<torch.utils.data.dataloader.DataLoader object at 0x15115d910>)), criterion=CrossEntropyLoss(), experiment_params=ExperimentParameters(iteration=4, p=0.99), model_a_path='pth/model-1A-c-P0.99_N4.pth', model_b_path='pth/model-1B-c-P0.99_N4.pth', loss_curve_plot_col_index=0)"
      ]
     },
     "metadata": {},
     "output_type": "display_data"
    },
    {
     "name": "stdout",
     "output_type": "stream",
     "text": [
      "NOTE: Training model RegularNetwork(inputs_count: 30, outputs_count: 2) in dry run mode. No changes to weights will be applied. An array of 20 -1s is generated for running_losses.\n",
      "NOTE: Training model AugmentedReLUNetwork(p: 0.99, inputs_count: 30, outputs_count: 2) in dry run mode. No changes to weights will be applied. An array of 20 -1s is generated for running_losses.\n"
     ]
    },
    {
     "data": {
      "text/plain": [
       "TrainingParameters(dataset=Dataset(name='car_evaluation.csv', number=2, classes_count=4, data=DatasetData(train_dataset=<torch.utils.data.dataset.TensorDataset object at 0x151117320>, test_dataset=<torch.utils.data.dataset.TensorDataset object at 0x151288bc0>, train_loader=<torch.utils.data.dataloader.DataLoader object at 0x1511173e0>, test_loader=<torch.utils.data.dataloader.DataLoader object at 0x1511d7ef0>)), criterion=CrossEntropyLoss(), experiment_params=ExperimentParameters(iteration=4, p=0.99), model_a_path='pth/model-2A-c-P0.99_N4.pth', model_b_path='pth/model-2B-c-P0.99_N4.pth', loss_curve_plot_col_index=1)"
      ]
     },
     "metadata": {},
     "output_type": "display_data"
    },
    {
     "name": "stdout",
     "output_type": "stream",
     "text": [
      "NOTE: Training model RegularNetwork(inputs_count: 6, outputs_count: 4) in dry run mode. No changes to weights will be applied. An array of 20 -1s is generated for running_losses.\n",
      "NOTE: Training model AugmentedReLUNetwork(p: 0.99, inputs_count: 6, outputs_count: 4) in dry run mode. No changes to weights will be applied. An array of 20 -1s is generated for running_losses.\n"
     ]
    },
    {
     "data": {
      "text/plain": [
       "TrainingParameters(dataset=Dataset(name='StudentPerformanceFactors.csv', number=3, classes_count=1, data=DatasetData(train_dataset=<torch.utils.data.dataset.TensorDataset object at 0x151216cc0>, test_dataset=<torch.utils.data.dataset.TensorDataset object at 0x15128ac00>, train_loader=<torch.utils.data.dataloader.DataLoader object at 0x15117d4c0>, test_loader=<torch.utils.data.dataloader.DataLoader object at 0x1511ed970>)), criterion=MSELoss(), experiment_params=ExperimentParameters(iteration=4, p=0.99), model_a_path='pth/model-3A-c-P0.99_N4.pth', model_b_path='pth/model-3B-c-P0.99_N4.pth', loss_curve_plot_col_index=2)"
      ]
     },
     "metadata": {},
     "output_type": "display_data"
    },
    {
     "name": "stdout",
     "output_type": "stream",
     "text": [
      "NOTE: Training model RegularNetwork(inputs_count: 19, outputs_count: 1) in dry run mode. No changes to weights will be applied. An array of 20 -1s is generated for running_losses.\n",
      "NOTE: Training model AugmentedReLUNetwork(p: 0.99, inputs_count: 19, outputs_count: 1) in dry run mode. No changes to weights will be applied. An array of 20 -1s is generated for running_losses.\n",
      "NOTE: save_plot called but no figure will be saved. Path: report/loss__p0.99_N4.png\n"
     ]
    },
    {
     "data": {
      "text/plain": [
       "TrainingParameters(dataset=Dataset(name='wisc_bc_data.csv', number=1, classes_count=2, data=DatasetData(train_dataset=<torch.utils.data.dataset.TensorDataset object at 0x151228fb0>, test_dataset=<torch.utils.data.dataset.TensorDataset object at 0x151255eb0>, train_loader=<torch.utils.data.dataloader.DataLoader object at 0x15115d940>, test_loader=<torch.utils.data.dataloader.DataLoader object at 0x15115d910>)), criterion=CrossEntropyLoss(), experiment_params=ExperimentParameters(iteration=5, p=0), model_a_path='pth/model-1A-c-P0_N5.pth', model_b_path='pth/model-1B-c-P0_N5.pth', loss_curve_plot_col_index=0)"
      ]
     },
     "metadata": {},
     "output_type": "display_data"
    },
    {
     "name": "stdout",
     "output_type": "stream",
     "text": [
      "NOTE: Training model RegularNetwork(inputs_count: 30, outputs_count: 2) in dry run mode. No changes to weights will be applied. An array of 20 -1s is generated for running_losses.\n",
      "NOTE: Training model AugmentedReLUNetwork(p: 0, inputs_count: 30, outputs_count: 2) in dry run mode. No changes to weights will be applied. An array of 20 -1s is generated for running_losses.\n"
     ]
    },
    {
     "data": {
      "text/plain": [
       "TrainingParameters(dataset=Dataset(name='car_evaluation.csv', number=2, classes_count=4, data=DatasetData(train_dataset=<torch.utils.data.dataset.TensorDataset object at 0x151117320>, test_dataset=<torch.utils.data.dataset.TensorDataset object at 0x151288bc0>, train_loader=<torch.utils.data.dataloader.DataLoader object at 0x1511173e0>, test_loader=<torch.utils.data.dataloader.DataLoader object at 0x1511d7ef0>)), criterion=CrossEntropyLoss(), experiment_params=ExperimentParameters(iteration=5, p=0), model_a_path='pth/model-2A-c-P0_N5.pth', model_b_path='pth/model-2B-c-P0_N5.pth', loss_curve_plot_col_index=1)"
      ]
     },
     "metadata": {},
     "output_type": "display_data"
    },
    {
     "name": "stdout",
     "output_type": "stream",
     "text": [
      "NOTE: Training model RegularNetwork(inputs_count: 6, outputs_count: 4) in dry run mode. No changes to weights will be applied. An array of 20 -1s is generated for running_losses.\n",
      "NOTE: Training model AugmentedReLUNetwork(p: 0, inputs_count: 6, outputs_count: 4) in dry run mode. No changes to weights will be applied. An array of 20 -1s is generated for running_losses.\n"
     ]
    },
    {
     "data": {
      "text/plain": [
       "TrainingParameters(dataset=Dataset(name='StudentPerformanceFactors.csv', number=3, classes_count=1, data=DatasetData(train_dataset=<torch.utils.data.dataset.TensorDataset object at 0x151216cc0>, test_dataset=<torch.utils.data.dataset.TensorDataset object at 0x15128ac00>, train_loader=<torch.utils.data.dataloader.DataLoader object at 0x15117d4c0>, test_loader=<torch.utils.data.dataloader.DataLoader object at 0x1511ed970>)), criterion=MSELoss(), experiment_params=ExperimentParameters(iteration=5, p=0), model_a_path='pth/model-3A-c-P0_N5.pth', model_b_path='pth/model-3B-c-P0_N5.pth', loss_curve_plot_col_index=2)"
      ]
     },
     "metadata": {},
     "output_type": "display_data"
    },
    {
     "name": "stdout",
     "output_type": "stream",
     "text": [
      "NOTE: Training model RegularNetwork(inputs_count: 19, outputs_count: 1) in dry run mode. No changes to weights will be applied. An array of 20 -1s is generated for running_losses.\n",
      "NOTE: Training model AugmentedReLUNetwork(p: 0, inputs_count: 19, outputs_count: 1) in dry run mode. No changes to weights will be applied. An array of 20 -1s is generated for running_losses.\n",
      "NOTE: save_plot called but no figure will be saved. Path: report/loss__p0_N5.png\n"
     ]
    },
    {
     "data": {
      "text/plain": [
       "TrainingParameters(dataset=Dataset(name='wisc_bc_data.csv', number=1, classes_count=2, data=DatasetData(train_dataset=<torch.utils.data.dataset.TensorDataset object at 0x151228fb0>, test_dataset=<torch.utils.data.dataset.TensorDataset object at 0x151255eb0>, train_loader=<torch.utils.data.dataloader.DataLoader object at 0x15115d940>, test_loader=<torch.utils.data.dataloader.DataLoader object at 0x15115d910>)), criterion=CrossEntropyLoss(), experiment_params=ExperimentParameters(iteration=5, p=0.01), model_a_path='pth/model-1A-c-P0.01_N5.pth', model_b_path='pth/model-1B-c-P0.01_N5.pth', loss_curve_plot_col_index=0)"
      ]
     },
     "metadata": {},
     "output_type": "display_data"
    },
    {
     "name": "stdout",
     "output_type": "stream",
     "text": [
      "NOTE: Training model RegularNetwork(inputs_count: 30, outputs_count: 2) in dry run mode. No changes to weights will be applied. An array of 20 -1s is generated for running_losses.\n",
      "NOTE: Training model AugmentedReLUNetwork(p: 0.01, inputs_count: 30, outputs_count: 2) in dry run mode. No changes to weights will be applied. An array of 20 -1s is generated for running_losses.\n"
     ]
    },
    {
     "data": {
      "text/plain": [
       "TrainingParameters(dataset=Dataset(name='car_evaluation.csv', number=2, classes_count=4, data=DatasetData(train_dataset=<torch.utils.data.dataset.TensorDataset object at 0x151117320>, test_dataset=<torch.utils.data.dataset.TensorDataset object at 0x151288bc0>, train_loader=<torch.utils.data.dataloader.DataLoader object at 0x1511173e0>, test_loader=<torch.utils.data.dataloader.DataLoader object at 0x1511d7ef0>)), criterion=CrossEntropyLoss(), experiment_params=ExperimentParameters(iteration=5, p=0.01), model_a_path='pth/model-2A-c-P0.01_N5.pth', model_b_path='pth/model-2B-c-P0.01_N5.pth', loss_curve_plot_col_index=1)"
      ]
     },
     "metadata": {},
     "output_type": "display_data"
    },
    {
     "name": "stdout",
     "output_type": "stream",
     "text": [
      "NOTE: Training model RegularNetwork(inputs_count: 6, outputs_count: 4) in dry run mode. No changes to weights will be applied. An array of 20 -1s is generated for running_losses.\n",
      "NOTE: Training model AugmentedReLUNetwork(p: 0.01, inputs_count: 6, outputs_count: 4) in dry run mode. No changes to weights will be applied. An array of 20 -1s is generated for running_losses.\n"
     ]
    },
    {
     "data": {
      "text/plain": [
       "TrainingParameters(dataset=Dataset(name='StudentPerformanceFactors.csv', number=3, classes_count=1, data=DatasetData(train_dataset=<torch.utils.data.dataset.TensorDataset object at 0x151216cc0>, test_dataset=<torch.utils.data.dataset.TensorDataset object at 0x15128ac00>, train_loader=<torch.utils.data.dataloader.DataLoader object at 0x15117d4c0>, test_loader=<torch.utils.data.dataloader.DataLoader object at 0x1511ed970>)), criterion=MSELoss(), experiment_params=ExperimentParameters(iteration=5, p=0.01), model_a_path='pth/model-3A-c-P0.01_N5.pth', model_b_path='pth/model-3B-c-P0.01_N5.pth', loss_curve_plot_col_index=2)"
      ]
     },
     "metadata": {},
     "output_type": "display_data"
    },
    {
     "name": "stdout",
     "output_type": "stream",
     "text": [
      "NOTE: Training model RegularNetwork(inputs_count: 19, outputs_count: 1) in dry run mode. No changes to weights will be applied. An array of 20 -1s is generated for running_losses.\n",
      "NOTE: Training model AugmentedReLUNetwork(p: 0.01, inputs_count: 19, outputs_count: 1) in dry run mode. No changes to weights will be applied. An array of 20 -1s is generated for running_losses.\n",
      "NOTE: save_plot called but no figure will be saved. Path: report/loss__p0.01_N5.png\n"
     ]
    },
    {
     "data": {
      "text/plain": [
       "TrainingParameters(dataset=Dataset(name='wisc_bc_data.csv', number=1, classes_count=2, data=DatasetData(train_dataset=<torch.utils.data.dataset.TensorDataset object at 0x151228fb0>, test_dataset=<torch.utils.data.dataset.TensorDataset object at 0x151255eb0>, train_loader=<torch.utils.data.dataloader.DataLoader object at 0x15115d940>, test_loader=<torch.utils.data.dataloader.DataLoader object at 0x15115d910>)), criterion=CrossEntropyLoss(), experiment_params=ExperimentParameters(iteration=5, p=0.05), model_a_path='pth/model-1A-c-P0.05_N5.pth', model_b_path='pth/model-1B-c-P0.05_N5.pth', loss_curve_plot_col_index=0)"
      ]
     },
     "metadata": {},
     "output_type": "display_data"
    },
    {
     "name": "stdout",
     "output_type": "stream",
     "text": [
      "NOTE: Training model RegularNetwork(inputs_count: 30, outputs_count: 2) in dry run mode. No changes to weights will be applied. An array of 20 -1s is generated for running_losses.\n",
      "NOTE: Training model AugmentedReLUNetwork(p: 0.05, inputs_count: 30, outputs_count: 2) in dry run mode. No changes to weights will be applied. An array of 20 -1s is generated for running_losses.\n"
     ]
    },
    {
     "data": {
      "text/plain": [
       "TrainingParameters(dataset=Dataset(name='car_evaluation.csv', number=2, classes_count=4, data=DatasetData(train_dataset=<torch.utils.data.dataset.TensorDataset object at 0x151117320>, test_dataset=<torch.utils.data.dataset.TensorDataset object at 0x151288bc0>, train_loader=<torch.utils.data.dataloader.DataLoader object at 0x1511173e0>, test_loader=<torch.utils.data.dataloader.DataLoader object at 0x1511d7ef0>)), criterion=CrossEntropyLoss(), experiment_params=ExperimentParameters(iteration=5, p=0.05), model_a_path='pth/model-2A-c-P0.05_N5.pth', model_b_path='pth/model-2B-c-P0.05_N5.pth', loss_curve_plot_col_index=1)"
      ]
     },
     "metadata": {},
     "output_type": "display_data"
    },
    {
     "name": "stdout",
     "output_type": "stream",
     "text": [
      "NOTE: Training model RegularNetwork(inputs_count: 6, outputs_count: 4) in dry run mode. No changes to weights will be applied. An array of 20 -1s is generated for running_losses.\n",
      "NOTE: Training model AugmentedReLUNetwork(p: 0.05, inputs_count: 6, outputs_count: 4) in dry run mode. No changes to weights will be applied. An array of 20 -1s is generated for running_losses.\n"
     ]
    },
    {
     "data": {
      "text/plain": [
       "TrainingParameters(dataset=Dataset(name='StudentPerformanceFactors.csv', number=3, classes_count=1, data=DatasetData(train_dataset=<torch.utils.data.dataset.TensorDataset object at 0x151216cc0>, test_dataset=<torch.utils.data.dataset.TensorDataset object at 0x15128ac00>, train_loader=<torch.utils.data.dataloader.DataLoader object at 0x15117d4c0>, test_loader=<torch.utils.data.dataloader.DataLoader object at 0x1511ed970>)), criterion=MSELoss(), experiment_params=ExperimentParameters(iteration=5, p=0.05), model_a_path='pth/model-3A-c-P0.05_N5.pth', model_b_path='pth/model-3B-c-P0.05_N5.pth', loss_curve_plot_col_index=2)"
      ]
     },
     "metadata": {},
     "output_type": "display_data"
    },
    {
     "name": "stdout",
     "output_type": "stream",
     "text": [
      "NOTE: Training model RegularNetwork(inputs_count: 19, outputs_count: 1) in dry run mode. No changes to weights will be applied. An array of 20 -1s is generated for running_losses.\n",
      "NOTE: Training model AugmentedReLUNetwork(p: 0.05, inputs_count: 19, outputs_count: 1) in dry run mode. No changes to weights will be applied. An array of 20 -1s is generated for running_losses.\n",
      "NOTE: save_plot called but no figure will be saved. Path: report/loss__p0.05_N5.png\n"
     ]
    },
    {
     "data": {
      "text/plain": [
       "TrainingParameters(dataset=Dataset(name='wisc_bc_data.csv', number=1, classes_count=2, data=DatasetData(train_dataset=<torch.utils.data.dataset.TensorDataset object at 0x151228fb0>, test_dataset=<torch.utils.data.dataset.TensorDataset object at 0x151255eb0>, train_loader=<torch.utils.data.dataloader.DataLoader object at 0x15115d940>, test_loader=<torch.utils.data.dataloader.DataLoader object at 0x15115d910>)), criterion=CrossEntropyLoss(), experiment_params=ExperimentParameters(iteration=5, p=0.5), model_a_path='pth/model-1A-c-P0.5_N5.pth', model_b_path='pth/model-1B-c-P0.5_N5.pth', loss_curve_plot_col_index=0)"
      ]
     },
     "metadata": {},
     "output_type": "display_data"
    },
    {
     "name": "stdout",
     "output_type": "stream",
     "text": [
      "NOTE: Training model RegularNetwork(inputs_count: 30, outputs_count: 2) in dry run mode. No changes to weights will be applied. An array of 20 -1s is generated for running_losses.\n",
      "NOTE: Training model AugmentedReLUNetwork(p: 0.5, inputs_count: 30, outputs_count: 2) in dry run mode. No changes to weights will be applied. An array of 20 -1s is generated for running_losses.\n"
     ]
    },
    {
     "data": {
      "text/plain": [
       "TrainingParameters(dataset=Dataset(name='car_evaluation.csv', number=2, classes_count=4, data=DatasetData(train_dataset=<torch.utils.data.dataset.TensorDataset object at 0x151117320>, test_dataset=<torch.utils.data.dataset.TensorDataset object at 0x151288bc0>, train_loader=<torch.utils.data.dataloader.DataLoader object at 0x1511173e0>, test_loader=<torch.utils.data.dataloader.DataLoader object at 0x1511d7ef0>)), criterion=CrossEntropyLoss(), experiment_params=ExperimentParameters(iteration=5, p=0.5), model_a_path='pth/model-2A-c-P0.5_N5.pth', model_b_path='pth/model-2B-c-P0.5_N5.pth', loss_curve_plot_col_index=1)"
      ]
     },
     "metadata": {},
     "output_type": "display_data"
    },
    {
     "name": "stdout",
     "output_type": "stream",
     "text": [
      "NOTE: Training model RegularNetwork(inputs_count: 6, outputs_count: 4) in dry run mode. No changes to weights will be applied. An array of 20 -1s is generated for running_losses.\n",
      "NOTE: Training model AugmentedReLUNetwork(p: 0.5, inputs_count: 6, outputs_count: 4) in dry run mode. No changes to weights will be applied. An array of 20 -1s is generated for running_losses.\n"
     ]
    },
    {
     "data": {
      "text/plain": [
       "TrainingParameters(dataset=Dataset(name='StudentPerformanceFactors.csv', number=3, classes_count=1, data=DatasetData(train_dataset=<torch.utils.data.dataset.TensorDataset object at 0x151216cc0>, test_dataset=<torch.utils.data.dataset.TensorDataset object at 0x15128ac00>, train_loader=<torch.utils.data.dataloader.DataLoader object at 0x15117d4c0>, test_loader=<torch.utils.data.dataloader.DataLoader object at 0x1511ed970>)), criterion=MSELoss(), experiment_params=ExperimentParameters(iteration=5, p=0.5), model_a_path='pth/model-3A-c-P0.5_N5.pth', model_b_path='pth/model-3B-c-P0.5_N5.pth', loss_curve_plot_col_index=2)"
      ]
     },
     "metadata": {},
     "output_type": "display_data"
    },
    {
     "name": "stdout",
     "output_type": "stream",
     "text": [
      "NOTE: Training model RegularNetwork(inputs_count: 19, outputs_count: 1) in dry run mode. No changes to weights will be applied. An array of 20 -1s is generated for running_losses.\n",
      "NOTE: Training model AugmentedReLUNetwork(p: 0.5, inputs_count: 19, outputs_count: 1) in dry run mode. No changes to weights will be applied. An array of 20 -1s is generated for running_losses.\n",
      "NOTE: save_plot called but no figure will be saved. Path: report/loss__p0.5_N5.png\n"
     ]
    },
    {
     "data": {
      "text/plain": [
       "TrainingParameters(dataset=Dataset(name='wisc_bc_data.csv', number=1, classes_count=2, data=DatasetData(train_dataset=<torch.utils.data.dataset.TensorDataset object at 0x151228fb0>, test_dataset=<torch.utils.data.dataset.TensorDataset object at 0x151255eb0>, train_loader=<torch.utils.data.dataloader.DataLoader object at 0x15115d940>, test_loader=<torch.utils.data.dataloader.DataLoader object at 0x15115d910>)), criterion=CrossEntropyLoss(), experiment_params=ExperimentParameters(iteration=5, p=0.9), model_a_path='pth/model-1A-c-P0.9_N5.pth', model_b_path='pth/model-1B-c-P0.9_N5.pth', loss_curve_plot_col_index=0)"
      ]
     },
     "metadata": {},
     "output_type": "display_data"
    },
    {
     "name": "stdout",
     "output_type": "stream",
     "text": [
      "NOTE: Training model RegularNetwork(inputs_count: 30, outputs_count: 2) in dry run mode. No changes to weights will be applied. An array of 20 -1s is generated for running_losses.\n",
      "NOTE: Training model AugmentedReLUNetwork(p: 0.9, inputs_count: 30, outputs_count: 2) in dry run mode. No changes to weights will be applied. An array of 20 -1s is generated for running_losses.\n"
     ]
    },
    {
     "data": {
      "text/plain": [
       "TrainingParameters(dataset=Dataset(name='car_evaluation.csv', number=2, classes_count=4, data=DatasetData(train_dataset=<torch.utils.data.dataset.TensorDataset object at 0x151117320>, test_dataset=<torch.utils.data.dataset.TensorDataset object at 0x151288bc0>, train_loader=<torch.utils.data.dataloader.DataLoader object at 0x1511173e0>, test_loader=<torch.utils.data.dataloader.DataLoader object at 0x1511d7ef0>)), criterion=CrossEntropyLoss(), experiment_params=ExperimentParameters(iteration=5, p=0.9), model_a_path='pth/model-2A-c-P0.9_N5.pth', model_b_path='pth/model-2B-c-P0.9_N5.pth', loss_curve_plot_col_index=1)"
      ]
     },
     "metadata": {},
     "output_type": "display_data"
    },
    {
     "name": "stdout",
     "output_type": "stream",
     "text": [
      "NOTE: Training model RegularNetwork(inputs_count: 6, outputs_count: 4) in dry run mode. No changes to weights will be applied. An array of 20 -1s is generated for running_losses.\n",
      "NOTE: Training model AugmentedReLUNetwork(p: 0.9, inputs_count: 6, outputs_count: 4) in dry run mode. No changes to weights will be applied. An array of 20 -1s is generated for running_losses.\n"
     ]
    },
    {
     "data": {
      "text/plain": [
       "TrainingParameters(dataset=Dataset(name='StudentPerformanceFactors.csv', number=3, classes_count=1, data=DatasetData(train_dataset=<torch.utils.data.dataset.TensorDataset object at 0x151216cc0>, test_dataset=<torch.utils.data.dataset.TensorDataset object at 0x15128ac00>, train_loader=<torch.utils.data.dataloader.DataLoader object at 0x15117d4c0>, test_loader=<torch.utils.data.dataloader.DataLoader object at 0x1511ed970>)), criterion=MSELoss(), experiment_params=ExperimentParameters(iteration=5, p=0.9), model_a_path='pth/model-3A-c-P0.9_N5.pth', model_b_path='pth/model-3B-c-P0.9_N5.pth', loss_curve_plot_col_index=2)"
      ]
     },
     "metadata": {},
     "output_type": "display_data"
    },
    {
     "name": "stdout",
     "output_type": "stream",
     "text": [
      "NOTE: Training model RegularNetwork(inputs_count: 19, outputs_count: 1) in dry run mode. No changes to weights will be applied. An array of 20 -1s is generated for running_losses.\n",
      "NOTE: Training model AugmentedReLUNetwork(p: 0.9, inputs_count: 19, outputs_count: 1) in dry run mode. No changes to weights will be applied. An array of 20 -1s is generated for running_losses.\n",
      "NOTE: save_plot called but no figure will be saved. Path: report/loss__p0.9_N5.png\n"
     ]
    },
    {
     "data": {
      "text/plain": [
       "TrainingParameters(dataset=Dataset(name='wisc_bc_data.csv', number=1, classes_count=2, data=DatasetData(train_dataset=<torch.utils.data.dataset.TensorDataset object at 0x151228fb0>, test_dataset=<torch.utils.data.dataset.TensorDataset object at 0x151255eb0>, train_loader=<torch.utils.data.dataloader.DataLoader object at 0x15115d940>, test_loader=<torch.utils.data.dataloader.DataLoader object at 0x15115d910>)), criterion=CrossEntropyLoss(), experiment_params=ExperimentParameters(iteration=5, p=0.95), model_a_path='pth/model-1A-c-P0.95_N5.pth', model_b_path='pth/model-1B-c-P0.95_N5.pth', loss_curve_plot_col_index=0)"
      ]
     },
     "metadata": {},
     "output_type": "display_data"
    },
    {
     "name": "stdout",
     "output_type": "stream",
     "text": [
      "NOTE: Training model RegularNetwork(inputs_count: 30, outputs_count: 2) in dry run mode. No changes to weights will be applied. An array of 20 -1s is generated for running_losses.\n",
      "NOTE: Training model AugmentedReLUNetwork(p: 0.95, inputs_count: 30, outputs_count: 2) in dry run mode. No changes to weights will be applied. An array of 20 -1s is generated for running_losses.\n"
     ]
    },
    {
     "data": {
      "text/plain": [
       "TrainingParameters(dataset=Dataset(name='car_evaluation.csv', number=2, classes_count=4, data=DatasetData(train_dataset=<torch.utils.data.dataset.TensorDataset object at 0x151117320>, test_dataset=<torch.utils.data.dataset.TensorDataset object at 0x151288bc0>, train_loader=<torch.utils.data.dataloader.DataLoader object at 0x1511173e0>, test_loader=<torch.utils.data.dataloader.DataLoader object at 0x1511d7ef0>)), criterion=CrossEntropyLoss(), experiment_params=ExperimentParameters(iteration=5, p=0.95), model_a_path='pth/model-2A-c-P0.95_N5.pth', model_b_path='pth/model-2B-c-P0.95_N5.pth', loss_curve_plot_col_index=1)"
      ]
     },
     "metadata": {},
     "output_type": "display_data"
    },
    {
     "name": "stdout",
     "output_type": "stream",
     "text": [
      "NOTE: Training model RegularNetwork(inputs_count: 6, outputs_count: 4) in dry run mode. No changes to weights will be applied. An array of 20 -1s is generated for running_losses.\n",
      "NOTE: Training model AugmentedReLUNetwork(p: 0.95, inputs_count: 6, outputs_count: 4) in dry run mode. No changes to weights will be applied. An array of 20 -1s is generated for running_losses.\n"
     ]
    },
    {
     "data": {
      "text/plain": [
       "TrainingParameters(dataset=Dataset(name='StudentPerformanceFactors.csv', number=3, classes_count=1, data=DatasetData(train_dataset=<torch.utils.data.dataset.TensorDataset object at 0x151216cc0>, test_dataset=<torch.utils.data.dataset.TensorDataset object at 0x15128ac00>, train_loader=<torch.utils.data.dataloader.DataLoader object at 0x15117d4c0>, test_loader=<torch.utils.data.dataloader.DataLoader object at 0x1511ed970>)), criterion=MSELoss(), experiment_params=ExperimentParameters(iteration=5, p=0.95), model_a_path='pth/model-3A-c-P0.95_N5.pth', model_b_path='pth/model-3B-c-P0.95_N5.pth', loss_curve_plot_col_index=2)"
      ]
     },
     "metadata": {},
     "output_type": "display_data"
    },
    {
     "name": "stdout",
     "output_type": "stream",
     "text": [
      "NOTE: Training model RegularNetwork(inputs_count: 19, outputs_count: 1) in dry run mode. No changes to weights will be applied. An array of 20 -1s is generated for running_losses.\n",
      "NOTE: Training model AugmentedReLUNetwork(p: 0.95, inputs_count: 19, outputs_count: 1) in dry run mode. No changes to weights will be applied. An array of 20 -1s is generated for running_losses.\n",
      "NOTE: save_plot called but no figure will be saved. Path: report/loss__p0.95_N5.png\n"
     ]
    },
    {
     "data": {
      "text/plain": [
       "TrainingParameters(dataset=Dataset(name='wisc_bc_data.csv', number=1, classes_count=2, data=DatasetData(train_dataset=<torch.utils.data.dataset.TensorDataset object at 0x151228fb0>, test_dataset=<torch.utils.data.dataset.TensorDataset object at 0x151255eb0>, train_loader=<torch.utils.data.dataloader.DataLoader object at 0x15115d940>, test_loader=<torch.utils.data.dataloader.DataLoader object at 0x15115d910>)), criterion=CrossEntropyLoss(), experiment_params=ExperimentParameters(iteration=5, p=0.99), model_a_path='pth/model-1A-c-P0.99_N5.pth', model_b_path='pth/model-1B-c-P0.99_N5.pth', loss_curve_plot_col_index=0)"
      ]
     },
     "metadata": {},
     "output_type": "display_data"
    },
    {
     "name": "stdout",
     "output_type": "stream",
     "text": [
      "NOTE: Training model RegularNetwork(inputs_count: 30, outputs_count: 2) in dry run mode. No changes to weights will be applied. An array of 20 -1s is generated for running_losses.\n",
      "NOTE: Training model AugmentedReLUNetwork(p: 0.99, inputs_count: 30, outputs_count: 2) in dry run mode. No changes to weights will be applied. An array of 20 -1s is generated for running_losses.\n"
     ]
    },
    {
     "data": {
      "text/plain": [
       "TrainingParameters(dataset=Dataset(name='car_evaluation.csv', number=2, classes_count=4, data=DatasetData(train_dataset=<torch.utils.data.dataset.TensorDataset object at 0x151117320>, test_dataset=<torch.utils.data.dataset.TensorDataset object at 0x151288bc0>, train_loader=<torch.utils.data.dataloader.DataLoader object at 0x1511173e0>, test_loader=<torch.utils.data.dataloader.DataLoader object at 0x1511d7ef0>)), criterion=CrossEntropyLoss(), experiment_params=ExperimentParameters(iteration=5, p=0.99), model_a_path='pth/model-2A-c-P0.99_N5.pth', model_b_path='pth/model-2B-c-P0.99_N5.pth', loss_curve_plot_col_index=1)"
      ]
     },
     "metadata": {},
     "output_type": "display_data"
    },
    {
     "name": "stdout",
     "output_type": "stream",
     "text": [
      "NOTE: Training model RegularNetwork(inputs_count: 6, outputs_count: 4) in dry run mode. No changes to weights will be applied. An array of 20 -1s is generated for running_losses.\n",
      "NOTE: Training model AugmentedReLUNetwork(p: 0.99, inputs_count: 6, outputs_count: 4) in dry run mode. No changes to weights will be applied. An array of 20 -1s is generated for running_losses.\n"
     ]
    },
    {
     "data": {
      "text/plain": [
       "TrainingParameters(dataset=Dataset(name='StudentPerformanceFactors.csv', number=3, classes_count=1, data=DatasetData(train_dataset=<torch.utils.data.dataset.TensorDataset object at 0x151216cc0>, test_dataset=<torch.utils.data.dataset.TensorDataset object at 0x15128ac00>, train_loader=<torch.utils.data.dataloader.DataLoader object at 0x15117d4c0>, test_loader=<torch.utils.data.dataloader.DataLoader object at 0x1511ed970>)), criterion=MSELoss(), experiment_params=ExperimentParameters(iteration=5, p=0.99), model_a_path='pth/model-3A-c-P0.99_N5.pth', model_b_path='pth/model-3B-c-P0.99_N5.pth', loss_curve_plot_col_index=2)"
      ]
     },
     "metadata": {},
     "output_type": "display_data"
    },
    {
     "name": "stdout",
     "output_type": "stream",
     "text": [
      "NOTE: Training model RegularNetwork(inputs_count: 19, outputs_count: 1) in dry run mode. No changes to weights will be applied. An array of 20 -1s is generated for running_losses.\n",
      "NOTE: Training model AugmentedReLUNetwork(p: 0.99, inputs_count: 19, outputs_count: 1) in dry run mode. No changes to weights will be applied. An array of 20 -1s is generated for running_losses.\n",
      "NOTE: save_plot called but no figure will be saved. Path: report/loss__p0.99_N5.png\n"
     ]
    },
    {
     "data": {
      "text/plain": [
       "TrainingParameters(dataset=Dataset(name='wisc_bc_data.csv', number=1, classes_count=2, data=DatasetData(train_dataset=<torch.utils.data.dataset.TensorDataset object at 0x151228fb0>, test_dataset=<torch.utils.data.dataset.TensorDataset object at 0x151255eb0>, train_loader=<torch.utils.data.dataloader.DataLoader object at 0x15115d940>, test_loader=<torch.utils.data.dataloader.DataLoader object at 0x15115d910>)), criterion=CrossEntropyLoss(), experiment_params=ExperimentParameters(iteration=6, p=0), model_a_path='pth/model-1A-c-P0_N6.pth', model_b_path='pth/model-1B-c-P0_N6.pth', loss_curve_plot_col_index=0)"
      ]
     },
     "metadata": {},
     "output_type": "display_data"
    },
    {
     "name": "stdout",
     "output_type": "stream",
     "text": [
      "NOTE: Training model RegularNetwork(inputs_count: 30, outputs_count: 2) in dry run mode. No changes to weights will be applied. An array of 20 -1s is generated for running_losses.\n",
      "NOTE: Training model AugmentedReLUNetwork(p: 0, inputs_count: 30, outputs_count: 2) in dry run mode. No changes to weights will be applied. An array of 20 -1s is generated for running_losses.\n"
     ]
    },
    {
     "data": {
      "text/plain": [
       "TrainingParameters(dataset=Dataset(name='car_evaluation.csv', number=2, classes_count=4, data=DatasetData(train_dataset=<torch.utils.data.dataset.TensorDataset object at 0x151117320>, test_dataset=<torch.utils.data.dataset.TensorDataset object at 0x151288bc0>, train_loader=<torch.utils.data.dataloader.DataLoader object at 0x1511173e0>, test_loader=<torch.utils.data.dataloader.DataLoader object at 0x1511d7ef0>)), criterion=CrossEntropyLoss(), experiment_params=ExperimentParameters(iteration=6, p=0), model_a_path='pth/model-2A-c-P0_N6.pth', model_b_path='pth/model-2B-c-P0_N6.pth', loss_curve_plot_col_index=1)"
      ]
     },
     "metadata": {},
     "output_type": "display_data"
    },
    {
     "name": "stdout",
     "output_type": "stream",
     "text": [
      "NOTE: Training model RegularNetwork(inputs_count: 6, outputs_count: 4) in dry run mode. No changes to weights will be applied. An array of 20 -1s is generated for running_losses.\n",
      "NOTE: Training model AugmentedReLUNetwork(p: 0, inputs_count: 6, outputs_count: 4) in dry run mode. No changes to weights will be applied. An array of 20 -1s is generated for running_losses.\n"
     ]
    },
    {
     "data": {
      "text/plain": [
       "TrainingParameters(dataset=Dataset(name='StudentPerformanceFactors.csv', number=3, classes_count=1, data=DatasetData(train_dataset=<torch.utils.data.dataset.TensorDataset object at 0x151216cc0>, test_dataset=<torch.utils.data.dataset.TensorDataset object at 0x15128ac00>, train_loader=<torch.utils.data.dataloader.DataLoader object at 0x15117d4c0>, test_loader=<torch.utils.data.dataloader.DataLoader object at 0x1511ed970>)), criterion=MSELoss(), experiment_params=ExperimentParameters(iteration=6, p=0), model_a_path='pth/model-3A-c-P0_N6.pth', model_b_path='pth/model-3B-c-P0_N6.pth', loss_curve_plot_col_index=2)"
      ]
     },
     "metadata": {},
     "output_type": "display_data"
    },
    {
     "name": "stdout",
     "output_type": "stream",
     "text": [
      "NOTE: Training model RegularNetwork(inputs_count: 19, outputs_count: 1) in dry run mode. No changes to weights will be applied. An array of 20 -1s is generated for running_losses.\n",
      "NOTE: Training model AugmentedReLUNetwork(p: 0, inputs_count: 19, outputs_count: 1) in dry run mode. No changes to weights will be applied. An array of 20 -1s is generated for running_losses.\n",
      "NOTE: save_plot called but no figure will be saved. Path: report/loss__p0_N6.png\n"
     ]
    },
    {
     "data": {
      "text/plain": [
       "TrainingParameters(dataset=Dataset(name='wisc_bc_data.csv', number=1, classes_count=2, data=DatasetData(train_dataset=<torch.utils.data.dataset.TensorDataset object at 0x151228fb0>, test_dataset=<torch.utils.data.dataset.TensorDataset object at 0x151255eb0>, train_loader=<torch.utils.data.dataloader.DataLoader object at 0x15115d940>, test_loader=<torch.utils.data.dataloader.DataLoader object at 0x15115d910>)), criterion=CrossEntropyLoss(), experiment_params=ExperimentParameters(iteration=6, p=0.01), model_a_path='pth/model-1A-c-P0.01_N6.pth', model_b_path='pth/model-1B-c-P0.01_N6.pth', loss_curve_plot_col_index=0)"
      ]
     },
     "metadata": {},
     "output_type": "display_data"
    },
    {
     "name": "stdout",
     "output_type": "stream",
     "text": [
      "NOTE: Training model RegularNetwork(inputs_count: 30, outputs_count: 2) in dry run mode. No changes to weights will be applied. An array of 20 -1s is generated for running_losses.\n",
      "NOTE: Training model AugmentedReLUNetwork(p: 0.01, inputs_count: 30, outputs_count: 2) in dry run mode. No changes to weights will be applied. An array of 20 -1s is generated for running_losses.\n"
     ]
    },
    {
     "data": {
      "text/plain": [
       "TrainingParameters(dataset=Dataset(name='car_evaluation.csv', number=2, classes_count=4, data=DatasetData(train_dataset=<torch.utils.data.dataset.TensorDataset object at 0x151117320>, test_dataset=<torch.utils.data.dataset.TensorDataset object at 0x151288bc0>, train_loader=<torch.utils.data.dataloader.DataLoader object at 0x1511173e0>, test_loader=<torch.utils.data.dataloader.DataLoader object at 0x1511d7ef0>)), criterion=CrossEntropyLoss(), experiment_params=ExperimentParameters(iteration=6, p=0.01), model_a_path='pth/model-2A-c-P0.01_N6.pth', model_b_path='pth/model-2B-c-P0.01_N6.pth', loss_curve_plot_col_index=1)"
      ]
     },
     "metadata": {},
     "output_type": "display_data"
    },
    {
     "name": "stdout",
     "output_type": "stream",
     "text": [
      "NOTE: Training model RegularNetwork(inputs_count: 6, outputs_count: 4) in dry run mode. No changes to weights will be applied. An array of 20 -1s is generated for running_losses.\n",
      "NOTE: Training model AugmentedReLUNetwork(p: 0.01, inputs_count: 6, outputs_count: 4) in dry run mode. No changes to weights will be applied. An array of 20 -1s is generated for running_losses.\n"
     ]
    },
    {
     "data": {
      "text/plain": [
       "TrainingParameters(dataset=Dataset(name='StudentPerformanceFactors.csv', number=3, classes_count=1, data=DatasetData(train_dataset=<torch.utils.data.dataset.TensorDataset object at 0x151216cc0>, test_dataset=<torch.utils.data.dataset.TensorDataset object at 0x15128ac00>, train_loader=<torch.utils.data.dataloader.DataLoader object at 0x15117d4c0>, test_loader=<torch.utils.data.dataloader.DataLoader object at 0x1511ed970>)), criterion=MSELoss(), experiment_params=ExperimentParameters(iteration=6, p=0.01), model_a_path='pth/model-3A-c-P0.01_N6.pth', model_b_path='pth/model-3B-c-P0.01_N6.pth', loss_curve_plot_col_index=2)"
      ]
     },
     "metadata": {},
     "output_type": "display_data"
    },
    {
     "name": "stdout",
     "output_type": "stream",
     "text": [
      "NOTE: Training model RegularNetwork(inputs_count: 19, outputs_count: 1) in dry run mode. No changes to weights will be applied. An array of 20 -1s is generated for running_losses.\n",
      "NOTE: Training model AugmentedReLUNetwork(p: 0.01, inputs_count: 19, outputs_count: 1) in dry run mode. No changes to weights will be applied. An array of 20 -1s is generated for running_losses.\n",
      "NOTE: save_plot called but no figure will be saved. Path: report/loss__p0.01_N6.png\n"
     ]
    },
    {
     "data": {
      "text/plain": [
       "TrainingParameters(dataset=Dataset(name='wisc_bc_data.csv', number=1, classes_count=2, data=DatasetData(train_dataset=<torch.utils.data.dataset.TensorDataset object at 0x151228fb0>, test_dataset=<torch.utils.data.dataset.TensorDataset object at 0x151255eb0>, train_loader=<torch.utils.data.dataloader.DataLoader object at 0x15115d940>, test_loader=<torch.utils.data.dataloader.DataLoader object at 0x15115d910>)), criterion=CrossEntropyLoss(), experiment_params=ExperimentParameters(iteration=6, p=0.05), model_a_path='pth/model-1A-c-P0.05_N6.pth', model_b_path='pth/model-1B-c-P0.05_N6.pth', loss_curve_plot_col_index=0)"
      ]
     },
     "metadata": {},
     "output_type": "display_data"
    },
    {
     "name": "stdout",
     "output_type": "stream",
     "text": [
      "NOTE: Training model RegularNetwork(inputs_count: 30, outputs_count: 2) in dry run mode. No changes to weights will be applied. An array of 20 -1s is generated for running_losses.\n",
      "NOTE: Training model AugmentedReLUNetwork(p: 0.05, inputs_count: 30, outputs_count: 2) in dry run mode. No changes to weights will be applied. An array of 20 -1s is generated for running_losses.\n"
     ]
    },
    {
     "data": {
      "text/plain": [
       "TrainingParameters(dataset=Dataset(name='car_evaluation.csv', number=2, classes_count=4, data=DatasetData(train_dataset=<torch.utils.data.dataset.TensorDataset object at 0x151117320>, test_dataset=<torch.utils.data.dataset.TensorDataset object at 0x151288bc0>, train_loader=<torch.utils.data.dataloader.DataLoader object at 0x1511173e0>, test_loader=<torch.utils.data.dataloader.DataLoader object at 0x1511d7ef0>)), criterion=CrossEntropyLoss(), experiment_params=ExperimentParameters(iteration=6, p=0.05), model_a_path='pth/model-2A-c-P0.05_N6.pth', model_b_path='pth/model-2B-c-P0.05_N6.pth', loss_curve_plot_col_index=1)"
      ]
     },
     "metadata": {},
     "output_type": "display_data"
    },
    {
     "name": "stdout",
     "output_type": "stream",
     "text": [
      "NOTE: Training model RegularNetwork(inputs_count: 6, outputs_count: 4) in dry run mode. No changes to weights will be applied. An array of 20 -1s is generated for running_losses.\n",
      "NOTE: Training model AugmentedReLUNetwork(p: 0.05, inputs_count: 6, outputs_count: 4) in dry run mode. No changes to weights will be applied. An array of 20 -1s is generated for running_losses.\n"
     ]
    },
    {
     "data": {
      "text/plain": [
       "TrainingParameters(dataset=Dataset(name='StudentPerformanceFactors.csv', number=3, classes_count=1, data=DatasetData(train_dataset=<torch.utils.data.dataset.TensorDataset object at 0x151216cc0>, test_dataset=<torch.utils.data.dataset.TensorDataset object at 0x15128ac00>, train_loader=<torch.utils.data.dataloader.DataLoader object at 0x15117d4c0>, test_loader=<torch.utils.data.dataloader.DataLoader object at 0x1511ed970>)), criterion=MSELoss(), experiment_params=ExperimentParameters(iteration=6, p=0.05), model_a_path='pth/model-3A-c-P0.05_N6.pth', model_b_path='pth/model-3B-c-P0.05_N6.pth', loss_curve_plot_col_index=2)"
      ]
     },
     "metadata": {},
     "output_type": "display_data"
    },
    {
     "name": "stdout",
     "output_type": "stream",
     "text": [
      "NOTE: Training model RegularNetwork(inputs_count: 19, outputs_count: 1) in dry run mode. No changes to weights will be applied. An array of 20 -1s is generated for running_losses.\n",
      "NOTE: Training model AugmentedReLUNetwork(p: 0.05, inputs_count: 19, outputs_count: 1) in dry run mode. No changes to weights will be applied. An array of 20 -1s is generated for running_losses.\n",
      "NOTE: save_plot called but no figure will be saved. Path: report/loss__p0.05_N6.png\n"
     ]
    },
    {
     "data": {
      "text/plain": [
       "TrainingParameters(dataset=Dataset(name='wisc_bc_data.csv', number=1, classes_count=2, data=DatasetData(train_dataset=<torch.utils.data.dataset.TensorDataset object at 0x151228fb0>, test_dataset=<torch.utils.data.dataset.TensorDataset object at 0x151255eb0>, train_loader=<torch.utils.data.dataloader.DataLoader object at 0x15115d940>, test_loader=<torch.utils.data.dataloader.DataLoader object at 0x15115d910>)), criterion=CrossEntropyLoss(), experiment_params=ExperimentParameters(iteration=6, p=0.5), model_a_path='pth/model-1A-c-P0.5_N6.pth', model_b_path='pth/model-1B-c-P0.5_N6.pth', loss_curve_plot_col_index=0)"
      ]
     },
     "metadata": {},
     "output_type": "display_data"
    },
    {
     "name": "stdout",
     "output_type": "stream",
     "text": [
      "NOTE: Training model RegularNetwork(inputs_count: 30, outputs_count: 2) in dry run mode. No changes to weights will be applied. An array of 20 -1s is generated for running_losses.\n",
      "NOTE: Training model AugmentedReLUNetwork(p: 0.5, inputs_count: 30, outputs_count: 2) in dry run mode. No changes to weights will be applied. An array of 20 -1s is generated for running_losses.\n"
     ]
    },
    {
     "data": {
      "text/plain": [
       "TrainingParameters(dataset=Dataset(name='car_evaluation.csv', number=2, classes_count=4, data=DatasetData(train_dataset=<torch.utils.data.dataset.TensorDataset object at 0x151117320>, test_dataset=<torch.utils.data.dataset.TensorDataset object at 0x151288bc0>, train_loader=<torch.utils.data.dataloader.DataLoader object at 0x1511173e0>, test_loader=<torch.utils.data.dataloader.DataLoader object at 0x1511d7ef0>)), criterion=CrossEntropyLoss(), experiment_params=ExperimentParameters(iteration=6, p=0.5), model_a_path='pth/model-2A-c-P0.5_N6.pth', model_b_path='pth/model-2B-c-P0.5_N6.pth', loss_curve_plot_col_index=1)"
      ]
     },
     "metadata": {},
     "output_type": "display_data"
    },
    {
     "name": "stdout",
     "output_type": "stream",
     "text": [
      "NOTE: Training model RegularNetwork(inputs_count: 6, outputs_count: 4) in dry run mode. No changes to weights will be applied. An array of 20 -1s is generated for running_losses.\n",
      "NOTE: Training model AugmentedReLUNetwork(p: 0.5, inputs_count: 6, outputs_count: 4) in dry run mode. No changes to weights will be applied. An array of 20 -1s is generated for running_losses.\n"
     ]
    },
    {
     "data": {
      "text/plain": [
       "TrainingParameters(dataset=Dataset(name='StudentPerformanceFactors.csv', number=3, classes_count=1, data=DatasetData(train_dataset=<torch.utils.data.dataset.TensorDataset object at 0x151216cc0>, test_dataset=<torch.utils.data.dataset.TensorDataset object at 0x15128ac00>, train_loader=<torch.utils.data.dataloader.DataLoader object at 0x15117d4c0>, test_loader=<torch.utils.data.dataloader.DataLoader object at 0x1511ed970>)), criterion=MSELoss(), experiment_params=ExperimentParameters(iteration=6, p=0.5), model_a_path='pth/model-3A-c-P0.5_N6.pth', model_b_path='pth/model-3B-c-P0.5_N6.pth', loss_curve_plot_col_index=2)"
      ]
     },
     "metadata": {},
     "output_type": "display_data"
    },
    {
     "name": "stdout",
     "output_type": "stream",
     "text": [
      "NOTE: Training model RegularNetwork(inputs_count: 19, outputs_count: 1) in dry run mode. No changes to weights will be applied. An array of 20 -1s is generated for running_losses.\n",
      "NOTE: Training model AugmentedReLUNetwork(p: 0.5, inputs_count: 19, outputs_count: 1) in dry run mode. No changes to weights will be applied. An array of 20 -1s is generated for running_losses.\n",
      "NOTE: save_plot called but no figure will be saved. Path: report/loss__p0.5_N6.png\n"
     ]
    },
    {
     "data": {
      "text/plain": [
       "TrainingParameters(dataset=Dataset(name='wisc_bc_data.csv', number=1, classes_count=2, data=DatasetData(train_dataset=<torch.utils.data.dataset.TensorDataset object at 0x151228fb0>, test_dataset=<torch.utils.data.dataset.TensorDataset object at 0x151255eb0>, train_loader=<torch.utils.data.dataloader.DataLoader object at 0x15115d940>, test_loader=<torch.utils.data.dataloader.DataLoader object at 0x15115d910>)), criterion=CrossEntropyLoss(), experiment_params=ExperimentParameters(iteration=6, p=0.9), model_a_path='pth/model-1A-c-P0.9_N6.pth', model_b_path='pth/model-1B-c-P0.9_N6.pth', loss_curve_plot_col_index=0)"
      ]
     },
     "metadata": {},
     "output_type": "display_data"
    },
    {
     "name": "stdout",
     "output_type": "stream",
     "text": [
      "NOTE: Training model RegularNetwork(inputs_count: 30, outputs_count: 2) in dry run mode. No changes to weights will be applied. An array of 20 -1s is generated for running_losses.\n",
      "NOTE: Training model AugmentedReLUNetwork(p: 0.9, inputs_count: 30, outputs_count: 2) in dry run mode. No changes to weights will be applied. An array of 20 -1s is generated for running_losses.\n"
     ]
    },
    {
     "data": {
      "text/plain": [
       "TrainingParameters(dataset=Dataset(name='car_evaluation.csv', number=2, classes_count=4, data=DatasetData(train_dataset=<torch.utils.data.dataset.TensorDataset object at 0x151117320>, test_dataset=<torch.utils.data.dataset.TensorDataset object at 0x151288bc0>, train_loader=<torch.utils.data.dataloader.DataLoader object at 0x1511173e0>, test_loader=<torch.utils.data.dataloader.DataLoader object at 0x1511d7ef0>)), criterion=CrossEntropyLoss(), experiment_params=ExperimentParameters(iteration=6, p=0.9), model_a_path='pth/model-2A-c-P0.9_N6.pth', model_b_path='pth/model-2B-c-P0.9_N6.pth', loss_curve_plot_col_index=1)"
      ]
     },
     "metadata": {},
     "output_type": "display_data"
    },
    {
     "name": "stdout",
     "output_type": "stream",
     "text": [
      "NOTE: Training model RegularNetwork(inputs_count: 6, outputs_count: 4) in dry run mode. No changes to weights will be applied. An array of 20 -1s is generated for running_losses.\n",
      "NOTE: Training model AugmentedReLUNetwork(p: 0.9, inputs_count: 6, outputs_count: 4) in dry run mode. No changes to weights will be applied. An array of 20 -1s is generated for running_losses.\n"
     ]
    },
    {
     "data": {
      "text/plain": [
       "TrainingParameters(dataset=Dataset(name='StudentPerformanceFactors.csv', number=3, classes_count=1, data=DatasetData(train_dataset=<torch.utils.data.dataset.TensorDataset object at 0x151216cc0>, test_dataset=<torch.utils.data.dataset.TensorDataset object at 0x15128ac00>, train_loader=<torch.utils.data.dataloader.DataLoader object at 0x15117d4c0>, test_loader=<torch.utils.data.dataloader.DataLoader object at 0x1511ed970>)), criterion=MSELoss(), experiment_params=ExperimentParameters(iteration=6, p=0.9), model_a_path='pth/model-3A-c-P0.9_N6.pth', model_b_path='pth/model-3B-c-P0.9_N6.pth', loss_curve_plot_col_index=2)"
      ]
     },
     "metadata": {},
     "output_type": "display_data"
    },
    {
     "name": "stdout",
     "output_type": "stream",
     "text": [
      "NOTE: Training model RegularNetwork(inputs_count: 19, outputs_count: 1) in dry run mode. No changes to weights will be applied. An array of 20 -1s is generated for running_losses.\n",
      "NOTE: Training model AugmentedReLUNetwork(p: 0.9, inputs_count: 19, outputs_count: 1) in dry run mode. No changes to weights will be applied. An array of 20 -1s is generated for running_losses.\n",
      "NOTE: save_plot called but no figure will be saved. Path: report/loss__p0.9_N6.png\n"
     ]
    },
    {
     "data": {
      "text/plain": [
       "TrainingParameters(dataset=Dataset(name='wisc_bc_data.csv', number=1, classes_count=2, data=DatasetData(train_dataset=<torch.utils.data.dataset.TensorDataset object at 0x151228fb0>, test_dataset=<torch.utils.data.dataset.TensorDataset object at 0x151255eb0>, train_loader=<torch.utils.data.dataloader.DataLoader object at 0x15115d940>, test_loader=<torch.utils.data.dataloader.DataLoader object at 0x15115d910>)), criterion=CrossEntropyLoss(), experiment_params=ExperimentParameters(iteration=6, p=0.95), model_a_path='pth/model-1A-c-P0.95_N6.pth', model_b_path='pth/model-1B-c-P0.95_N6.pth', loss_curve_plot_col_index=0)"
      ]
     },
     "metadata": {},
     "output_type": "display_data"
    },
    {
     "name": "stdout",
     "output_type": "stream",
     "text": [
      "NOTE: Training model RegularNetwork(inputs_count: 30, outputs_count: 2) in dry run mode. No changes to weights will be applied. An array of 20 -1s is generated for running_losses.\n",
      "NOTE: Training model AugmentedReLUNetwork(p: 0.95, inputs_count: 30, outputs_count: 2) in dry run mode. No changes to weights will be applied. An array of 20 -1s is generated for running_losses.\n"
     ]
    },
    {
     "data": {
      "text/plain": [
       "TrainingParameters(dataset=Dataset(name='car_evaluation.csv', number=2, classes_count=4, data=DatasetData(train_dataset=<torch.utils.data.dataset.TensorDataset object at 0x151117320>, test_dataset=<torch.utils.data.dataset.TensorDataset object at 0x151288bc0>, train_loader=<torch.utils.data.dataloader.DataLoader object at 0x1511173e0>, test_loader=<torch.utils.data.dataloader.DataLoader object at 0x1511d7ef0>)), criterion=CrossEntropyLoss(), experiment_params=ExperimentParameters(iteration=6, p=0.95), model_a_path='pth/model-2A-c-P0.95_N6.pth', model_b_path='pth/model-2B-c-P0.95_N6.pth', loss_curve_plot_col_index=1)"
      ]
     },
     "metadata": {},
     "output_type": "display_data"
    },
    {
     "name": "stdout",
     "output_type": "stream",
     "text": [
      "NOTE: Training model RegularNetwork(inputs_count: 6, outputs_count: 4) in dry run mode. No changes to weights will be applied. An array of 20 -1s is generated for running_losses.\n",
      "NOTE: Training model AugmentedReLUNetwork(p: 0.95, inputs_count: 6, outputs_count: 4) in dry run mode. No changes to weights will be applied. An array of 20 -1s is generated for running_losses.\n"
     ]
    },
    {
     "data": {
      "text/plain": [
       "TrainingParameters(dataset=Dataset(name='StudentPerformanceFactors.csv', number=3, classes_count=1, data=DatasetData(train_dataset=<torch.utils.data.dataset.TensorDataset object at 0x151216cc0>, test_dataset=<torch.utils.data.dataset.TensorDataset object at 0x15128ac00>, train_loader=<torch.utils.data.dataloader.DataLoader object at 0x15117d4c0>, test_loader=<torch.utils.data.dataloader.DataLoader object at 0x1511ed970>)), criterion=MSELoss(), experiment_params=ExperimentParameters(iteration=6, p=0.95), model_a_path='pth/model-3A-c-P0.95_N6.pth', model_b_path='pth/model-3B-c-P0.95_N6.pth', loss_curve_plot_col_index=2)"
      ]
     },
     "metadata": {},
     "output_type": "display_data"
    },
    {
     "name": "stdout",
     "output_type": "stream",
     "text": [
      "NOTE: Training model RegularNetwork(inputs_count: 19, outputs_count: 1) in dry run mode. No changes to weights will be applied. An array of 20 -1s is generated for running_losses.\n",
      "NOTE: Training model AugmentedReLUNetwork(p: 0.95, inputs_count: 19, outputs_count: 1) in dry run mode. No changes to weights will be applied. An array of 20 -1s is generated for running_losses.\n",
      "NOTE: save_plot called but no figure will be saved. Path: report/loss__p0.95_N6.png\n"
     ]
    },
    {
     "data": {
      "text/plain": [
       "TrainingParameters(dataset=Dataset(name='wisc_bc_data.csv', number=1, classes_count=2, data=DatasetData(train_dataset=<torch.utils.data.dataset.TensorDataset object at 0x151228fb0>, test_dataset=<torch.utils.data.dataset.TensorDataset object at 0x151255eb0>, train_loader=<torch.utils.data.dataloader.DataLoader object at 0x15115d940>, test_loader=<torch.utils.data.dataloader.DataLoader object at 0x15115d910>)), criterion=CrossEntropyLoss(), experiment_params=ExperimentParameters(iteration=6, p=0.99), model_a_path='pth/model-1A-c-P0.99_N6.pth', model_b_path='pth/model-1B-c-P0.99_N6.pth', loss_curve_plot_col_index=0)"
      ]
     },
     "metadata": {},
     "output_type": "display_data"
    },
    {
     "name": "stdout",
     "output_type": "stream",
     "text": [
      "NOTE: Training model RegularNetwork(inputs_count: 30, outputs_count: 2) in dry run mode. No changes to weights will be applied. An array of 20 -1s is generated for running_losses.\n",
      "NOTE: Training model AugmentedReLUNetwork(p: 0.99, inputs_count: 30, outputs_count: 2) in dry run mode. No changes to weights will be applied. An array of 20 -1s is generated for running_losses.\n"
     ]
    },
    {
     "data": {
      "text/plain": [
       "TrainingParameters(dataset=Dataset(name='car_evaluation.csv', number=2, classes_count=4, data=DatasetData(train_dataset=<torch.utils.data.dataset.TensorDataset object at 0x151117320>, test_dataset=<torch.utils.data.dataset.TensorDataset object at 0x151288bc0>, train_loader=<torch.utils.data.dataloader.DataLoader object at 0x1511173e0>, test_loader=<torch.utils.data.dataloader.DataLoader object at 0x1511d7ef0>)), criterion=CrossEntropyLoss(), experiment_params=ExperimentParameters(iteration=6, p=0.99), model_a_path='pth/model-2A-c-P0.99_N6.pth', model_b_path='pth/model-2B-c-P0.99_N6.pth', loss_curve_plot_col_index=1)"
      ]
     },
     "metadata": {},
     "output_type": "display_data"
    },
    {
     "name": "stdout",
     "output_type": "stream",
     "text": [
      "NOTE: Training model RegularNetwork(inputs_count: 6, outputs_count: 4) in dry run mode. No changes to weights will be applied. An array of 20 -1s is generated for running_losses.\n",
      "NOTE: Training model AugmentedReLUNetwork(p: 0.99, inputs_count: 6, outputs_count: 4) in dry run mode. No changes to weights will be applied. An array of 20 -1s is generated for running_losses.\n"
     ]
    },
    {
     "data": {
      "text/plain": [
       "TrainingParameters(dataset=Dataset(name='StudentPerformanceFactors.csv', number=3, classes_count=1, data=DatasetData(train_dataset=<torch.utils.data.dataset.TensorDataset object at 0x151216cc0>, test_dataset=<torch.utils.data.dataset.TensorDataset object at 0x15128ac00>, train_loader=<torch.utils.data.dataloader.DataLoader object at 0x15117d4c0>, test_loader=<torch.utils.data.dataloader.DataLoader object at 0x1511ed970>)), criterion=MSELoss(), experiment_params=ExperimentParameters(iteration=6, p=0.99), model_a_path='pth/model-3A-c-P0.99_N6.pth', model_b_path='pth/model-3B-c-P0.99_N6.pth', loss_curve_plot_col_index=2)"
      ]
     },
     "metadata": {},
     "output_type": "display_data"
    },
    {
     "name": "stdout",
     "output_type": "stream",
     "text": [
      "NOTE: Training model RegularNetwork(inputs_count: 19, outputs_count: 1) in dry run mode. No changes to weights will be applied. An array of 20 -1s is generated for running_losses.\n",
      "NOTE: Training model AugmentedReLUNetwork(p: 0.99, inputs_count: 19, outputs_count: 1) in dry run mode. No changes to weights will be applied. An array of 20 -1s is generated for running_losses.\n",
      "NOTE: save_plot called but no figure will be saved. Path: report/loss__p0.99_N6.png\n"
     ]
    },
    {
     "data": {
      "text/plain": [
       "TrainingParameters(dataset=Dataset(name='wisc_bc_data.csv', number=1, classes_count=2, data=DatasetData(train_dataset=<torch.utils.data.dataset.TensorDataset object at 0x151228fb0>, test_dataset=<torch.utils.data.dataset.TensorDataset object at 0x151255eb0>, train_loader=<torch.utils.data.dataloader.DataLoader object at 0x15115d940>, test_loader=<torch.utils.data.dataloader.DataLoader object at 0x15115d910>)), criterion=CrossEntropyLoss(), experiment_params=ExperimentParameters(iteration=7, p=0), model_a_path='pth/model-1A-c-P0_N7.pth', model_b_path='pth/model-1B-c-P0_N7.pth', loss_curve_plot_col_index=0)"
      ]
     },
     "metadata": {},
     "output_type": "display_data"
    },
    {
     "name": "stdout",
     "output_type": "stream",
     "text": [
      "NOTE: Training model RegularNetwork(inputs_count: 30, outputs_count: 2) in dry run mode. No changes to weights will be applied. An array of 20 -1s is generated for running_losses.\n",
      "NOTE: Training model AugmentedReLUNetwork(p: 0, inputs_count: 30, outputs_count: 2) in dry run mode. No changes to weights will be applied. An array of 20 -1s is generated for running_losses.\n"
     ]
    },
    {
     "data": {
      "text/plain": [
       "TrainingParameters(dataset=Dataset(name='car_evaluation.csv', number=2, classes_count=4, data=DatasetData(train_dataset=<torch.utils.data.dataset.TensorDataset object at 0x151117320>, test_dataset=<torch.utils.data.dataset.TensorDataset object at 0x151288bc0>, train_loader=<torch.utils.data.dataloader.DataLoader object at 0x1511173e0>, test_loader=<torch.utils.data.dataloader.DataLoader object at 0x1511d7ef0>)), criterion=CrossEntropyLoss(), experiment_params=ExperimentParameters(iteration=7, p=0), model_a_path='pth/model-2A-c-P0_N7.pth', model_b_path='pth/model-2B-c-P0_N7.pth', loss_curve_plot_col_index=1)"
      ]
     },
     "metadata": {},
     "output_type": "display_data"
    },
    {
     "name": "stdout",
     "output_type": "stream",
     "text": [
      "NOTE: Training model RegularNetwork(inputs_count: 6, outputs_count: 4) in dry run mode. No changes to weights will be applied. An array of 20 -1s is generated for running_losses.\n",
      "NOTE: Training model AugmentedReLUNetwork(p: 0, inputs_count: 6, outputs_count: 4) in dry run mode. No changes to weights will be applied. An array of 20 -1s is generated for running_losses.\n"
     ]
    },
    {
     "data": {
      "text/plain": [
       "TrainingParameters(dataset=Dataset(name='StudentPerformanceFactors.csv', number=3, classes_count=1, data=DatasetData(train_dataset=<torch.utils.data.dataset.TensorDataset object at 0x151216cc0>, test_dataset=<torch.utils.data.dataset.TensorDataset object at 0x15128ac00>, train_loader=<torch.utils.data.dataloader.DataLoader object at 0x15117d4c0>, test_loader=<torch.utils.data.dataloader.DataLoader object at 0x1511ed970>)), criterion=MSELoss(), experiment_params=ExperimentParameters(iteration=7, p=0), model_a_path='pth/model-3A-c-P0_N7.pth', model_b_path='pth/model-3B-c-P0_N7.pth', loss_curve_plot_col_index=2)"
      ]
     },
     "metadata": {},
     "output_type": "display_data"
    },
    {
     "name": "stdout",
     "output_type": "stream",
     "text": [
      "NOTE: Training model RegularNetwork(inputs_count: 19, outputs_count: 1) in dry run mode. No changes to weights will be applied. An array of 20 -1s is generated for running_losses.\n",
      "NOTE: Training model AugmentedReLUNetwork(p: 0, inputs_count: 19, outputs_count: 1) in dry run mode. No changes to weights will be applied. An array of 20 -1s is generated for running_losses.\n",
      "NOTE: save_plot called but no figure will be saved. Path: report/loss__p0_N7.png\n"
     ]
    },
    {
     "data": {
      "text/plain": [
       "TrainingParameters(dataset=Dataset(name='wisc_bc_data.csv', number=1, classes_count=2, data=DatasetData(train_dataset=<torch.utils.data.dataset.TensorDataset object at 0x151228fb0>, test_dataset=<torch.utils.data.dataset.TensorDataset object at 0x151255eb0>, train_loader=<torch.utils.data.dataloader.DataLoader object at 0x15115d940>, test_loader=<torch.utils.data.dataloader.DataLoader object at 0x15115d910>)), criterion=CrossEntropyLoss(), experiment_params=ExperimentParameters(iteration=7, p=0.01), model_a_path='pth/model-1A-c-P0.01_N7.pth', model_b_path='pth/model-1B-c-P0.01_N7.pth', loss_curve_plot_col_index=0)"
      ]
     },
     "metadata": {},
     "output_type": "display_data"
    },
    {
     "name": "stdout",
     "output_type": "stream",
     "text": [
      "NOTE: Training model RegularNetwork(inputs_count: 30, outputs_count: 2) in dry run mode. No changes to weights will be applied. An array of 20 -1s is generated for running_losses.\n",
      "NOTE: Training model AugmentedReLUNetwork(p: 0.01, inputs_count: 30, outputs_count: 2) in dry run mode. No changes to weights will be applied. An array of 20 -1s is generated for running_losses.\n"
     ]
    },
    {
     "data": {
      "text/plain": [
       "TrainingParameters(dataset=Dataset(name='car_evaluation.csv', number=2, classes_count=4, data=DatasetData(train_dataset=<torch.utils.data.dataset.TensorDataset object at 0x151117320>, test_dataset=<torch.utils.data.dataset.TensorDataset object at 0x151288bc0>, train_loader=<torch.utils.data.dataloader.DataLoader object at 0x1511173e0>, test_loader=<torch.utils.data.dataloader.DataLoader object at 0x1511d7ef0>)), criterion=CrossEntropyLoss(), experiment_params=ExperimentParameters(iteration=7, p=0.01), model_a_path='pth/model-2A-c-P0.01_N7.pth', model_b_path='pth/model-2B-c-P0.01_N7.pth', loss_curve_plot_col_index=1)"
      ]
     },
     "metadata": {},
     "output_type": "display_data"
    },
    {
     "name": "stdout",
     "output_type": "stream",
     "text": [
      "NOTE: Training model RegularNetwork(inputs_count: 6, outputs_count: 4) in dry run mode. No changes to weights will be applied. An array of 20 -1s is generated for running_losses.\n",
      "NOTE: Training model AugmentedReLUNetwork(p: 0.01, inputs_count: 6, outputs_count: 4) in dry run mode. No changes to weights will be applied. An array of 20 -1s is generated for running_losses.\n"
     ]
    },
    {
     "data": {
      "text/plain": [
       "TrainingParameters(dataset=Dataset(name='StudentPerformanceFactors.csv', number=3, classes_count=1, data=DatasetData(train_dataset=<torch.utils.data.dataset.TensorDataset object at 0x151216cc0>, test_dataset=<torch.utils.data.dataset.TensorDataset object at 0x15128ac00>, train_loader=<torch.utils.data.dataloader.DataLoader object at 0x15117d4c0>, test_loader=<torch.utils.data.dataloader.DataLoader object at 0x1511ed970>)), criterion=MSELoss(), experiment_params=ExperimentParameters(iteration=7, p=0.01), model_a_path='pth/model-3A-c-P0.01_N7.pth', model_b_path='pth/model-3B-c-P0.01_N7.pth', loss_curve_plot_col_index=2)"
      ]
     },
     "metadata": {},
     "output_type": "display_data"
    },
    {
     "name": "stdout",
     "output_type": "stream",
     "text": [
      "NOTE: Training model RegularNetwork(inputs_count: 19, outputs_count: 1) in dry run mode. No changes to weights will be applied. An array of 20 -1s is generated for running_losses.\n",
      "NOTE: Training model AugmentedReLUNetwork(p: 0.01, inputs_count: 19, outputs_count: 1) in dry run mode. No changes to weights will be applied. An array of 20 -1s is generated for running_losses.\n",
      "NOTE: save_plot called but no figure will be saved. Path: report/loss__p0.01_N7.png\n"
     ]
    },
    {
     "data": {
      "text/plain": [
       "TrainingParameters(dataset=Dataset(name='wisc_bc_data.csv', number=1, classes_count=2, data=DatasetData(train_dataset=<torch.utils.data.dataset.TensorDataset object at 0x151228fb0>, test_dataset=<torch.utils.data.dataset.TensorDataset object at 0x151255eb0>, train_loader=<torch.utils.data.dataloader.DataLoader object at 0x15115d940>, test_loader=<torch.utils.data.dataloader.DataLoader object at 0x15115d910>)), criterion=CrossEntropyLoss(), experiment_params=ExperimentParameters(iteration=7, p=0.05), model_a_path='pth/model-1A-c-P0.05_N7.pth', model_b_path='pth/model-1B-c-P0.05_N7.pth', loss_curve_plot_col_index=0)"
      ]
     },
     "metadata": {},
     "output_type": "display_data"
    },
    {
     "name": "stdout",
     "output_type": "stream",
     "text": [
      "NOTE: Training model RegularNetwork(inputs_count: 30, outputs_count: 2) in dry run mode. No changes to weights will be applied. An array of 20 -1s is generated for running_losses.\n",
      "NOTE: Training model AugmentedReLUNetwork(p: 0.05, inputs_count: 30, outputs_count: 2) in dry run mode. No changes to weights will be applied. An array of 20 -1s is generated for running_losses.\n"
     ]
    },
    {
     "data": {
      "text/plain": [
       "TrainingParameters(dataset=Dataset(name='car_evaluation.csv', number=2, classes_count=4, data=DatasetData(train_dataset=<torch.utils.data.dataset.TensorDataset object at 0x151117320>, test_dataset=<torch.utils.data.dataset.TensorDataset object at 0x151288bc0>, train_loader=<torch.utils.data.dataloader.DataLoader object at 0x1511173e0>, test_loader=<torch.utils.data.dataloader.DataLoader object at 0x1511d7ef0>)), criterion=CrossEntropyLoss(), experiment_params=ExperimentParameters(iteration=7, p=0.05), model_a_path='pth/model-2A-c-P0.05_N7.pth', model_b_path='pth/model-2B-c-P0.05_N7.pth', loss_curve_plot_col_index=1)"
      ]
     },
     "metadata": {},
     "output_type": "display_data"
    },
    {
     "name": "stdout",
     "output_type": "stream",
     "text": [
      "NOTE: Training model RegularNetwork(inputs_count: 6, outputs_count: 4) in dry run mode. No changes to weights will be applied. An array of 20 -1s is generated for running_losses.\n",
      "NOTE: Training model AugmentedReLUNetwork(p: 0.05, inputs_count: 6, outputs_count: 4) in dry run mode. No changes to weights will be applied. An array of 20 -1s is generated for running_losses.\n"
     ]
    },
    {
     "data": {
      "text/plain": [
       "TrainingParameters(dataset=Dataset(name='StudentPerformanceFactors.csv', number=3, classes_count=1, data=DatasetData(train_dataset=<torch.utils.data.dataset.TensorDataset object at 0x151216cc0>, test_dataset=<torch.utils.data.dataset.TensorDataset object at 0x15128ac00>, train_loader=<torch.utils.data.dataloader.DataLoader object at 0x15117d4c0>, test_loader=<torch.utils.data.dataloader.DataLoader object at 0x1511ed970>)), criterion=MSELoss(), experiment_params=ExperimentParameters(iteration=7, p=0.05), model_a_path='pth/model-3A-c-P0.05_N7.pth', model_b_path='pth/model-3B-c-P0.05_N7.pth', loss_curve_plot_col_index=2)"
      ]
     },
     "metadata": {},
     "output_type": "display_data"
    },
    {
     "name": "stdout",
     "output_type": "stream",
     "text": [
      "NOTE: Training model RegularNetwork(inputs_count: 19, outputs_count: 1) in dry run mode. No changes to weights will be applied. An array of 20 -1s is generated for running_losses.\n",
      "NOTE: Training model AugmentedReLUNetwork(p: 0.05, inputs_count: 19, outputs_count: 1) in dry run mode. No changes to weights will be applied. An array of 20 -1s is generated for running_losses.\n",
      "NOTE: save_plot called but no figure will be saved. Path: report/loss__p0.05_N7.png\n"
     ]
    },
    {
     "data": {
      "text/plain": [
       "TrainingParameters(dataset=Dataset(name='wisc_bc_data.csv', number=1, classes_count=2, data=DatasetData(train_dataset=<torch.utils.data.dataset.TensorDataset object at 0x151228fb0>, test_dataset=<torch.utils.data.dataset.TensorDataset object at 0x151255eb0>, train_loader=<torch.utils.data.dataloader.DataLoader object at 0x15115d940>, test_loader=<torch.utils.data.dataloader.DataLoader object at 0x15115d910>)), criterion=CrossEntropyLoss(), experiment_params=ExperimentParameters(iteration=7, p=0.5), model_a_path='pth/model-1A-c-P0.5_N7.pth', model_b_path='pth/model-1B-c-P0.5_N7.pth', loss_curve_plot_col_index=0)"
      ]
     },
     "metadata": {},
     "output_type": "display_data"
    },
    {
     "name": "stdout",
     "output_type": "stream",
     "text": [
      "NOTE: Training model RegularNetwork(inputs_count: 30, outputs_count: 2) in dry run mode. No changes to weights will be applied. An array of 20 -1s is generated for running_losses.\n",
      "NOTE: Training model AugmentedReLUNetwork(p: 0.5, inputs_count: 30, outputs_count: 2) in dry run mode. No changes to weights will be applied. An array of 20 -1s is generated for running_losses.\n"
     ]
    },
    {
     "data": {
      "text/plain": [
       "TrainingParameters(dataset=Dataset(name='car_evaluation.csv', number=2, classes_count=4, data=DatasetData(train_dataset=<torch.utils.data.dataset.TensorDataset object at 0x151117320>, test_dataset=<torch.utils.data.dataset.TensorDataset object at 0x151288bc0>, train_loader=<torch.utils.data.dataloader.DataLoader object at 0x1511173e0>, test_loader=<torch.utils.data.dataloader.DataLoader object at 0x1511d7ef0>)), criterion=CrossEntropyLoss(), experiment_params=ExperimentParameters(iteration=7, p=0.5), model_a_path='pth/model-2A-c-P0.5_N7.pth', model_b_path='pth/model-2B-c-P0.5_N7.pth', loss_curve_plot_col_index=1)"
      ]
     },
     "metadata": {},
     "output_type": "display_data"
    },
    {
     "name": "stdout",
     "output_type": "stream",
     "text": [
      "NOTE: Training model RegularNetwork(inputs_count: 6, outputs_count: 4) in dry run mode. No changes to weights will be applied. An array of 20 -1s is generated for running_losses.\n",
      "NOTE: Training model AugmentedReLUNetwork(p: 0.5, inputs_count: 6, outputs_count: 4) in dry run mode. No changes to weights will be applied. An array of 20 -1s is generated for running_losses.\n"
     ]
    },
    {
     "data": {
      "text/plain": [
       "TrainingParameters(dataset=Dataset(name='StudentPerformanceFactors.csv', number=3, classes_count=1, data=DatasetData(train_dataset=<torch.utils.data.dataset.TensorDataset object at 0x151216cc0>, test_dataset=<torch.utils.data.dataset.TensorDataset object at 0x15128ac00>, train_loader=<torch.utils.data.dataloader.DataLoader object at 0x15117d4c0>, test_loader=<torch.utils.data.dataloader.DataLoader object at 0x1511ed970>)), criterion=MSELoss(), experiment_params=ExperimentParameters(iteration=7, p=0.5), model_a_path='pth/model-3A-c-P0.5_N7.pth', model_b_path='pth/model-3B-c-P0.5_N7.pth', loss_curve_plot_col_index=2)"
      ]
     },
     "metadata": {},
     "output_type": "display_data"
    },
    {
     "name": "stdout",
     "output_type": "stream",
     "text": [
      "NOTE: Training model RegularNetwork(inputs_count: 19, outputs_count: 1) in dry run mode. No changes to weights will be applied. An array of 20 -1s is generated for running_losses.\n",
      "NOTE: Training model AugmentedReLUNetwork(p: 0.5, inputs_count: 19, outputs_count: 1) in dry run mode. No changes to weights will be applied. An array of 20 -1s is generated for running_losses.\n",
      "NOTE: save_plot called but no figure will be saved. Path: report/loss__p0.5_N7.png\n"
     ]
    },
    {
     "data": {
      "text/plain": [
       "TrainingParameters(dataset=Dataset(name='wisc_bc_data.csv', number=1, classes_count=2, data=DatasetData(train_dataset=<torch.utils.data.dataset.TensorDataset object at 0x151228fb0>, test_dataset=<torch.utils.data.dataset.TensorDataset object at 0x151255eb0>, train_loader=<torch.utils.data.dataloader.DataLoader object at 0x15115d940>, test_loader=<torch.utils.data.dataloader.DataLoader object at 0x15115d910>)), criterion=CrossEntropyLoss(), experiment_params=ExperimentParameters(iteration=7, p=0.9), model_a_path='pth/model-1A-c-P0.9_N7.pth', model_b_path='pth/model-1B-c-P0.9_N7.pth', loss_curve_plot_col_index=0)"
      ]
     },
     "metadata": {},
     "output_type": "display_data"
    },
    {
     "name": "stdout",
     "output_type": "stream",
     "text": [
      "NOTE: Training model RegularNetwork(inputs_count: 30, outputs_count: 2) in dry run mode. No changes to weights will be applied. An array of 20 -1s is generated for running_losses.\n",
      "NOTE: Training model AugmentedReLUNetwork(p: 0.9, inputs_count: 30, outputs_count: 2) in dry run mode. No changes to weights will be applied. An array of 20 -1s is generated for running_losses.\n"
     ]
    },
    {
     "data": {
      "text/plain": [
       "TrainingParameters(dataset=Dataset(name='car_evaluation.csv', number=2, classes_count=4, data=DatasetData(train_dataset=<torch.utils.data.dataset.TensorDataset object at 0x151117320>, test_dataset=<torch.utils.data.dataset.TensorDataset object at 0x151288bc0>, train_loader=<torch.utils.data.dataloader.DataLoader object at 0x1511173e0>, test_loader=<torch.utils.data.dataloader.DataLoader object at 0x1511d7ef0>)), criterion=CrossEntropyLoss(), experiment_params=ExperimentParameters(iteration=7, p=0.9), model_a_path='pth/model-2A-c-P0.9_N7.pth', model_b_path='pth/model-2B-c-P0.9_N7.pth', loss_curve_plot_col_index=1)"
      ]
     },
     "metadata": {},
     "output_type": "display_data"
    },
    {
     "name": "stdout",
     "output_type": "stream",
     "text": [
      "NOTE: Training model RegularNetwork(inputs_count: 6, outputs_count: 4) in dry run mode. No changes to weights will be applied. An array of 20 -1s is generated for running_losses.\n",
      "NOTE: Training model AugmentedReLUNetwork(p: 0.9, inputs_count: 6, outputs_count: 4) in dry run mode. No changes to weights will be applied. An array of 20 -1s is generated for running_losses.\n"
     ]
    },
    {
     "data": {
      "text/plain": [
       "TrainingParameters(dataset=Dataset(name='StudentPerformanceFactors.csv', number=3, classes_count=1, data=DatasetData(train_dataset=<torch.utils.data.dataset.TensorDataset object at 0x151216cc0>, test_dataset=<torch.utils.data.dataset.TensorDataset object at 0x15128ac00>, train_loader=<torch.utils.data.dataloader.DataLoader object at 0x15117d4c0>, test_loader=<torch.utils.data.dataloader.DataLoader object at 0x1511ed970>)), criterion=MSELoss(), experiment_params=ExperimentParameters(iteration=7, p=0.9), model_a_path='pth/model-3A-c-P0.9_N7.pth', model_b_path='pth/model-3B-c-P0.9_N7.pth', loss_curve_plot_col_index=2)"
      ]
     },
     "metadata": {},
     "output_type": "display_data"
    },
    {
     "name": "stdout",
     "output_type": "stream",
     "text": [
      "NOTE: Training model RegularNetwork(inputs_count: 19, outputs_count: 1) in dry run mode. No changes to weights will be applied. An array of 20 -1s is generated for running_losses.\n",
      "NOTE: Training model AugmentedReLUNetwork(p: 0.9, inputs_count: 19, outputs_count: 1) in dry run mode. No changes to weights will be applied. An array of 20 -1s is generated for running_losses.\n",
      "NOTE: save_plot called but no figure will be saved. Path: report/loss__p0.9_N7.png\n"
     ]
    },
    {
     "data": {
      "text/plain": [
       "TrainingParameters(dataset=Dataset(name='wisc_bc_data.csv', number=1, classes_count=2, data=DatasetData(train_dataset=<torch.utils.data.dataset.TensorDataset object at 0x151228fb0>, test_dataset=<torch.utils.data.dataset.TensorDataset object at 0x151255eb0>, train_loader=<torch.utils.data.dataloader.DataLoader object at 0x15115d940>, test_loader=<torch.utils.data.dataloader.DataLoader object at 0x15115d910>)), criterion=CrossEntropyLoss(), experiment_params=ExperimentParameters(iteration=7, p=0.95), model_a_path='pth/model-1A-c-P0.95_N7.pth', model_b_path='pth/model-1B-c-P0.95_N7.pth', loss_curve_plot_col_index=0)"
      ]
     },
     "metadata": {},
     "output_type": "display_data"
    },
    {
     "name": "stdout",
     "output_type": "stream",
     "text": [
      "NOTE: Training model RegularNetwork(inputs_count: 30, outputs_count: 2) in dry run mode. No changes to weights will be applied. An array of 20 -1s is generated for running_losses.\n",
      "NOTE: Training model AugmentedReLUNetwork(p: 0.95, inputs_count: 30, outputs_count: 2) in dry run mode. No changes to weights will be applied. An array of 20 -1s is generated for running_losses.\n"
     ]
    },
    {
     "data": {
      "text/plain": [
       "TrainingParameters(dataset=Dataset(name='car_evaluation.csv', number=2, classes_count=4, data=DatasetData(train_dataset=<torch.utils.data.dataset.TensorDataset object at 0x151117320>, test_dataset=<torch.utils.data.dataset.TensorDataset object at 0x151288bc0>, train_loader=<torch.utils.data.dataloader.DataLoader object at 0x1511173e0>, test_loader=<torch.utils.data.dataloader.DataLoader object at 0x1511d7ef0>)), criterion=CrossEntropyLoss(), experiment_params=ExperimentParameters(iteration=7, p=0.95), model_a_path='pth/model-2A-c-P0.95_N7.pth', model_b_path='pth/model-2B-c-P0.95_N7.pth', loss_curve_plot_col_index=1)"
      ]
     },
     "metadata": {},
     "output_type": "display_data"
    },
    {
     "name": "stdout",
     "output_type": "stream",
     "text": [
      "NOTE: Training model RegularNetwork(inputs_count: 6, outputs_count: 4) in dry run mode. No changes to weights will be applied. An array of 20 -1s is generated for running_losses.\n",
      "NOTE: Training model AugmentedReLUNetwork(p: 0.95, inputs_count: 6, outputs_count: 4) in dry run mode. No changes to weights will be applied. An array of 20 -1s is generated for running_losses.\n"
     ]
    },
    {
     "data": {
      "text/plain": [
       "TrainingParameters(dataset=Dataset(name='StudentPerformanceFactors.csv', number=3, classes_count=1, data=DatasetData(train_dataset=<torch.utils.data.dataset.TensorDataset object at 0x151216cc0>, test_dataset=<torch.utils.data.dataset.TensorDataset object at 0x15128ac00>, train_loader=<torch.utils.data.dataloader.DataLoader object at 0x15117d4c0>, test_loader=<torch.utils.data.dataloader.DataLoader object at 0x1511ed970>)), criterion=MSELoss(), experiment_params=ExperimentParameters(iteration=7, p=0.95), model_a_path='pth/model-3A-c-P0.95_N7.pth', model_b_path='pth/model-3B-c-P0.95_N7.pth', loss_curve_plot_col_index=2)"
      ]
     },
     "metadata": {},
     "output_type": "display_data"
    },
    {
     "name": "stdout",
     "output_type": "stream",
     "text": [
      "NOTE: Training model RegularNetwork(inputs_count: 19, outputs_count: 1) in dry run mode. No changes to weights will be applied. An array of 20 -1s is generated for running_losses.\n",
      "NOTE: Training model AugmentedReLUNetwork(p: 0.95, inputs_count: 19, outputs_count: 1) in dry run mode. No changes to weights will be applied. An array of 20 -1s is generated for running_losses.\n",
      "NOTE: save_plot called but no figure will be saved. Path: report/loss__p0.95_N7.png\n"
     ]
    },
    {
     "data": {
      "text/plain": [
       "TrainingParameters(dataset=Dataset(name='wisc_bc_data.csv', number=1, classes_count=2, data=DatasetData(train_dataset=<torch.utils.data.dataset.TensorDataset object at 0x151228fb0>, test_dataset=<torch.utils.data.dataset.TensorDataset object at 0x151255eb0>, train_loader=<torch.utils.data.dataloader.DataLoader object at 0x15115d940>, test_loader=<torch.utils.data.dataloader.DataLoader object at 0x15115d910>)), criterion=CrossEntropyLoss(), experiment_params=ExperimentParameters(iteration=7, p=0.99), model_a_path='pth/model-1A-c-P0.99_N7.pth', model_b_path='pth/model-1B-c-P0.99_N7.pth', loss_curve_plot_col_index=0)"
      ]
     },
     "metadata": {},
     "output_type": "display_data"
    },
    {
     "name": "stdout",
     "output_type": "stream",
     "text": [
      "NOTE: Training model RegularNetwork(inputs_count: 30, outputs_count: 2) in dry run mode. No changes to weights will be applied. An array of 20 -1s is generated for running_losses.\n",
      "NOTE: Training model AugmentedReLUNetwork(p: 0.99, inputs_count: 30, outputs_count: 2) in dry run mode. No changes to weights will be applied. An array of 20 -1s is generated for running_losses.\n"
     ]
    },
    {
     "data": {
      "text/plain": [
       "TrainingParameters(dataset=Dataset(name='car_evaluation.csv', number=2, classes_count=4, data=DatasetData(train_dataset=<torch.utils.data.dataset.TensorDataset object at 0x151117320>, test_dataset=<torch.utils.data.dataset.TensorDataset object at 0x151288bc0>, train_loader=<torch.utils.data.dataloader.DataLoader object at 0x1511173e0>, test_loader=<torch.utils.data.dataloader.DataLoader object at 0x1511d7ef0>)), criterion=CrossEntropyLoss(), experiment_params=ExperimentParameters(iteration=7, p=0.99), model_a_path='pth/model-2A-c-P0.99_N7.pth', model_b_path='pth/model-2B-c-P0.99_N7.pth', loss_curve_plot_col_index=1)"
      ]
     },
     "metadata": {},
     "output_type": "display_data"
    },
    {
     "name": "stdout",
     "output_type": "stream",
     "text": [
      "NOTE: Training model RegularNetwork(inputs_count: 6, outputs_count: 4) in dry run mode. No changes to weights will be applied. An array of 20 -1s is generated for running_losses.\n",
      "NOTE: Training model AugmentedReLUNetwork(p: 0.99, inputs_count: 6, outputs_count: 4) in dry run mode. No changes to weights will be applied. An array of 20 -1s is generated for running_losses.\n"
     ]
    },
    {
     "data": {
      "text/plain": [
       "TrainingParameters(dataset=Dataset(name='StudentPerformanceFactors.csv', number=3, classes_count=1, data=DatasetData(train_dataset=<torch.utils.data.dataset.TensorDataset object at 0x151216cc0>, test_dataset=<torch.utils.data.dataset.TensorDataset object at 0x15128ac00>, train_loader=<torch.utils.data.dataloader.DataLoader object at 0x15117d4c0>, test_loader=<torch.utils.data.dataloader.DataLoader object at 0x1511ed970>)), criterion=MSELoss(), experiment_params=ExperimentParameters(iteration=7, p=0.99), model_a_path='pth/model-3A-c-P0.99_N7.pth', model_b_path='pth/model-3B-c-P0.99_N7.pth', loss_curve_plot_col_index=2)"
      ]
     },
     "metadata": {},
     "output_type": "display_data"
    },
    {
     "name": "stdout",
     "output_type": "stream",
     "text": [
      "NOTE: Training model RegularNetwork(inputs_count: 19, outputs_count: 1) in dry run mode. No changes to weights will be applied. An array of 20 -1s is generated for running_losses.\n",
      "NOTE: Training model AugmentedReLUNetwork(p: 0.99, inputs_count: 19, outputs_count: 1) in dry run mode. No changes to weights will be applied. An array of 20 -1s is generated for running_losses.\n",
      "NOTE: save_plot called but no figure will be saved. Path: report/loss__p0.99_N7.png\n"
     ]
    },
    {
     "data": {
      "text/plain": [
       "TrainingParameters(dataset=Dataset(name='wisc_bc_data.csv', number=1, classes_count=2, data=DatasetData(train_dataset=<torch.utils.data.dataset.TensorDataset object at 0x151228fb0>, test_dataset=<torch.utils.data.dataset.TensorDataset object at 0x151255eb0>, train_loader=<torch.utils.data.dataloader.DataLoader object at 0x15115d940>, test_loader=<torch.utils.data.dataloader.DataLoader object at 0x15115d910>)), criterion=CrossEntropyLoss(), experiment_params=ExperimentParameters(iteration=8, p=0), model_a_path='pth/model-1A-c-P0_N8.pth', model_b_path='pth/model-1B-c-P0_N8.pth', loss_curve_plot_col_index=0)"
      ]
     },
     "metadata": {},
     "output_type": "display_data"
    },
    {
     "name": "stdout",
     "output_type": "stream",
     "text": [
      "NOTE: Training model RegularNetwork(inputs_count: 30, outputs_count: 2) in dry run mode. No changes to weights will be applied. An array of 20 -1s is generated for running_losses.\n",
      "NOTE: Training model AugmentedReLUNetwork(p: 0, inputs_count: 30, outputs_count: 2) in dry run mode. No changes to weights will be applied. An array of 20 -1s is generated for running_losses.\n"
     ]
    },
    {
     "data": {
      "text/plain": [
       "TrainingParameters(dataset=Dataset(name='car_evaluation.csv', number=2, classes_count=4, data=DatasetData(train_dataset=<torch.utils.data.dataset.TensorDataset object at 0x151117320>, test_dataset=<torch.utils.data.dataset.TensorDataset object at 0x151288bc0>, train_loader=<torch.utils.data.dataloader.DataLoader object at 0x1511173e0>, test_loader=<torch.utils.data.dataloader.DataLoader object at 0x1511d7ef0>)), criterion=CrossEntropyLoss(), experiment_params=ExperimentParameters(iteration=8, p=0), model_a_path='pth/model-2A-c-P0_N8.pth', model_b_path='pth/model-2B-c-P0_N8.pth', loss_curve_plot_col_index=1)"
      ]
     },
     "metadata": {},
     "output_type": "display_data"
    },
    {
     "name": "stdout",
     "output_type": "stream",
     "text": [
      "NOTE: Training model RegularNetwork(inputs_count: 6, outputs_count: 4) in dry run mode. No changes to weights will be applied. An array of 20 -1s is generated for running_losses.\n",
      "NOTE: Training model AugmentedReLUNetwork(p: 0, inputs_count: 6, outputs_count: 4) in dry run mode. No changes to weights will be applied. An array of 20 -1s is generated for running_losses.\n"
     ]
    },
    {
     "data": {
      "text/plain": [
       "TrainingParameters(dataset=Dataset(name='StudentPerformanceFactors.csv', number=3, classes_count=1, data=DatasetData(train_dataset=<torch.utils.data.dataset.TensorDataset object at 0x151216cc0>, test_dataset=<torch.utils.data.dataset.TensorDataset object at 0x15128ac00>, train_loader=<torch.utils.data.dataloader.DataLoader object at 0x15117d4c0>, test_loader=<torch.utils.data.dataloader.DataLoader object at 0x1511ed970>)), criterion=MSELoss(), experiment_params=ExperimentParameters(iteration=8, p=0), model_a_path='pth/model-3A-c-P0_N8.pth', model_b_path='pth/model-3B-c-P0_N8.pth', loss_curve_plot_col_index=2)"
      ]
     },
     "metadata": {},
     "output_type": "display_data"
    },
    {
     "name": "stdout",
     "output_type": "stream",
     "text": [
      "NOTE: Training model RegularNetwork(inputs_count: 19, outputs_count: 1) in dry run mode. No changes to weights will be applied. An array of 20 -1s is generated for running_losses.\n",
      "NOTE: Training model AugmentedReLUNetwork(p: 0, inputs_count: 19, outputs_count: 1) in dry run mode. No changes to weights will be applied. An array of 20 -1s is generated for running_losses.\n",
      "NOTE: save_plot called but no figure will be saved. Path: report/loss__p0_N8.png\n"
     ]
    },
    {
     "data": {
      "text/plain": [
       "TrainingParameters(dataset=Dataset(name='wisc_bc_data.csv', number=1, classes_count=2, data=DatasetData(train_dataset=<torch.utils.data.dataset.TensorDataset object at 0x151228fb0>, test_dataset=<torch.utils.data.dataset.TensorDataset object at 0x151255eb0>, train_loader=<torch.utils.data.dataloader.DataLoader object at 0x15115d940>, test_loader=<torch.utils.data.dataloader.DataLoader object at 0x15115d910>)), criterion=CrossEntropyLoss(), experiment_params=ExperimentParameters(iteration=8, p=0.01), model_a_path='pth/model-1A-c-P0.01_N8.pth', model_b_path='pth/model-1B-c-P0.01_N8.pth', loss_curve_plot_col_index=0)"
      ]
     },
     "metadata": {},
     "output_type": "display_data"
    },
    {
     "name": "stdout",
     "output_type": "stream",
     "text": [
      "NOTE: Training model RegularNetwork(inputs_count: 30, outputs_count: 2) in dry run mode. No changes to weights will be applied. An array of 20 -1s is generated for running_losses.\n",
      "NOTE: Training model AugmentedReLUNetwork(p: 0.01, inputs_count: 30, outputs_count: 2) in dry run mode. No changes to weights will be applied. An array of 20 -1s is generated for running_losses.\n"
     ]
    },
    {
     "data": {
      "text/plain": [
       "TrainingParameters(dataset=Dataset(name='car_evaluation.csv', number=2, classes_count=4, data=DatasetData(train_dataset=<torch.utils.data.dataset.TensorDataset object at 0x151117320>, test_dataset=<torch.utils.data.dataset.TensorDataset object at 0x151288bc0>, train_loader=<torch.utils.data.dataloader.DataLoader object at 0x1511173e0>, test_loader=<torch.utils.data.dataloader.DataLoader object at 0x1511d7ef0>)), criterion=CrossEntropyLoss(), experiment_params=ExperimentParameters(iteration=8, p=0.01), model_a_path='pth/model-2A-c-P0.01_N8.pth', model_b_path='pth/model-2B-c-P0.01_N8.pth', loss_curve_plot_col_index=1)"
      ]
     },
     "metadata": {},
     "output_type": "display_data"
    },
    {
     "name": "stdout",
     "output_type": "stream",
     "text": [
      "NOTE: Training model RegularNetwork(inputs_count: 6, outputs_count: 4) in dry run mode. No changes to weights will be applied. An array of 20 -1s is generated for running_losses.\n",
      "NOTE: Training model AugmentedReLUNetwork(p: 0.01, inputs_count: 6, outputs_count: 4) in dry run mode. No changes to weights will be applied. An array of 20 -1s is generated for running_losses.\n"
     ]
    },
    {
     "data": {
      "text/plain": [
       "TrainingParameters(dataset=Dataset(name='StudentPerformanceFactors.csv', number=3, classes_count=1, data=DatasetData(train_dataset=<torch.utils.data.dataset.TensorDataset object at 0x151216cc0>, test_dataset=<torch.utils.data.dataset.TensorDataset object at 0x15128ac00>, train_loader=<torch.utils.data.dataloader.DataLoader object at 0x15117d4c0>, test_loader=<torch.utils.data.dataloader.DataLoader object at 0x1511ed970>)), criterion=MSELoss(), experiment_params=ExperimentParameters(iteration=8, p=0.01), model_a_path='pth/model-3A-c-P0.01_N8.pth', model_b_path='pth/model-3B-c-P0.01_N8.pth', loss_curve_plot_col_index=2)"
      ]
     },
     "metadata": {},
     "output_type": "display_data"
    },
    {
     "name": "stdout",
     "output_type": "stream",
     "text": [
      "NOTE: Training model RegularNetwork(inputs_count: 19, outputs_count: 1) in dry run mode. No changes to weights will be applied. An array of 20 -1s is generated for running_losses.\n",
      "NOTE: Training model AugmentedReLUNetwork(p: 0.01, inputs_count: 19, outputs_count: 1) in dry run mode. No changes to weights will be applied. An array of 20 -1s is generated for running_losses.\n",
      "NOTE: save_plot called but no figure will be saved. Path: report/loss__p0.01_N8.png\n"
     ]
    },
    {
     "data": {
      "text/plain": [
       "TrainingParameters(dataset=Dataset(name='wisc_bc_data.csv', number=1, classes_count=2, data=DatasetData(train_dataset=<torch.utils.data.dataset.TensorDataset object at 0x151228fb0>, test_dataset=<torch.utils.data.dataset.TensorDataset object at 0x151255eb0>, train_loader=<torch.utils.data.dataloader.DataLoader object at 0x15115d940>, test_loader=<torch.utils.data.dataloader.DataLoader object at 0x15115d910>)), criterion=CrossEntropyLoss(), experiment_params=ExperimentParameters(iteration=8, p=0.05), model_a_path='pth/model-1A-c-P0.05_N8.pth', model_b_path='pth/model-1B-c-P0.05_N8.pth', loss_curve_plot_col_index=0)"
      ]
     },
     "metadata": {},
     "output_type": "display_data"
    },
    {
     "name": "stdout",
     "output_type": "stream",
     "text": [
      "NOTE: Training model RegularNetwork(inputs_count: 30, outputs_count: 2) in dry run mode. No changes to weights will be applied. An array of 20 -1s is generated for running_losses.\n",
      "NOTE: Training model AugmentedReLUNetwork(p: 0.05, inputs_count: 30, outputs_count: 2) in dry run mode. No changes to weights will be applied. An array of 20 -1s is generated for running_losses.\n"
     ]
    },
    {
     "data": {
      "text/plain": [
       "TrainingParameters(dataset=Dataset(name='car_evaluation.csv', number=2, classes_count=4, data=DatasetData(train_dataset=<torch.utils.data.dataset.TensorDataset object at 0x151117320>, test_dataset=<torch.utils.data.dataset.TensorDataset object at 0x151288bc0>, train_loader=<torch.utils.data.dataloader.DataLoader object at 0x1511173e0>, test_loader=<torch.utils.data.dataloader.DataLoader object at 0x1511d7ef0>)), criterion=CrossEntropyLoss(), experiment_params=ExperimentParameters(iteration=8, p=0.05), model_a_path='pth/model-2A-c-P0.05_N8.pth', model_b_path='pth/model-2B-c-P0.05_N8.pth', loss_curve_plot_col_index=1)"
      ]
     },
     "metadata": {},
     "output_type": "display_data"
    },
    {
     "name": "stdout",
     "output_type": "stream",
     "text": [
      "NOTE: Training model RegularNetwork(inputs_count: 6, outputs_count: 4) in dry run mode. No changes to weights will be applied. An array of 20 -1s is generated for running_losses.\n",
      "NOTE: Training model AugmentedReLUNetwork(p: 0.05, inputs_count: 6, outputs_count: 4) in dry run mode. No changes to weights will be applied. An array of 20 -1s is generated for running_losses.\n"
     ]
    },
    {
     "data": {
      "text/plain": [
       "TrainingParameters(dataset=Dataset(name='StudentPerformanceFactors.csv', number=3, classes_count=1, data=DatasetData(train_dataset=<torch.utils.data.dataset.TensorDataset object at 0x151216cc0>, test_dataset=<torch.utils.data.dataset.TensorDataset object at 0x15128ac00>, train_loader=<torch.utils.data.dataloader.DataLoader object at 0x15117d4c0>, test_loader=<torch.utils.data.dataloader.DataLoader object at 0x1511ed970>)), criterion=MSELoss(), experiment_params=ExperimentParameters(iteration=8, p=0.05), model_a_path='pth/model-3A-c-P0.05_N8.pth', model_b_path='pth/model-3B-c-P0.05_N8.pth', loss_curve_plot_col_index=2)"
      ]
     },
     "metadata": {},
     "output_type": "display_data"
    },
    {
     "name": "stdout",
     "output_type": "stream",
     "text": [
      "NOTE: Training model RegularNetwork(inputs_count: 19, outputs_count: 1) in dry run mode. No changes to weights will be applied. An array of 20 -1s is generated for running_losses.\n",
      "NOTE: Training model AugmentedReLUNetwork(p: 0.05, inputs_count: 19, outputs_count: 1) in dry run mode. No changes to weights will be applied. An array of 20 -1s is generated for running_losses.\n",
      "NOTE: save_plot called but no figure will be saved. Path: report/loss__p0.05_N8.png\n"
     ]
    },
    {
     "data": {
      "text/plain": [
       "TrainingParameters(dataset=Dataset(name='wisc_bc_data.csv', number=1, classes_count=2, data=DatasetData(train_dataset=<torch.utils.data.dataset.TensorDataset object at 0x151228fb0>, test_dataset=<torch.utils.data.dataset.TensorDataset object at 0x151255eb0>, train_loader=<torch.utils.data.dataloader.DataLoader object at 0x15115d940>, test_loader=<torch.utils.data.dataloader.DataLoader object at 0x15115d910>)), criterion=CrossEntropyLoss(), experiment_params=ExperimentParameters(iteration=8, p=0.5), model_a_path='pth/model-1A-c-P0.5_N8.pth', model_b_path='pth/model-1B-c-P0.5_N8.pth', loss_curve_plot_col_index=0)"
      ]
     },
     "metadata": {},
     "output_type": "display_data"
    },
    {
     "name": "stdout",
     "output_type": "stream",
     "text": [
      "NOTE: Training model RegularNetwork(inputs_count: 30, outputs_count: 2) in dry run mode. No changes to weights will be applied. An array of 20 -1s is generated for running_losses.\n",
      "NOTE: Training model AugmentedReLUNetwork(p: 0.5, inputs_count: 30, outputs_count: 2) in dry run mode. No changes to weights will be applied. An array of 20 -1s is generated for running_losses.\n"
     ]
    },
    {
     "data": {
      "text/plain": [
       "TrainingParameters(dataset=Dataset(name='car_evaluation.csv', number=2, classes_count=4, data=DatasetData(train_dataset=<torch.utils.data.dataset.TensorDataset object at 0x151117320>, test_dataset=<torch.utils.data.dataset.TensorDataset object at 0x151288bc0>, train_loader=<torch.utils.data.dataloader.DataLoader object at 0x1511173e0>, test_loader=<torch.utils.data.dataloader.DataLoader object at 0x1511d7ef0>)), criterion=CrossEntropyLoss(), experiment_params=ExperimentParameters(iteration=8, p=0.5), model_a_path='pth/model-2A-c-P0.5_N8.pth', model_b_path='pth/model-2B-c-P0.5_N8.pth', loss_curve_plot_col_index=1)"
      ]
     },
     "metadata": {},
     "output_type": "display_data"
    },
    {
     "name": "stdout",
     "output_type": "stream",
     "text": [
      "NOTE: Training model RegularNetwork(inputs_count: 6, outputs_count: 4) in dry run mode. No changes to weights will be applied. An array of 20 -1s is generated for running_losses.\n",
      "NOTE: Training model AugmentedReLUNetwork(p: 0.5, inputs_count: 6, outputs_count: 4) in dry run mode. No changes to weights will be applied. An array of 20 -1s is generated for running_losses.\n"
     ]
    },
    {
     "data": {
      "text/plain": [
       "TrainingParameters(dataset=Dataset(name='StudentPerformanceFactors.csv', number=3, classes_count=1, data=DatasetData(train_dataset=<torch.utils.data.dataset.TensorDataset object at 0x151216cc0>, test_dataset=<torch.utils.data.dataset.TensorDataset object at 0x15128ac00>, train_loader=<torch.utils.data.dataloader.DataLoader object at 0x15117d4c0>, test_loader=<torch.utils.data.dataloader.DataLoader object at 0x1511ed970>)), criterion=MSELoss(), experiment_params=ExperimentParameters(iteration=8, p=0.5), model_a_path='pth/model-3A-c-P0.5_N8.pth', model_b_path='pth/model-3B-c-P0.5_N8.pth', loss_curve_plot_col_index=2)"
      ]
     },
     "metadata": {},
     "output_type": "display_data"
    },
    {
     "name": "stdout",
     "output_type": "stream",
     "text": [
      "NOTE: Training model RegularNetwork(inputs_count: 19, outputs_count: 1) in dry run mode. No changes to weights will be applied. An array of 20 -1s is generated for running_losses.\n",
      "NOTE: Training model AugmentedReLUNetwork(p: 0.5, inputs_count: 19, outputs_count: 1) in dry run mode. No changes to weights will be applied. An array of 20 -1s is generated for running_losses.\n",
      "NOTE: save_plot called but no figure will be saved. Path: report/loss__p0.5_N8.png\n"
     ]
    },
    {
     "data": {
      "text/plain": [
       "TrainingParameters(dataset=Dataset(name='wisc_bc_data.csv', number=1, classes_count=2, data=DatasetData(train_dataset=<torch.utils.data.dataset.TensorDataset object at 0x151228fb0>, test_dataset=<torch.utils.data.dataset.TensorDataset object at 0x151255eb0>, train_loader=<torch.utils.data.dataloader.DataLoader object at 0x15115d940>, test_loader=<torch.utils.data.dataloader.DataLoader object at 0x15115d910>)), criterion=CrossEntropyLoss(), experiment_params=ExperimentParameters(iteration=8, p=0.9), model_a_path='pth/model-1A-c-P0.9_N8.pth', model_b_path='pth/model-1B-c-P0.9_N8.pth', loss_curve_plot_col_index=0)"
      ]
     },
     "metadata": {},
     "output_type": "display_data"
    },
    {
     "name": "stdout",
     "output_type": "stream",
     "text": [
      "NOTE: Training model RegularNetwork(inputs_count: 30, outputs_count: 2) in dry run mode. No changes to weights will be applied. An array of 20 -1s is generated for running_losses.\n",
      "NOTE: Training model AugmentedReLUNetwork(p: 0.9, inputs_count: 30, outputs_count: 2) in dry run mode. No changes to weights will be applied. An array of 20 -1s is generated for running_losses.\n"
     ]
    },
    {
     "data": {
      "text/plain": [
       "TrainingParameters(dataset=Dataset(name='car_evaluation.csv', number=2, classes_count=4, data=DatasetData(train_dataset=<torch.utils.data.dataset.TensorDataset object at 0x151117320>, test_dataset=<torch.utils.data.dataset.TensorDataset object at 0x151288bc0>, train_loader=<torch.utils.data.dataloader.DataLoader object at 0x1511173e0>, test_loader=<torch.utils.data.dataloader.DataLoader object at 0x1511d7ef0>)), criterion=CrossEntropyLoss(), experiment_params=ExperimentParameters(iteration=8, p=0.9), model_a_path='pth/model-2A-c-P0.9_N8.pth', model_b_path='pth/model-2B-c-P0.9_N8.pth', loss_curve_plot_col_index=1)"
      ]
     },
     "metadata": {},
     "output_type": "display_data"
    },
    {
     "name": "stdout",
     "output_type": "stream",
     "text": [
      "NOTE: Training model RegularNetwork(inputs_count: 6, outputs_count: 4) in dry run mode. No changes to weights will be applied. An array of 20 -1s is generated for running_losses.\n",
      "NOTE: Training model AugmentedReLUNetwork(p: 0.9, inputs_count: 6, outputs_count: 4) in dry run mode. No changes to weights will be applied. An array of 20 -1s is generated for running_losses.\n"
     ]
    },
    {
     "data": {
      "text/plain": [
       "TrainingParameters(dataset=Dataset(name='StudentPerformanceFactors.csv', number=3, classes_count=1, data=DatasetData(train_dataset=<torch.utils.data.dataset.TensorDataset object at 0x151216cc0>, test_dataset=<torch.utils.data.dataset.TensorDataset object at 0x15128ac00>, train_loader=<torch.utils.data.dataloader.DataLoader object at 0x15117d4c0>, test_loader=<torch.utils.data.dataloader.DataLoader object at 0x1511ed970>)), criterion=MSELoss(), experiment_params=ExperimentParameters(iteration=8, p=0.9), model_a_path='pth/model-3A-c-P0.9_N8.pth', model_b_path='pth/model-3B-c-P0.9_N8.pth', loss_curve_plot_col_index=2)"
      ]
     },
     "metadata": {},
     "output_type": "display_data"
    },
    {
     "name": "stdout",
     "output_type": "stream",
     "text": [
      "NOTE: Training model RegularNetwork(inputs_count: 19, outputs_count: 1) in dry run mode. No changes to weights will be applied. An array of 20 -1s is generated for running_losses.\n",
      "NOTE: Training model AugmentedReLUNetwork(p: 0.9, inputs_count: 19, outputs_count: 1) in dry run mode. No changes to weights will be applied. An array of 20 -1s is generated for running_losses.\n",
      "NOTE: save_plot called but no figure will be saved. Path: report/loss__p0.9_N8.png\n"
     ]
    },
    {
     "data": {
      "text/plain": [
       "TrainingParameters(dataset=Dataset(name='wisc_bc_data.csv', number=1, classes_count=2, data=DatasetData(train_dataset=<torch.utils.data.dataset.TensorDataset object at 0x151228fb0>, test_dataset=<torch.utils.data.dataset.TensorDataset object at 0x151255eb0>, train_loader=<torch.utils.data.dataloader.DataLoader object at 0x15115d940>, test_loader=<torch.utils.data.dataloader.DataLoader object at 0x15115d910>)), criterion=CrossEntropyLoss(), experiment_params=ExperimentParameters(iteration=8, p=0.95), model_a_path='pth/model-1A-c-P0.95_N8.pth', model_b_path='pth/model-1B-c-P0.95_N8.pth', loss_curve_plot_col_index=0)"
      ]
     },
     "metadata": {},
     "output_type": "display_data"
    },
    {
     "name": "stdout",
     "output_type": "stream",
     "text": [
      "NOTE: Training model RegularNetwork(inputs_count: 30, outputs_count: 2) in dry run mode. No changes to weights will be applied. An array of 20 -1s is generated for running_losses.\n",
      "NOTE: Training model AugmentedReLUNetwork(p: 0.95, inputs_count: 30, outputs_count: 2) in dry run mode. No changes to weights will be applied. An array of 20 -1s is generated for running_losses.\n"
     ]
    },
    {
     "data": {
      "text/plain": [
       "TrainingParameters(dataset=Dataset(name='car_evaluation.csv', number=2, classes_count=4, data=DatasetData(train_dataset=<torch.utils.data.dataset.TensorDataset object at 0x151117320>, test_dataset=<torch.utils.data.dataset.TensorDataset object at 0x151288bc0>, train_loader=<torch.utils.data.dataloader.DataLoader object at 0x1511173e0>, test_loader=<torch.utils.data.dataloader.DataLoader object at 0x1511d7ef0>)), criterion=CrossEntropyLoss(), experiment_params=ExperimentParameters(iteration=8, p=0.95), model_a_path='pth/model-2A-c-P0.95_N8.pth', model_b_path='pth/model-2B-c-P0.95_N8.pth', loss_curve_plot_col_index=1)"
      ]
     },
     "metadata": {},
     "output_type": "display_data"
    },
    {
     "name": "stdout",
     "output_type": "stream",
     "text": [
      "NOTE: Training model RegularNetwork(inputs_count: 6, outputs_count: 4) in dry run mode. No changes to weights will be applied. An array of 20 -1s is generated for running_losses.\n",
      "NOTE: Training model AugmentedReLUNetwork(p: 0.95, inputs_count: 6, outputs_count: 4) in dry run mode. No changes to weights will be applied. An array of 20 -1s is generated for running_losses.\n"
     ]
    },
    {
     "data": {
      "text/plain": [
       "TrainingParameters(dataset=Dataset(name='StudentPerformanceFactors.csv', number=3, classes_count=1, data=DatasetData(train_dataset=<torch.utils.data.dataset.TensorDataset object at 0x151216cc0>, test_dataset=<torch.utils.data.dataset.TensorDataset object at 0x15128ac00>, train_loader=<torch.utils.data.dataloader.DataLoader object at 0x15117d4c0>, test_loader=<torch.utils.data.dataloader.DataLoader object at 0x1511ed970>)), criterion=MSELoss(), experiment_params=ExperimentParameters(iteration=8, p=0.95), model_a_path='pth/model-3A-c-P0.95_N8.pth', model_b_path='pth/model-3B-c-P0.95_N8.pth', loss_curve_plot_col_index=2)"
      ]
     },
     "metadata": {},
     "output_type": "display_data"
    },
    {
     "name": "stdout",
     "output_type": "stream",
     "text": [
      "NOTE: Training model RegularNetwork(inputs_count: 19, outputs_count: 1) in dry run mode. No changes to weights will be applied. An array of 20 -1s is generated for running_losses.\n",
      "NOTE: Training model AugmentedReLUNetwork(p: 0.95, inputs_count: 19, outputs_count: 1) in dry run mode. No changes to weights will be applied. An array of 20 -1s is generated for running_losses.\n",
      "NOTE: save_plot called but no figure will be saved. Path: report/loss__p0.95_N8.png\n"
     ]
    },
    {
     "data": {
      "text/plain": [
       "TrainingParameters(dataset=Dataset(name='wisc_bc_data.csv', number=1, classes_count=2, data=DatasetData(train_dataset=<torch.utils.data.dataset.TensorDataset object at 0x151228fb0>, test_dataset=<torch.utils.data.dataset.TensorDataset object at 0x151255eb0>, train_loader=<torch.utils.data.dataloader.DataLoader object at 0x15115d940>, test_loader=<torch.utils.data.dataloader.DataLoader object at 0x15115d910>)), criterion=CrossEntropyLoss(), experiment_params=ExperimentParameters(iteration=8, p=0.99), model_a_path='pth/model-1A-c-P0.99_N8.pth', model_b_path='pth/model-1B-c-P0.99_N8.pth', loss_curve_plot_col_index=0)"
      ]
     },
     "metadata": {},
     "output_type": "display_data"
    },
    {
     "name": "stdout",
     "output_type": "stream",
     "text": [
      "NOTE: Training model RegularNetwork(inputs_count: 30, outputs_count: 2) in dry run mode. No changes to weights will be applied. An array of 20 -1s is generated for running_losses.\n",
      "NOTE: Training model AugmentedReLUNetwork(p: 0.99, inputs_count: 30, outputs_count: 2) in dry run mode. No changes to weights will be applied. An array of 20 -1s is generated for running_losses.\n"
     ]
    },
    {
     "data": {
      "text/plain": [
       "TrainingParameters(dataset=Dataset(name='car_evaluation.csv', number=2, classes_count=4, data=DatasetData(train_dataset=<torch.utils.data.dataset.TensorDataset object at 0x151117320>, test_dataset=<torch.utils.data.dataset.TensorDataset object at 0x151288bc0>, train_loader=<torch.utils.data.dataloader.DataLoader object at 0x1511173e0>, test_loader=<torch.utils.data.dataloader.DataLoader object at 0x1511d7ef0>)), criterion=CrossEntropyLoss(), experiment_params=ExperimentParameters(iteration=8, p=0.99), model_a_path='pth/model-2A-c-P0.99_N8.pth', model_b_path='pth/model-2B-c-P0.99_N8.pth', loss_curve_plot_col_index=1)"
      ]
     },
     "metadata": {},
     "output_type": "display_data"
    },
    {
     "name": "stdout",
     "output_type": "stream",
     "text": [
      "NOTE: Training model RegularNetwork(inputs_count: 6, outputs_count: 4) in dry run mode. No changes to weights will be applied. An array of 20 -1s is generated for running_losses.\n",
      "NOTE: Training model AugmentedReLUNetwork(p: 0.99, inputs_count: 6, outputs_count: 4) in dry run mode. No changes to weights will be applied. An array of 20 -1s is generated for running_losses.\n"
     ]
    },
    {
     "data": {
      "text/plain": [
       "TrainingParameters(dataset=Dataset(name='StudentPerformanceFactors.csv', number=3, classes_count=1, data=DatasetData(train_dataset=<torch.utils.data.dataset.TensorDataset object at 0x151216cc0>, test_dataset=<torch.utils.data.dataset.TensorDataset object at 0x15128ac00>, train_loader=<torch.utils.data.dataloader.DataLoader object at 0x15117d4c0>, test_loader=<torch.utils.data.dataloader.DataLoader object at 0x1511ed970>)), criterion=MSELoss(), experiment_params=ExperimentParameters(iteration=8, p=0.99), model_a_path='pth/model-3A-c-P0.99_N8.pth', model_b_path='pth/model-3B-c-P0.99_N8.pth', loss_curve_plot_col_index=2)"
      ]
     },
     "metadata": {},
     "output_type": "display_data"
    },
    {
     "name": "stdout",
     "output_type": "stream",
     "text": [
      "NOTE: Training model RegularNetwork(inputs_count: 19, outputs_count: 1) in dry run mode. No changes to weights will be applied. An array of 20 -1s is generated for running_losses.\n",
      "NOTE: Training model AugmentedReLUNetwork(p: 0.99, inputs_count: 19, outputs_count: 1) in dry run mode. No changes to weights will be applied. An array of 20 -1s is generated for running_losses.\n",
      "NOTE: save_plot called but no figure will be saved. Path: report/loss__p0.99_N8.png\n"
     ]
    },
    {
     "data": {
      "text/plain": [
       "TrainingParameters(dataset=Dataset(name='wisc_bc_data.csv', number=1, classes_count=2, data=DatasetData(train_dataset=<torch.utils.data.dataset.TensorDataset object at 0x151228fb0>, test_dataset=<torch.utils.data.dataset.TensorDataset object at 0x151255eb0>, train_loader=<torch.utils.data.dataloader.DataLoader object at 0x15115d940>, test_loader=<torch.utils.data.dataloader.DataLoader object at 0x15115d910>)), criterion=CrossEntropyLoss(), experiment_params=ExperimentParameters(iteration=9, p=0), model_a_path='pth/model-1A-c-P0_N9.pth', model_b_path='pth/model-1B-c-P0_N9.pth', loss_curve_plot_col_index=0)"
      ]
     },
     "metadata": {},
     "output_type": "display_data"
    },
    {
     "name": "stdout",
     "output_type": "stream",
     "text": [
      "NOTE: Training model RegularNetwork(inputs_count: 30, outputs_count: 2) in dry run mode. No changes to weights will be applied. An array of 20 -1s is generated for running_losses.\n",
      "NOTE: Training model AugmentedReLUNetwork(p: 0, inputs_count: 30, outputs_count: 2) in dry run mode. No changes to weights will be applied. An array of 20 -1s is generated for running_losses.\n"
     ]
    },
    {
     "data": {
      "text/plain": [
       "TrainingParameters(dataset=Dataset(name='car_evaluation.csv', number=2, classes_count=4, data=DatasetData(train_dataset=<torch.utils.data.dataset.TensorDataset object at 0x151117320>, test_dataset=<torch.utils.data.dataset.TensorDataset object at 0x151288bc0>, train_loader=<torch.utils.data.dataloader.DataLoader object at 0x1511173e0>, test_loader=<torch.utils.data.dataloader.DataLoader object at 0x1511d7ef0>)), criterion=CrossEntropyLoss(), experiment_params=ExperimentParameters(iteration=9, p=0), model_a_path='pth/model-2A-c-P0_N9.pth', model_b_path='pth/model-2B-c-P0_N9.pth', loss_curve_plot_col_index=1)"
      ]
     },
     "metadata": {},
     "output_type": "display_data"
    },
    {
     "name": "stdout",
     "output_type": "stream",
     "text": [
      "NOTE: Training model RegularNetwork(inputs_count: 6, outputs_count: 4) in dry run mode. No changes to weights will be applied. An array of 20 -1s is generated for running_losses.\n",
      "NOTE: Training model AugmentedReLUNetwork(p: 0, inputs_count: 6, outputs_count: 4) in dry run mode. No changes to weights will be applied. An array of 20 -1s is generated for running_losses.\n"
     ]
    },
    {
     "data": {
      "text/plain": [
       "TrainingParameters(dataset=Dataset(name='StudentPerformanceFactors.csv', number=3, classes_count=1, data=DatasetData(train_dataset=<torch.utils.data.dataset.TensorDataset object at 0x151216cc0>, test_dataset=<torch.utils.data.dataset.TensorDataset object at 0x15128ac00>, train_loader=<torch.utils.data.dataloader.DataLoader object at 0x15117d4c0>, test_loader=<torch.utils.data.dataloader.DataLoader object at 0x1511ed970>)), criterion=MSELoss(), experiment_params=ExperimentParameters(iteration=9, p=0), model_a_path='pth/model-3A-c-P0_N9.pth', model_b_path='pth/model-3B-c-P0_N9.pth', loss_curve_plot_col_index=2)"
      ]
     },
     "metadata": {},
     "output_type": "display_data"
    },
    {
     "name": "stdout",
     "output_type": "stream",
     "text": [
      "NOTE: Training model RegularNetwork(inputs_count: 19, outputs_count: 1) in dry run mode. No changes to weights will be applied. An array of 20 -1s is generated for running_losses.\n",
      "NOTE: Training model AugmentedReLUNetwork(p: 0, inputs_count: 19, outputs_count: 1) in dry run mode. No changes to weights will be applied. An array of 20 -1s is generated for running_losses.\n",
      "NOTE: save_plot called but no figure will be saved. Path: report/loss__p0_N9.png\n"
     ]
    },
    {
     "data": {
      "text/plain": [
       "TrainingParameters(dataset=Dataset(name='wisc_bc_data.csv', number=1, classes_count=2, data=DatasetData(train_dataset=<torch.utils.data.dataset.TensorDataset object at 0x151228fb0>, test_dataset=<torch.utils.data.dataset.TensorDataset object at 0x151255eb0>, train_loader=<torch.utils.data.dataloader.DataLoader object at 0x15115d940>, test_loader=<torch.utils.data.dataloader.DataLoader object at 0x15115d910>)), criterion=CrossEntropyLoss(), experiment_params=ExperimentParameters(iteration=9, p=0.01), model_a_path='pth/model-1A-c-P0.01_N9.pth', model_b_path='pth/model-1B-c-P0.01_N9.pth', loss_curve_plot_col_index=0)"
      ]
     },
     "metadata": {},
     "output_type": "display_data"
    },
    {
     "name": "stdout",
     "output_type": "stream",
     "text": [
      "NOTE: Training model RegularNetwork(inputs_count: 30, outputs_count: 2) in dry run mode. No changes to weights will be applied. An array of 20 -1s is generated for running_losses.\n",
      "NOTE: Training model AugmentedReLUNetwork(p: 0.01, inputs_count: 30, outputs_count: 2) in dry run mode. No changes to weights will be applied. An array of 20 -1s is generated for running_losses.\n"
     ]
    },
    {
     "data": {
      "text/plain": [
       "TrainingParameters(dataset=Dataset(name='car_evaluation.csv', number=2, classes_count=4, data=DatasetData(train_dataset=<torch.utils.data.dataset.TensorDataset object at 0x151117320>, test_dataset=<torch.utils.data.dataset.TensorDataset object at 0x151288bc0>, train_loader=<torch.utils.data.dataloader.DataLoader object at 0x1511173e0>, test_loader=<torch.utils.data.dataloader.DataLoader object at 0x1511d7ef0>)), criterion=CrossEntropyLoss(), experiment_params=ExperimentParameters(iteration=9, p=0.01), model_a_path='pth/model-2A-c-P0.01_N9.pth', model_b_path='pth/model-2B-c-P0.01_N9.pth', loss_curve_plot_col_index=1)"
      ]
     },
     "metadata": {},
     "output_type": "display_data"
    },
    {
     "name": "stdout",
     "output_type": "stream",
     "text": [
      "NOTE: Training model RegularNetwork(inputs_count: 6, outputs_count: 4) in dry run mode. No changes to weights will be applied. An array of 20 -1s is generated for running_losses.\n",
      "NOTE: Training model AugmentedReLUNetwork(p: 0.01, inputs_count: 6, outputs_count: 4) in dry run mode. No changes to weights will be applied. An array of 20 -1s is generated for running_losses.\n"
     ]
    },
    {
     "data": {
      "text/plain": [
       "TrainingParameters(dataset=Dataset(name='StudentPerformanceFactors.csv', number=3, classes_count=1, data=DatasetData(train_dataset=<torch.utils.data.dataset.TensorDataset object at 0x151216cc0>, test_dataset=<torch.utils.data.dataset.TensorDataset object at 0x15128ac00>, train_loader=<torch.utils.data.dataloader.DataLoader object at 0x15117d4c0>, test_loader=<torch.utils.data.dataloader.DataLoader object at 0x1511ed970>)), criterion=MSELoss(), experiment_params=ExperimentParameters(iteration=9, p=0.01), model_a_path='pth/model-3A-c-P0.01_N9.pth', model_b_path='pth/model-3B-c-P0.01_N9.pth', loss_curve_plot_col_index=2)"
      ]
     },
     "metadata": {},
     "output_type": "display_data"
    },
    {
     "name": "stdout",
     "output_type": "stream",
     "text": [
      "NOTE: Training model RegularNetwork(inputs_count: 19, outputs_count: 1) in dry run mode. No changes to weights will be applied. An array of 20 -1s is generated for running_losses.\n",
      "NOTE: Training model AugmentedReLUNetwork(p: 0.01, inputs_count: 19, outputs_count: 1) in dry run mode. No changes to weights will be applied. An array of 20 -1s is generated for running_losses.\n",
      "NOTE: save_plot called but no figure will be saved. Path: report/loss__p0.01_N9.png\n"
     ]
    },
    {
     "data": {
      "text/plain": [
       "TrainingParameters(dataset=Dataset(name='wisc_bc_data.csv', number=1, classes_count=2, data=DatasetData(train_dataset=<torch.utils.data.dataset.TensorDataset object at 0x151228fb0>, test_dataset=<torch.utils.data.dataset.TensorDataset object at 0x151255eb0>, train_loader=<torch.utils.data.dataloader.DataLoader object at 0x15115d940>, test_loader=<torch.utils.data.dataloader.DataLoader object at 0x15115d910>)), criterion=CrossEntropyLoss(), experiment_params=ExperimentParameters(iteration=9, p=0.05), model_a_path='pth/model-1A-c-P0.05_N9.pth', model_b_path='pth/model-1B-c-P0.05_N9.pth', loss_curve_plot_col_index=0)"
      ]
     },
     "metadata": {},
     "output_type": "display_data"
    },
    {
     "name": "stdout",
     "output_type": "stream",
     "text": [
      "NOTE: Training model RegularNetwork(inputs_count: 30, outputs_count: 2) in dry run mode. No changes to weights will be applied. An array of 20 -1s is generated for running_losses.\n",
      "NOTE: Training model AugmentedReLUNetwork(p: 0.05, inputs_count: 30, outputs_count: 2) in dry run mode. No changes to weights will be applied. An array of 20 -1s is generated for running_losses.\n"
     ]
    },
    {
     "data": {
      "text/plain": [
       "TrainingParameters(dataset=Dataset(name='car_evaluation.csv', number=2, classes_count=4, data=DatasetData(train_dataset=<torch.utils.data.dataset.TensorDataset object at 0x151117320>, test_dataset=<torch.utils.data.dataset.TensorDataset object at 0x151288bc0>, train_loader=<torch.utils.data.dataloader.DataLoader object at 0x1511173e0>, test_loader=<torch.utils.data.dataloader.DataLoader object at 0x1511d7ef0>)), criterion=CrossEntropyLoss(), experiment_params=ExperimentParameters(iteration=9, p=0.05), model_a_path='pth/model-2A-c-P0.05_N9.pth', model_b_path='pth/model-2B-c-P0.05_N9.pth', loss_curve_plot_col_index=1)"
      ]
     },
     "metadata": {},
     "output_type": "display_data"
    },
    {
     "name": "stdout",
     "output_type": "stream",
     "text": [
      "NOTE: Training model RegularNetwork(inputs_count: 6, outputs_count: 4) in dry run mode. No changes to weights will be applied. An array of 20 -1s is generated for running_losses.\n",
      "NOTE: Training model AugmentedReLUNetwork(p: 0.05, inputs_count: 6, outputs_count: 4) in dry run mode. No changes to weights will be applied. An array of 20 -1s is generated for running_losses.\n"
     ]
    },
    {
     "data": {
      "text/plain": [
       "TrainingParameters(dataset=Dataset(name='StudentPerformanceFactors.csv', number=3, classes_count=1, data=DatasetData(train_dataset=<torch.utils.data.dataset.TensorDataset object at 0x151216cc0>, test_dataset=<torch.utils.data.dataset.TensorDataset object at 0x15128ac00>, train_loader=<torch.utils.data.dataloader.DataLoader object at 0x15117d4c0>, test_loader=<torch.utils.data.dataloader.DataLoader object at 0x1511ed970>)), criterion=MSELoss(), experiment_params=ExperimentParameters(iteration=9, p=0.05), model_a_path='pth/model-3A-c-P0.05_N9.pth', model_b_path='pth/model-3B-c-P0.05_N9.pth', loss_curve_plot_col_index=2)"
      ]
     },
     "metadata": {},
     "output_type": "display_data"
    },
    {
     "name": "stdout",
     "output_type": "stream",
     "text": [
      "NOTE: Training model RegularNetwork(inputs_count: 19, outputs_count: 1) in dry run mode. No changes to weights will be applied. An array of 20 -1s is generated for running_losses.\n",
      "NOTE: Training model AugmentedReLUNetwork(p: 0.05, inputs_count: 19, outputs_count: 1) in dry run mode. No changes to weights will be applied. An array of 20 -1s is generated for running_losses.\n",
      "NOTE: save_plot called but no figure will be saved. Path: report/loss__p0.05_N9.png\n"
     ]
    },
    {
     "data": {
      "text/plain": [
       "TrainingParameters(dataset=Dataset(name='wisc_bc_data.csv', number=1, classes_count=2, data=DatasetData(train_dataset=<torch.utils.data.dataset.TensorDataset object at 0x151228fb0>, test_dataset=<torch.utils.data.dataset.TensorDataset object at 0x151255eb0>, train_loader=<torch.utils.data.dataloader.DataLoader object at 0x15115d940>, test_loader=<torch.utils.data.dataloader.DataLoader object at 0x15115d910>)), criterion=CrossEntropyLoss(), experiment_params=ExperimentParameters(iteration=9, p=0.5), model_a_path='pth/model-1A-c-P0.5_N9.pth', model_b_path='pth/model-1B-c-P0.5_N9.pth', loss_curve_plot_col_index=0)"
      ]
     },
     "metadata": {},
     "output_type": "display_data"
    },
    {
     "name": "stdout",
     "output_type": "stream",
     "text": [
      "NOTE: Training model RegularNetwork(inputs_count: 30, outputs_count: 2) in dry run mode. No changes to weights will be applied. An array of 20 -1s is generated for running_losses.\n",
      "NOTE: Training model AugmentedReLUNetwork(p: 0.5, inputs_count: 30, outputs_count: 2) in dry run mode. No changes to weights will be applied. An array of 20 -1s is generated for running_losses.\n"
     ]
    },
    {
     "data": {
      "text/plain": [
       "TrainingParameters(dataset=Dataset(name='car_evaluation.csv', number=2, classes_count=4, data=DatasetData(train_dataset=<torch.utils.data.dataset.TensorDataset object at 0x151117320>, test_dataset=<torch.utils.data.dataset.TensorDataset object at 0x151288bc0>, train_loader=<torch.utils.data.dataloader.DataLoader object at 0x1511173e0>, test_loader=<torch.utils.data.dataloader.DataLoader object at 0x1511d7ef0>)), criterion=CrossEntropyLoss(), experiment_params=ExperimentParameters(iteration=9, p=0.5), model_a_path='pth/model-2A-c-P0.5_N9.pth', model_b_path='pth/model-2B-c-P0.5_N9.pth', loss_curve_plot_col_index=1)"
      ]
     },
     "metadata": {},
     "output_type": "display_data"
    },
    {
     "name": "stdout",
     "output_type": "stream",
     "text": [
      "NOTE: Training model RegularNetwork(inputs_count: 6, outputs_count: 4) in dry run mode. No changes to weights will be applied. An array of 20 -1s is generated for running_losses.\n",
      "NOTE: Training model AugmentedReLUNetwork(p: 0.5, inputs_count: 6, outputs_count: 4) in dry run mode. No changes to weights will be applied. An array of 20 -1s is generated for running_losses.\n"
     ]
    },
    {
     "data": {
      "text/plain": [
       "TrainingParameters(dataset=Dataset(name='StudentPerformanceFactors.csv', number=3, classes_count=1, data=DatasetData(train_dataset=<torch.utils.data.dataset.TensorDataset object at 0x151216cc0>, test_dataset=<torch.utils.data.dataset.TensorDataset object at 0x15128ac00>, train_loader=<torch.utils.data.dataloader.DataLoader object at 0x15117d4c0>, test_loader=<torch.utils.data.dataloader.DataLoader object at 0x1511ed970>)), criterion=MSELoss(), experiment_params=ExperimentParameters(iteration=9, p=0.5), model_a_path='pth/model-3A-c-P0.5_N9.pth', model_b_path='pth/model-3B-c-P0.5_N9.pth', loss_curve_plot_col_index=2)"
      ]
     },
     "metadata": {},
     "output_type": "display_data"
    },
    {
     "name": "stdout",
     "output_type": "stream",
     "text": [
      "NOTE: Training model RegularNetwork(inputs_count: 19, outputs_count: 1) in dry run mode. No changes to weights will be applied. An array of 20 -1s is generated for running_losses.\n",
      "NOTE: Training model AugmentedReLUNetwork(p: 0.5, inputs_count: 19, outputs_count: 1) in dry run mode. No changes to weights will be applied. An array of 20 -1s is generated for running_losses.\n",
      "NOTE: save_plot called but no figure will be saved. Path: report/loss__p0.5_N9.png\n"
     ]
    },
    {
     "data": {
      "text/plain": [
       "TrainingParameters(dataset=Dataset(name='wisc_bc_data.csv', number=1, classes_count=2, data=DatasetData(train_dataset=<torch.utils.data.dataset.TensorDataset object at 0x151228fb0>, test_dataset=<torch.utils.data.dataset.TensorDataset object at 0x151255eb0>, train_loader=<torch.utils.data.dataloader.DataLoader object at 0x15115d940>, test_loader=<torch.utils.data.dataloader.DataLoader object at 0x15115d910>)), criterion=CrossEntropyLoss(), experiment_params=ExperimentParameters(iteration=9, p=0.9), model_a_path='pth/model-1A-c-P0.9_N9.pth', model_b_path='pth/model-1B-c-P0.9_N9.pth', loss_curve_plot_col_index=0)"
      ]
     },
     "metadata": {},
     "output_type": "display_data"
    },
    {
     "name": "stdout",
     "output_type": "stream",
     "text": [
      "NOTE: Training model RegularNetwork(inputs_count: 30, outputs_count: 2) in dry run mode. No changes to weights will be applied. An array of 20 -1s is generated for running_losses.\n",
      "NOTE: Training model AugmentedReLUNetwork(p: 0.9, inputs_count: 30, outputs_count: 2) in dry run mode. No changes to weights will be applied. An array of 20 -1s is generated for running_losses.\n"
     ]
    },
    {
     "data": {
      "text/plain": [
       "TrainingParameters(dataset=Dataset(name='car_evaluation.csv', number=2, classes_count=4, data=DatasetData(train_dataset=<torch.utils.data.dataset.TensorDataset object at 0x151117320>, test_dataset=<torch.utils.data.dataset.TensorDataset object at 0x151288bc0>, train_loader=<torch.utils.data.dataloader.DataLoader object at 0x1511173e0>, test_loader=<torch.utils.data.dataloader.DataLoader object at 0x1511d7ef0>)), criterion=CrossEntropyLoss(), experiment_params=ExperimentParameters(iteration=9, p=0.9), model_a_path='pth/model-2A-c-P0.9_N9.pth', model_b_path='pth/model-2B-c-P0.9_N9.pth', loss_curve_plot_col_index=1)"
      ]
     },
     "metadata": {},
     "output_type": "display_data"
    },
    {
     "name": "stdout",
     "output_type": "stream",
     "text": [
      "NOTE: Training model RegularNetwork(inputs_count: 6, outputs_count: 4) in dry run mode. No changes to weights will be applied. An array of 20 -1s is generated for running_losses.\n",
      "NOTE: Training model AugmentedReLUNetwork(p: 0.9, inputs_count: 6, outputs_count: 4) in dry run mode. No changes to weights will be applied. An array of 20 -1s is generated for running_losses.\n"
     ]
    },
    {
     "data": {
      "text/plain": [
       "TrainingParameters(dataset=Dataset(name='StudentPerformanceFactors.csv', number=3, classes_count=1, data=DatasetData(train_dataset=<torch.utils.data.dataset.TensorDataset object at 0x151216cc0>, test_dataset=<torch.utils.data.dataset.TensorDataset object at 0x15128ac00>, train_loader=<torch.utils.data.dataloader.DataLoader object at 0x15117d4c0>, test_loader=<torch.utils.data.dataloader.DataLoader object at 0x1511ed970>)), criterion=MSELoss(), experiment_params=ExperimentParameters(iteration=9, p=0.9), model_a_path='pth/model-3A-c-P0.9_N9.pth', model_b_path='pth/model-3B-c-P0.9_N9.pth', loss_curve_plot_col_index=2)"
      ]
     },
     "metadata": {},
     "output_type": "display_data"
    },
    {
     "name": "stdout",
     "output_type": "stream",
     "text": [
      "NOTE: Training model RegularNetwork(inputs_count: 19, outputs_count: 1) in dry run mode. No changes to weights will be applied. An array of 20 -1s is generated for running_losses.\n",
      "NOTE: Training model AugmentedReLUNetwork(p: 0.9, inputs_count: 19, outputs_count: 1) in dry run mode. No changes to weights will be applied. An array of 20 -1s is generated for running_losses.\n",
      "NOTE: save_plot called but no figure will be saved. Path: report/loss__p0.9_N9.png\n"
     ]
    },
    {
     "data": {
      "text/plain": [
       "TrainingParameters(dataset=Dataset(name='wisc_bc_data.csv', number=1, classes_count=2, data=DatasetData(train_dataset=<torch.utils.data.dataset.TensorDataset object at 0x151228fb0>, test_dataset=<torch.utils.data.dataset.TensorDataset object at 0x151255eb0>, train_loader=<torch.utils.data.dataloader.DataLoader object at 0x15115d940>, test_loader=<torch.utils.data.dataloader.DataLoader object at 0x15115d910>)), criterion=CrossEntropyLoss(), experiment_params=ExperimentParameters(iteration=9, p=0.95), model_a_path='pth/model-1A-c-P0.95_N9.pth', model_b_path='pth/model-1B-c-P0.95_N9.pth', loss_curve_plot_col_index=0)"
      ]
     },
     "metadata": {},
     "output_type": "display_data"
    },
    {
     "name": "stdout",
     "output_type": "stream",
     "text": [
      "NOTE: Training model RegularNetwork(inputs_count: 30, outputs_count: 2) in dry run mode. No changes to weights will be applied. An array of 20 -1s is generated for running_losses.\n",
      "NOTE: Training model AugmentedReLUNetwork(p: 0.95, inputs_count: 30, outputs_count: 2) in dry run mode. No changes to weights will be applied. An array of 20 -1s is generated for running_losses.\n"
     ]
    },
    {
     "data": {
      "text/plain": [
       "TrainingParameters(dataset=Dataset(name='car_evaluation.csv', number=2, classes_count=4, data=DatasetData(train_dataset=<torch.utils.data.dataset.TensorDataset object at 0x151117320>, test_dataset=<torch.utils.data.dataset.TensorDataset object at 0x151288bc0>, train_loader=<torch.utils.data.dataloader.DataLoader object at 0x1511173e0>, test_loader=<torch.utils.data.dataloader.DataLoader object at 0x1511d7ef0>)), criterion=CrossEntropyLoss(), experiment_params=ExperimentParameters(iteration=9, p=0.95), model_a_path='pth/model-2A-c-P0.95_N9.pth', model_b_path='pth/model-2B-c-P0.95_N9.pth', loss_curve_plot_col_index=1)"
      ]
     },
     "metadata": {},
     "output_type": "display_data"
    },
    {
     "name": "stdout",
     "output_type": "stream",
     "text": [
      "NOTE: Training model RegularNetwork(inputs_count: 6, outputs_count: 4) in dry run mode. No changes to weights will be applied. An array of 20 -1s is generated for running_losses.\n",
      "NOTE: Training model AugmentedReLUNetwork(p: 0.95, inputs_count: 6, outputs_count: 4) in dry run mode. No changes to weights will be applied. An array of 20 -1s is generated for running_losses.\n"
     ]
    },
    {
     "data": {
      "text/plain": [
       "TrainingParameters(dataset=Dataset(name='StudentPerformanceFactors.csv', number=3, classes_count=1, data=DatasetData(train_dataset=<torch.utils.data.dataset.TensorDataset object at 0x151216cc0>, test_dataset=<torch.utils.data.dataset.TensorDataset object at 0x15128ac00>, train_loader=<torch.utils.data.dataloader.DataLoader object at 0x15117d4c0>, test_loader=<torch.utils.data.dataloader.DataLoader object at 0x1511ed970>)), criterion=MSELoss(), experiment_params=ExperimentParameters(iteration=9, p=0.95), model_a_path='pth/model-3A-c-P0.95_N9.pth', model_b_path='pth/model-3B-c-P0.95_N9.pth', loss_curve_plot_col_index=2)"
      ]
     },
     "metadata": {},
     "output_type": "display_data"
    },
    {
     "name": "stdout",
     "output_type": "stream",
     "text": [
      "NOTE: Training model RegularNetwork(inputs_count: 19, outputs_count: 1) in dry run mode. No changes to weights will be applied. An array of 20 -1s is generated for running_losses.\n",
      "NOTE: Training model AugmentedReLUNetwork(p: 0.95, inputs_count: 19, outputs_count: 1) in dry run mode. No changes to weights will be applied. An array of 20 -1s is generated for running_losses.\n",
      "NOTE: save_plot called but no figure will be saved. Path: report/loss__p0.95_N9.png\n"
     ]
    },
    {
     "data": {
      "text/plain": [
       "TrainingParameters(dataset=Dataset(name='wisc_bc_data.csv', number=1, classes_count=2, data=DatasetData(train_dataset=<torch.utils.data.dataset.TensorDataset object at 0x151228fb0>, test_dataset=<torch.utils.data.dataset.TensorDataset object at 0x151255eb0>, train_loader=<torch.utils.data.dataloader.DataLoader object at 0x15115d940>, test_loader=<torch.utils.data.dataloader.DataLoader object at 0x15115d910>)), criterion=CrossEntropyLoss(), experiment_params=ExperimentParameters(iteration=9, p=0.99), model_a_path='pth/model-1A-c-P0.99_N9.pth', model_b_path='pth/model-1B-c-P0.99_N9.pth', loss_curve_plot_col_index=0)"
      ]
     },
     "metadata": {},
     "output_type": "display_data"
    },
    {
     "name": "stdout",
     "output_type": "stream",
     "text": [
      "NOTE: Training model RegularNetwork(inputs_count: 30, outputs_count: 2) in dry run mode. No changes to weights will be applied. An array of 20 -1s is generated for running_losses.\n",
      "NOTE: Training model AugmentedReLUNetwork(p: 0.99, inputs_count: 30, outputs_count: 2) in dry run mode. No changes to weights will be applied. An array of 20 -1s is generated for running_losses.\n"
     ]
    },
    {
     "data": {
      "text/plain": [
       "TrainingParameters(dataset=Dataset(name='car_evaluation.csv', number=2, classes_count=4, data=DatasetData(train_dataset=<torch.utils.data.dataset.TensorDataset object at 0x151117320>, test_dataset=<torch.utils.data.dataset.TensorDataset object at 0x151288bc0>, train_loader=<torch.utils.data.dataloader.DataLoader object at 0x1511173e0>, test_loader=<torch.utils.data.dataloader.DataLoader object at 0x1511d7ef0>)), criterion=CrossEntropyLoss(), experiment_params=ExperimentParameters(iteration=9, p=0.99), model_a_path='pth/model-2A-c-P0.99_N9.pth', model_b_path='pth/model-2B-c-P0.99_N9.pth', loss_curve_plot_col_index=1)"
      ]
     },
     "metadata": {},
     "output_type": "display_data"
    },
    {
     "name": "stdout",
     "output_type": "stream",
     "text": [
      "NOTE: Training model RegularNetwork(inputs_count: 6, outputs_count: 4) in dry run mode. No changes to weights will be applied. An array of 20 -1s is generated for running_losses.\n",
      "NOTE: Training model AugmentedReLUNetwork(p: 0.99, inputs_count: 6, outputs_count: 4) in dry run mode. No changes to weights will be applied. An array of 20 -1s is generated for running_losses.\n"
     ]
    },
    {
     "data": {
      "text/plain": [
       "TrainingParameters(dataset=Dataset(name='StudentPerformanceFactors.csv', number=3, classes_count=1, data=DatasetData(train_dataset=<torch.utils.data.dataset.TensorDataset object at 0x151216cc0>, test_dataset=<torch.utils.data.dataset.TensorDataset object at 0x15128ac00>, train_loader=<torch.utils.data.dataloader.DataLoader object at 0x15117d4c0>, test_loader=<torch.utils.data.dataloader.DataLoader object at 0x1511ed970>)), criterion=MSELoss(), experiment_params=ExperimentParameters(iteration=9, p=0.99), model_a_path='pth/model-3A-c-P0.99_N9.pth', model_b_path='pth/model-3B-c-P0.99_N9.pth', loss_curve_plot_col_index=2)"
      ]
     },
     "metadata": {},
     "output_type": "display_data"
    },
    {
     "name": "stdout",
     "output_type": "stream",
     "text": [
      "NOTE: Training model RegularNetwork(inputs_count: 19, outputs_count: 1) in dry run mode. No changes to weights will be applied. An array of 20 -1s is generated for running_losses.\n",
      "NOTE: Training model AugmentedReLUNetwork(p: 0.99, inputs_count: 19, outputs_count: 1) in dry run mode. No changes to weights will be applied. An array of 20 -1s is generated for running_losses.\n",
      "NOTE: save_plot called but no figure will be saved. Path: report/loss__p0.99_N9.png\n",
      "Done!\n"
     ]
    }
   ],
   "source": [
    "\n",
    "# 5.3. Training\n",
    "\n",
    "import matplotlib.pyplot as plt\n",
    "import torch\n",
    "\n",
    "from cgtnnlib.TrainingParameters import TrainingParameters\n",
    "from cgtnnlib.LearningTask import classification_task, regression_task\n",
    "\n",
    "from IPython.display import display\n",
    "\n",
    "for experiment_params in lib.iterate_experiment_parameters():\n",
    "    fig, axs = plt.subplots(2, 3, sharey='col', figsize=(10, 12))\n",
    "    fig.set_size_inches(35, 20)\n",
    "\n",
    "    for training_params in [\n",
    "        TrainingParameters(\n",
    "            dataset=lib.DATASETS[0],\n",
    "            criterion=classification_task.criterion,\n",
    "            experiment_params=experiment_params,\n",
    "            model_a_path=lib.DATASETS[0].model_a_path(experiment_params),\n",
    "            model_b_path=lib.DATASETS[0].model_b_path(experiment_params),\n",
    "            loss_curve_plot_col_index=0,\n",
    "        ),\n",
    "        TrainingParameters(\n",
    "            dataset=lib.DATASETS[1],\n",
    "            criterion=classification_task.criterion,\n",
    "            experiment_params=experiment_params,\n",
    "            model_a_path=lib.DATASETS[1].model_a_path(experiment_params),\n",
    "            model_b_path=lib.DATASETS[1].model_b_path(experiment_params),\n",
    "            loss_curve_plot_col_index=1,\n",
    "        ),\n",
    "        TrainingParameters(\n",
    "            dataset=lib.DATASETS[2],\n",
    "            criterion=regression_task.criterion,\n",
    "            experiment_params=experiment_params, \n",
    "            model_a_path=lib.DATASETS[2].model_a_path(experiment_params),\n",
    "            model_b_path=lib.DATASETS[2].model_b_path(experiment_params),\n",
    "            loss_curve_plot_col_index=2,\n",
    "        )\n",
    "    ]:\n",
    "        inputs_count = training_params.dataset.features_count\n",
    "        outputs_count = training_params.dataset.classes_count\n",
    "\n",
    "\n",
    "        for (model, name, row) in [\n",
    "            (lib.RegularNetwork(\n",
    "                inputs_count=inputs_count,\n",
    "                outputs_count=outputs_count,\n",
    "                p=experiment_params.p\n",
    "            ), training_params.model_a_path, 0),\n",
    "            (lib.AugmentedReLUNetwork(\n",
    "                inputs_count=inputs_count,\n",
    "                outputs_count=outputs_count,\n",
    "                p=experiment_params.p\n",
    "            ), training_params.model_b_path, 1)\n",
    "        ]:\n",
    "            model.apply(lib.init_weights)\n",
    "\n",
    "            model = model.to(lib.device)\n",
    "\n",
    "            running_losses = lib.train(\n",
    "                model=model,\n",
    "                dataset=training_params.dataset,\n",
    "                epochs=lib.EPOCHS,\n",
    "                experiment_parameters=experiment_params,\n",
    "                criterion=training_params.criterion,\n",
    "                optimizer=lib.optim.Adam(\n",
    "                    model.parameters(),\n",
    "                    lr=lib.LEARNING_RATE\n",
    "                )\n",
    "            )\n",
    "\n",
    "            torch.save(model.state_dict(), name)\n",
    "\n",
    "            report_key = f'loss_{type(model).__name__}_{training_params.dataset.number}_p{experiment_params.p}_N{experiment_params.iteration}'\n",
    "\n",
    "            lib.append_to_report(report_key, running_losses)\n",
    "\n",
    "            col = training_params.loss_curve_plot_col_index\n",
    "\n",
    "            lib.plot_loss_curve(\n",
    "                ax=axs[row, col],\n",
    "                model_name=model.__class__.__name__,\n",
    "                dataset_name=training_params.dataset.name,\n",
    "                dataset_number=training_params.dataset.number,\n",
    "                running_losses=running_losses,\n",
    "                p=experiment_params.p,\n",
    "                iteration=experiment_params.iteration\n",
    "            )\n",
    "\n",
    "    path = lib.save_plot(f'loss__p{experiment_params.p}_N{experiment_params.iteration}')\n",
    "\n",
    "print(\"Done!\")"
   ]
  },
  {
   "cell_type": "code",
   "execution_count": 4,
   "id": "a5f1b8a7",
   "metadata": {},
   "outputs": [
    {
     "name": "stdout",
     "output_type": "stream",
     "text": [
      "Отчёт сохранён в report/report.json\n"
     ]
    }
   ],
   "source": [
    "lib.save_report()"
   ]
  },
  {
   "cell_type": "markdown",
   "id": "989ea9a9",
   "metadata": {},
   "source": [
    "## 3. Валидация "
   ]
  },
  {
   "cell_type": "code",
   "execution_count": 5,
   "id": "f42862da",
   "metadata": {},
   "outputs": [
    {
     "name": "stdout",
     "output_type": "stream",
     "text": [
      "Evaluating model at pth/model-1A-c-P0.95_N5.pth...\n"
     ]
    },
    {
     "ename": "KeyboardInterrupt",
     "evalue": "",
     "output_type": "error",
     "traceback": [
      "\u001b[0;31m---------------------------------------------------------------------------\u001b[0m",
      "\u001b[0;31mKeyboardInterrupt\u001b[0m                         Traceback (most recent call last)",
      "Cell \u001b[0;32mIn[5], line 138\u001b[0m\n\u001b[1;32m    134\u001b[0m     lib\u001b[38;5;241m.\u001b[39msave_plot(\u001b[38;5;124mf\u001b[39m\u001b[38;5;124m'\u001b[39m\u001b[38;5;124mevaluate_\u001b[39m\u001b[38;5;132;01m{\u001b[39;00mmodel_a_or_b\u001b[38;5;132;01m}\u001b[39;00m\u001b[38;5;124m_p\u001b[39m\u001b[38;5;132;01m{\u001b[39;00mexperiment_params\u001b[38;5;241m.\u001b[39mp\u001b[38;5;132;01m}\u001b[39;00m\u001b[38;5;124m_N\u001b[39m\u001b[38;5;132;01m{\u001b[39;00mexperiment_params\u001b[38;5;241m.\u001b[39miteration\u001b[38;5;132;01m}\u001b[39;00m\u001b[38;5;124m'\u001b[39m)\n\u001b[1;32m    137\u001b[0m \u001b[38;5;28;01mfor\u001b[39;00m experiment_params \u001b[38;5;129;01min\u001b[39;00m lib\u001b[38;5;241m.\u001b[39miterate_experiment_parameters():\n\u001b[0;32m--> 138\u001b[0m     \u001b[43mevaluate\u001b[49m\u001b[43m(\u001b[49m\n\u001b[1;32m    139\u001b[0m \u001b[43m        \u001b[49m\u001b[43mmodel_a_or_b\u001b[49m\u001b[38;5;241;43m=\u001b[39;49m\u001b[38;5;124;43m'\u001b[39;49m\u001b[38;5;124;43mA\u001b[39;49m\u001b[38;5;124;43m'\u001b[39;49m\u001b[43m,\u001b[49m\n\u001b[1;32m    140\u001b[0m \u001b[43m        \u001b[49m\u001b[43mconstructor\u001b[49m\u001b[38;5;241;43m=\u001b[39;49m\u001b[43mlib\u001b[49m\u001b[38;5;241;43m.\u001b[39;49m\u001b[43mRegularNetwork\u001b[49m\u001b[43m,\u001b[49m\n\u001b[1;32m    141\u001b[0m \u001b[43m        \u001b[49m\u001b[43mexperiment_params\u001b[49m\u001b[38;5;241;43m=\u001b[39;49m\u001b[43mexperiment_params\u001b[49m\n\u001b[1;32m    142\u001b[0m \u001b[43m    \u001b[49m\u001b[43m)\u001b[49m\n\u001b[1;32m    143\u001b[0m     evaluate(\n\u001b[1;32m    144\u001b[0m         model_a_or_b\u001b[38;5;241m=\u001b[39m\u001b[38;5;124m'\u001b[39m\u001b[38;5;124mB\u001b[39m\u001b[38;5;124m'\u001b[39m,\n\u001b[1;32m    145\u001b[0m         constructor\u001b[38;5;241m=\u001b[39mlib\u001b[38;5;241m.\u001b[39mAugmentedReLUNetwork,\n\u001b[1;32m    146\u001b[0m         experiment_params\u001b[38;5;241m=\u001b[39mexperiment_params\n\u001b[1;32m    147\u001b[0m     )\n\u001b[1;32m    149\u001b[0m lib\u001b[38;5;241m.\u001b[39msave_report()\n",
      "Cell \u001b[0;32mIn[5], line 109\u001b[0m, in \u001b[0;36mevaluate\u001b[0;34m(model_a_or_b, constructor, experiment_params)\u001b[0m\n\u001b[1;32m     99\u001b[0m subplots \u001b[38;5;241m=\u001b[39m lib\u001b[38;5;241m.\u001b[39mEvaluationSubplots(\n\u001b[1;32m    100\u001b[0m     accuracy_ax\u001b[38;5;241m=\u001b[39maxs[\u001b[38;5;241m0\u001b[39m, i],\n\u001b[1;32m    101\u001b[0m     f1_ax\u001b[38;5;241m=\u001b[39maxs[\u001b[38;5;241m1\u001b[39m, i],\n\u001b[0;32m   (...)\u001b[0m\n\u001b[1;32m    104\u001b[0m     r2_ax\u001b[38;5;241m=\u001b[39maxs[\u001b[38;5;241m1\u001b[39m, i],\n\u001b[1;32m    105\u001b[0m )\n\u001b[1;32m    107\u001b[0m \u001b[38;5;28;01mif\u001b[39;00m is_classification_task(eval_params\u001b[38;5;241m.\u001b[39mtask):\n\u001b[1;32m    108\u001b[0m     lib\u001b[38;5;241m.\u001b[39mplot_evaluation_of_classification(\n\u001b[0;32m--> 109\u001b[0m         df\u001b[38;5;241m=\u001b[39m\u001b[43mlib\u001b[49m\u001b[38;5;241;43m.\u001b[39;49m\u001b[43mevaluate_classification_model\u001b[49m\u001b[43m(\u001b[49m\n\u001b[1;32m    110\u001b[0m \u001b[43m            \u001b[49m\u001b[43mevaluated_model\u001b[49m\u001b[38;5;241;43m=\u001b[39;49m\u001b[43mevaluated_model\u001b[49m\u001b[43m,\u001b[49m\n\u001b[1;32m    111\u001b[0m \u001b[43m            \u001b[49m\u001b[43mdataset\u001b[49m\u001b[38;5;241;43m=\u001b[39;49m\u001b[43meval_params\u001b[49m\u001b[38;5;241;43m.\u001b[39;49m\u001b[43mdataset\u001b[49m\u001b[43m,\u001b[49m\n\u001b[1;32m    112\u001b[0m \u001b[43m            \u001b[49m\u001b[43mreport_key\u001b[49m\u001b[38;5;241;43m=\u001b[39;49m\u001b[43meval_params\u001b[49m\u001b[38;5;241;43m.\u001b[39;49m\u001b[43mreport_key\u001b[49m\u001b[43m,\u001b[49m\n\u001b[1;32m    113\u001b[0m \u001b[43m            \u001b[49m\u001b[43mis_binary_classification\u001b[49m\u001b[38;5;241;43m=\u001b[39;49m\u001b[43meval_params\u001b[49m\u001b[38;5;241;43m.\u001b[39;49m\u001b[43mis_binary_classification\u001b[49m\n\u001b[1;32m    114\u001b[0m \u001b[43m        \u001b[49m\u001b[43m)\u001b[49m,\n\u001b[1;32m    115\u001b[0m         accuracy_ax\u001b[38;5;241m=\u001b[39msubplots\u001b[38;5;241m.\u001b[39maccuracy_ax,\n\u001b[1;32m    116\u001b[0m         f1_ax\u001b[38;5;241m=\u001b[39msubplots\u001b[38;5;241m.\u001b[39mf1_ax,\n\u001b[1;32m    117\u001b[0m         roc_auc_ax\u001b[38;5;241m=\u001b[39msubplots\u001b[38;5;241m.\u001b[39mroc_auc_ax,\n\u001b[1;32m    118\u001b[0m         title\u001b[38;5;241m=\u001b[39mplot_title\n\u001b[1;32m    119\u001b[0m     )\n\u001b[1;32m    120\u001b[0m \u001b[38;5;28;01melif\u001b[39;00m is_regression_task(eval_params\u001b[38;5;241m.\u001b[39mtask):\n\u001b[1;32m    121\u001b[0m     lib\u001b[38;5;241m.\u001b[39mplot_evaluation_of_regression(\n\u001b[1;32m    122\u001b[0m         df\u001b[38;5;241m=\u001b[39mlib\u001b[38;5;241m.\u001b[39mevaluate_regression_model(\n\u001b[1;32m    123\u001b[0m             evaluated_model\u001b[38;5;241m=\u001b[39mevaluated_model,\n\u001b[0;32m   (...)\u001b[0m\n\u001b[1;32m    129\u001b[0m         title\u001b[38;5;241m=\u001b[39mplot_title\n\u001b[1;32m    130\u001b[0m     )\n",
      "File \u001b[0;32m~/JupyterNotebooks/cgtnnlib/common.py:537\u001b[0m, in \u001b[0;36mevaluate_classification_model\u001b[0;34m(evaluated_model, dataset, report_key, is_binary_classification)\u001b[0m\n\u001b[1;32m    529\u001b[0m samples \u001b[38;5;241m=\u001b[39m {\n\u001b[1;32m    530\u001b[0m     \u001b[38;5;124m'\u001b[39m\u001b[38;5;124mnoise_factor\u001b[39m\u001b[38;5;124m'\u001b[39m: NOISE_FACTORS,\n\u001b[1;32m    531\u001b[0m     \u001b[38;5;124m'\u001b[39m\u001b[38;5;124maccuracy\u001b[39m\u001b[38;5;124m'\u001b[39m: [],\n\u001b[1;32m    532\u001b[0m     \u001b[38;5;124m'\u001b[39m\u001b[38;5;124mf1\u001b[39m\u001b[38;5;124m'\u001b[39m: [],\n\u001b[1;32m    533\u001b[0m     \u001b[38;5;124m'\u001b[39m\u001b[38;5;124mroc_auc\u001b[39m\u001b[38;5;124m'\u001b[39m: [],\n\u001b[1;32m    534\u001b[0m }\n\u001b[1;32m    536\u001b[0m \u001b[38;5;28;01mfor\u001b[39;00m noise_factor \u001b[38;5;129;01min\u001b[39;00m NOISE_FACTORS:\n\u001b[0;32m--> 537\u001b[0m     accuracy, f1, roc_auc \u001b[38;5;241m=\u001b[39m \u001b[43meval_accuracy_f1_rocauc\u001b[49m\u001b[43m(\u001b[49m\n\u001b[1;32m    538\u001b[0m \u001b[43m        \u001b[49m\u001b[43mevaluated_model\u001b[49m\u001b[38;5;241;43m=\u001b[39;49m\u001b[43mevaluated_model\u001b[49m\u001b[43m,\u001b[49m\n\u001b[1;32m    539\u001b[0m \u001b[43m        \u001b[49m\u001b[43mdataset\u001b[49m\u001b[38;5;241;43m=\u001b[39;49m\u001b[43mdataset\u001b[49m\u001b[43m,\u001b[49m\n\u001b[1;32m    540\u001b[0m \u001b[43m        \u001b[49m\u001b[43mnoise_factor\u001b[49m\u001b[38;5;241;43m=\u001b[39;49m\u001b[43mnoise_factor\u001b[49m\u001b[43m,\u001b[49m\n\u001b[1;32m    541\u001b[0m \u001b[43m        \u001b[49m\u001b[43mis_binary_classification\u001b[49m\u001b[38;5;241;43m=\u001b[39;49m\u001b[43mis_binary_classification\u001b[49m\u001b[43m,\u001b[49m\n\u001b[1;32m    542\u001b[0m \u001b[43m    \u001b[49m\u001b[43m)\u001b[49m\n\u001b[1;32m    544\u001b[0m     samples[\u001b[38;5;124m'\u001b[39m\u001b[38;5;124maccuracy\u001b[39m\u001b[38;5;124m'\u001b[39m]\u001b[38;5;241m.\u001b[39mappend(accuracy)\n\u001b[1;32m    545\u001b[0m     samples[\u001b[38;5;124m'\u001b[39m\u001b[38;5;124mf1\u001b[39m\u001b[38;5;124m'\u001b[39m]\u001b[38;5;241m.\u001b[39mappend(f1)\n",
      "File \u001b[0;32m~/JupyterNotebooks/cgtnnlib/common.py:452\u001b[0m, in \u001b[0;36meval_accuracy_f1_rocauc\u001b[0;34m(evaluated_model, dataset, noise_factor, is_binary_classification)\u001b[0m\n\u001b[1;32m    450\u001b[0m \u001b[38;5;28;01mwith\u001b[39;00m torch\u001b[38;5;241m.\u001b[39mno_grad():\n\u001b[1;32m    451\u001b[0m     \u001b[38;5;28;01mfor\u001b[39;00m inputs, labels \u001b[38;5;129;01min\u001b[39;00m dataset\u001b[38;5;241m.\u001b[39mdata\u001b[38;5;241m.\u001b[39mtest_loader:\n\u001b[0;32m--> 452\u001b[0m         outputs \u001b[38;5;241m=\u001b[39m \u001b[43mevaluated_model\u001b[49m\u001b[43m(\u001b[49m\n\u001b[1;32m    453\u001b[0m \u001b[43m            \u001b[49m\u001b[43minputs\u001b[49m\u001b[43m \u001b[49m\u001b[38;5;241;43m+\u001b[39;49m\u001b[43m \u001b[49m\u001b[43mtorch\u001b[49m\u001b[38;5;241;43m.\u001b[39;49m\u001b[43mrandn\u001b[49m\u001b[43m(\u001b[49m\u001b[43minputs\u001b[49m\u001b[38;5;241;43m.\u001b[39;49m\u001b[43mshape\u001b[49m\u001b[43m)\u001b[49m\u001b[43m \u001b[49m\u001b[38;5;241;43m*\u001b[39;49m\u001b[43m \u001b[49m\u001b[43mnoise_factor\u001b[49m\n\u001b[1;32m    454\u001b[0m \u001b[43m        \u001b[49m\u001b[43m)\u001b[49m\n\u001b[1;32m    455\u001b[0m         probs \u001b[38;5;241m=\u001b[39m F\u001b[38;5;241m.\u001b[39msoftmax(outputs, dim\u001b[38;5;241m=\u001b[39m\u001b[38;5;241m1\u001b[39m)\n\u001b[1;32m    456\u001b[0m         _, predicted \u001b[38;5;241m=\u001b[39m torch\u001b[38;5;241m.\u001b[39mmax(outputs\u001b[38;5;241m.\u001b[39mdata, \u001b[38;5;241m1\u001b[39m)\n",
      "File \u001b[0;32m~/.pyenv/versions/3.12.3/lib/python3.12/site-packages/torch/nn/modules/module.py:1511\u001b[0m, in \u001b[0;36mModule._wrapped_call_impl\u001b[0;34m(self, *args, **kwargs)\u001b[0m\n\u001b[1;32m   1509\u001b[0m     \u001b[38;5;28;01mreturn\u001b[39;00m \u001b[38;5;28mself\u001b[39m\u001b[38;5;241m.\u001b[39m_compiled_call_impl(\u001b[38;5;241m*\u001b[39margs, \u001b[38;5;241m*\u001b[39m\u001b[38;5;241m*\u001b[39mkwargs)  \u001b[38;5;66;03m# type: ignore[misc]\u001b[39;00m\n\u001b[1;32m   1510\u001b[0m \u001b[38;5;28;01melse\u001b[39;00m:\n\u001b[0;32m-> 1511\u001b[0m     \u001b[38;5;28;01mreturn\u001b[39;00m \u001b[38;5;28;43mself\u001b[39;49m\u001b[38;5;241;43m.\u001b[39;49m\u001b[43m_call_impl\u001b[49m\u001b[43m(\u001b[49m\u001b[38;5;241;43m*\u001b[39;49m\u001b[43margs\u001b[49m\u001b[43m,\u001b[49m\u001b[43m \u001b[49m\u001b[38;5;241;43m*\u001b[39;49m\u001b[38;5;241;43m*\u001b[39;49m\u001b[43mkwargs\u001b[49m\u001b[43m)\u001b[49m\n",
      "File \u001b[0;32m~/.pyenv/versions/3.12.3/lib/python3.12/site-packages/torch/nn/modules/module.py:1520\u001b[0m, in \u001b[0;36mModule._call_impl\u001b[0;34m(self, *args, **kwargs)\u001b[0m\n\u001b[1;32m   1515\u001b[0m \u001b[38;5;66;03m# If we don't have any hooks, we want to skip the rest of the logic in\u001b[39;00m\n\u001b[1;32m   1516\u001b[0m \u001b[38;5;66;03m# this function, and just call forward.\u001b[39;00m\n\u001b[1;32m   1517\u001b[0m \u001b[38;5;28;01mif\u001b[39;00m \u001b[38;5;129;01mnot\u001b[39;00m (\u001b[38;5;28mself\u001b[39m\u001b[38;5;241m.\u001b[39m_backward_hooks \u001b[38;5;129;01mor\u001b[39;00m \u001b[38;5;28mself\u001b[39m\u001b[38;5;241m.\u001b[39m_backward_pre_hooks \u001b[38;5;129;01mor\u001b[39;00m \u001b[38;5;28mself\u001b[39m\u001b[38;5;241m.\u001b[39m_forward_hooks \u001b[38;5;129;01mor\u001b[39;00m \u001b[38;5;28mself\u001b[39m\u001b[38;5;241m.\u001b[39m_forward_pre_hooks\n\u001b[1;32m   1518\u001b[0m         \u001b[38;5;129;01mor\u001b[39;00m _global_backward_pre_hooks \u001b[38;5;129;01mor\u001b[39;00m _global_backward_hooks\n\u001b[1;32m   1519\u001b[0m         \u001b[38;5;129;01mor\u001b[39;00m _global_forward_hooks \u001b[38;5;129;01mor\u001b[39;00m _global_forward_pre_hooks):\n\u001b[0;32m-> 1520\u001b[0m     \u001b[38;5;28;01mreturn\u001b[39;00m \u001b[43mforward_call\u001b[49m\u001b[43m(\u001b[49m\u001b[38;5;241;43m*\u001b[39;49m\u001b[43margs\u001b[49m\u001b[43m,\u001b[49m\u001b[43m \u001b[49m\u001b[38;5;241;43m*\u001b[39;49m\u001b[38;5;241;43m*\u001b[39;49m\u001b[43mkwargs\u001b[49m\u001b[43m)\u001b[49m\n\u001b[1;32m   1522\u001b[0m \u001b[38;5;28;01mtry\u001b[39;00m:\n\u001b[1;32m   1523\u001b[0m     result \u001b[38;5;241m=\u001b[39m \u001b[38;5;28;01mNone\u001b[39;00m\n",
      "File \u001b[0;32m~/JupyterNotebooks/cgtnnlib/common.py:334\u001b[0m, in \u001b[0;36mRegularNetwork.forward\u001b[0;34m(self, x)\u001b[0m\n\u001b[1;32m    332\u001b[0m x \u001b[38;5;241m=\u001b[39m \u001b[38;5;28mself\u001b[39m\u001b[38;5;241m.\u001b[39mfc1(x)\n\u001b[1;32m    333\u001b[0m x \u001b[38;5;241m=\u001b[39m F\u001b[38;5;241m.\u001b[39mrelu(x)\n\u001b[0;32m--> 334\u001b[0m x \u001b[38;5;241m=\u001b[39m \u001b[38;5;28;43mself\u001b[39;49m\u001b[38;5;241;43m.\u001b[39;49m\u001b[43mfc2\u001b[49m\u001b[43m(\u001b[49m\u001b[43mx\u001b[49m\u001b[43m)\u001b[49m\n\u001b[1;32m    335\u001b[0m x \u001b[38;5;241m=\u001b[39m F\u001b[38;5;241m.\u001b[39mrelu(x)\n\u001b[1;32m    336\u001b[0m x \u001b[38;5;241m=\u001b[39m \u001b[38;5;28mself\u001b[39m\u001b[38;5;241m.\u001b[39mfc3(x)\n",
      "File \u001b[0;32m~/.pyenv/versions/3.12.3/lib/python3.12/site-packages/torch/nn/modules/module.py:1511\u001b[0m, in \u001b[0;36mModule._wrapped_call_impl\u001b[0;34m(self, *args, **kwargs)\u001b[0m\n\u001b[1;32m   1509\u001b[0m     \u001b[38;5;28;01mreturn\u001b[39;00m \u001b[38;5;28mself\u001b[39m\u001b[38;5;241m.\u001b[39m_compiled_call_impl(\u001b[38;5;241m*\u001b[39margs, \u001b[38;5;241m*\u001b[39m\u001b[38;5;241m*\u001b[39mkwargs)  \u001b[38;5;66;03m# type: ignore[misc]\u001b[39;00m\n\u001b[1;32m   1510\u001b[0m \u001b[38;5;28;01melse\u001b[39;00m:\n\u001b[0;32m-> 1511\u001b[0m     \u001b[38;5;28;01mreturn\u001b[39;00m \u001b[38;5;28;43mself\u001b[39;49m\u001b[38;5;241;43m.\u001b[39;49m\u001b[43m_call_impl\u001b[49m\u001b[43m(\u001b[49m\u001b[38;5;241;43m*\u001b[39;49m\u001b[43margs\u001b[49m\u001b[43m,\u001b[49m\u001b[43m \u001b[49m\u001b[38;5;241;43m*\u001b[39;49m\u001b[38;5;241;43m*\u001b[39;49m\u001b[43mkwargs\u001b[49m\u001b[43m)\u001b[49m\n",
      "File \u001b[0;32m~/.pyenv/versions/3.12.3/lib/python3.12/site-packages/torch/nn/modules/module.py:1520\u001b[0m, in \u001b[0;36mModule._call_impl\u001b[0;34m(self, *args, **kwargs)\u001b[0m\n\u001b[1;32m   1515\u001b[0m \u001b[38;5;66;03m# If we don't have any hooks, we want to skip the rest of the logic in\u001b[39;00m\n\u001b[1;32m   1516\u001b[0m \u001b[38;5;66;03m# this function, and just call forward.\u001b[39;00m\n\u001b[1;32m   1517\u001b[0m \u001b[38;5;28;01mif\u001b[39;00m \u001b[38;5;129;01mnot\u001b[39;00m (\u001b[38;5;28mself\u001b[39m\u001b[38;5;241m.\u001b[39m_backward_hooks \u001b[38;5;129;01mor\u001b[39;00m \u001b[38;5;28mself\u001b[39m\u001b[38;5;241m.\u001b[39m_backward_pre_hooks \u001b[38;5;129;01mor\u001b[39;00m \u001b[38;5;28mself\u001b[39m\u001b[38;5;241m.\u001b[39m_forward_hooks \u001b[38;5;129;01mor\u001b[39;00m \u001b[38;5;28mself\u001b[39m\u001b[38;5;241m.\u001b[39m_forward_pre_hooks\n\u001b[1;32m   1518\u001b[0m         \u001b[38;5;129;01mor\u001b[39;00m _global_backward_pre_hooks \u001b[38;5;129;01mor\u001b[39;00m _global_backward_hooks\n\u001b[1;32m   1519\u001b[0m         \u001b[38;5;129;01mor\u001b[39;00m _global_forward_hooks \u001b[38;5;129;01mor\u001b[39;00m _global_forward_pre_hooks):\n\u001b[0;32m-> 1520\u001b[0m     \u001b[38;5;28;01mreturn\u001b[39;00m \u001b[43mforward_call\u001b[49m\u001b[43m(\u001b[49m\u001b[38;5;241;43m*\u001b[39;49m\u001b[43margs\u001b[49m\u001b[43m,\u001b[49m\u001b[43m \u001b[49m\u001b[38;5;241;43m*\u001b[39;49m\u001b[38;5;241;43m*\u001b[39;49m\u001b[43mkwargs\u001b[49m\u001b[43m)\u001b[49m\n\u001b[1;32m   1522\u001b[0m \u001b[38;5;28;01mtry\u001b[39;00m:\n\u001b[1;32m   1523\u001b[0m     result \u001b[38;5;241m=\u001b[39m \u001b[38;5;28;01mNone\u001b[39;00m\n",
      "File \u001b[0;32m~/.pyenv/versions/3.12.3/lib/python3.12/site-packages/torch/nn/modules/linear.py:116\u001b[0m, in \u001b[0;36mLinear.forward\u001b[0;34m(self, input)\u001b[0m\n\u001b[1;32m    115\u001b[0m \u001b[38;5;28;01mdef\u001b[39;00m \u001b[38;5;21mforward\u001b[39m(\u001b[38;5;28mself\u001b[39m, \u001b[38;5;28minput\u001b[39m: Tensor) \u001b[38;5;241m-\u001b[39m\u001b[38;5;241m>\u001b[39m Tensor:\n\u001b[0;32m--> 116\u001b[0m     \u001b[38;5;28;01mreturn\u001b[39;00m \u001b[43mF\u001b[49m\u001b[38;5;241;43m.\u001b[39;49m\u001b[43mlinear\u001b[49m\u001b[43m(\u001b[49m\u001b[38;5;28;43minput\u001b[39;49m\u001b[43m,\u001b[49m\u001b[43m \u001b[49m\u001b[38;5;28;43mself\u001b[39;49m\u001b[38;5;241;43m.\u001b[39;49m\u001b[43mweight\u001b[49m\u001b[43m,\u001b[49m\u001b[43m \u001b[49m\u001b[38;5;28;43mself\u001b[39;49m\u001b[38;5;241;43m.\u001b[39;49m\u001b[43mbias\u001b[49m\u001b[43m)\u001b[49m\n",
      "\u001b[0;31mKeyboardInterrupt\u001b[0m: "
     ]
    },
    {
     "data": {
      "image/png": "[encoded data removed]",
      "text/plain": [
       "<Figure size 3500x2000 with 9 Axes>"
      ]
     },
     "metadata": {},
     "output_type": "display_data"
    }
   ],
   "source": [
    "# 6.2. Evaluation\n",
    "\n",
    "from dataclasses import dataclass\n",
    "\n",
    "from cgtnnlib.LearningTask import LearningTask, is_classification_task, is_regression_task\n",
    "\n",
    "@dataclass\n",
    "class EvaluationParameters:\n",
    "    dataset: lib.Dataset\n",
    "    model_path: str\n",
    "    is_binary_classification: bool\n",
    "    is_regression: bool\n",
    "    inputs_count: int\n",
    "    outputs_count: int\n",
    "    task: LearningTask\n",
    "    experiment_parameters: lib.ExperimentParameters\n",
    "    report_key: str\n",
    "\n",
    "\n",
    "def model_path_for(\n",
    "    model_a_or_b: str,\n",
    "    dataset: lib.Dataset\n",
    "):\n",
    "    if model_a_or_b == 'A':\n",
    "        return dataset.model_a_path(experiment_params)\n",
    "    elif model_a_or_b == 'B':\n",
    "        return dataset.model_b_path(experiment_params)\n",
    "    else:\n",
    "        raise TypeError('model_a_or_b must be A or B')\n",
    "\n",
    "def evaluate(\n",
    "    model_a_or_b: str,\n",
    "    constructor: type,\n",
    "    experiment_params: EvaluationParameters\n",
    "):\n",
    "    \"\"\"\n",
    "    Оценивает модель `\"A\"` (`RegularNetwork`) или `\"B\"`\n",
    "    (`AugmentedReLUNetwork`) согласно параметрам `experiment_params` на\n",
    "    наборах данных из `DATASETS`.\n",
    "    Рисует графики метрик в `subplots`.\n",
    "    \n",
    "    - `constructor` может быть `RegularNetwork` или `AugmentedReLUNetwork`\n",
    "      и должен соответствовать переданному `model_a_or_b`.\n",
    "    \"\"\"\n",
    "    \n",
    "\n",
    "    eval_params_items: list[EvaluationParameters] = [\n",
    "        EvaluationParameters(\n",
    "            dataset=lib.DATASETS[0],\n",
    "            model_path=model_path_for(model_a_or_b, lib.DATASETS[0]),\n",
    "            is_binary_classification=True,\n",
    "            is_regression=False,\n",
    "            inputs_count=30,\n",
    "            outputs_count=2,\n",
    "            task=classification_task,\n",
    "            experiment_parameters=experiment_params,\n",
    "            report_key=f'evaluate_{constructor.__name__}_{lib.DATASETS[0].number}_p{experiment_params.p}_N{experiment_params.iteration}',\n",
    "        ),\n",
    "        EvaluationParameters(\n",
    "            dataset=lib.DATASETS[1],\n",
    "            model_path=model_path_for(model_a_or_b, lib.DATASETS[1]),\n",
    "            is_binary_classification=False,\n",
    "            is_regression=False,\n",
    "            inputs_count=6,\n",
    "            outputs_count=4,\n",
    "            task=classification_task,\n",
    "            experiment_parameters=experiment_params,\n",
    "            report_key=f'evaluate_{constructor.__name__}_{lib.DATASETS[1].number}_p{experiment_params.p}_N{experiment_params.iteration}',\n",
    "        ),\n",
    "        EvaluationParameters(\n",
    "            dataset=lib.DATASETS[2],\n",
    "            model_path=model_path_for(model_a_or_b, lib.DATASETS[2]),\n",
    "            is_binary_classification=False,\n",
    "            is_regression=True,\n",
    "            inputs_count=19,\n",
    "            outputs_count=1,\n",
    "            task=regression_task,\n",
    "            experiment_parameters=experiment_params,\n",
    "            report_key=f'evaluate_{constructor.__name__}_{lib.DATASETS[2].number}_p{experiment_params.p}_N{experiment_params.iteration}',\n",
    "        ),\n",
    "    ]\n",
    "\n",
    "    fig, axs = plt.subplots(3, len(eval_params_items), figsize=(10, 12))\n",
    "    fig.set_size_inches(35, 20)\n",
    "\n",
    "    for (i, eval_params) in enumerate(eval_params_items):\n",
    "        evaluated_model = constructor(\n",
    "            inputs_count=eval_params.inputs_count,\n",
    "            outputs_count=eval_params.outputs_count,\n",
    "            p=experiment_params.p\n",
    "        )\n",
    "\n",
    "        lib.clear_output(wait=True)\n",
    "        print(f'Evaluating model at {eval_params.model_path}...')\n",
    "        evaluated_model.load_state_dict(torch.load(eval_params.model_path))\n",
    "\n",
    "        plot_title = f'Evaluating {eval_params.model_path}: p = {eval_params.experiment_parameters.p}, N = {eval_params.experiment_parameters.iteration}'\n",
    "\n",
    "        subplots = lib.EvaluationSubplots(\n",
    "            accuracy_ax=axs[0, i],\n",
    "            f1_ax=axs[1, i],\n",
    "            roc_auc_ax=axs[2, i],\n",
    "            mse_ax=axs[0, i],\n",
    "            r2_ax=axs[1, i],\n",
    "        )\n",
    "    \n",
    "        if is_classification_task(eval_params.task):\n",
    "            lib.plot_evaluation_of_classification(\n",
    "                df=lib.evaluate_classification_model(\n",
    "                    evaluated_model=evaluated_model,\n",
    "                    dataset=eval_params.dataset,\n",
    "                    report_key=eval_params.report_key,\n",
    "                    is_binary_classification=eval_params.is_binary_classification\n",
    "                ),\n",
    "                accuracy_ax=subplots.accuracy_ax,\n",
    "                f1_ax=subplots.f1_ax,\n",
    "                roc_auc_ax=subplots.roc_auc_ax,\n",
    "                title=plot_title\n",
    "            )\n",
    "        elif is_regression_task(eval_params.task):\n",
    "            lib.plot_evaluation_of_regression(\n",
    "                df=lib.evaluate_regression_model(\n",
    "                    evaluated_model=evaluated_model,\n",
    "                    dataset=eval_params.dataset,\n",
    "                    report_key=eval_params.report_key\n",
    "                ),\n",
    "                mse_ax=subplots.mse_ax,\n",
    "                r2_ax=subplots.r2_ax,\n",
    "                title=plot_title\n",
    "            )\n",
    "        else:\n",
    "            raise ValueError(f\"Unknown task: {eval_params.task}\")\n",
    "\n",
    "    lib.save_plot(f'evaluate_{model_a_or_b}_p{experiment_params.p}_N{experiment_params.iteration}')\n",
    "\n",
    "\n",
    "for experiment_params in lib.iterate_experiment_parameters():\n",
    "    evaluate(\n",
    "        model_a_or_b='A',\n",
    "        constructor=lib.RegularNetwork,\n",
    "        experiment_params=experiment_params\n",
    "    )\n",
    "    evaluate(\n",
    "        model_a_or_b='B',\n",
    "        constructor=lib.AugmentedReLUNetwork,\n",
    "        experiment_params=experiment_params\n",
    "    )\n",
    "\n",
    "lib.save_report()\n",
    "print(\"Done!\")"
   ]
  },
  {
   "cell_type": "markdown",
   "id": "6c613fb6",
   "metadata": {},
   "source": [
    "## 7. Анализ данных"
   ]
  },
  {
   "cell_type": "code",
   "execution_count": null,
   "id": "abb561f3",
   "metadata": {},
   "outputs": [],
   "source": [
    "# 1. Загрузка отчёта\n",
    "\n",
    "import json\n",
    "\n",
    "with open('./report/report.json') as fd:\n",
    "    report = json.load(fd)"
   ]
  },
  {
   "cell_type": "code",
   "execution_count": null,
   "id": "0940c0c7",
   "metadata": {},
   "outputs": [
    {
     "data": {
      "text/html": [
       "<div>\n",
       "<style scoped>\n",
       "    .dataframe tbody tr th:only-of-type {\n",
       "        vertical-align: middle;\n",
       "    }\n",
       "\n",
       "    .dataframe tbody tr th {\n",
       "        vertical-align: top;\n",
       "    }\n",
       "\n",
       "    .dataframe thead th {\n",
       "        text-align: right;\n",
       "    }\n",
       "</style>\n",
       "<table border=\"1\" class=\"dataframe\">\n",
       "  <thead>\n",
       "    <tr style=\"text-align: right;\">\n",
       "      <th></th>\n",
       "      <th>Key</th>\n",
       "      <th>Measurement</th>\n",
       "      <th>Network</th>\n",
       "      <th>Dataset</th>\n",
       "      <th>P</th>\n",
       "      <th>N</th>\n",
       "    </tr>\n",
       "  </thead>\n",
       "  <tbody>\n",
       "    <tr>\n",
       "      <th>0</th>\n",
       "      <td>loss_RegularNetwork_1_p0_N0</td>\n",
       "      <td>loss</td>\n",
       "      <td>RegularNetwork</td>\n",
       "      <td>1</td>\n",
       "      <td>0.00</td>\n",
       "      <td>0</td>\n",
       "    </tr>\n",
       "    <tr>\n",
       "      <th>1</th>\n",
       "      <td>loss_AugmentedReLUNetwork_1_p0_N0</td>\n",
       "      <td>loss</td>\n",
       "      <td>AugmentedReLUNetwork</td>\n",
       "      <td>1</td>\n",
       "      <td>0.00</td>\n",
       "      <td>0</td>\n",
       "    </tr>\n",
       "    <tr>\n",
       "      <th>2</th>\n",
       "      <td>loss_RegularNetwork_2_p0_N0</td>\n",
       "      <td>loss</td>\n",
       "      <td>RegularNetwork</td>\n",
       "      <td>2</td>\n",
       "      <td>0.00</td>\n",
       "      <td>0</td>\n",
       "    </tr>\n",
       "    <tr>\n",
       "      <th>3</th>\n",
       "      <td>loss_AugmentedReLUNetwork_2_p0_N0</td>\n",
       "      <td>loss</td>\n",
       "      <td>AugmentedReLUNetwork</td>\n",
       "      <td>2</td>\n",
       "      <td>0.00</td>\n",
       "      <td>0</td>\n",
       "    </tr>\n",
       "    <tr>\n",
       "      <th>4</th>\n",
       "      <td>loss_RegularNetwork_3_p0_N0</td>\n",
       "      <td>loss</td>\n",
       "      <td>RegularNetwork</td>\n",
       "      <td>3</td>\n",
       "      <td>0.00</td>\n",
       "      <td>0</td>\n",
       "    </tr>\n",
       "    <tr>\n",
       "      <th>...</th>\n",
       "      <td>...</td>\n",
       "      <td>...</td>\n",
       "      <td>...</td>\n",
       "      <td>...</td>\n",
       "      <td>...</td>\n",
       "      <td>...</td>\n",
       "    </tr>\n",
       "    <tr>\n",
       "      <th>835</th>\n",
       "      <td>evaluate_RegularNetwork_2_p0.99_N9</td>\n",
       "      <td>evaluate</td>\n",
       "      <td>RegularNetwork</td>\n",
       "      <td>2</td>\n",
       "      <td>0.99</td>\n",
       "      <td>9</td>\n",
       "    </tr>\n",
       "    <tr>\n",
       "      <th>836</th>\n",
       "      <td>evaluate_RegularNetwork_3_p0.99_N9</td>\n",
       "      <td>evaluate</td>\n",
       "      <td>RegularNetwork</td>\n",
       "      <td>3</td>\n",
       "      <td>0.99</td>\n",
       "      <td>9</td>\n",
       "    </tr>\n",
       "    <tr>\n",
       "      <th>837</th>\n",
       "      <td>evaluate_AugmentedReLUNetwork_1_p0.99_N9</td>\n",
       "      <td>evaluate</td>\n",
       "      <td>AugmentedReLUNetwork</td>\n",
       "      <td>1</td>\n",
       "      <td>0.99</td>\n",
       "      <td>9</td>\n",
       "    </tr>\n",
       "    <tr>\n",
       "      <th>838</th>\n",
       "      <td>evaluate_AugmentedReLUNetwork_2_p0.99_N9</td>\n",
       "      <td>evaluate</td>\n",
       "      <td>AugmentedReLUNetwork</td>\n",
       "      <td>2</td>\n",
       "      <td>0.99</td>\n",
       "      <td>9</td>\n",
       "    </tr>\n",
       "    <tr>\n",
       "      <th>839</th>\n",
       "      <td>evaluate_AugmentedReLUNetwork_3_p0.99_N9</td>\n",
       "      <td>evaluate</td>\n",
       "      <td>AugmentedReLUNetwork</td>\n",
       "      <td>3</td>\n",
       "      <td>0.99</td>\n",
       "      <td>9</td>\n",
       "    </tr>\n",
       "  </tbody>\n",
       "</table>\n",
       "<p>840 rows × 6 columns</p>\n",
       "</div>"
      ],
      "text/plain": [
       "                                          Key Measurement  \\\n",
       "0                 loss_RegularNetwork_1_p0_N0        loss   \n",
       "1           loss_AugmentedReLUNetwork_1_p0_N0        loss   \n",
       "2                 loss_RegularNetwork_2_p0_N0        loss   \n",
       "3           loss_AugmentedReLUNetwork_2_p0_N0        loss   \n",
       "4                 loss_RegularNetwork_3_p0_N0        loss   \n",
       "..                                        ...         ...   \n",
       "835        evaluate_RegularNetwork_2_p0.99_N9    evaluate   \n",
       "836        evaluate_RegularNetwork_3_p0.99_N9    evaluate   \n",
       "837  evaluate_AugmentedReLUNetwork_1_p0.99_N9    evaluate   \n",
       "838  evaluate_AugmentedReLUNetwork_2_p0.99_N9    evaluate   \n",
       "839  evaluate_AugmentedReLUNetwork_3_p0.99_N9    evaluate   \n",
       "\n",
       "                  Network  Dataset     P  N  \n",
       "0          RegularNetwork        1  0.00  0  \n",
       "1    AugmentedReLUNetwork        1  0.00  0  \n",
       "2          RegularNetwork        2  0.00  0  \n",
       "3    AugmentedReLUNetwork        2  0.00  0  \n",
       "4          RegularNetwork        3  0.00  0  \n",
       "..                    ...      ...   ... ..  \n",
       "835        RegularNetwork        2  0.99  9  \n",
       "836        RegularNetwork        3  0.99  9  \n",
       "837  AugmentedReLUNetwork        1  0.99  9  \n",
       "838  AugmentedReLUNetwork        2  0.99  9  \n",
       "839  AugmentedReLUNetwork        3  0.99  9  \n",
       "\n",
       "[840 rows x 6 columns]"
      ]
     },
     "execution_count": 7,
     "metadata": {},
     "output_type": "execute_result"
    }
   ],
   "source": [
    "# 2. Составление индекса для поиска по отчёту\n",
    "\n",
    "import pandas as pd\n",
    "\n",
    "df = pd.DataFrame([[key] + key.split('_') for key in report.keys()])\n",
    "df.columns = ['Key', 'Measurement', 'Network', 'Dataset', 'P', 'N']\n",
    "df.Dataset = df.Dataset.apply(lambda x: int(x))\n",
    "df.P = df.P.apply(lambda x: float(x[1:]))\n",
    "df.N = df.N.apply(lambda x: int(x[1:]))\n",
    "df"
   ]
  },
  {
   "cell_type": "code",
   "execution_count": null,
   "id": "a60f12cb",
   "metadata": {},
   "outputs": [],
   "source": [
    "# 3. Вывод графиков\n",
    "\n",
    "import os\n",
    "from dataclasses import dataclass\n",
    "\n",
    "import matplotlib.pyplot as plt\n",
    "import pandas as pd\n",
    "\n",
    "@dataclass\n",
    "class PlotParams:\n",
    "    measurement: str\n",
    "    dataset: int\n",
    "    network = 'AugmentedReLUNetwork'\n",
    "    metric: str\n",
    "    p: int\n",
    "    \n",
    "def compute_dataframe(plot_params: PlotParams) -> pd.DataFrame:\n",
    "    rows = (\n",
    "        df\n",
    "            .loc[df.Measurement == plot_params.measurement]\n",
    "            .loc[df.Dataset == plot_params.dataset]\n",
    "            .loc[df.Network == plot_params.network]\n",
    "            .loc[df.P == plot_params.p]\n",
    "    )\n",
    "\n",
    "    if plot_params.measurement == 'loss':\n",
    "        values = pd.DataFrame([report[row.Key] for row in rows.itertuples()])\n",
    "    else:\n",
    "        cols = []\n",
    "        \n",
    "        for row in rows.itertuples():\n",
    "            report_data = report[row.Key]\n",
    "            cols.append(report_data[plot_params.metric])\n",
    "            \n",
    "        values = pd.DataFrame(cols)\n",
    "\n",
    "    result = values.quantile([0.25, 0.75]).transpose()\n",
    "    result['mean'] = values.mean()\n",
    "    return result\n",
    "\n",
    "\n",
    "def plot_curve(\n",
    "    ax: object,\n",
    "    means: pd.Series,\n",
    "    lowerqs: pd.Series,\n",
    "    upperqs: pd.Series,\n",
    "    zmeans: pd.Series,\n",
    "    zlowerqs: pd.Series,\n",
    "    zupperqs: pd.Series,\n",
    "    X: pd.Series,\n",
    "    title: str,\n",
    "    xlabel: str,\n",
    "    ylabel: str,\n",
    "):\n",
    "    ax.plot(X, zmeans, label='Mean of p = 0', color='lightblue')\n",
    "    ax.fill_between(X, zlowerqs, zupperqs, color='lightgray', alpha=0.5, label='0.25 to 0.75 Quantiles, p = 0')\n",
    "    ax.plot(X, means, label='Mean', color='blue')\n",
    "    ax.fill_between(X, lowerqs, upperqs, color='gray', alpha=0.5, label='0.25 to 0.75 Quantiles')\n",
    "    ax.set_xlabel(xlabel)\n",
    "    ax.set_ylabel(ylabel)\n",
    "    ax.set_title(title)\n",
    "    ax.legend()\n",
    "\n",
    "\n",
    "for (measurement, dataset, xlabel) in [\n",
    "    ('loss', 1, 'iteration'),\n",
    "    ('evaluate', 1, 'noise factor'),\n",
    "    ('loss',  2, 'iteration'),\n",
    "    ('evaluate', 2, 'noise factor'),\n",
    "    ('loss', 3, 'iteration'),\n",
    "    ('evaluate', 3, 'noise factor'),\n",
    "]:\n",
    "    if measurement == 'loss':\n",
    "        metrics = ['loss']\n",
    "    else:\n",
    "        if dataset == 3:\n",
    "            metrics = ['r2', 'mse']\n",
    "        else:\n",
    "            metrics = ['f1', 'accuracy', 'roc_auc']\n",
    "    \n",
    "    fig, axs = plt.subplots(len(metrics), 6, figsize=(24, len(metrics) * 6))\n",
    "    for (i, metric) in enumerate(metrics):\n",
    "        reference_curve = compute_dataframe(plot_params=PlotParams(\n",
    "            measurement=measurement,\n",
    "            dataset=dataset,\n",
    "            metric=metric,\n",
    "            p=0,\n",
    "        ))\n",
    "\n",
    "        for (j, p) in enumerate([0.01, 0.05, 0.5, 0.9, 0.95, 0.99]):\n",
    "            plot_params=PlotParams(\n",
    "                measurement=measurement,\n",
    "                dataset=dataset,\n",
    "                metric=metric,\n",
    "                p=p,\n",
    "            )\n",
    "\n",
    "            curve=compute_dataframe(plot_params=plot_params)\n",
    "            plot_curve(\n",
    "                ax=axs[i, j] if len(metrics) > 1 else axs[j],\n",
    "                means=curve['mean'],\n",
    "                lowerqs=curve[0.25],\n",
    "                upperqs=curve[0.75],\n",
    "                zmeans=reference_curve['mean'],\n",
    "                zlowerqs=reference_curve[0.25],\n",
    "                zupperqs=reference_curve[0.75],\n",
    "                X=curve.index,\n",
    "                title=f'p = {plot_params.p}',\n",
    "                xlabel=xlabel,\n",
    "                ylabel=metric,\n",
    "            )\n",
    "    fig.suptitle(f'Dataset #{plot_params.dataset}')\n",
    "    plt.tight_layout()\n",
    "    path = os.path.join('report/', f'{measurement}_{dataset}.png')\n",
    "    plt.savefig(path)\n",
    "    plt.close()"
   ]
  }
 ],
 "metadata": {
  "jupytext": {
   "cell_metadata_filter": "-all",
   "encoding": "# coding: utf-8",
   "executable": "/usr/bin/env python",
   "main_language": "python",
   "notebook_metadata_filter": "-all"
  },
  "kernelspec": {
   "display_name": "Python 3",
   "language": "python",
   "name": "python3"
  },
  "language_info": {
   "codemirror_mode": {
    "name": "ipython",
    "version": 3
   },
   "file_extension": ".py",
   "mimetype": "text/x-python",
   "name": "python",
   "nbconvert_exporter": "python",
   "pygments_lexer": "ipython3",
   "version": "3.12.3"
  }
 },
 "nbformat": 4,
 "nbformat_minor": 5
}
