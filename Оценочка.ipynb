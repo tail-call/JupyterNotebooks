{
 "cells": [
  {
   "cell_type": "code",
   "execution_count": 5,
   "metadata": {},
   "outputs": [
    {
     "name": "stdout",
     "output_type": "stream",
     "text": [
      "62.4 ± 20.8\n"
     ]
    }
   ],
   "source": [
    "from dataclasses import dataclass\n",
    "\n",
    "FACTOR_A = 1.5\n",
    "FACTOR_B = 2\n",
    "FACTOR_C = 0.3\n",
    "\n",
    "@dataclass\n",
    "class Interval:\n",
    "    mean: float\n",
    "    error: float\n",
    "\n",
    "    def __str__(self):\n",
    "        return f\"{self.mean} ± {self.error}\"\n",
    "\n",
    "def adjusted_total(total):\n",
    "    return Interval(\n",
    "        mean=total * FACTOR_A,\n",
    "        error=total / FACTOR_B,\n",
    "    )\n",
    "\n",
    "def refactoring(total: Interval):\n",
    "    return Interval(\n",
    "        mean=total.mean * FACTOR_C,\n",
    "        error=total.error * FACTOR_C,\n",
    "    )\n",
    "\n",
    "def grand_total(adj_total, refactoring):\n",
    "    return Interval(\n",
    "        mean=adj_total.mean + refactoring.mean,\n",
    "        error=adj_total.error + refactoring.error,\n",
    "    )\n",
    "\n",
    "tasks = {\n",
    "    'Эндпоинты': 8,\n",
    "    'Флоу': 8,\n",
    "    'Экран': 16,\n",
    "}\n",
    "\n",
    "hours = sum(tasks.values())\n",
    "\n",
    "print(grand_total(\n",
    "    adjusted_total(hours),\n",
    "    refactoring(adjusted_total(hours))\n",
    "))"
   ]
  },
  {
   "cell_type": "code",
   "execution_count": null,
   "metadata": {},
   "outputs": [],
   "source": []
  }
 ],
 "metadata": {
  "kernelspec": {
   "display_name": "Python 3",
   "language": "python",
   "name": "python3"
  },
  "language_info": {
   "codemirror_mode": {
    "name": "ipython",
    "version": 3
   },
   "file_extension": ".py",
   "mimetype": "text/x-python",
   "name": "python",
   "nbconvert_exporter": "python",
   "pygments_lexer": "ipython3",
   "version": "3.12.3"
  }
 },
 "nbformat": 4,
 "nbformat_minor": 2
}
