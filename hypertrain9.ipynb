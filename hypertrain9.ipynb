{
 "cells": [
  {
   "cell_type": "code",
   "execution_count": null,
   "id": "e94dbbc4",
   "metadata": {},
   "outputs": [],
   "source": []
  },
  {
   "cell_type": "markdown",
   "id": "3601460f",
   "metadata": {},
   "source": [
    "# Методы исследования характеристических свойств нейронных сетей с применением теоретико-игрового подхода\n",
    "\n",
    "- **Теория**: И.В.Томилов ivan-tomilov3@yandex.ru\n",
    "- **Реализация**: М.А.Зайцева maria@tail-call.ru\n",
    "\n",
    "## Задачи\n",
    "\n",
    "- *DONE* $p=0$, $p=0.95$, $p=0.99$, помимо $0.05$ и $0.5$\n",
    "- *DONE* Поменьше выводить текстовых логов\n",
    "- `TODO` Графики соединить через subplots: по одной сетке графики\n",
    "  в рамках одной фигуры.\n",
    "  - *DONE* Графики нескольких метрик валидации на одной фигуре\n",
    "  - *DONE* Кривые потерь: 6 графиков для каждого $p$ и $N$ на одной фигуре\n",
    "  - `TODO` Графики валидации для каждого $p$ на одно\n",
    "  - `TODO` Подобрать фигурам хорошие размеры\n",
    "- `TODO` `clear_output(wait=True)`\n",
    "- `TODO` `plt.xscale('log')` ???\n",
    "- `TODO` Раскомментировать параметры"
   ]
  },
  {
   "cell_type": "markdown",
   "id": "39a4bc90",
   "metadata": {},
   "source": [
    "## Настройки"
   ]
  },
  {
   "cell_type": "code",
   "execution_count": 81,
   "id": "3215af23",
   "metadata": {},
   "outputs": [],
   "source": [
    "REPORT_DIR = \"report/\"\n",
    "\n",
    "TEST_SAMPLE_SIZE = 0.2\n",
    "ITERATIONS = 1 # 10\n",
    "RANDOM_STATE = 23432\n",
    "BATCH_SIZE = 12\n",
    "EPOCHS = 1 # 10\n",
    "LEARNING_RATE = 0.00011\n",
    "PP = [0, 0.01, 0.05, 0.5, 0.9, 0.95, 0.99]\n",
    "PRINT_TRAINING_SPAN = 500\n",
    "\n",
    "NOISE_SAMPLES_COUNT = 50\n",
    "NOISE_FACTORS = [\n",
    "    x * 2/NOISE_SAMPLES_COUNT for x in range(NOISE_SAMPLES_COUNT)\n",
    "]"
   ]
  },
  {
   "cell_type": "code",
   "execution_count": 82,
   "id": "30fabc90",
   "metadata": {
    "scrolled": true,
    "vscode": {
     "languageId": "shellscript"
    }
   },
   "outputs": [
    {
     "name": "stdout",
     "output_type": "stream",
     "text": [
      "Requirement already satisfied: torch in /Users/scales/.pyenv/versions/3.12.3/lib/python3.12/site-packages (2.2.2)\n",
      "Requirement already satisfied: torchvision in /Users/scales/.pyenv/versions/3.12.3/lib/python3.12/site-packages (0.17.2)\n",
      "Requirement already satisfied: pandas in /Users/scales/.pyenv/versions/3.12.3/lib/python3.12/site-packages (2.2.2)\n",
      "Requirement already satisfied: scikit-learn in /Users/scales/.pyenv/versions/3.12.3/lib/python3.12/site-packages (1.5.2)\n",
      "Requirement already satisfied: numpy<2 in /Users/scales/.pyenv/versions/3.12.3/lib/python3.12/site-packages (1.26.4)\n",
      "Requirement already satisfied: filelock in /Users/scales/.pyenv/versions/3.12.3/lib/python3.12/site-packages (from torch) (3.16.1)\n",
      "Requirement already satisfied: typing-extensions>=4.8.0 in /Users/scales/.pyenv/versions/3.12.3/lib/python3.12/site-packages (from torch) (4.12.2)\n",
      "Requirement already satisfied: sympy in /Users/scales/.pyenv/versions/3.12.3/lib/python3.12/site-packages (from torch) (1.13.3)\n",
      "Requirement already satisfied: networkx in /Users/scales/.pyenv/versions/3.12.3/lib/python3.12/site-packages (from torch) (3.3)\n",
      "Requirement already satisfied: jinja2 in /Users/scales/.pyenv/versions/3.12.3/lib/python3.12/site-packages (from torch) (3.1.4)\n",
      "Requirement already satisfied: fsspec in /Users/scales/.pyenv/versions/3.12.3/lib/python3.12/site-packages (from torch) (2024.9.0)\n",
      "Requirement already satisfied: pillow!=8.3.*,>=5.3.0 in /Users/scales/.pyenv/versions/3.12.3/lib/python3.12/site-packages (from torchvision) (10.4.0)\n",
      "Requirement already satisfied: python-dateutil>=2.8.2 in /Users/scales/.pyenv/versions/3.12.3/lib/python3.12/site-packages (from pandas) (2.9.0.post0)\n",
      "Requirement already satisfied: pytz>=2020.1 in /Users/scales/.pyenv/versions/3.12.3/lib/python3.12/site-packages (from pandas) (2024.2)\n",
      "Requirement already satisfied: tzdata>=2022.7 in /Users/scales/.pyenv/versions/3.12.3/lib/python3.12/site-packages (from pandas) (2024.1)\n",
      "Requirement already satisfied: scipy>=1.6.0 in /Users/scales/.pyenv/versions/3.12.3/lib/python3.12/site-packages (from scikit-learn) (1.14.1)\n",
      "Requirement already satisfied: joblib>=1.2.0 in /Users/scales/.pyenv/versions/3.12.3/lib/python3.12/site-packages (from scikit-learn) (1.4.2)\n",
      "Requirement already satisfied: threadpoolctl>=3.1.0 in /Users/scales/.pyenv/versions/3.12.3/lib/python3.12/site-packages (from scikit-learn) (3.5.0)\n",
      "Requirement already satisfied: six>=1.5 in /Users/scales/.pyenv/versions/3.12.3/lib/python3.12/site-packages (from python-dateutil>=2.8.2->pandas) (1.16.0)\n",
      "Requirement already satisfied: MarkupSafe>=2.0 in /Users/scales/.pyenv/versions/3.12.3/lib/python3.12/site-packages (from jinja2->torch) (2.1.5)\n",
      "Requirement already satisfied: mpmath<1.4,>=1.1.0 in /Users/scales/.pyenv/versions/3.12.3/lib/python3.12/site-packages (from sympy->torch) (1.3.0)\n",
      "\n",
      "\u001b[1m[\u001b[0m\u001b[34;49mnotice\u001b[0m\u001b[1;39;49m]\u001b[0m\u001b[39;49m A new release of pip is available: \u001b[0m\u001b[31;49m24.0\u001b[0m\u001b[39;49m -> \u001b[0m\u001b[32;49m24.3.1\u001b[0m\n",
      "\u001b[1m[\u001b[0m\u001b[34;49mnotice\u001b[0m\u001b[1;39;49m]\u001b[0m\u001b[39;49m To update, run: \u001b[0m\u001b[32;49mpip install --upgrade pip\u001b[0m\n",
      "Note: you may need to restart the kernel to use updated packages.\n"
     ]
    }
   ],
   "source": [
    "pip install torch torchvision pandas scikit-learn 'numpy<2'"
   ]
  },
  {
   "cell_type": "markdown",
   "id": "f3e193e5",
   "metadata": {},
   "source": [
    "## Генерация отчёта"
   ]
  },
  {
   "cell_type": "code",
   "execution_count": 83,
   "id": "f74c534e",
   "metadata": {},
   "outputs": [],
   "source": [
    "import os\n",
    "import json\n",
    "import torch\n",
    "\n",
    "if not os.path.exists(REPORT_DIR):\n",
    "    os.makedirs(REPORT_DIR)\n",
    "\n",
    "report_data = {}\n",
    "\n",
    "def append_to_report(label, data):\n",
    "    report_data[label] = data\n",
    "\n",
    "def save_report():\n",
    "    path = os.path.join(REPORT_DIR, 'report.json')\n",
    "    with open(path, 'w') as file:\n",
    "        json.dump(report_data, file, indent=4)\n",
    "    print(f\"Отчёт сохранён в {path}\")"
   ]
  },
  {
   "cell_type": "markdown",
   "id": "76f6fea9",
   "metadata": {},
   "source": [
    "## Данные"
   ]
  },
  {
   "cell_type": "code",
   "execution_count": 84,
   "id": "1d991977",
   "metadata": {},
   "outputs": [],
   "source": [
    "import torch\n",
    "import torch.nn as nn\n",
    "from dataclasses import dataclass\n",
    "\n",
    "@dataclass\n",
    "class LearningTask:\n",
    "    criterion: object\n",
    "    dtype: torch.dtype\n",
    "\n",
    "CLASSIFICATION_TASK = LearningTask(\n",
    "    criterion=nn.CrossEntropyLoss(),\n",
    "    dtype=torch.long\n",
    ")\n",
    "\n",
    "REGRESSION_TASK = LearningTask(\n",
    "    criterion=nn.MSELoss(),\n",
    "    dtype=torch.float\n",
    ")"
   ]
  },
  {
   "cell_type": "code",
   "execution_count": 85,
   "id": "a1072767",
   "metadata": {
    "lines_to_next_cell": 2
   },
   "outputs": [],
   "source": [
    "from typing import List, Tuple\n",
    "\n",
    "import urllib.request\n",
    "import pandas as pd\n",
    "import os\n",
    "\n",
    "from sklearn.model_selection import train_test_split\n",
    "\n",
    "import torch\n",
    "from torch.utils.data import TensorDataset\n",
    "\n",
    "def download_csv(\n",
    "    url: str,\n",
    "    saved_name: str,\n",
    "    features: List[str] = None\n",
    ") -> pd.DataFrame:\n",
    "    data_dir = 'data'\n",
    "    os.makedirs(data_dir, exist_ok=True)\n",
    "    file_path = os.path.join(data_dir, saved_name)\n",
    "\n",
    "    urllib.request.urlretrieve(url, file_path)\n",
    "\n",
    "    if features is None:\n",
    "        return pd.read_csv(file_path)\n",
    "    else:\n",
    "        return pd.read_csv(file_path, header=None, names=features)\n",
    "\n",
    "def tensor_dataset_from_dataframe(\n",
    "    df: pd.DataFrame,\n",
    "    target: str,\n",
    "    y_dtype: type\n",
    ") -> TensorDataset:\n",
    "    X = df.drop(columns=[target]).values\n",
    "    y = df[target].values\n",
    "\n",
    "    X_tensor = torch.tensor(X, dtype=torch.float32)\n",
    "    y_tensor = torch.tensor(y, dtype=y_dtype)\n",
    "\n",
    "    return TensorDataset(X_tensor, y_tensor)"
   ]
  },
  {
   "cell_type": "code",
   "execution_count": 86,
   "id": "dae2e876",
   "metadata": {
    "lines_to_next_cell": 2
   },
   "outputs": [],
   "source": [
    "def breast_cancer_dataset() -> Tuple[TensorDataset, TensorDataset]:\n",
    "    df = download_csv(\n",
    "        url='https://raw.githubusercontent.com/dataspelunking/MLwR/refs/heads/master/Machine%20Learning%20with%20R%20(2nd%20Ed.)/Chapter%2003/wisc_bc_data.csv',\n",
    "        saved_name='wisc_bc_data.csv'\n",
    "    )\n",
    "\n",
    "    target = 'diagnosis'\n",
    "\n",
    "    df[target] = df[target].map({ 'M': 0, 'B': 1 })\n",
    "    df = df.drop(columns=['id'])\n",
    "\n",
    "    train_df, val_df = train_test_split(\n",
    "        df,\n",
    "        test_size=TEST_SAMPLE_SIZE,\n",
    "        random_state=RANDOM_STATE\n",
    "    )\n",
    "\n",
    "    return (\n",
    "        tensor_dataset_from_dataframe(\n",
    "            df=train_df,\n",
    "            target=target,\n",
    "            y_dtype=CLASSIFICATION_TASK.dtype\n",
    "        ),\n",
    "        tensor_dataset_from_dataframe(\n",
    "            df=val_df,\n",
    "            target=target,\n",
    "            y_dtype=CLASSIFICATION_TASK.dtype\n",
    "        )\n",
    "    )"
   ]
  },
  {
   "cell_type": "code",
   "execution_count": 87,
   "id": "fcb925cd",
   "metadata": {
    "lines_to_next_cell": 2
   },
   "outputs": [],
   "source": [
    "def car_evaluation_dataset() -> Tuple[TensorDataset, TensorDataset]:\n",
    "    df = download_csv(\n",
    "        url='https://raw.githubusercontent.com/mragpavank/car-evaluation-dataset/refs/heads/master/car_evaluation.csv',\n",
    "        saved_name='car_evaluation.csv',\n",
    "        features=['buying', 'maint', 'doors', 'persons', 'lug_boot', 'safety', 'class']\n",
    "    )\n",
    "\n",
    "    target = 'class'\n",
    "\n",
    "    df[target] = df[target].map({\n",
    "        'unacc': 0,\n",
    "        'acc': 1,\n",
    "        'good': 2,\n",
    "        'vgood': 3,\n",
    "    })\n",
    "\n",
    "    df['doors'] = df['doors'].map({\n",
    "        '2': 2,\n",
    "        '3': 3,\n",
    "        '4': 4,\n",
    "        '5more': 5\n",
    "    })\n",
    "\n",
    "    high_map = {\n",
    "        'low': 0,\n",
    "        'med': 1,\n",
    "        'high': 2,\n",
    "        'vhigh': 3\n",
    "    }\n",
    "\n",
    "    df['buying'] = df['buying'].map(high_map)\n",
    "    df['safety'] = df['safety'].map(high_map)\n",
    "    df['maint'] = df['maint'].map(high_map)\n",
    "\n",
    "    df['persons'] = df['persons'].map({\n",
    "        '2': 2,\n",
    "        '4': 4,\n",
    "        'more': 6\n",
    "    })\n",
    "\n",
    "    df['lug_boot'] = df['lug_boot'].map({\n",
    "        'small': 0,\n",
    "        'med': 1,\n",
    "        'big': 2\n",
    "    })\n",
    "\n",
    "    train_df, val_df = train_test_split(\n",
    "        df,\n",
    "        test_size=TEST_SAMPLE_SIZE,\n",
    "        random_state=RANDOM_STATE\n",
    "    )\n",
    "    return (\n",
    "        tensor_dataset_from_dataframe(\n",
    "            df=train_df,\n",
    "            target=target,\n",
    "            y_dtype=CLASSIFICATION_TASK.dtype\n",
    "        ),\n",
    "        tensor_dataset_from_dataframe(\n",
    "            df=val_df,\n",
    "            target=target,\n",
    "            y_dtype=CLASSIFICATION_TASK.dtype\n",
    "        )\n",
    "    )"
   ]
  },
  {
   "cell_type": "code",
   "execution_count": 88,
   "id": "b40a5c85",
   "metadata": {},
   "outputs": [],
   "source": [
    "\n",
    "def student_performance_factors_dataset() -> Tuple[TensorDataset, TensorDataset]:\n",
    "    df = pd.read_csv('data/StudentPerformanceFactors.csv')\n",
    "\n",
    "    target = 'Exam_Score'\n",
    "\n",
    "    lmh = {\n",
    "        'Low': -1,\n",
    "        'Medium': 0,\n",
    "        'High': +1,\n",
    "    }\n",
    "\n",
    "    yn = {\n",
    "        'Yes': +1,\n",
    "        'No': -1,\n",
    "    }\n",
    "\n",
    "    df = df.dropna(subset=['Teacher_Quality'])\n",
    "\n",
    "    df['Parental_Involvement'] = df['Parental_Involvement'].map(lmh)\n",
    "    df['Access_to_Resources'] = df['Access_to_Resources'].map(lmh)\n",
    "    df['Extracurricular_Activities'] = df['Extracurricular_Activities'].map(yn)\n",
    "    df['Motivation_Level'] = df['Motivation_Level'].map(lmh)\n",
    "    df['Internet_Access'] = df['Internet_Access'].map(yn)\n",
    "    df['Family_Income'] = df['Family_Income'].map(lmh)\n",
    "    df['Teacher_Quality'] = df['Teacher_Quality'].map(lmh)\n",
    "    df['School_Type'] = df['School_Type'].map({\n",
    "        'Public': +1,\n",
    "        'Private': -1,\n",
    "    })\n",
    "    df['Peer_Influence'] = df['Peer_Influence'].map({\n",
    "        'Positive': +1,\n",
    "        'Neutral': 0,\n",
    "        'Negative': -1,\n",
    "    })\n",
    "    df['Learning_Disabilities'] = df['Learning_Disabilities'].map(yn)\n",
    "    df['Parental_Education_Level'] = df['Parental_Education_Level'].map({\n",
    "        'Postgraduate': +3,\n",
    "        'College': +2,\n",
    "        'High School': +1,\n",
    "    }).fillna(0)\n",
    "    df['Distance_from_Home'] = df['Distance_from_Home'].map({\n",
    "        'Near': +1,\n",
    "        'Moderate': 0,\n",
    "        'Far': -1,\n",
    "    }).fillna(0)\n",
    "    df['Gender'] = df['Gender'].map({\n",
    "        'Female': +1,\n",
    "        'Male': -1,\n",
    "    }).fillna(0)\n",
    "\n",
    "    train_df, val_df = train_test_split(\n",
    "        df,\n",
    "        test_size=TEST_SAMPLE_SIZE,\n",
    "        random_state=RANDOM_STATE\n",
    "    )\n",
    "\n",
    "    return (\n",
    "        tensor_dataset_from_dataframe(\n",
    "            df=train_df,\n",
    "            target=target,\n",
    "            y_dtype=REGRESSION_TASK.dtype\n",
    "        ),\n",
    "        tensor_dataset_from_dataframe(\n",
    "            df=val_df,\n",
    "            target=target,\n",
    "            y_dtype=REGRESSION_TASK.dtype\n",
    "        )\n",
    "    )"
   ]
  },
  {
   "cell_type": "code",
   "execution_count": 89,
   "id": "dfaaf88f",
   "metadata": {},
   "outputs": [],
   "source": [
    "from dataclasses import dataclass\n",
    "\n",
    "import pandas as pd\n",
    "from torch.utils.data import DataLoader\n",
    "\n",
    "@dataclass\n",
    "class ExperimentParameters:\n",
    "    iteration: int\n",
    "    p: float\n",
    "\n",
    "@dataclass\n",
    "class DatasetData:\n",
    "    train_dataset: pd.DataFrame\n",
    "    test_dataset: pd.DataFrame\n",
    "    train_loader: DataLoader\n",
    "    test_loader: DataLoader\n",
    "\n",
    "@dataclass\n",
    "class Dataset:\n",
    "    name: str\n",
    "    number: int\n",
    "    features_count: int\n",
    "    classes_count: int\n",
    "    data: DatasetData\n",
    "\n",
    "    def model_a_path(self, params: ExperimentParameters) -> str:\n",
    "        return f'report/model-{self.number}A-c-P{params.p}_N{params.iteration}.pth'\n",
    "\n",
    "    def model_b_path(self, params: ExperimentParameters) -> str:\n",
    "        return f'report/model-{self.number}B-c-P{params.p}_N{params.iteration}.pth'"
   ]
  },
  {
   "cell_type": "code",
   "execution_count": 90,
   "id": "92296cfb",
   "metadata": {},
   "outputs": [],
   "source": [
    "\n",
    "from torch.utils.data import DataLoader\n",
    "\n",
    "def make_dataset1(batch_size: int) -> Dataset:\n",
    "    train_dataset, test_dataset = breast_cancer_dataset()\n",
    "\n",
    "    return Dataset(\n",
    "        name='wisc_bc_data.csv',\n",
    "        number=1,\n",
    "        features_count=train_dataset[1][0].shape[0],\n",
    "        classes_count=2,\n",
    "        data=DatasetData(\n",
    "            train_dataset=train_dataset,\n",
    "            test_dataset=test_dataset,\n",
    "            train_loader=DataLoader(\n",
    "                train_dataset,\n",
    "                batch_size=batch_size,\n",
    "                shuffle=True\n",
    "            ),\n",
    "            test_loader=DataLoader(\n",
    "                test_dataset,\n",
    "                batch_size=batch_size,\n",
    "                shuffle=False\n",
    "            )\n",
    "        )\n",
    "    )\n",
    "\n",
    "def make_dataset2(batch_size: int) -> Dataset:\n",
    "    train_dataset, test_dataset = car_evaluation_dataset()\n",
    "\n",
    "    return Dataset(\n",
    "        name='car_evaluation.csv',\n",
    "        number=2,\n",
    "        features_count=train_dataset[1][0].shape[0],\n",
    "        classes_count=4,\n",
    "        data=DatasetData(\n",
    "            train_dataset=train_dataset,\n",
    "            test_dataset=test_dataset,\n",
    "            train_loader=DataLoader(\n",
    "                train_dataset,\n",
    "                batch_size=batch_size,\n",
    "                shuffle=True\n",
    "            ),\n",
    "            test_loader=DataLoader(\n",
    "                test_dataset,\n",
    "                batch_size=batch_size,\n",
    "                shuffle=False\n",
    "            )\n",
    "        )\n",
    "    )\n",
    "\n",
    "def make_dataset3(batch_size: int) -> Dataset:\n",
    "    train_dataset, test_dataset = student_performance_factors_dataset()\n",
    "\n",
    "    return Dataset(\n",
    "        name='StudentPerformanceFactors.csv',\n",
    "        number=3,\n",
    "        features_count=train_dataset[1][0].shape[0],\n",
    "        classes_count=1,\n",
    "        data=DatasetData(\n",
    "            train_dataset=train_dataset,\n",
    "            test_dataset=test_dataset,\n",
    "            train_loader=DataLoader(\n",
    "                train_dataset,\n",
    "                batch_size=batch_size,\n",
    "                shuffle=True\n",
    "            ),\n",
    "            test_loader=DataLoader(\n",
    "                test_dataset,\n",
    "                batch_size=batch_size,\n",
    "                shuffle=False\n",
    "            )\n",
    "        )\n",
    "    )\n",
    "\n",
    "datasets = [\n",
    "    make_dataset1(batch_size=12),\n",
    "    make_dataset2(batch_size=12),\n",
    "    make_dataset3(batch_size=12),\n",
    "]"
   ]
  },
  {
   "cell_type": "markdown",
   "id": "fa23c2f6",
   "metadata": {},
   "source": [
    "\n",
    "## Модели"
   ]
  },
  {
   "cell_type": "code",
   "execution_count": 91,
   "id": "b7cc09eb",
   "metadata": {
    "lines_to_next_cell": 2
   },
   "outputs": [],
   "source": [
    "import torch\n",
    "\n",
    "class CustomBackwardFunction(torch.autograd.Function):\n",
    "    \"\"\"\n",
    "    Переопределённая функция для линейного слоя.\n",
    "    \"\"\"\n",
    "    @staticmethod\n",
    "    def forward(\n",
    "        ctx,\n",
    "        p: float,\n",
    "        input: torch.Tensor,\n",
    "        weight: torch.Tensor,\n",
    "        bias: float = None\n",
    "    ):\n",
    "        ctx.save_for_backward(torch.scalar_tensor(p), input, weight, bias)\n",
    "\n",
    "        output = input.mm(weight.t())\n",
    "        if bias is not None:\n",
    "            output += bias\n",
    "\n",
    "        return output\n",
    "\n",
    "    @staticmethod\n",
    "    def backward(ctx, grad_output: torch.Tensor):\n",
    "        p, input, weight, bias = ctx.saved_tensors\n",
    "\n",
    "        height = weight.size(0)\n",
    "        bernoulli_mask = torch.bernoulli(torch.ones(height) * (1 - p.item()))\n",
    " \n",
    "        diagonal_mask = torch.diag(bernoulli_mask) / (1 - p.item())\n",
    "\n",
    "        grad_output = grad_output.mm(diagonal_mask)\n",
    "\n",
    "        grad_input = grad_output.mm(weight)\n",
    "        grad_weight = grad_output.t().mm(input)\n",
    "\n",
    "        if bias is not None:\n",
    "            grad_bias = grad_output.sum(0)\n",
    "        else:\n",
    "            grad_bias = None\n",
    "\n",
    "        return None, grad_input, grad_weight, grad_bias\n",
    "\n",
    "class CustomReLUBackwardFunction(torch.autograd.Function):\n",
    "    \"\"\"\n",
    "    Переопределённая функция для слоя ReLU.\n",
    "    \"\"\"\n",
    "    @staticmethod\n",
    "    def forward(ctx, p: float, input: torch.Tensor):\n",
    "        ctx.save_for_backward(torch.scalar_tensor(p), input)\n",
    "        return F.relu(input)\n",
    "\n",
    "    @staticmethod\n",
    "    def backward(ctx, grad_output: torch.Tensor):\n",
    "        p, input = ctx.saved_tensors\n",
    "\n",
    "        grad_output = grad_output * (input > 0).float()\n",
    "\n",
    "        # У матриц ось 0 это Y\n",
    "        height = grad_output.size(0)\n",
    "        bernoulli_mask = torch.bernoulli(torch.ones(height) * (1 - p.item()))\n",
    "        diagonal_mask = torch.diag(bernoulli_mask) / (1 - p.item())\n",
    "\n",
    "        diagonal_mask = diagonal_mask.unsqueeze(1).expand(-1, grad_output.size(1), -1)\n",
    "        diagonal_mask = diagonal_mask.permute(0, 2, 1)\n",
    "\n",
    "        grad_output = grad_output.unsqueeze(1) * diagonal_mask\n",
    "        grad_output = grad_output.sum(dim=1)\n",
    "\n",
    "        return None, grad_output\n",
    "\n",
    "    \n",
    "class CustomReLUFunction(torch.autograd.Function):\n",
    "    @staticmethod\n",
    "    def forward(ctx, input, p: float):\n",
    "        ctx.save_for_backward(input, torch.scalar_tensor(p))\n",
    "        return input.clamp(min=0)\n",
    "\n",
    "    @staticmethod\n",
    "    def backward(ctx, grad_output):\n",
    "        input, p, = ctx.saved_tensors\n",
    "        grad_input = grad_output.clone()\n",
    "        grad_input[input <= 0] = 0\n",
    "\n",
    "        # У матриц ось 0 это Y\n",
    "        bernoulli_mask = torch.bernoulli(torch.ones(grad_input.size(0)) * (1 - p.item()))\n",
    "        diagonal_mask = torch.diag(bernoulli_mask) / (1 - p.item()+1e-5)\n",
    "        \n",
    "        # Multiply grad_input with the diagonal matrix\n",
    "        grad_input = diagonal_mask @ grad_input\n",
    "        \n",
    "        return grad_input, None\n",
    "    \n",
    "    \n",
    "class CustomReLULayer(torch.nn.Module):\n",
    "    def __init__(self, p: float):\n",
    "        super(CustomReLULayer, self).__init__()\n",
    "        self.p = p\n",
    "        self.custom_relu_backward = CustomReLUFunction.apply\n",
    "\n",
    "    def forward(self, x):\n",
    "        return self.custom_relu_backward(x, self.p)"
   ]
  },
  {
   "cell_type": "code",
   "execution_count": 92,
   "id": "2c8cc769",
   "metadata": {},
   "outputs": [],
   "source": [
    "import torch.nn as nn\n",
    "import torch.nn.functional as F\n",
    "\n",
    "class RegularNetwork(nn.Module):\n",
    "    \"\"\"\n",
    "    Нейросеть с обычными линейными слоями. Параметр `p` игнорируется.\n",
    "    \"\"\"\n",
    "    def __init__(self, inputs_count: int, outputs_count: int, p: float):\n",
    "        super(RegularNetwork, self).__init__()\n",
    "\n",
    "        self.flatten = nn.Flatten()\n",
    "\n",
    "        self.fc1 = nn.Linear(inputs_count, 32 * 32)\n",
    "        self.fc2 = nn.Linear(32 * 32, 32 * 32)\n",
    "        self.fc3 = nn.Linear(32 * 32, outputs_count)\n",
    "\n",
    "    def forward(self, x):\n",
    "        x = self.flatten(x)\n",
    "        x = self.fc1(x)\n",
    "        x = F.relu(x)\n",
    "        x = self.fc2(x)\n",
    "        x = F.relu(x)\n",
    "        x = self.fc3(x)\n",
    "        return x\n",
    "\n",
    "\n",
    "class AugmentedLinearNetwork(nn.Module):\n",
    "    \"\"\"\n",
    "    Нейросеть с переопределённой функцией распространения ошибки\n",
    "    для линейных слоёв.\n",
    "    \"\"\"\n",
    "    def __init__(self, inputs_count: int, outputs_count: int, p: float):\n",
    "        super(AugmentedReLUNetwork, self).__init__()\n",
    "\n",
    "        self.flatten = nn.Flatten()\n",
    "        self.p = p\n",
    "\n",
    "        self.fc1 = nn.Linear(inputs_count, 32 * 32)\n",
    "        self.fc2 = nn.Linear(32 * 32, 32 * 32)\n",
    "        self.fc3 = nn.Linear(32 * 32, outputs_count)\n",
    "\n",
    "        self.custom_backward = CustomBackwardFunction.apply\n",
    "\n",
    "    def forward(self, x):\n",
    "        x = self.flatten(x)\n",
    "        x = self.custom_backward(self.p, x, self.fc1.weight, self.fc1.bias)\n",
    "        x = F.relu(x)\n",
    "        x = self.custom_backward(self.p, x, self.fc2.weight, self.fc2.bias)\n",
    "        x = F.relu(x)\n",
    "        x = self.fc3(x)\n",
    "        return x\n",
    "\n",
    "class AugmentedReLUNetwork(nn.Module):\n",
    "    \"\"\"\n",
    "    Нейросеть с переопределённой функцией распространения ошибки\n",
    "    для функции активации.\n",
    "    \"\"\"\n",
    "    def __init__(self, inputs_count: int, outputs_count: int, p: float):\n",
    "        super(AugmentedReLUNetwork, self).__init__()\n",
    "\n",
    "        self.flatten = nn.Flatten()\n",
    "\n",
    "        self.fc1 = nn.Linear(inputs_count, 32 * 32)\n",
    "        self.fc2 = nn.Linear(32 * 32, 32 * 32)\n",
    "        self.fc3 = nn.Linear(32 * 32, outputs_count)\n",
    "\n",
    "        self.custom_relu1 = CustomReLULayer(p)\n",
    "        self.custom_relu2 = CustomReLULayer(p)\n",
    "\n",
    "    def forward(self, x):\n",
    "        x = self.flatten(x)\n",
    "        x = self.fc1(x)\n",
    "        x = self.custom_relu1(x)\n",
    "        x = self.fc2(x)\n",
    "        x = self.custom_relu2(x)\n",
    "        x = self.fc3(x)\n",
    "        return x\n",
    "\n"
   ]
  },
  {
   "cell_type": "markdown",
   "id": "69085951",
   "metadata": {},
   "source": [
    "## Сохранение графиков"
   ]
  },
  {
   "cell_type": "markdown",
   "id": "582f0286",
   "metadata": {},
   "source": [
    "## Обучение"
   ]
  },
  {
   "cell_type": "code",
   "execution_count": 93,
   "id": "26a467a3",
   "metadata": {},
   "outputs": [],
   "source": [
    "import torch\n",
    "\n",
    "def dabs_mean_std(\n",
    "    tensor1: torch.Tensor,\n",
    "    tensor2: torch.Tensor\n",
    "):\n",
    "    dabs: torch.Tensor = torch.abs(tensor2 - tensor1)\n",
    "\n",
    "    mean = torch.mean(dabs)\n",
    "    std = torch.std(dabs)\n",
    "\n",
    "    return (mean.item(), std.item())"
   ]
  },
  {
   "cell_type": "code",
   "execution_count": 94,
   "id": "b4f18355",
   "metadata": {},
   "outputs": [],
   "source": [
    "\n",
    "import torch.optim as optim\n",
    "import matplotlib.pyplot as plt\n",
    "\n",
    "import torch.nn.init as init\n",
    "\n",
    "from dataclasses import dataclass\n",
    "\n",
    "@dataclass\n",
    "class TrainingParameters:\n",
    "    dataset: Dataset\n",
    "    criterion: nn.CrossEntropyLoss | nn.MSELoss\n",
    "    experiment_params: ExperimentParameters\n",
    "    model_a_path: str\n",
    "    model_b_path: str\n",
    "    loss_curve_plot_col_index: int\n",
    "\n",
    "def init_weights(m):\n",
    "    if isinstance(m, nn.Linear):\n",
    "        init.xavier_uniform_(m.weight)\n",
    "        m.bias.data.fill_(0.01)\n",
    "\n",
    "def print_progress(\n",
    "    p: float,\n",
    "    iteration: int,\n",
    "    epoch: int,\n",
    "    total_epochs: int,\n",
    "    sample: int,\n",
    "    total_samples: int,\n",
    "    running_loss: float\n",
    "):\n",
    "    print(\n",
    "        f'p={p} N={iteration} E{epoch}/{total_epochs} S{sample}/{total_samples} Loss={running_loss / 100:.4f}'\n",
    "    )\n",
    "\n",
    "def train(\n",
    "    model, \n",
    "    dataset: Dataset,\n",
    "    epochs: int,\n",
    "    experiment_parameters: ExperimentParameters,\n",
    "    criterion,\n",
    "    optimizer\n",
    ") -> list[float]:\n",
    "    running_losses: list[float] = []\n",
    "\n",
    "    for epoch in range(epochs):\n",
    "        running_loss = 0.0\n",
    "\n",
    "        model.train()\n",
    "\n",
    "        for i, (inputs, labels) in enumerate(dataset.data.train_loader):\n",
    "            optimizer.zero_grad()\n",
    "\n",
    "            outputs = model(inputs)\n",
    "\n",
    "            loss = criterion(outputs, labels)\n",
    "            loss.backward()\n",
    "\n",
    "            optimizer.step()\n",
    "\n",
    "            running_loss += loss.item()\n",
    "\n",
    "            if i % PRINT_TRAINING_SPAN == 0:\n",
    "                print_progress(\n",
    "                    p=experiment_parameters.p,\n",
    "                    iteration=experiment_parameters.iteration,\n",
    "                    epoch=epoch + 1,\n",
    "                    total_epochs=epochs,\n",
    "                    sample=i + 1,\n",
    "                    total_samples=len(dataset.data.train_loader),\n",
    "                    running_loss=running_loss\n",
    "                )\n",
    "\n",
    "            running_losses.append(running_loss)\n",
    "            running_loss = 0.0\n",
    "    \n",
    "    return running_losses\n",
    "\n",
    "def save_plot(filename_without_extension: str) -> str:\n",
    "    path = os.path.join(REPORT_DIR, f'{filename_without_extension}.png')\n",
    "    plt.savefig(path)\n",
    "    plt.close()\n",
    "    return path\n",
    "\n",
    "def plot_loss_curve(\n",
    "    ax, # Axes\n",
    "    model_name: str,\n",
    "    dataset_name: str,\n",
    "    dataset_number: int,\n",
    "    running_losses: list[float],\n",
    "    p: float,\n",
    "    iteration: int,\n",
    "):\n",
    "    X = range(len(running_losses))\n",
    "    \n",
    "    ax.plot(X, running_losses, label='Running loss', color='orange')\n",
    "    ax.set_xlabel('Iteration')\n",
    "    ax.set_ylabel('Value')\n",
    "    ax.set_title(f'Loss curve: {model_name} on {dataset_name} (#{dataset_number}), p = {p}, N = {iteration}')\n",
    "    ax.legend()\n",
    "\n"
   ]
  },
  {
   "cell_type": "code",
   "execution_count": 95,
   "id": "9a26d6b7",
   "metadata": {},
   "outputs": [],
   "source": [
    "def iterate_experiment_parameters():\n",
    "    for iteration in range(0, ITERATIONS):\n",
    "        for p in PP:\n",
    "            yield ExperimentParameters(iteration, p)"
   ]
  },
  {
   "cell_type": "code",
   "execution_count": 96,
   "id": "28c4d097",
   "metadata": {},
   "outputs": [
    {
     "name": "stdout",
     "output_type": "stream",
     "text": [
      "p=0 N=0 E1/1 S1/38 Loss=0.2935\n",
      "p=0 N=0 E1/1 S1/38 Loss=0.1711\n",
      "p=0 N=0 E1/1 S1/116 Loss=0.0132\n",
      "p=0 N=0 E1/1 S1/116 Loss=0.0141\n"
     ]
    },
    {
     "name": "stderr",
     "output_type": "stream",
     "text": [
      "/Users/scales/.pyenv/versions/3.12.3/lib/python3.12/site-packages/torch/nn/modules/loss.py:535: UserWarning: Using a target size (torch.Size([12])) that is different to the input size (torch.Size([12, 1])). This will likely lead to incorrect results due to broadcasting. Please ensure they have the same size.\n",
      "  return F.mse_loss(input, target, reduction=self.reduction)\n"
     ]
    },
    {
     "name": "stdout",
     "output_type": "stream",
     "text": [
      "p=0 N=0 E1/1 S1/436 Loss=43.0138\n"
     ]
    },
    {
     "name": "stderr",
     "output_type": "stream",
     "text": [
      "/Users/scales/.pyenv/versions/3.12.3/lib/python3.12/site-packages/torch/nn/modules/loss.py:535: UserWarning: Using a target size (torch.Size([3])) that is different to the input size (torch.Size([3, 1])). This will likely lead to incorrect results due to broadcasting. Please ensure they have the same size.\n",
      "  return F.mse_loss(input, target, reduction=self.reduction)\n"
     ]
    },
    {
     "name": "stdout",
     "output_type": "stream",
     "text": [
      "p=0 N=0 E1/1 S1/436 Loss=47.1737\n",
      "Saving figure to report/loss__p0_N0.png...\n",
      "p=0.01 N=0 E1/1 S1/38 Loss=0.1693\n",
      "p=0.01 N=0 E1/1 S1/38 Loss=0.0704\n",
      "p=0.01 N=0 E1/1 S1/116 Loss=0.0153\n",
      "p=0.01 N=0 E1/1 S1/116 Loss=0.0134\n",
      "p=0.01 N=0 E1/1 S1/436 Loss=41.4886\n",
      "p=0.01 N=0 E1/1 S1/436 Loss=46.8731\n",
      "Saving figure to report/loss__p0.01_N0.png...\n",
      "p=0.05 N=0 E1/1 S1/38 Loss=0.2107\n",
      "p=0.05 N=0 E1/1 S1/38 Loss=0.2615\n",
      "p=0.05 N=0 E1/1 S1/116 Loss=0.0129\n",
      "p=0.05 N=0 E1/1 S1/116 Loss=0.0130\n",
      "p=0.05 N=0 E1/1 S1/436 Loss=37.9958\n",
      "p=0.05 N=0 E1/1 S1/436 Loss=47.5626\n",
      "Saving figure to report/loss__p0.05_N0.png...\n",
      "p=0.5 N=0 E1/1 S1/38 Loss=0.2604\n",
      "p=0.5 N=0 E1/1 S1/38 Loss=0.7673\n",
      "p=0.5 N=0 E1/1 S1/116 Loss=0.0136\n",
      "p=0.5 N=0 E1/1 S1/116 Loss=0.0136\n",
      "p=0.5 N=0 E1/1 S1/436 Loss=40.5607\n",
      "p=0.5 N=0 E1/1 S1/436 Loss=49.0497\n",
      "Saving figure to report/loss__p0.5_N0.png...\n",
      "p=0.9 N=0 E1/1 S1/38 Loss=0.0968\n",
      "p=0.9 N=0 E1/1 S1/38 Loss=0.2121\n",
      "p=0.9 N=0 E1/1 S1/116 Loss=0.0138\n",
      "p=0.9 N=0 E1/1 S1/116 Loss=0.0156\n",
      "p=0.9 N=0 E1/1 S1/436 Loss=43.3449\n",
      "p=0.9 N=0 E1/1 S1/436 Loss=44.9901\n",
      "Saving figure to report/loss__p0.9_N0.png...\n",
      "p=0.95 N=0 E1/1 S1/38 Loss=0.1201\n",
      "p=0.95 N=0 E1/1 S1/38 Loss=0.1439\n",
      "p=0.95 N=0 E1/1 S1/116 Loss=0.0146\n",
      "p=0.95 N=0 E1/1 S1/116 Loss=0.0148\n",
      "p=0.95 N=0 E1/1 S1/436 Loss=38.2063\n",
      "p=0.95 N=0 E1/1 S1/436 Loss=49.3504\n",
      "Saving figure to report/loss__p0.95_N0.png...\n",
      "p=0.99 N=0 E1/1 S1/38 Loss=0.1077\n",
      "p=0.99 N=0 E1/1 S1/38 Loss=0.0293\n",
      "p=0.99 N=0 E1/1 S1/116 Loss=0.0149\n",
      "p=0.99 N=0 E1/1 S1/116 Loss=0.0139\n",
      "p=0.99 N=0 E1/1 S1/436 Loss=52.2119\n",
      "p=0.99 N=0 E1/1 S1/436 Loss=40.9695\n",
      "Saving figure to report/loss__p0.99_N0.png...\n"
     ]
    }
   ],
   "source": [
    "\n",
    "for experiment_params in iterate_experiment_parameters():\n",
    "    _, axs = plt.subplots(2, 3, figsize=(2 * 10, 3 * 12))\n",
    "\n",
    "    for training_params in [\n",
    "        TrainingParameters(\n",
    "            dataset=datasets[0],\n",
    "            criterion=CLASSIFICATION_TASK.criterion,\n",
    "            experiment_params=experiment_params,\n",
    "            model_a_path=datasets[0].model_a_path(experiment_params),\n",
    "            model_b_path=datasets[0].model_b_path(experiment_params),\n",
    "            loss_curve_plot_col_index=0,\n",
    "        ),\n",
    "        TrainingParameters(\n",
    "            dataset=datasets[1],\n",
    "            criterion=CLASSIFICATION_TASK.criterion,\n",
    "            experiment_params=experiment_params,\n",
    "            model_a_path=datasets[1].model_a_path(experiment_params),\n",
    "            model_b_path=datasets[1].model_b_path(experiment_params),\n",
    "            loss_curve_plot_col_index=1,\n",
    "        ),\n",
    "        TrainingParameters(\n",
    "            dataset=datasets[2],\n",
    "            criterion=REGRESSION_TASK.criterion,\n",
    "            experiment_params=experiment_params, \n",
    "            model_a_path=datasets[2].model_a_path(experiment_params),\n",
    "            model_b_path=datasets[2].model_b_path(experiment_params),\n",
    "            loss_curve_plot_col_index=2,\n",
    "        )\n",
    "    ]:\n",
    "        inputs_count = training_params.dataset.features_count\n",
    "        outputs_count = training_params.dataset.classes_count\n",
    "\n",
    "        for (model, name, row) in [\n",
    "            (RegularNetwork(\n",
    "                inputs_count=inputs_count,\n",
    "                outputs_count=outputs_count,\n",
    "                p=experiment_params.p\n",
    "            ), training_params.model_a_path, 0),\n",
    "            (AugmentedReLUNetwork(\n",
    "                inputs_count=inputs_count,\n",
    "                outputs_count=outputs_count,\n",
    "                p=experiment_params.p\n",
    "            ), training_params.model_b_path, 1)\n",
    "        ]:\n",
    "            model.apply(init_weights)\n",
    "            \n",
    "            running_losses = train(\n",
    "                model=model,\n",
    "                dataset=training_params.dataset,\n",
    "                epochs=EPOCHS,\n",
    "                experiment_parameters=experiment_params,\n",
    "                criterion=training_params.criterion,\n",
    "                optimizer=optim.Adam(\n",
    "                    model.parameters(),\n",
    "                    lr=LEARNING_RATE\n",
    "                )\n",
    "            )\n",
    "            \n",
    "            torch.save(model.state_dict(), name)\n",
    "            \n",
    "            report_key = f'loss_{type(model).__name__}_{training_params.dataset.number}_p{experiment_params.p}_N{experiment_params.iteration}'\n",
    "            \n",
    "            append_to_report(report_key, running_losses)\n",
    "            \n",
    "            col = training_params.loss_curve_plot_col_index\n",
    "\n",
    "            plot_loss_curve(\n",
    "                ax=axs[row, col],\n",
    "                model_name=model.__class__.__name__,\n",
    "                dataset_name=training_params.dataset.name,\n",
    "                dataset_number=training_params.dataset.number,\n",
    "                running_losses=running_losses,\n",
    "                p=experiment_params.p,\n",
    "                iteration=experiment_params.iteration\n",
    "            )\n",
    "    \n",
    "    path = save_plot(f'loss__p{experiment_params.p}_N{experiment_params.iteration}')\n",
    "    print(f'Saving figure to {path}...')"
   ]
  },
  {
   "cell_type": "code",
   "execution_count": 97,
   "id": "476f9664",
   "metadata": {
    "lines_to_next_cell": 2
   },
   "outputs": [],
   "source": [
    "\n",
    "import torch\n",
    "import torch.nn.functional as F\n",
    "from sklearn.metrics import roc_auc_score, f1_score, r2_score, mean_squared_error\n",
    "\n",
    "import numpy as np\n",
    "import pandas as pd\n",
    "import matplotlib.pyplot as plt\n",
    "\n",
    "def positive_probs_from(probs: torch.Tensor) -> list:\n",
    "    return np.array(probs)[:, 0]\n",
    "\n",
    "def eval_accuracy_f1_rocauc(\n",
    "    evaluated_model: RegularNetwork,\n",
    "    dataset: Dataset,\n",
    "    noise_factor: float,\n",
    "    is_binary_classification: bool,\n",
    ") -> tuple[float, float, float]:\n",
    "    evaluated_model.eval()\n",
    "    correct = 0\n",
    "    total = 0\n",
    "    all_labels = []\n",
    "    all_predictions = []\n",
    "    all_probs = []\n",
    "\n",
    "    with torch.no_grad():\n",
    "        for inputs, labels in dataset.data.test_loader:\n",
    "            outputs = evaluated_model(\n",
    "                inputs + torch.randn(inputs.shape) * noise_factor\n",
    "            )\n",
    "            probs = F.softmax(outputs, dim=1)\n",
    "            _, predicted = torch.max(outputs.data, 1)\n",
    "            total += labels.size(0)\n",
    "            correct += (predicted == labels).sum().item()\n",
    "\n",
    "            all_labels.extend(labels.cpu().numpy())\n",
    "            all_predictions.extend(predicted.cpu().numpy())\n",
    "            all_probs.extend(probs.cpu().numpy())\n",
    "\n",
    "    accuracy = correct / total\n",
    "    f1 = f1_score(all_labels, all_predictions, average='weighted')\n",
    "\n",
    "    if is_binary_classification:\n",
    "        all_probs = np.array(all_probs)[:, 0]\n",
    "\n",
    "    roc_auc = roc_auc_score(all_labels, all_probs, multi_class='ovr')\n",
    "\n",
    "    return float(accuracy), float(f1), float(roc_auc)\n",
    "\n",
    "def eval_r2_mse(\n",
    "    evaluated_model: RegularNetwork,\n",
    "    dataset: Dataset,\n",
    "    noise_factor: float,\n",
    ") -> tuple[float, float]:\n",
    "    evaluated_model.eval()\n",
    "    all_labels = []\n",
    "    all_predictions = []\n",
    "\n",
    "    with torch.no_grad():\n",
    "        for inputs, labels in dataset.data.test_loader:\n",
    "            noisy_inputs = inputs + torch.randn(inputs.shape) * noise_factor\n",
    "            outputs = evaluated_model(noisy_inputs)\n",
    "            all_labels.extend(labels.cpu().numpy())\n",
    "            all_predictions.extend(outputs.cpu().numpy())\n",
    "\n",
    "    all_labels = np.array(all_labels)\n",
    "    all_predictions = np.array(all_predictions)\n",
    "\n",
    "    r2 = r2_score(all_labels, all_predictions)\n",
    "    mse = mean_squared_error(all_labels, all_predictions)\n",
    "\n",
    "    return float(r2), float(mse)\n",
    "\n",
    "def evaluate_regression_model(\n",
    "    evaluated_model: RegularNetwork,\n",
    "    dataset: Dataset,\n",
    "    report_key: str,\n",
    ")-> pd.DataFrame:\n",
    "    samples = {\n",
    "        'noise_factor': NOISE_FACTORS,\n",
    "        'r2': [],\n",
    "        'mse': [],\n",
    "    }\n",
    "\n",
    "    for noise_factor in NOISE_FACTORS:\n",
    "        r2, mse = eval_r2_mse(\n",
    "            evaluated_model=evaluated_model,\n",
    "            dataset=dataset,\n",
    "            noise_factor=noise_factor,\n",
    "        )\n",
    "\n",
    "        samples['r2'].append(r2)\n",
    "        samples['mse'].append(mse)\n",
    "\n",
    "    append_to_report(report_key, samples)\n",
    "\n",
    "    return pd.DataFrame(samples)\n",
    "\n",
    "def evaluate_classification_model(\n",
    "    evaluated_model: RegularNetwork,\n",
    "    dataset: Dataset,\n",
    "    report_key: str,\n",
    "    is_binary_classification: bool,\n",
    ")-> pd.DataFrame:\n",
    "    samples = {\n",
    "        'noise_factor': NOISE_FACTORS,\n",
    "        'accuracy': [],\n",
    "        'f1': [],\n",
    "        'roc_auc': [],\n",
    "    }\n",
    "\n",
    "    for noise_factor in NOISE_FACTORS:\n",
    "        accuracy, f1, roc_auc = eval_accuracy_f1_rocauc(\n",
    "            evaluated_model=evaluated_model,\n",
    "            dataset=dataset,\n",
    "            noise_factor=noise_factor,\n",
    "            is_binary_classification=is_binary_classification,\n",
    "        )\n",
    "\n",
    "        samples['accuracy'].append(accuracy)\n",
    "        samples['f1'].append(f1)\n",
    "        samples['roc_auc'].append(roc_auc)\n",
    "\n",
    "    append_to_report(report_key, samples)\n",
    "\n",
    "    return pd.DataFrame(samples)\n",
    "\n",
    "def plot_evaluation_of_classification(df: pd.DataFrame, title: str, report_key: str):\n",
    "    plt.figure(figsize=(10, 6))\n",
    "    \n",
    "    _, axs = plt.subplots(3, 1)\n",
    "\n",
    "    axs[0].plot(df['noise_factor'], df['accuracy'], label='Accuracy', marker='o')\n",
    "    # XXX AttributeError: 'Axes' object has no attribute 'xscale'\n",
    "    # axs[0].set_xscale('log')\n",
    "    axs[0].set_xlabel('Noise Factor')\n",
    "    axs[0].set_ylabel('Metric Value')\n",
    "    axs[0].set_title(f'{title}')\n",
    "    axs[0].legend()\n",
    "    axs[0].grid(True, which=\"both\", ls=\"--\")\n",
    "\n",
    "    axs[1].plot(df['noise_factor'], df['f1'], label='F1 Score', marker='o')\n",
    "    # axs[1].set_xscale('log')\n",
    "    axs[1].set_xlabel('Noise Factor')\n",
    "    axs[1].set_ylabel('Metric Value')\n",
    "    axs[1].set_title(f'{title}')\n",
    "    axs[1].legend()\n",
    "    axs[1].grid(True, which=\"both\", ls=\"--\")\n",
    "\n",
    "    axs[2].plot(df['noise_factor'], df['roc_auc'], label='ROC AUC', marker='o')\n",
    "    # axs[2].set_xscale('log')\n",
    "    axs[2].set_xlabel('Noise Factor')\n",
    "    axs[2].set_ylabel('Metric Value')\n",
    "    axs[2].set_title(f'{title}')\n",
    "    axs[2].legend()\n",
    "    axs[2].grid(True, which=\"both\", ls=\"--\")\n",
    "    \n",
    "    save_plot(f'{report_key}')\n",
    "\n",
    "def plot_evaluation_of_regression(df: pd.DataFrame, title: str, report_key: str):\n",
    "    plt.figure(figsize=(10, 6))\n",
    "    \n",
    "    _, axs = plt.subplots(2, 1, figsize=(10, 12))\n",
    "    \n",
    "    axs[0].plot(df['noise_factor'], df['mse'], label='Mean Square Error', marker='o')\n",
    "    # axs[0].set_xscale('log')\n",
    "    axs[0].set_xlabel('Noise Factor')\n",
    "    axs[0].set_ylabel('Metric Value')\n",
    "    axs[0].set_title(f'{title}')\n",
    "    axs[0].legend()\n",
    "    axs[0].grid(True, which=\"both\", ls=\"--\")\n",
    "\n",
    "    axs[1].plot(df['noise_factor'], df['r2'], label='R^2', marker='o')\n",
    "    # axs[1].set_xscale('log')\n",
    "    axs[1].set_xlabel('Noise Factor')\n",
    "    axs[1].set_ylabel('Metric Value')\n",
    "    axs[1].set_title(f'{title}')\n",
    "    axs[1].legend()\n",
    "    axs[1].grid(True, which=\"both\", ls=\"--\")\n",
    "\n",
    "    save_plot(f'{report_key}')"
   ]
  },
  {
   "cell_type": "code",
   "execution_count": 98,
   "id": "963eb9a6",
   "metadata": {
    "lines_to_next_cell": 2
   },
   "outputs": [
    {
     "name": "stdout",
     "output_type": "stream",
     "text": [
      "Loading state dict at report/model-1A-c-P0_N0.pth\n",
      "Loading state dict at report/model-2A-c-P0_N0.pth\n",
      "Loading state dict at report/model-3A-c-P0_N0.pth\n",
      "Loading state dict at report/model-1B-c-P0_N0.pth\n",
      "Loading state dict at report/model-2B-c-P0_N0.pth\n",
      "Loading state dict at report/model-3B-c-P0_N0.pth\n",
      "Loading state dict at report/model-1A-c-P0.01_N0.pth\n",
      "Loading state dict at report/model-2A-c-P0.01_N0.pth\n",
      "Loading state dict at report/model-3A-c-P0.01_N0.pth\n",
      "Loading state dict at report/model-1B-c-P0.01_N0.pth\n",
      "Loading state dict at report/model-2B-c-P0.01_N0.pth\n",
      "Loading state dict at report/model-3B-c-P0.01_N0.pth\n",
      "Loading state dict at report/model-1A-c-P0.05_N0.pth\n",
      "Loading state dict at report/model-2A-c-P0.05_N0.pth\n",
      "Loading state dict at report/model-3A-c-P0.05_N0.pth\n",
      "Loading state dict at report/model-1B-c-P0.05_N0.pth\n",
      "Loading state dict at report/model-2B-c-P0.05_N0.pth\n",
      "Loading state dict at report/model-3B-c-P0.05_N0.pth\n",
      "Loading state dict at report/model-1A-c-P0.5_N0.pth\n",
      "Loading state dict at report/model-2A-c-P0.5_N0.pth\n"
     ]
    },
    {
     "name": "stderr",
     "output_type": "stream",
     "text": [
      "/var/folders/m9/y193wddj505gjbgjyvhjmzjm0000gq/T/ipykernel_40680/340081412.py:130: RuntimeWarning: More than 20 figures have been opened. Figures created through the pyplot interface (`matplotlib.pyplot.figure`) are retained until explicitly closed and may consume too much memory. (To control this warning, see the rcParam `figure.max_open_warning`). Consider using `matplotlib.pyplot.close()`.\n",
      "  _, axs = plt.subplots(3, 1)\n"
     ]
    },
    {
     "name": "stdout",
     "output_type": "stream",
     "text": [
      "Loading state dict at report/model-3A-c-P0.5_N0.pth\n"
     ]
    },
    {
     "name": "stderr",
     "output_type": "stream",
     "text": [
      "/var/folders/m9/y193wddj505gjbgjyvhjmzjm0000gq/T/ipykernel_40680/340081412.py:160: RuntimeWarning: More than 20 figures have been opened. Figures created through the pyplot interface (`matplotlib.pyplot.figure`) are retained until explicitly closed and may consume too much memory. (To control this warning, see the rcParam `figure.max_open_warning`). Consider using `matplotlib.pyplot.close()`.\n",
      "  plt.figure(figsize=(10, 6))\n"
     ]
    },
    {
     "name": "stdout",
     "output_type": "stream",
     "text": [
      "Loading state dict at report/model-1B-c-P0.5_N0.pth\n",
      "Loading state dict at report/model-2B-c-P0.5_N0.pth\n",
      "Loading state dict at report/model-3B-c-P0.5_N0.pth\n",
      "Loading state dict at report/model-1A-c-P0.9_N0.pth\n",
      "Loading state dict at report/model-2A-c-P0.9_N0.pth\n",
      "Loading state dict at report/model-3A-c-P0.9_N0.pth\n",
      "Loading state dict at report/model-1B-c-P0.9_N0.pth\n",
      "Loading state dict at report/model-2B-c-P0.9_N0.pth\n",
      "Loading state dict at report/model-3B-c-P0.9_N0.pth\n",
      "Loading state dict at report/model-1A-c-P0.95_N0.pth\n",
      "Loading state dict at report/model-2A-c-P0.95_N0.pth\n",
      "Loading state dict at report/model-3A-c-P0.95_N0.pth\n",
      "Loading state dict at report/model-1B-c-P0.95_N0.pth\n",
      "Loading state dict at report/model-2B-c-P0.95_N0.pth\n",
      "Loading state dict at report/model-3B-c-P0.95_N0.pth\n",
      "Loading state dict at report/model-1A-c-P0.99_N0.pth\n",
      "Loading state dict at report/model-2A-c-P0.99_N0.pth\n",
      "Loading state dict at report/model-3A-c-P0.99_N0.pth\n",
      "Loading state dict at report/model-1B-c-P0.99_N0.pth\n",
      "Loading state dict at report/model-2B-c-P0.99_N0.pth\n",
      "Loading state dict at report/model-3B-c-P0.99_N0.pth\n",
      "Отчёт сохранён в report/report.json\n"
     ]
    },
    {
     "data": {
      "text/plain": [
       "<Figure size 1000x600 with 0 Axes>"
      ]
     },
     "metadata": {},
     "output_type": "display_data"
    },
    {
     "data": {
      "text/plain": [
       "<Figure size 1000x600 with 0 Axes>"
      ]
     },
     "metadata": {},
     "output_type": "display_data"
    },
    {
     "data": {
      "text/plain": [
       "<Figure size 1000x600 with 0 Axes>"
      ]
     },
     "metadata": {},
     "output_type": "display_data"
    },
    {
     "data": {
      "text/plain": [
       "<Figure size 1000x600 with 0 Axes>"
      ]
     },
     "metadata": {},
     "output_type": "display_data"
    },
    {
     "data": {
      "text/plain": [
       "<Figure size 1000x600 with 0 Axes>"
      ]
     },
     "metadata": {},
     "output_type": "display_data"
    },
    {
     "data": {
      "text/plain": [
       "<Figure size 1000x600 with 0 Axes>"
      ]
     },
     "metadata": {},
     "output_type": "display_data"
    },
    {
     "data": {
      "text/plain": [
       "<Figure size 1000x600 with 0 Axes>"
      ]
     },
     "metadata": {},
     "output_type": "display_data"
    },
    {
     "data": {
      "text/plain": [
       "<Figure size 1000x600 with 0 Axes>"
      ]
     },
     "metadata": {},
     "output_type": "display_data"
    },
    {
     "data": {
      "text/plain": [
       "<Figure size 1000x600 with 0 Axes>"
      ]
     },
     "metadata": {},
     "output_type": "display_data"
    },
    {
     "data": {
      "text/plain": [
       "<Figure size 1000x600 with 0 Axes>"
      ]
     },
     "metadata": {},
     "output_type": "display_data"
    },
    {
     "data": {
      "text/plain": [
       "<Figure size 1000x600 with 0 Axes>"
      ]
     },
     "metadata": {},
     "output_type": "display_data"
    },
    {
     "data": {
      "text/plain": [
       "<Figure size 1000x600 with 0 Axes>"
      ]
     },
     "metadata": {},
     "output_type": "display_data"
    },
    {
     "data": {
      "text/plain": [
       "<Figure size 1000x600 with 0 Axes>"
      ]
     },
     "metadata": {},
     "output_type": "display_data"
    },
    {
     "data": {
      "text/plain": [
       "<Figure size 1000x600 with 0 Axes>"
      ]
     },
     "metadata": {},
     "output_type": "display_data"
    },
    {
     "data": {
      "text/plain": [
       "<Figure size 1000x600 with 0 Axes>"
      ]
     },
     "metadata": {},
     "output_type": "display_data"
    },
    {
     "data": {
      "text/plain": [
       "<Figure size 1000x600 with 0 Axes>"
      ]
     },
     "metadata": {},
     "output_type": "display_data"
    },
    {
     "data": {
      "text/plain": [
       "<Figure size 1000x600 with 0 Axes>"
      ]
     },
     "metadata": {},
     "output_type": "display_data"
    },
    {
     "data": {
      "text/plain": [
       "<Figure size 1000x600 with 0 Axes>"
      ]
     },
     "metadata": {},
     "output_type": "display_data"
    },
    {
     "data": {
      "text/plain": [
       "<Figure size 1000x600 with 0 Axes>"
      ]
     },
     "metadata": {},
     "output_type": "display_data"
    },
    {
     "data": {
      "text/plain": [
       "<Figure size 1000x600 with 0 Axes>"
      ]
     },
     "metadata": {},
     "output_type": "display_data"
    },
    {
     "data": {
      "text/plain": [
       "<Figure size 1000x600 with 0 Axes>"
      ]
     },
     "metadata": {},
     "output_type": "display_data"
    },
    {
     "data": {
      "text/plain": [
       "<Figure size 1000x600 with 0 Axes>"
      ]
     },
     "metadata": {},
     "output_type": "display_data"
    },
    {
     "data": {
      "text/plain": [
       "<Figure size 1000x600 with 0 Axes>"
      ]
     },
     "metadata": {},
     "output_type": "display_data"
    },
    {
     "data": {
      "text/plain": [
       "<Figure size 1000x600 with 0 Axes>"
      ]
     },
     "metadata": {},
     "output_type": "display_data"
    },
    {
     "data": {
      "text/plain": [
       "<Figure size 1000x600 with 0 Axes>"
      ]
     },
     "metadata": {},
     "output_type": "display_data"
    },
    {
     "data": {
      "text/plain": [
       "<Figure size 1000x600 with 0 Axes>"
      ]
     },
     "metadata": {},
     "output_type": "display_data"
    },
    {
     "data": {
      "text/plain": [
       "<Figure size 1000x600 with 0 Axes>"
      ]
     },
     "metadata": {},
     "output_type": "display_data"
    },
    {
     "data": {
      "text/plain": [
       "<Figure size 1000x600 with 0 Axes>"
      ]
     },
     "metadata": {},
     "output_type": "display_data"
    },
    {
     "data": {
      "text/plain": [
       "<Figure size 1000x600 with 0 Axes>"
      ]
     },
     "metadata": {},
     "output_type": "display_data"
    },
    {
     "data": {
      "text/plain": [
       "<Figure size 1000x600 with 0 Axes>"
      ]
     },
     "metadata": {},
     "output_type": "display_data"
    },
    {
     "data": {
      "text/plain": [
       "<Figure size 1000x600 with 0 Axes>"
      ]
     },
     "metadata": {},
     "output_type": "display_data"
    },
    {
     "data": {
      "text/plain": [
       "<Figure size 1000x600 with 0 Axes>"
      ]
     },
     "metadata": {},
     "output_type": "display_data"
    },
    {
     "data": {
      "text/plain": [
       "<Figure size 1000x600 with 0 Axes>"
      ]
     },
     "metadata": {},
     "output_type": "display_data"
    },
    {
     "data": {
      "text/plain": [
       "<Figure size 1000x600 with 0 Axes>"
      ]
     },
     "metadata": {},
     "output_type": "display_data"
    },
    {
     "data": {
      "text/plain": [
       "<Figure size 1000x600 with 0 Axes>"
      ]
     },
     "metadata": {},
     "output_type": "display_data"
    },
    {
     "data": {
      "text/plain": [
       "<Figure size 1000x600 with 0 Axes>"
      ]
     },
     "metadata": {},
     "output_type": "display_data"
    },
    {
     "data": {
      "text/plain": [
       "<Figure size 1000x600 with 0 Axes>"
      ]
     },
     "metadata": {},
     "output_type": "display_data"
    },
    {
     "data": {
      "text/plain": [
       "<Figure size 1000x600 with 0 Axes>"
      ]
     },
     "metadata": {},
     "output_type": "display_data"
    },
    {
     "data": {
      "text/plain": [
       "<Figure size 1000x600 with 0 Axes>"
      ]
     },
     "metadata": {},
     "output_type": "display_data"
    },
    {
     "data": {
      "text/plain": [
       "<Figure size 1000x600 with 0 Axes>"
      ]
     },
     "metadata": {},
     "output_type": "display_data"
    },
    {
     "data": {
      "text/plain": [
       "<Figure size 1000x600 with 0 Axes>"
      ]
     },
     "metadata": {},
     "output_type": "display_data"
    },
    {
     "data": {
      "text/plain": [
       "<Figure size 1000x600 with 0 Axes>"
      ]
     },
     "metadata": {},
     "output_type": "display_data"
    }
   ],
   "source": [
    "\n",
    "@dataclass\n",
    "class EvaluationParameters:\n",
    "    dataset: Dataset\n",
    "    model_path: str\n",
    "    is_binary_classification: bool\n",
    "    is_regression: bool\n",
    "    inputs_count: int\n",
    "    outputs_count: int\n",
    "    task: LearningTask\n",
    "    experiment_parameters: ExperimentParameters\n",
    "    report_key: str\n",
    "\n",
    "def model_path_for(\n",
    "    model_a_or_b: str,\n",
    "    dataset: Dataset\n",
    "):\n",
    "    if model_a_or_b == 'A':\n",
    "        return dataset.model_a_path(experiment_params)\n",
    "    elif model_a_or_b == 'B':\n",
    "        return dataset.model_b_path(experiment_params)\n",
    "    else:\n",
    "        raise TypeError('model_a_or_b must be A or B')\n",
    "\n",
    "def evaluate(\n",
    "    model_a_or_b: str,\n",
    "    constructor: type,\n",
    "    experiment_parameters: EvaluationParameters\n",
    "):\n",
    "    eval_params_items: list[EvaluationParameters] = [\n",
    "        EvaluationParameters(\n",
    "            dataset=datasets[0],\n",
    "            model_path=model_path_for(model_a_or_b, datasets[0]),\n",
    "            is_binary_classification=True,\n",
    "            is_regression=False,\n",
    "            inputs_count=30,\n",
    "            outputs_count=2,\n",
    "            task=CLASSIFICATION_TASK,\n",
    "            experiment_parameters=experiment_parameters,\n",
    "            report_key=f'evaluate_{constructor.__name__}_{datasets[0].number}_p{experiment_parameters.p}_N{experiment_parameters.iteration}',\n",
    "        ),\n",
    "        EvaluationParameters(\n",
    "            dataset=datasets[1],\n",
    "            model_path=model_path_for(model_a_or_b, datasets[1]),\n",
    "            is_binary_classification=False,\n",
    "            is_regression=False,\n",
    "            inputs_count=6,\n",
    "            outputs_count=4,\n",
    "            task=CLASSIFICATION_TASK,\n",
    "            experiment_parameters=experiment_parameters,\n",
    "            report_key=f'evaluate_{constructor.__name__}_{datasets[1].number}_p{experiment_parameters.p}_N{experiment_parameters.iteration}',\n",
    "        ),\n",
    "        EvaluationParameters(\n",
    "            dataset=datasets[2],\n",
    "            model_path=model_path_for(model_a_or_b, datasets[2]),\n",
    "            is_binary_classification=False,\n",
    "            is_regression=True,\n",
    "            inputs_count=19,\n",
    "            outputs_count=1,\n",
    "            task=REGRESSION_TASK,\n",
    "            experiment_parameters=experiment_parameters,\n",
    "            report_key=f'evaluate_{constructor.__name__}_{datasets[2].number}_p{experiment_parameters.p}_N{experiment_parameters.iteration}',\n",
    "        ),\n",
    "    ]\n",
    "\n",
    "    for eval_params in eval_params_items:\n",
    "        evaluated_model = constructor(\n",
    "            inputs_count=eval_params.inputs_count,\n",
    "            outputs_count=eval_params.outputs_count,\n",
    "            p=experiment_parameters.p\n",
    "        )\n",
    "\n",
    "        print(f'Loading state dict at {eval_params.model_path}')\n",
    "        evaluated_model.load_state_dict(torch.load(eval_params.model_path))\n",
    "\n",
    "        plot_title = f'Evaluating {eval_params.model_path}: p = {eval_params.experiment_parameters.p}, N = {eval_params.experiment_parameters.iteration}'\n",
    "\n",
    "        if eval_params.task == CLASSIFICATION_TASK:\n",
    "            plot_evaluation_of_classification(\n",
    "                df=evaluate_classification_model(\n",
    "                    evaluated_model=evaluated_model,\n",
    "                    dataset=eval_params.dataset,\n",
    "                    report_key=eval_params.report_key,\n",
    "                    is_binary_classification=eval_params.is_binary_classification\n",
    "                ),\n",
    "                title=plot_title,\n",
    "                report_key=eval_params.report_key\n",
    "            )\n",
    "        elif eval_params.task == REGRESSION_TASK:\n",
    "            plot_evaluation_of_regression(\n",
    "                df=evaluate_regression_model(\n",
    "                    evaluated_model=evaluated_model,\n",
    "                    dataset=eval_params.dataset,\n",
    "                    report_key=eval_params.report_key\n",
    "                ),\n",
    "                title=plot_title,\n",
    "                report_key=eval_params.report_key\n",
    "            )\n",
    "        else:\n",
    "            raise ValueError(f\"Unknown task: {eval_params.task}\")\n",
    "\n",
    "for experiment_params in iterate_experiment_parameters():\n",
    "    evaluate('A', RegularNetwork, experiment_params)\n",
    "    evaluate('B', AugmentedReLUNetwork, experiment_params)\n",
    "\n",
    "save_report()"
   ]
  }
 ],
 "metadata": {
  "jupytext": {
   "cell_metadata_filter": "-all",
   "encoding": "# coding: utf-8",
   "executable": "/usr/bin/env python",
   "main_language": "python",
   "notebook_metadata_filter": "-all"
  },
  "kernelspec": {
   "display_name": "Python 3",
   "language": "python",
   "name": "python3"
  },
  "language_info": {
   "codemirror_mode": {
    "name": "ipython",
    "version": 3
   },
   "file_extension": ".py",
   "mimetype": "text/x-python",
   "name": "python",
   "nbconvert_exporter": "python",
   "pygments_lexer": "ipython3",
   "version": "3.12.3"
  }
 },
 "nbformat": 4,
 "nbformat_minor": 5
}
