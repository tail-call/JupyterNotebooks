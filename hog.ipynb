{
 "cells": [
  {
   "cell_type": "code",
   "execution_count": null,
   "metadata": {},
   "outputs": [],
   "source": [
    "class HigherOrderGame:\n",
    "    choices = []\n",
    "    outcomes = []\n",
    "    \n",
    "    def outcome_function(self):\n",
    "        return self.outcomes"
   ]
  }
 ],
 "metadata": {
  "language_info": {
   "name": "python"
  }
 },
 "nbformat": 4,
 "nbformat_minor": 2
}
