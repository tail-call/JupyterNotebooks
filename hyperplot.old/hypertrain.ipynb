{
 "cells": [
  {
   "cell_type": "markdown",
   "metadata": {},
   "source": [
    "# Композиционная теория игр и нейросети: эксперимент"
   ]
  },
  {
   "cell_type": "markdown",
   "metadata": {},
   "source": [
    "- **Теория**: И.В.Томилов ivan-tomilov3@yandex.ru\n",
    "- **Реализация**: М.А.Зайцева maria@tail-call.ru"
   ]
  },
  {
   "cell_type": "code",
   "execution_count": 1,
   "metadata": {
    "vscode": {
     "languageId": "shellscript"
    }
   },
   "outputs": [
    {
     "name": "stdout",
     "output_type": "stream",
     "text": [
      "Requirement already satisfied: torch in /Users/scales/.pyenv/versions/3.12.3/lib/python3.12/site-packages (2.2.2)\n",
      "Requirement already satisfied: torchvision in /Users/scales/.pyenv/versions/3.12.3/lib/python3.12/site-packages (0.17.2)\n",
      "Requirement already satisfied: numpy<2 in /Users/scales/.pyenv/versions/3.12.3/lib/python3.12/site-packages (1.26.4)\n",
      "Requirement already satisfied: filelock in /Users/scales/.pyenv/versions/3.12.3/lib/python3.12/site-packages (from torch) (3.16.1)\n",
      "Requirement already satisfied: typing-extensions>=4.8.0 in /Users/scales/.pyenv/versions/3.12.3/lib/python3.12/site-packages (from torch) (4.12.2)\n",
      "Requirement already satisfied: sympy in /Users/scales/.pyenv/versions/3.12.3/lib/python3.12/site-packages (from torch) (1.13.3)\n",
      "Requirement already satisfied: networkx in /Users/scales/.pyenv/versions/3.12.3/lib/python3.12/site-packages (from torch) (3.3)\n",
      "Requirement already satisfied: jinja2 in /Users/scales/.pyenv/versions/3.12.3/lib/python3.12/site-packages (from torch) (3.1.4)\n",
      "Requirement already satisfied: fsspec in /Users/scales/.pyenv/versions/3.12.3/lib/python3.12/site-packages (from torch) (2024.9.0)\n",
      "Requirement already satisfied: pillow!=8.3.*,>=5.3.0 in /Users/scales/.pyenv/versions/3.12.3/lib/python3.12/site-packages (from torchvision) (10.4.0)\n",
      "Requirement already satisfied: MarkupSafe>=2.0 in /Users/scales/.pyenv/versions/3.12.3/lib/python3.12/site-packages (from jinja2->torch) (2.1.5)\n",
      "Requirement already satisfied: mpmath<1.4,>=1.1.0 in /Users/scales/.pyenv/versions/3.12.3/lib/python3.12/site-packages (from sympy->torch) (1.3.0)\n",
      "\n",
      "\u001b[1m[\u001b[0m\u001b[34;49mnotice\u001b[0m\u001b[1;39;49m]\u001b[0m\u001b[39;49m A new release of pip is available: \u001b[0m\u001b[31;49m24.0\u001b[0m\u001b[39;49m -> \u001b[0m\u001b[32;49m24.2\u001b[0m\n",
      "\u001b[1m[\u001b[0m\u001b[34;49mnotice\u001b[0m\u001b[1;39;49m]\u001b[0m\u001b[39;49m To update, run: \u001b[0m\u001b[32;49mpip install --upgrade pip\u001b[0m\n",
      "Note: you may need to restart the kernel to use updated packages.\n"
     ]
    }
   ],
   "source": [
    "pip install torch torchvision 'numpy<2'"
   ]
  },
  {
   "cell_type": "markdown",
   "metadata": {},
   "source": [
    "## Данные"
   ]
  },
  {
   "cell_type": "code",
   "execution_count": 2,
   "metadata": {},
   "outputs": [],
   "source": [
    "from dataclasses import dataclass\n",
    "\n",
    "import torch\n",
    "\n",
    "from torchvision import datasets, transforms\n",
    "\n",
    "@dataclass\n",
    "class Dataset:\n",
    "    train_dataset: datasets.MNIST\n",
    "    test_dataset: datasets.MNIST\n",
    "    train_loader: torch.utils.data.DataLoader\n",
    "    test_loader: torch.utils.data.DataLoader\n",
    "\n",
    "def make_dataset(root: str, batch_size: int) -> Dataset:\n",
    "    transform = transforms.Compose([\n",
    "        transforms.ToTensor(),\n",
    "        # https://discuss.pytorch.org/t/normalization-in-the-mnist-example/457\n",
    "        transforms.Normalize((0.1307,), (0.3081,))\n",
    "    ])\n",
    "\n",
    "    train_dataset = datasets.MNIST(\n",
    "        root=root,\n",
    "        train=True,\n",
    "        download=True,\n",
    "        transform=transform\n",
    "    )\n",
    "\n",
    "    test_dataset = datasets.MNIST(\n",
    "        root=root,\n",
    "        train=False,\n",
    "        download=True,\n",
    "        transform=transform\n",
    "    )\n",
    "\n",
    "    return Dataset(\n",
    "        train_dataset=train_dataset,\n",
    "        test_dataset=test_dataset,\n",
    "        train_loader=torch.utils.data.DataLoader(\n",
    "            train_dataset,\n",
    "            batch_size=batch_size,\n",
    "            shuffle=True\n",
    "        ),\n",
    "        test_loader=torch.utils.data.DataLoader(\n",
    "            test_dataset,\n",
    "            batch_size=batch_size,\n",
    "            shuffle=False\n",
    "        )\n",
    "    )\n",
    "\n",
    "dataset = make_dataset(root='./data', batch_size=64)\n"
   ]
  },
  {
   "cell_type": "code",
   "execution_count": 3,
   "metadata": {},
   "outputs": [
    {
     "data": {
      "image/png": "[encoded data removed]",
      "text/plain": [
       "<Figure size 640x480 with 1 Axes>"
      ]
     },
     "metadata": {},
     "output_type": "display_data"
    },
    {
     "data": {
      "image/png": "[encoded data removed]",
      "text/plain": [
       "<Figure size 640x480 with 1 Axes>"
      ]
     },
     "metadata": {},
     "output_type": "display_data"
    },
    {
     "data": {
      "image/png": "[encoded data removed]",
      "text/plain": [
       "<Figure size 640x480 with 1 Axes>"
      ]
     },
     "metadata": {},
     "output_type": "display_data"
    }
   ],
   "source": [
    "import matplotlib.pyplot as plt\n",
    "\n",
    "def draw(tensor: torch.Tensor):\n",
    "    plt.imshow(tensor, cmap='gray')\n",
    "    plt.axis('off')\n",
    "    plt.show()\n",
    "\n",
    "draw(dataset.test_dataset.data[9])\n",
    "draw(dataset.test_dataset.data[2])\n",
    "draw(dataset.test_dataset.data[1])"
   ]
  },
  {
   "cell_type": "markdown",
   "metadata": {},
   "source": [
    "## Модель"
   ]
  },
  {
   "cell_type": "code",
   "execution_count": 9,
   "metadata": {},
   "outputs": [],
   "source": [
    "import torch.nn as nn\n",
    "import torch.nn.functional as F\n",
    "\n",
    "class DigitRecognizer(nn.Module):\n",
    "    def __init__(self):\n",
    "        super(DigitRecognizer, self).__init__()\n",
    "\n",
    "        self.flatten = nn.Flatten()\n",
    "\n",
    "        self.fc1 = nn.Linear(28 * 28, 32 * 32)\n",
    "        self.fc2 = nn.Linear(32 * 32, 32 * 32)\n",
    "        self.fc3 = nn.Linear(32 * 32, 10)\n",
    "\n",
    "    def forward(self, x):\n",
    "        x = self.flatten(x)\n",
    "        x = self.fc1(x)\n",
    "        x = F.relu(x)\n",
    "        x = self.fc2(x)\n",
    "        x = F.relu(x)\n",
    "        x = self.fc3(x)\n",
    "        return x"
   ]
  },
  {
   "cell_type": "markdown",
   "metadata": {},
   "source": [
    "## Обучение"
   ]
  },
  {
   "cell_type": "code",
   "execution_count": 10,
   "metadata": {},
   "outputs": [],
   "source": [
    "import torch.optim as optim\n",
    "\n",
    "def train(model: DigitRecognizer, loader, epochs, criterion, optimizer):\n",
    "    for epoch in range(epochs):\n",
    "        running_loss = 0.0\n",
    "\n",
    "        model.train()\n",
    "\n",
    "        for i, (inputs, labels) in enumerate(loader):\n",
    "            optimizer.zero_grad()\n",
    "\n",
    "            outputs = model(inputs)\n",
    "\n",
    "            loss = criterion(outputs, labels)\n",
    "            loss.backward()\n",
    "\n",
    "            optimizer.step()\n",
    "\n",
    "            running_loss += loss.item()\n",
    "\n",
    "            if i % 100 == 99:\n",
    "                print(f'E{epoch + 1}/{epochs} S{i + 1}/{len(loader)} Loss={running_loss / 100:.4f}')\n",
    "                running_loss = 0.0\n",
    "\n"
   ]
  },
  {
   "cell_type": "code",
   "execution_count": 11,
   "metadata": {},
   "outputs": [
    {
     "name": "stdout",
     "output_type": "stream",
     "text": [
      "E1/5 S100/938 Loss=0.4769\n",
      "E1/5 S200/938 Loss=0.2553\n",
      "E1/5 S300/938 Loss=0.1866\n",
      "E1/5 S400/938 Loss=0.1697\n",
      "E1/5 S500/938 Loss=0.1473\n",
      "E1/5 S600/938 Loss=0.1449\n",
      "E1/5 S700/938 Loss=0.1337\n",
      "E1/5 S800/938 Loss=0.1338\n",
      "E1/5 S900/938 Loss=0.1193\n",
      "E2/5 S100/938 Loss=0.0884\n",
      "E2/5 S200/938 Loss=0.0892\n",
      "E2/5 S300/938 Loss=0.0922\n",
      "E2/5 S400/938 Loss=0.0780\n",
      "E2/5 S500/938 Loss=0.0987\n",
      "E2/5 S600/938 Loss=0.0923\n",
      "E2/5 S700/938 Loss=0.0814\n",
      "E2/5 S800/938 Loss=0.0852\n",
      "E2/5 S900/938 Loss=0.1043\n",
      "E3/5 S100/938 Loss=0.0552\n",
      "E3/5 S200/938 Loss=0.0563\n",
      "E3/5 S300/938 Loss=0.0590\n",
      "E3/5 S400/938 Loss=0.0644\n",
      "E3/5 S500/938 Loss=0.0682\n",
      "E3/5 S600/938 Loss=0.0683\n",
      "E3/5 S700/938 Loss=0.0684\n",
      "E3/5 S800/938 Loss=0.0671\n",
      "E3/5 S900/938 Loss=0.0609\n",
      "E4/5 S100/938 Loss=0.0528\n",
      "E4/5 S200/938 Loss=0.0470\n",
      "E4/5 S300/938 Loss=0.0359\n",
      "E4/5 S400/938 Loss=0.0374\n",
      "E4/5 S500/938 Loss=0.0437\n",
      "E4/5 S600/938 Loss=0.0458\n",
      "E4/5 S700/938 Loss=0.0465\n",
      "E4/5 S800/938 Loss=0.0575\n",
      "E4/5 S900/938 Loss=0.0502\n",
      "E5/5 S100/938 Loss=0.0302\n",
      "E5/5 S200/938 Loss=0.0412\n",
      "E5/5 S300/938 Loss=0.0372\n",
      "E5/5 S400/938 Loss=0.0496\n",
      "E5/5 S500/938 Loss=0.0381\n",
      "E5/5 S600/938 Loss=0.0384\n",
      "E5/5 S700/938 Loss=0.0522\n",
      "E5/5 S800/938 Loss=0.0458\n",
      "E5/5 S900/938 Loss=0.0501\n"
     ]
    }
   ],
   "source": [
    "model = DigitRecognizer()\n",
    "\n",
    "train(\n",
    "    model=model,\n",
    "    loader=dataset.train_loader,\n",
    "    epochs=5,\n",
    "    criterion=nn.CrossEntropyLoss(),\n",
    "    optimizer=optim.Adam(\n",
    "        model.parameters(),\n",
    "        lr=0.001\n",
    "    )\n",
    ")\n",
    "\n",
    "torch.save(model.state_dict(), 'digit_recognizer.pth')"
   ]
  },
  {
   "cell_type": "markdown",
   "metadata": {},
   "source": [
    "## Валидация"
   ]
  },
  {
   "cell_type": "code",
   "execution_count": 13,
   "metadata": {},
   "outputs": [
    {
     "name": "stdout",
     "output_type": "stream",
     "text": [
      "Accuracy: 96.8%\n"
     ]
    }
   ],
   "source": [
    "import torch\n",
    "model = DigitRecognizer()\n",
    "model.load_state_dict(torch.load('digit_recognizer.pth'))\n",
    "\n",
    "model.eval()\n",
    "correct = 0\n",
    "total = 0\n",
    "\n",
    "with torch.no_grad():\n",
    "    for inputs, labels in dataset.test_loader:\n",
    "        outputs = model(inputs)\n",
    "        _, predicted = torch.max(outputs.data, 1)\n",
    "        total += labels.size(0)\n",
    "        correct += (predicted == labels).sum().item()\n",
    "\n",
    "print(f'Accuracy: {correct / total * 100}%')"
   ]
  },
  {
   "cell_type": "markdown",
   "metadata": {},
   "source": [
    "## Предсказания"
   ]
  },
  {
   "cell_type": "code",
   "execution_count": 18,
   "metadata": {},
   "outputs": [
    {
     "data": {
      "image/png": "[encoded data removed]",
      "text/plain": [
       "<Figure size 640x480 with 1 Axes>"
      ]
     },
     "metadata": {},
     "output_type": "display_data"
    },
    {
     "name": "stdout",
     "output_type": "stream",
     "text": [
      "tensor([ 39.7960, -42.5919, -14.6548, -19.3560, -21.8696, -25.8399,  -7.7096,\n",
      "        -29.1079, -15.5656,  -7.7908], grad_fn=<SelectBackward0>)\n"
     ]
    },
    {
     "data": {
      "text/plain": [
       "(0, tensor([0]))"
      ]
     },
     "execution_count": 18,
     "metadata": {},
     "output_type": "execute_result"
    }
   ],
   "source": [
    "import torch\n",
    "model = DigitRecognizer()\n",
    "model.load_state_dict(torch.load('digit_recognizer.pth'))\n",
    "\n",
    "idx = 997 \n",
    "\n",
    "draw(dataset.test_dataset.data[idx])\n",
    "\n",
    "(x, y) = dataset.test_dataset[idx]\n",
    "\n",
    "outputs = model(x)\n",
    "_, predicted = torch.max(outputs.data, 1)\n",
    "print(outputs[0])\n",
    "\n",
    "(y, predicted)\n"
   ]
  },
  {
   "cell_type": "code",
   "execution_count": null,
   "metadata": {},
   "outputs": [],
   "source": []
  }
 ],
 "metadata": {
  "kernelspec": {
   "display_name": "Python 3",
   "language": "python",
   "name": "python3"
  },
  "language_info": {
   "codemirror_mode": {
    "name": "ipython",
    "version": 3
   },
   "file_extension": ".py",
   "mimetype": "text/x-python",
   "name": "python",
   "nbconvert_exporter": "python",
   "pygments_lexer": "ipython3",
   "version": "3.12.3"
  }
 },
 "nbformat": 4,
 "nbformat_minor": 2
}
