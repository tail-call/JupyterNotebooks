{
 "cells": [
  {
   "cell_type": "code",
   "execution_count": 1,
   "metadata": {
    "vscode": {
     "languageId": "shellscript"
    }
   },
   "outputs": [
    {
     "name": "stdout",
     "output_type": "stream",
     "text": [
      "Collecting svgwrite\n",
      "  Downloading svgwrite-1.4.3-py3-none-any.whl.metadata (8.8 kB)\n",
      "Downloading svgwrite-1.4.3-py3-none-any.whl (67 kB)\n",
      "\u001b[2K   \u001b[90m━━━━━━━━━━━━━━━━━━━━━━━━━━━━━━━━━━━━━━━━\u001b[0m \u001b[32m67.1/67.1 kB\u001b[0m \u001b[31m471.0 kB/s\u001b[0m eta \u001b[36m0:00:00\u001b[0ma \u001b[36m0:00:01\u001b[0m\n",
      "\u001b[?25hInstalling collected packages: svgwrite\n",
      "Successfully installed svgwrite-1.4.3\n",
      "\n",
      "\u001b[1m[\u001b[0m\u001b[34;49mnotice\u001b[0m\u001b[1;39;49m]\u001b[0m\u001b[39;49m A new release of pip is available: \u001b[0m\u001b[31;49m24.0\u001b[0m\u001b[39;49m -> \u001b[0m\u001b[32;49m24.3.1\u001b[0m\n",
      "\u001b[1m[\u001b[0m\u001b[34;49mnotice\u001b[0m\u001b[1;39;49m]\u001b[0m\u001b[39;49m To update, run: \u001b[0m\u001b[32;49mpip install --upgrade pip\u001b[0m\n",
      "Note: you may need to restart the kernel to use updated packages.\n"
     ]
    }
   ],
   "source": [
    "pip install svgwrite\n"
   ]
  },
  {
   "cell_type": "code",
   "execution_count": null,
   "metadata": {},
   "outputs": [
    {
     "data": {
      "image/svg+xml": [
       "<svg xmlns=\"http://www.w3.org/2000/svg\" xmlns:ev=\"http://www.w3.org/2001/xml-events\" xmlns:xlink=\"http://www.w3.org/1999/xlink\" baseProfile=\"full\" height=\"600\" version=\"1.1\" width=\"800\"><defs/><rect fill=\"blue\" height=\"10\" width=\"10\" x=\"80\" y=\"50\"/><rect fill=\"blue\" height=\"10\" width=\"10\" x=\"80\" y=\"65\"/><rect fill=\"blue\" height=\"10\" width=\"10\" x=\"80\" y=\"80\"/><rect fill=\"blue\" height=\"10\" width=\"10\" x=\"80\" y=\"95\"/><rect fill=\"blue\" height=\"10\" width=\"10\" x=\"80\" y=\"110\"/><rect fill=\"blue\" height=\"10\" width=\"10\" x=\"80\" y=\"125\"/><rect fill=\"blue\" height=\"10\" width=\"10\" x=\"80\" y=\"140\"/><rect fill=\"blue\" height=\"10\" width=\"10\" x=\"80\" y=\"155\"/><rect fill=\"blue\" height=\"10\" width=\"10\" x=\"110\" y=\"50\"/><rect fill=\"blue\" height=\"10\" width=\"10\" x=\"110\" y=\"65\"/><rect fill=\"blue\" height=\"10\" width=\"10\" x=\"110\" y=\"80\"/><rect fill=\"blue\" height=\"10\" width=\"10\" x=\"110\" y=\"95\"/><rect fill=\"blue\" height=\"10\" width=\"10\" x=\"110\" y=\"110\"/><rect fill=\"blue\" height=\"10\" width=\"10\" x=\"110\" y=\"125\"/><rect fill=\"blue\" height=\"10\" width=\"10\" x=\"110\" y=\"140\"/><rect fill=\"blue\" height=\"10\" width=\"10\" x=\"110\" y=\"155\"/><rect fill=\"blue\" height=\"10\" width=\"10\" x=\"110\" y=\"170\"/><rect fill=\"blue\" height=\"10\" width=\"10\" x=\"110\" y=\"185\"/><rect fill=\"blue\" height=\"10\" width=\"10\" x=\"140\" y=\"50\"/><rect fill=\"blue\" height=\"10\" width=\"10\" x=\"140\" y=\"65\"/><rect fill=\"blue\" height=\"10\" width=\"10\" x=\"140\" y=\"80\"/><rect fill=\"blue\" height=\"10\" width=\"10\" x=\"140\" y=\"95\"/><rect fill=\"blue\" height=\"10\" width=\"10\" x=\"140\" y=\"110\"/><rect fill=\"blue\" height=\"10\" width=\"10\" x=\"140\" y=\"125\"/><rect fill=\"blue\" height=\"10\" width=\"10\" x=\"140\" y=\"140\"/><rect fill=\"blue\" height=\"10\" width=\"10\" x=\"140\" y=\"155\"/><rect fill=\"blue\" height=\"10\" width=\"10\" x=\"140\" y=\"170\"/><rect fill=\"blue\" height=\"10\" width=\"10\" x=\"140\" y=\"185\"/><rect fill=\"blue\" height=\"10\" width=\"10\" x=\"170\" y=\"50\"/><rect fill=\"blue\" height=\"10\" width=\"10\" x=\"170\" y=\"65\"/><rect fill=\"blue\" height=\"10\" width=\"10\" x=\"170\" y=\"80\"/><rect fill=\"blue\" height=\"10\" width=\"10\" x=\"170\" y=\"95\"/><rect fill=\"blue\" height=\"10\" width=\"10\" x=\"170\" y=\"110\"/></svg>"
      ],
      "text/plain": [
       "<IPython.core.display.SVG object>"
      ]
     },
     "metadata": {},
     "output_type": "display_data"
    }
   ],
   "source": [
    "import svgwrite\n",
    "from IPython.display import SVG, display\n",
    "\n",
    "dwg = svgwrite.Drawing('example.svg', size=(800, 600))\n",
    "\n",
    "def neuron(x, y):\n",
    "    dwg.add(dwg.rect((x, y), (10, 10), fill='blue'))\n",
    "\n",
    "min_x = 80\n",
    "\n",
    "layers = [8, 10, 10, 5]\n",
    "\n",
    "for (layer_i, layer) in enumerate(layers):\n",
    "    for neuron_i in range(0, layer):\n",
    "        def n_x(): return min_x + layer_i * 30\n",
    "        def n_y(): return 50 + neuron_i * 15\n",
    "\n",
    "        neuron(n_x(), n_y())\n",
    "\n",
    "display(SVG(dwg.tostring()))"
   ]
  },
  {
   "cell_type": "code",
   "execution_count": 29,
   "metadata": {},
   "outputs": [
    {
     "data": {
      "image/svg+xml": [
       "<svg xmlns=\"http://www.w3.org/2000/svg\" xmlns:ev=\"http://www.w3.org/2001/xml-events\" xmlns:xlink=\"http://www.w3.org/1999/xlink\" baseProfile=\"full\" height=\"600\" version=\"1.1\" width=\"800\"><defs/><line stroke=\"black\" stroke-width=\"0.5\" x1=\"85\" x2=\"115\" y1=\"55\" y2=\"55\"/><line stroke=\"black\" stroke-width=\"0.5\" x1=\"85\" x2=\"115\" y1=\"55\" y2=\"70\"/><line stroke=\"black\" stroke-width=\"0.5\" x1=\"85\" x2=\"115\" y1=\"55\" y2=\"85\"/><line stroke=\"black\" stroke-width=\"0.5\" x1=\"85\" x2=\"115\" y1=\"55\" y2=\"100\"/><line stroke=\"black\" stroke-width=\"0.5\" x1=\"85\" x2=\"115\" y1=\"55\" y2=\"115\"/><line stroke=\"black\" stroke-width=\"0.5\" x1=\"85\" x2=\"115\" y1=\"55\" y2=\"130\"/><line stroke=\"black\" stroke-width=\"0.5\" x1=\"85\" x2=\"115\" y1=\"55\" y2=\"145\"/><line stroke=\"black\" stroke-width=\"0.5\" x1=\"85\" x2=\"115\" y1=\"55\" y2=\"160\"/><line stroke=\"black\" stroke-width=\"0.5\" x1=\"85\" x2=\"115\" y1=\"55\" y2=\"175\"/><line stroke=\"black\" stroke-width=\"0.5\" x1=\"85\" x2=\"115\" y1=\"55\" y2=\"190\"/><rect fill=\"blue\" height=\"10\" width=\"10\" x=\"80\" y=\"50\"/><line stroke=\"black\" stroke-width=\"0.5\" x1=\"85\" x2=\"115\" y1=\"70\" y2=\"55\"/><line stroke=\"black\" stroke-width=\"0.5\" x1=\"85\" x2=\"115\" y1=\"70\" y2=\"70\"/><line stroke=\"black\" stroke-width=\"0.5\" x1=\"85\" x2=\"115\" y1=\"70\" y2=\"85\"/><line stroke=\"black\" stroke-width=\"0.5\" x1=\"85\" x2=\"115\" y1=\"70\" y2=\"100\"/><line stroke=\"black\" stroke-width=\"0.5\" x1=\"85\" x2=\"115\" y1=\"70\" y2=\"115\"/><line stroke=\"black\" stroke-width=\"0.5\" x1=\"85\" x2=\"115\" y1=\"70\" y2=\"130\"/><line stroke=\"black\" stroke-width=\"0.5\" x1=\"85\" x2=\"115\" y1=\"70\" y2=\"145\"/><line stroke=\"black\" stroke-width=\"0.5\" x1=\"85\" x2=\"115\" y1=\"70\" y2=\"160\"/><line stroke=\"black\" stroke-width=\"0.5\" x1=\"85\" x2=\"115\" y1=\"70\" y2=\"175\"/><line stroke=\"black\" stroke-width=\"0.5\" x1=\"85\" x2=\"115\" y1=\"70\" y2=\"190\"/><rect fill=\"blue\" height=\"10\" width=\"10\" x=\"80\" y=\"65\"/><line stroke=\"black\" stroke-width=\"0.5\" x1=\"85\" x2=\"115\" y1=\"85\" y2=\"55\"/><line stroke=\"black\" stroke-width=\"0.5\" x1=\"85\" x2=\"115\" y1=\"85\" y2=\"70\"/><line stroke=\"black\" stroke-width=\"0.5\" x1=\"85\" x2=\"115\" y1=\"85\" y2=\"85\"/><line stroke=\"black\" stroke-width=\"0.5\" x1=\"85\" x2=\"115\" y1=\"85\" y2=\"100\"/><line stroke=\"black\" stroke-width=\"0.5\" x1=\"85\" x2=\"115\" y1=\"85\" y2=\"115\"/><line stroke=\"black\" stroke-width=\"0.5\" x1=\"85\" x2=\"115\" y1=\"85\" y2=\"130\"/><line stroke=\"black\" stroke-width=\"0.5\" x1=\"85\" x2=\"115\" y1=\"85\" y2=\"145\"/><line stroke=\"black\" stroke-width=\"0.5\" x1=\"85\" x2=\"115\" y1=\"85\" y2=\"160\"/><line stroke=\"black\" stroke-width=\"0.5\" x1=\"85\" x2=\"115\" y1=\"85\" y2=\"175\"/><line stroke=\"black\" stroke-width=\"0.5\" x1=\"85\" x2=\"115\" y1=\"85\" y2=\"190\"/><rect fill=\"blue\" height=\"10\" width=\"10\" x=\"80\" y=\"80\"/><line stroke=\"black\" stroke-width=\"0.5\" x1=\"85\" x2=\"115\" y1=\"100\" y2=\"55\"/><line stroke=\"black\" stroke-width=\"0.5\" x1=\"85\" x2=\"115\" y1=\"100\" y2=\"70\"/><line stroke=\"black\" stroke-width=\"0.5\" x1=\"85\" x2=\"115\" y1=\"100\" y2=\"85\"/><line stroke=\"black\" stroke-width=\"0.5\" x1=\"85\" x2=\"115\" y1=\"100\" y2=\"100\"/><line stroke=\"black\" stroke-width=\"0.5\" x1=\"85\" x2=\"115\" y1=\"100\" y2=\"115\"/><line stroke=\"black\" stroke-width=\"0.5\" x1=\"85\" x2=\"115\" y1=\"100\" y2=\"130\"/><line stroke=\"black\" stroke-width=\"0.5\" x1=\"85\" x2=\"115\" y1=\"100\" y2=\"145\"/><line stroke=\"black\" stroke-width=\"0.5\" x1=\"85\" x2=\"115\" y1=\"100\" y2=\"160\"/><line stroke=\"black\" stroke-width=\"0.5\" x1=\"85\" x2=\"115\" y1=\"100\" y2=\"175\"/><line stroke=\"black\" stroke-width=\"0.5\" x1=\"85\" x2=\"115\" y1=\"100\" y2=\"190\"/><rect fill=\"blue\" height=\"10\" width=\"10\" x=\"80\" y=\"95\"/><line stroke=\"black\" stroke-width=\"0.5\" x1=\"85\" x2=\"115\" y1=\"115\" y2=\"55\"/><line stroke=\"black\" stroke-width=\"0.5\" x1=\"85\" x2=\"115\" y1=\"115\" y2=\"70\"/><line stroke=\"black\" stroke-width=\"0.5\" x1=\"85\" x2=\"115\" y1=\"115\" y2=\"85\"/><line stroke=\"black\" stroke-width=\"0.5\" x1=\"85\" x2=\"115\" y1=\"115\" y2=\"100\"/><line stroke=\"black\" stroke-width=\"0.5\" x1=\"85\" x2=\"115\" y1=\"115\" y2=\"115\"/><line stroke=\"black\" stroke-width=\"0.5\" x1=\"85\" x2=\"115\" y1=\"115\" y2=\"130\"/><line stroke=\"black\" stroke-width=\"0.5\" x1=\"85\" x2=\"115\" y1=\"115\" y2=\"145\"/><line stroke=\"black\" stroke-width=\"0.5\" x1=\"85\" x2=\"115\" y1=\"115\" y2=\"160\"/><line stroke=\"black\" stroke-width=\"0.5\" x1=\"85\" x2=\"115\" y1=\"115\" y2=\"175\"/><line stroke=\"black\" stroke-width=\"0.5\" x1=\"85\" x2=\"115\" y1=\"115\" y2=\"190\"/><rect fill=\"blue\" height=\"10\" width=\"10\" x=\"80\" y=\"110\"/><line stroke=\"black\" stroke-width=\"0.5\" x1=\"85\" x2=\"115\" y1=\"130\" y2=\"55\"/><line stroke=\"black\" stroke-width=\"0.5\" x1=\"85\" x2=\"115\" y1=\"130\" y2=\"70\"/><line stroke=\"black\" stroke-width=\"0.5\" x1=\"85\" x2=\"115\" y1=\"130\" y2=\"85\"/><line stroke=\"black\" stroke-width=\"0.5\" x1=\"85\" x2=\"115\" y1=\"130\" y2=\"100\"/><line stroke=\"black\" stroke-width=\"0.5\" x1=\"85\" x2=\"115\" y1=\"130\" y2=\"115\"/><line stroke=\"black\" stroke-width=\"0.5\" x1=\"85\" x2=\"115\" y1=\"130\" y2=\"130\"/><line stroke=\"black\" stroke-width=\"0.5\" x1=\"85\" x2=\"115\" y1=\"130\" y2=\"145\"/><line stroke=\"black\" stroke-width=\"0.5\" x1=\"85\" x2=\"115\" y1=\"130\" y2=\"160\"/><line stroke=\"black\" stroke-width=\"0.5\" x1=\"85\" x2=\"115\" y1=\"130\" y2=\"175\"/><line stroke=\"black\" stroke-width=\"0.5\" x1=\"85\" x2=\"115\" y1=\"130\" y2=\"190\"/><rect fill=\"blue\" height=\"10\" width=\"10\" x=\"80\" y=\"125\"/><line stroke=\"black\" stroke-width=\"0.5\" x1=\"85\" x2=\"115\" y1=\"145\" y2=\"55\"/><line stroke=\"black\" stroke-width=\"0.5\" x1=\"85\" x2=\"115\" y1=\"145\" y2=\"70\"/><line stroke=\"black\" stroke-width=\"0.5\" x1=\"85\" x2=\"115\" y1=\"145\" y2=\"85\"/><line stroke=\"black\" stroke-width=\"0.5\" x1=\"85\" x2=\"115\" y1=\"145\" y2=\"100\"/><line stroke=\"black\" stroke-width=\"0.5\" x1=\"85\" x2=\"115\" y1=\"145\" y2=\"115\"/><line stroke=\"black\" stroke-width=\"0.5\" x1=\"85\" x2=\"115\" y1=\"145\" y2=\"130\"/><line stroke=\"black\" stroke-width=\"0.5\" x1=\"85\" x2=\"115\" y1=\"145\" y2=\"145\"/><line stroke=\"black\" stroke-width=\"0.5\" x1=\"85\" x2=\"115\" y1=\"145\" y2=\"160\"/><line stroke=\"black\" stroke-width=\"0.5\" x1=\"85\" x2=\"115\" y1=\"145\" y2=\"175\"/><line stroke=\"black\" stroke-width=\"0.5\" x1=\"85\" x2=\"115\" y1=\"145\" y2=\"190\"/><rect fill=\"blue\" height=\"10\" width=\"10\" x=\"80\" y=\"140\"/><line stroke=\"black\" stroke-width=\"0.5\" x1=\"85\" x2=\"115\" y1=\"160\" y2=\"55\"/><line stroke=\"black\" stroke-width=\"0.5\" x1=\"85\" x2=\"115\" y1=\"160\" y2=\"70\"/><line stroke=\"black\" stroke-width=\"0.5\" x1=\"85\" x2=\"115\" y1=\"160\" y2=\"85\"/><line stroke=\"black\" stroke-width=\"0.5\" x1=\"85\" x2=\"115\" y1=\"160\" y2=\"100\"/><line stroke=\"black\" stroke-width=\"0.5\" x1=\"85\" x2=\"115\" y1=\"160\" y2=\"115\"/><line stroke=\"black\" stroke-width=\"0.5\" x1=\"85\" x2=\"115\" y1=\"160\" y2=\"130\"/><line stroke=\"black\" stroke-width=\"0.5\" x1=\"85\" x2=\"115\" y1=\"160\" y2=\"145\"/><line stroke=\"black\" stroke-width=\"0.5\" x1=\"85\" x2=\"115\" y1=\"160\" y2=\"160\"/><line stroke=\"black\" stroke-width=\"0.5\" x1=\"85\" x2=\"115\" y1=\"160\" y2=\"175\"/><line stroke=\"black\" stroke-width=\"0.5\" x1=\"85\" x2=\"115\" y1=\"160\" y2=\"190\"/><rect fill=\"blue\" height=\"10\" width=\"10\" x=\"80\" y=\"155\"/><line stroke=\"black\" stroke-width=\"0.5\" x1=\"115\" x2=\"145\" y1=\"55\" y2=\"55\"/><line stroke=\"black\" stroke-width=\"0.5\" x1=\"115\" x2=\"145\" y1=\"55\" y2=\"70\"/><line stroke=\"black\" stroke-width=\"0.5\" x1=\"115\" x2=\"145\" y1=\"55\" y2=\"85\"/><line stroke=\"black\" stroke-width=\"0.5\" x1=\"115\" x2=\"145\" y1=\"55\" y2=\"100\"/><line stroke=\"black\" stroke-width=\"0.5\" x1=\"115\" x2=\"145\" y1=\"55\" y2=\"115\"/><line stroke=\"black\" stroke-width=\"0.5\" x1=\"115\" x2=\"145\" y1=\"55\" y2=\"130\"/><line stroke=\"black\" stroke-width=\"0.5\" x1=\"115\" x2=\"145\" y1=\"55\" y2=\"145\"/><line stroke=\"black\" stroke-width=\"0.5\" x1=\"115\" x2=\"145\" y1=\"55\" y2=\"160\"/><line stroke=\"black\" stroke-width=\"0.5\" x1=\"115\" x2=\"145\" y1=\"55\" y2=\"175\"/><line stroke=\"black\" stroke-width=\"0.5\" x1=\"115\" x2=\"145\" y1=\"55\" y2=\"190\"/><rect fill=\"blue\" height=\"10\" width=\"10\" x=\"110\" y=\"50\"/><line stroke=\"black\" stroke-width=\"0.5\" x1=\"115\" x2=\"145\" y1=\"70\" y2=\"55\"/><line stroke=\"black\" stroke-width=\"0.5\" x1=\"115\" x2=\"145\" y1=\"70\" y2=\"70\"/><line stroke=\"black\" stroke-width=\"0.5\" x1=\"115\" x2=\"145\" y1=\"70\" y2=\"85\"/><line stroke=\"black\" stroke-width=\"0.5\" x1=\"115\" x2=\"145\" y1=\"70\" y2=\"100\"/><line stroke=\"black\" stroke-width=\"0.5\" x1=\"115\" x2=\"145\" y1=\"70\" y2=\"115\"/><line stroke=\"black\" stroke-width=\"0.5\" x1=\"115\" x2=\"145\" y1=\"70\" y2=\"130\"/><line stroke=\"black\" stroke-width=\"0.5\" x1=\"115\" x2=\"145\" y1=\"70\" y2=\"145\"/><line stroke=\"black\" stroke-width=\"0.5\" x1=\"115\" x2=\"145\" y1=\"70\" y2=\"160\"/><line stroke=\"black\" stroke-width=\"0.5\" x1=\"115\" x2=\"145\" y1=\"70\" y2=\"175\"/><line stroke=\"black\" stroke-width=\"0.5\" x1=\"115\" x2=\"145\" y1=\"70\" y2=\"190\"/><rect fill=\"blue\" height=\"10\" width=\"10\" x=\"110\" y=\"65\"/><line stroke=\"black\" stroke-width=\"0.5\" x1=\"115\" x2=\"145\" y1=\"85\" y2=\"55\"/><line stroke=\"black\" stroke-width=\"0.5\" x1=\"115\" x2=\"145\" y1=\"85\" y2=\"70\"/><line stroke=\"black\" stroke-width=\"0.5\" x1=\"115\" x2=\"145\" y1=\"85\" y2=\"85\"/><line stroke=\"black\" stroke-width=\"0.5\" x1=\"115\" x2=\"145\" y1=\"85\" y2=\"100\"/><line stroke=\"black\" stroke-width=\"0.5\" x1=\"115\" x2=\"145\" y1=\"85\" y2=\"115\"/><line stroke=\"black\" stroke-width=\"0.5\" x1=\"115\" x2=\"145\" y1=\"85\" y2=\"130\"/><line stroke=\"black\" stroke-width=\"0.5\" x1=\"115\" x2=\"145\" y1=\"85\" y2=\"145\"/><line stroke=\"black\" stroke-width=\"0.5\" x1=\"115\" x2=\"145\" y1=\"85\" y2=\"160\"/><line stroke=\"black\" stroke-width=\"0.5\" x1=\"115\" x2=\"145\" y1=\"85\" y2=\"175\"/><line stroke=\"black\" stroke-width=\"0.5\" x1=\"115\" x2=\"145\" y1=\"85\" y2=\"190\"/><rect fill=\"blue\" height=\"10\" width=\"10\" x=\"110\" y=\"80\"/><line stroke=\"black\" stroke-width=\"0.5\" x1=\"115\" x2=\"145\" y1=\"100\" y2=\"55\"/><line stroke=\"black\" stroke-width=\"0.5\" x1=\"115\" x2=\"145\" y1=\"100\" y2=\"70\"/><line stroke=\"black\" stroke-width=\"0.5\" x1=\"115\" x2=\"145\" y1=\"100\" y2=\"85\"/><line stroke=\"black\" stroke-width=\"0.5\" x1=\"115\" x2=\"145\" y1=\"100\" y2=\"100\"/><line stroke=\"black\" stroke-width=\"0.5\" x1=\"115\" x2=\"145\" y1=\"100\" y2=\"115\"/><line stroke=\"black\" stroke-width=\"0.5\" x1=\"115\" x2=\"145\" y1=\"100\" y2=\"130\"/><line stroke=\"black\" stroke-width=\"0.5\" x1=\"115\" x2=\"145\" y1=\"100\" y2=\"145\"/><line stroke=\"black\" stroke-width=\"0.5\" x1=\"115\" x2=\"145\" y1=\"100\" y2=\"160\"/><line stroke=\"black\" stroke-width=\"0.5\" x1=\"115\" x2=\"145\" y1=\"100\" y2=\"175\"/><line stroke=\"black\" stroke-width=\"0.5\" x1=\"115\" x2=\"145\" y1=\"100\" y2=\"190\"/><rect fill=\"blue\" height=\"10\" width=\"10\" x=\"110\" y=\"95\"/><line stroke=\"black\" stroke-width=\"0.5\" x1=\"115\" x2=\"145\" y1=\"115\" y2=\"55\"/><line stroke=\"black\" stroke-width=\"0.5\" x1=\"115\" x2=\"145\" y1=\"115\" y2=\"70\"/><line stroke=\"black\" stroke-width=\"0.5\" x1=\"115\" x2=\"145\" y1=\"115\" y2=\"85\"/><line stroke=\"black\" stroke-width=\"0.5\" x1=\"115\" x2=\"145\" y1=\"115\" y2=\"100\"/><line stroke=\"black\" stroke-width=\"0.5\" x1=\"115\" x2=\"145\" y1=\"115\" y2=\"115\"/><line stroke=\"black\" stroke-width=\"0.5\" x1=\"115\" x2=\"145\" y1=\"115\" y2=\"130\"/><line stroke=\"black\" stroke-width=\"0.5\" x1=\"115\" x2=\"145\" y1=\"115\" y2=\"145\"/><line stroke=\"black\" stroke-width=\"0.5\" x1=\"115\" x2=\"145\" y1=\"115\" y2=\"160\"/><line stroke=\"black\" stroke-width=\"0.5\" x1=\"115\" x2=\"145\" y1=\"115\" y2=\"175\"/><line stroke=\"black\" stroke-width=\"0.5\" x1=\"115\" x2=\"145\" y1=\"115\" y2=\"190\"/><rect fill=\"blue\" height=\"10\" width=\"10\" x=\"110\" y=\"110\"/><line stroke=\"black\" stroke-width=\"0.5\" x1=\"115\" x2=\"145\" y1=\"130\" y2=\"55\"/><line stroke=\"black\" stroke-width=\"0.5\" x1=\"115\" x2=\"145\" y1=\"130\" y2=\"70\"/><line stroke=\"black\" stroke-width=\"0.5\" x1=\"115\" x2=\"145\" y1=\"130\" y2=\"85\"/><line stroke=\"black\" stroke-width=\"0.5\" x1=\"115\" x2=\"145\" y1=\"130\" y2=\"100\"/><line stroke=\"black\" stroke-width=\"0.5\" x1=\"115\" x2=\"145\" y1=\"130\" y2=\"115\"/><line stroke=\"black\" stroke-width=\"0.5\" x1=\"115\" x2=\"145\" y1=\"130\" y2=\"130\"/><line stroke=\"black\" stroke-width=\"0.5\" x1=\"115\" x2=\"145\" y1=\"130\" y2=\"145\"/><line stroke=\"black\" stroke-width=\"0.5\" x1=\"115\" x2=\"145\" y1=\"130\" y2=\"160\"/><line stroke=\"black\" stroke-width=\"0.5\" x1=\"115\" x2=\"145\" y1=\"130\" y2=\"175\"/><line stroke=\"black\" stroke-width=\"0.5\" x1=\"115\" x2=\"145\" y1=\"130\" y2=\"190\"/><rect fill=\"blue\" height=\"10\" width=\"10\" x=\"110\" y=\"125\"/><line stroke=\"black\" stroke-width=\"0.5\" x1=\"115\" x2=\"145\" y1=\"145\" y2=\"55\"/><line stroke=\"black\" stroke-width=\"0.5\" x1=\"115\" x2=\"145\" y1=\"145\" y2=\"70\"/><line stroke=\"black\" stroke-width=\"0.5\" x1=\"115\" x2=\"145\" y1=\"145\" y2=\"85\"/><line stroke=\"black\" stroke-width=\"0.5\" x1=\"115\" x2=\"145\" y1=\"145\" y2=\"100\"/><line stroke=\"black\" stroke-width=\"0.5\" x1=\"115\" x2=\"145\" y1=\"145\" y2=\"115\"/><line stroke=\"black\" stroke-width=\"0.5\" x1=\"115\" x2=\"145\" y1=\"145\" y2=\"130\"/><line stroke=\"black\" stroke-width=\"0.5\" x1=\"115\" x2=\"145\" y1=\"145\" y2=\"145\"/><line stroke=\"black\" stroke-width=\"0.5\" x1=\"115\" x2=\"145\" y1=\"145\" y2=\"160\"/><line stroke=\"black\" stroke-width=\"0.5\" x1=\"115\" x2=\"145\" y1=\"145\" y2=\"175\"/><line stroke=\"black\" stroke-width=\"0.5\" x1=\"115\" x2=\"145\" y1=\"145\" y2=\"190\"/><rect fill=\"blue\" height=\"10\" width=\"10\" x=\"110\" y=\"140\"/><line stroke=\"black\" stroke-width=\"0.5\" x1=\"115\" x2=\"145\" y1=\"160\" y2=\"55\"/><line stroke=\"black\" stroke-width=\"0.5\" x1=\"115\" x2=\"145\" y1=\"160\" y2=\"70\"/><line stroke=\"black\" stroke-width=\"0.5\" x1=\"115\" x2=\"145\" y1=\"160\" y2=\"85\"/><line stroke=\"black\" stroke-width=\"0.5\" x1=\"115\" x2=\"145\" y1=\"160\" y2=\"100\"/><line stroke=\"black\" stroke-width=\"0.5\" x1=\"115\" x2=\"145\" y1=\"160\" y2=\"115\"/><line stroke=\"black\" stroke-width=\"0.5\" x1=\"115\" x2=\"145\" y1=\"160\" y2=\"130\"/><line stroke=\"black\" stroke-width=\"0.5\" x1=\"115\" x2=\"145\" y1=\"160\" y2=\"145\"/><line stroke=\"black\" stroke-width=\"0.5\" x1=\"115\" x2=\"145\" y1=\"160\" y2=\"160\"/><line stroke=\"black\" stroke-width=\"0.5\" x1=\"115\" x2=\"145\" y1=\"160\" y2=\"175\"/><line stroke=\"black\" stroke-width=\"0.5\" x1=\"115\" x2=\"145\" y1=\"160\" y2=\"190\"/><rect fill=\"blue\" height=\"10\" width=\"10\" x=\"110\" y=\"155\"/><line stroke=\"black\" stroke-width=\"0.5\" x1=\"115\" x2=\"145\" y1=\"175\" y2=\"55\"/><line stroke=\"black\" stroke-width=\"0.5\" x1=\"115\" x2=\"145\" y1=\"175\" y2=\"70\"/><line stroke=\"black\" stroke-width=\"0.5\" x1=\"115\" x2=\"145\" y1=\"175\" y2=\"85\"/><line stroke=\"black\" stroke-width=\"0.5\" x1=\"115\" x2=\"145\" y1=\"175\" y2=\"100\"/><line stroke=\"black\" stroke-width=\"0.5\" x1=\"115\" x2=\"145\" y1=\"175\" y2=\"115\"/><line stroke=\"black\" stroke-width=\"0.5\" x1=\"115\" x2=\"145\" y1=\"175\" y2=\"130\"/><line stroke=\"black\" stroke-width=\"0.5\" x1=\"115\" x2=\"145\" y1=\"175\" y2=\"145\"/><line stroke=\"black\" stroke-width=\"0.5\" x1=\"115\" x2=\"145\" y1=\"175\" y2=\"160\"/><line stroke=\"black\" stroke-width=\"0.5\" x1=\"115\" x2=\"145\" y1=\"175\" y2=\"175\"/><line stroke=\"black\" stroke-width=\"0.5\" x1=\"115\" x2=\"145\" y1=\"175\" y2=\"190\"/><rect fill=\"blue\" height=\"10\" width=\"10\" x=\"110\" y=\"170\"/><line stroke=\"black\" stroke-width=\"0.5\" x1=\"115\" x2=\"145\" y1=\"190\" y2=\"55\"/><line stroke=\"black\" stroke-width=\"0.5\" x1=\"115\" x2=\"145\" y1=\"190\" y2=\"70\"/><line stroke=\"black\" stroke-width=\"0.5\" x1=\"115\" x2=\"145\" y1=\"190\" y2=\"85\"/><line stroke=\"black\" stroke-width=\"0.5\" x1=\"115\" x2=\"145\" y1=\"190\" y2=\"100\"/><line stroke=\"black\" stroke-width=\"0.5\" x1=\"115\" x2=\"145\" y1=\"190\" y2=\"115\"/><line stroke=\"black\" stroke-width=\"0.5\" x1=\"115\" x2=\"145\" y1=\"190\" y2=\"130\"/><line stroke=\"black\" stroke-width=\"0.5\" x1=\"115\" x2=\"145\" y1=\"190\" y2=\"145\"/><line stroke=\"black\" stroke-width=\"0.5\" x1=\"115\" x2=\"145\" y1=\"190\" y2=\"160\"/><line stroke=\"black\" stroke-width=\"0.5\" x1=\"115\" x2=\"145\" y1=\"190\" y2=\"175\"/><line stroke=\"black\" stroke-width=\"0.5\" x1=\"115\" x2=\"145\" y1=\"190\" y2=\"190\"/><rect fill=\"blue\" height=\"10\" width=\"10\" x=\"110\" y=\"185\"/><line stroke=\"black\" stroke-width=\"0.5\" x1=\"145\" x2=\"175\" y1=\"55\" y2=\"55\"/><line stroke=\"black\" stroke-width=\"0.5\" x1=\"145\" x2=\"175\" y1=\"55\" y2=\"70\"/><line stroke=\"black\" stroke-width=\"0.5\" x1=\"145\" x2=\"175\" y1=\"55\" y2=\"85\"/><line stroke=\"black\" stroke-width=\"0.5\" x1=\"145\" x2=\"175\" y1=\"55\" y2=\"100\"/><line stroke=\"black\" stroke-width=\"0.5\" x1=\"145\" x2=\"175\" y1=\"55\" y2=\"115\"/><rect fill=\"blue\" height=\"10\" width=\"10\" x=\"140\" y=\"50\"/><line stroke=\"black\" stroke-width=\"0.5\" x1=\"145\" x2=\"175\" y1=\"70\" y2=\"55\"/><line stroke=\"black\" stroke-width=\"0.5\" x1=\"145\" x2=\"175\" y1=\"70\" y2=\"70\"/><line stroke=\"black\" stroke-width=\"0.5\" x1=\"145\" x2=\"175\" y1=\"70\" y2=\"85\"/><line stroke=\"black\" stroke-width=\"0.5\" x1=\"145\" x2=\"175\" y1=\"70\" y2=\"100\"/><line stroke=\"black\" stroke-width=\"0.5\" x1=\"145\" x2=\"175\" y1=\"70\" y2=\"115\"/><rect fill=\"blue\" height=\"10\" width=\"10\" x=\"140\" y=\"65\"/><line stroke=\"black\" stroke-width=\"0.5\" x1=\"145\" x2=\"175\" y1=\"85\" y2=\"55\"/><line stroke=\"black\" stroke-width=\"0.5\" x1=\"145\" x2=\"175\" y1=\"85\" y2=\"70\"/><line stroke=\"black\" stroke-width=\"0.5\" x1=\"145\" x2=\"175\" y1=\"85\" y2=\"85\"/><line stroke=\"black\" stroke-width=\"0.5\" x1=\"145\" x2=\"175\" y1=\"85\" y2=\"100\"/><line stroke=\"black\" stroke-width=\"0.5\" x1=\"145\" x2=\"175\" y1=\"85\" y2=\"115\"/><rect fill=\"blue\" height=\"10\" width=\"10\" x=\"140\" y=\"80\"/><line stroke=\"black\" stroke-width=\"0.5\" x1=\"145\" x2=\"175\" y1=\"100\" y2=\"55\"/><line stroke=\"black\" stroke-width=\"0.5\" x1=\"145\" x2=\"175\" y1=\"100\" y2=\"70\"/><line stroke=\"black\" stroke-width=\"0.5\" x1=\"145\" x2=\"175\" y1=\"100\" y2=\"85\"/><line stroke=\"black\" stroke-width=\"0.5\" x1=\"145\" x2=\"175\" y1=\"100\" y2=\"100\"/><line stroke=\"black\" stroke-width=\"0.5\" x1=\"145\" x2=\"175\" y1=\"100\" y2=\"115\"/><rect fill=\"blue\" height=\"10\" width=\"10\" x=\"140\" y=\"95\"/><line stroke=\"black\" stroke-width=\"0.5\" x1=\"145\" x2=\"175\" y1=\"115\" y2=\"55\"/><line stroke=\"black\" stroke-width=\"0.5\" x1=\"145\" x2=\"175\" y1=\"115\" y2=\"70\"/><line stroke=\"black\" stroke-width=\"0.5\" x1=\"145\" x2=\"175\" y1=\"115\" y2=\"85\"/><line stroke=\"black\" stroke-width=\"0.5\" x1=\"145\" x2=\"175\" y1=\"115\" y2=\"100\"/><line stroke=\"black\" stroke-width=\"0.5\" x1=\"145\" x2=\"175\" y1=\"115\" y2=\"115\"/><rect fill=\"blue\" height=\"10\" width=\"10\" x=\"140\" y=\"110\"/><line stroke=\"black\" stroke-width=\"0.5\" x1=\"145\" x2=\"175\" y1=\"130\" y2=\"55\"/><line stroke=\"black\" stroke-width=\"0.5\" x1=\"145\" x2=\"175\" y1=\"130\" y2=\"70\"/><line stroke=\"black\" stroke-width=\"0.5\" x1=\"145\" x2=\"175\" y1=\"130\" y2=\"85\"/><line stroke=\"black\" stroke-width=\"0.5\" x1=\"145\" x2=\"175\" y1=\"130\" y2=\"100\"/><line stroke=\"black\" stroke-width=\"0.5\" x1=\"145\" x2=\"175\" y1=\"130\" y2=\"115\"/><rect fill=\"blue\" height=\"10\" width=\"10\" x=\"140\" y=\"125\"/><line stroke=\"black\" stroke-width=\"0.5\" x1=\"145\" x2=\"175\" y1=\"145\" y2=\"55\"/><line stroke=\"black\" stroke-width=\"0.5\" x1=\"145\" x2=\"175\" y1=\"145\" y2=\"70\"/><line stroke=\"black\" stroke-width=\"0.5\" x1=\"145\" x2=\"175\" y1=\"145\" y2=\"85\"/><line stroke=\"black\" stroke-width=\"0.5\" x1=\"145\" x2=\"175\" y1=\"145\" y2=\"100\"/><line stroke=\"black\" stroke-width=\"0.5\" x1=\"145\" x2=\"175\" y1=\"145\" y2=\"115\"/><rect fill=\"blue\" height=\"10\" width=\"10\" x=\"140\" y=\"140\"/><line stroke=\"black\" stroke-width=\"0.5\" x1=\"145\" x2=\"175\" y1=\"160\" y2=\"55\"/><line stroke=\"black\" stroke-width=\"0.5\" x1=\"145\" x2=\"175\" y1=\"160\" y2=\"70\"/><line stroke=\"black\" stroke-width=\"0.5\" x1=\"145\" x2=\"175\" y1=\"160\" y2=\"85\"/><line stroke=\"black\" stroke-width=\"0.5\" x1=\"145\" x2=\"175\" y1=\"160\" y2=\"100\"/><line stroke=\"black\" stroke-width=\"0.5\" x1=\"145\" x2=\"175\" y1=\"160\" y2=\"115\"/><rect fill=\"blue\" height=\"10\" width=\"10\" x=\"140\" y=\"155\"/><line stroke=\"black\" stroke-width=\"0.5\" x1=\"145\" x2=\"175\" y1=\"175\" y2=\"55\"/><line stroke=\"black\" stroke-width=\"0.5\" x1=\"145\" x2=\"175\" y1=\"175\" y2=\"70\"/><line stroke=\"black\" stroke-width=\"0.5\" x1=\"145\" x2=\"175\" y1=\"175\" y2=\"85\"/><line stroke=\"black\" stroke-width=\"0.5\" x1=\"145\" x2=\"175\" y1=\"175\" y2=\"100\"/><line stroke=\"black\" stroke-width=\"0.5\" x1=\"145\" x2=\"175\" y1=\"175\" y2=\"115\"/><rect fill=\"blue\" height=\"10\" width=\"10\" x=\"140\" y=\"170\"/><line stroke=\"black\" stroke-width=\"0.5\" x1=\"145\" x2=\"175\" y1=\"190\" y2=\"55\"/><line stroke=\"black\" stroke-width=\"0.5\" x1=\"145\" x2=\"175\" y1=\"190\" y2=\"70\"/><line stroke=\"black\" stroke-width=\"0.5\" x1=\"145\" x2=\"175\" y1=\"190\" y2=\"85\"/><line stroke=\"black\" stroke-width=\"0.5\" x1=\"145\" x2=\"175\" y1=\"190\" y2=\"100\"/><line stroke=\"black\" stroke-width=\"0.5\" x1=\"145\" x2=\"175\" y1=\"190\" y2=\"115\"/><rect fill=\"blue\" height=\"10\" width=\"10\" x=\"140\" y=\"185\"/><rect fill=\"blue\" height=\"10\" width=\"10\" x=\"170\" y=\"50\"/><rect fill=\"blue\" height=\"10\" width=\"10\" x=\"170\" y=\"65\"/><rect fill=\"blue\" height=\"10\" width=\"10\" x=\"170\" y=\"80\"/><rect fill=\"blue\" height=\"10\" width=\"10\" x=\"170\" y=\"95\"/><rect fill=\"blue\" height=\"10\" width=\"10\" x=\"170\" y=\"110\"/></svg>"
      ],
      "text/plain": [
       "<IPython.core.display.SVG object>"
      ]
     },
     "metadata": {},
     "output_type": "display_data"
    }
   ],
   "source": [
    "import svgwrite\n",
    "from IPython.display import SVG, display\n",
    "\n",
    "layers = [8, 10, 10, 5]\n",
    "\n",
    "dwg = svgwrite.Drawing('example.svg', size=(800, 600))\n",
    "\n",
    "def neuron(x, y):\n",
    "    dwg.add(dwg.rect((x, y), (10, 10), fill='blue'))\n",
    "\n",
    "def connection(p1, p2):\n",
    "    dwg.add(dwg.line(p1, p2, stroke='black', stroke_width=0.5))\n",
    "\n",
    "min_x = 80\n",
    "def n_x(p): return min_x + p * 30\n",
    "def n_y(p): return 50 + p * 15\n",
    "\n",
    "for (layer_i, layer) in enumerate(layers):\n",
    "    for neuron_i in range(0, layer):\n",
    "        if layer_i < len(layers) - 1:\n",
    "            next_layer = layers[layer_i + 1]\n",
    "            for j in range(next_layer):\n",
    "               connection((n_x(layer_i) + 5, n_y(neuron_i) + 5),\n",
    "                          (n_x(layer_i+1) + 5, n_y(j) + 5))\n",
    "\n",
    "        neuron(n_x(layer_i), n_y(neuron_i))\n",
    "\n",
    "display(SVG(dwg.tostring()))"
   ]
  },
  {
   "cell_type": "code",
   "execution_count": null,
   "metadata": {
    "vscode": {
     "languageId": "shellscript"
    }
   },
   "outputs": [],
   "source": []
  }
 ],
 "metadata": {
  "kernelspec": {
   "display_name": "Python 3",
   "language": "python",
   "name": "python3"
  },
  "language_info": {
   "codemirror_mode": {
    "name": "ipython",
    "version": 3
   },
   "file_extension": ".py",
   "mimetype": "text/x-python",
   "name": "python",
   "nbconvert_exporter": "python",
   "pygments_lexer": "ipython3",
   "version": "3.12.3"
  }
 },
 "nbformat": 4,
 "nbformat_minor": 2
}
