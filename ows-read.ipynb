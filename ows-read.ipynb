{
 "cells": [
  {
   "cell_type": "code",
   "execution_count": 2,
   "metadata": {},
   "outputs": [],
   "source": [
    "import xml.etree.ElementTree as ET\n",
    "\n",
    "tree = ET.parse('./guys.ows')\n",
    "\n",
    "root: ET.Element = tree.getroot()\n",
    "\n",
    "for node in root.findall('node'):\n",
    "    qualified_name = node.get('qualified_name')\n",
    "    project_name = node.get('project_name')\n",
    "    version = node.get('version')\n",
    "    title = node.get('title')\n",
    "    position = node.get('position')\n",
    "\n",
    "    print({\n",
    "        qualified_name: qualified_name,\n",
    "        project_name: project_name,\n",
    "        version: version,\n",
    "        title: title,\n",
    "        position: position,\n",
    "    })\n"
   ]
  },
  {
   "cell_type": "code",
   "execution_count": 16,
   "metadata": {},
   "outputs": [
    {
     "name": "stdout",
     "output_type": "stream",
     "text": [
      "scheme > [('version', '2.0'), ('title', ''), ('description', '')]\n",
      "nodes > []\n",
      "node > [('id', '0'), ('name', 'CSV File Import'), ('qualified_name', 'Orange.widgets.data.owcsvimport.OWCSVFileImport'), ('project_name', 'Orange3'), ('version', ''), ('title', 'CSV File Import'), ('position', '(263.0, 340.0)')]\n",
      "node > [('id', '1'), ('name', 'Scatter Plot'), ('qualified_name', 'Orange.widgets.visualize.owscatterplot.OWScatterPlot'), ('project_name', 'Orange3'), ('version', ''), ('title', 'Scatter Plot'), ('position', '(375.0, 351.0)')]\n",
      "node > [('id', '2'), ('name', 'Distributions'), ('qualified_name', 'Orange.widgets.visualize.owdistributions.OWDistributions'), ('project_name', 'Orange3'), ('version', ''), ('title', 'Distributions'), ('position', '(396.0, 506.0)')]\n",
      "node > [('id', '3'), ('name', 'Select Columns'), ('qualified_name', 'Orange.widgets.data.owselectcolumns.OWSelectAttributes'), ('project_name', 'Orange3'), ('version', ''), ('title', 'Select Columns'), ('position', '(334.0, 586.0)')]\n",
      "node > [('id', '4'), ('name', 'Curve Fit'), ('qualified_name', 'Orange.widgets.model.owcurvefit.OWCurveFit'), ('project_name', 'Orange3'), ('version', ''), ('title', 'Curve Fit'), ('position', '(475.0, 673.0)')]\n",
      "links > []\n",
      "link > [('id', '0'), ('source_node_id', '0'), ('sink_node_id', '1'), ('source_channel', 'Data'), ('sink_channel', 'Data'), ('enabled', 'true'), ('source_channel_id', 'data'), ('sink_channel_id', 'data')]\n",
      "link > [('id', '1'), ('source_node_id', '0'), ('sink_node_id', '2'), ('source_channel', 'Data'), ('sink_channel', 'Data'), ('enabled', 'true'), ('source_channel_id', 'data'), ('sink_channel_id', 'data')]\n",
      "link > [('id', '2'), ('source_node_id', '0'), ('sink_node_id', '3'), ('source_channel', 'Data'), ('sink_channel', 'Data'), ('enabled', 'true'), ('source_channel_id', 'data'), ('sink_channel_id', 'data')]\n",
      "link > [('id', '3'), ('source_node_id', '3'), ('sink_node_id', '4'), ('source_channel', 'Data'), ('sink_channel', 'Data'), ('enabled', 'true'), ('source_channel_id', 'data'), ('sink_channel_id', 'data')]\n",
      "annotations > []\n",
      "thumbnail > []\n",
      "node_properties > []\n",
      "properties > [('node_id', '0'), ('format', 'literal')]\n",
      "properties > [('node_id', '1'), ('format', 'pickle')]\n",
      "properties > [('node_id', '2'), ('format', 'pickle')]\n",
      "properties > [('node_id', '3'), ('format', 'pickle')]\n",
      "properties > [('node_id', '4'), ('format', 'literal')]\n",
      "session_state > []\n",
      "window_groups > []\n"
     ]
    }
   ],
   "source": [
    "for child in root.iter():\n",
    "    print(child.tag, '>', child.items())"
   ]
  },
  {
   "cell_type": "code",
   "execution_count": 18,
   "metadata": {},
   "outputs": [],
   "source": [
    "pickle_encoded=\"\"\"gASV9wMAAAAAAAB9lCiMC2F1dG9fY29tbWl0lIiMC2F1dG9fc2FtcGxllIiMEmNvbnRyb2xBcmVh\n",
    "VmlzaWJsZZSIjBNzYXZlZFdpZGdldEdlb21ldHJ5lENCAdnQywADAAAAAACQAAAAvwAABdsAAAOe\n",
    "AAAAkAAAANsAAAXbAAADngAAAAAAAAAABsAAAACQAAAA2wAABdsAAAOelIwJc2VsZWN0aW9ulE6M\n",
    "EXRvb2x0aXBfc2hvd3NfYWxslImMD3Zpc3VhbF9zZXR0aW5nc5R9lIwFZ3JhcGiUfZQojAthbHBo\n",
    "YV92YWx1ZZRLo4wNY2xhc3NfZGVuc2l0eZSJjBFqaXR0ZXJfY29udGludW91c5SIjAtqaXR0ZXJf\n",
    "c2l6ZZRLAIwTbGFiZWxfb25seV9zZWxlY3RlZJSJjBZvcnRob25vcm1hbF9yZWdyZXNzaW9ulImM\n",
    "C3BvaW50X3dpZHRolEsUjAxzaG93X2VsbGlwc2WUiYwJc2hvd19ncmlklImMC3Nob3dfbGVnZW5k\n",
    "lIiMDXNob3dfcmVnX2xpbmWUiHWMC19fdmVyc2lvbl9flEsFjBBjb250ZXh0X3NldHRpbmdzlF2U\n",
    "KIwVb3Jhbmdld2lkZ2V0LnNldHRpbmdzlIwHQ29udGV4dJSTlCmBlH2UKIwGdmFsdWVzlH2UKIwK\n",
    "YXR0cl9jb2xvcpSMCWxhbmd1YWdlc5RLZYaUjAphdHRyX2xhYmVslIwEbmFtZZRLZ4aUjAphdHRy\n",
    "X3NoYXBllIwIcG9zaXRpb26US2WGlIwJYXR0cl9zaXpllE5K/v///4aUjAZhdHRyX3iUjAZ3ZWln\n",
    "aHSUS2aGlIwGYXR0cl95lIwNcHJvZmlsZV92YWx1ZZRLZoaUaAp9lGgXSwV1jAphdHRyaWJ1dGVz\n",
    "lH2UKIwKVW5uYW1lZDogMJRLAowGZGVncmVllEsBjAhwb3NpdGlvbpRLAYwJbGFuZ3VhZ2VzlEsB\n",
    "jAZ3ZWlnaHSUSwKMDXByb2ZpbGVfdmFsdWWUSwJ1jAVtZXRhc5R9lCiMBG5hbWWUSwOMBWVtYWls\n",
    "lEsDdXViaBwpgZR9lChoH32UKIwKYXR0cl9jb2xvcpROSv7///+GlIwKYXR0cl9sYWJlbJROSv7/\n",
    "//+GlIwKYXR0cl9zaGFwZZROSv7///+GlIwJYXR0cl9zaXpllE5K/v///4aUjAZhdHRyX3iUjANY\n",
    "LjCUS2aGlIwGYXR0cl95lIwDWC43lEtlhpSMBWdyYXBolH2UaBdLBXVoM32UKGhLSwKMA1guNJRL\n",
    "AYwDWC41lEsBaE5LAYwDWC44lEsCjANYLjmUSwJ1aDt9lCiMA1guM5RLA4wDWC42lEsDdXViZXUu\"\"\""
   ]
  },
  {
   "cell_type": "code",
   "execution_count": 20,
   "metadata": {},
   "outputs": [
    {
     "data": {
      "text/plain": [
       "b'\\x80\\x04\\x95\\xf7\\x03\\x00\\x00\\x00\\x00\\x00\\x00}\\x94(\\x8c\\x0bauto_commit\\x94\\x88\\x8c\\x0bauto_sample\\x94\\x88\\x8c\\x12controlAreaVisible\\x94\\x88\\x8c\\x13savedWidgetGeometry\\x94CB\\x01\\xd9\\xd0\\xcb\\x00\\x03\\x00\\x00\\x00\\x00\\x00\\x90\\x00\\x00\\x00\\xbf\\x00\\x00\\x05\\xdb\\x00\\x00\\x03\\x9e\\x00\\x00\\x00\\x90\\x00\\x00\\x00\\xdb\\x00\\x00\\x05\\xdb\\x00\\x00\\x03\\x9e\\x00\\x00\\x00\\x00\\x00\\x00\\x00\\x00\\x06\\xc0\\x00\\x00\\x00\\x90\\x00\\x00\\x00\\xdb\\x00\\x00\\x05\\xdb\\x00\\x00\\x03\\x9e\\x94\\x8c\\tselection\\x94N\\x8c\\x11tooltip_shows_all\\x94\\x89\\x8c\\x0fvisual_settings\\x94}\\x94\\x8c\\x05graph\\x94}\\x94(\\x8c\\x0balpha_value\\x94K\\xa3\\x8c\\rclass_density\\x94\\x89\\x8c\\x11jitter_continuous\\x94\\x88\\x8c\\x0bjitter_size\\x94K\\x00\\x8c\\x13label_only_selected\\x94\\x89\\x8c\\x16orthonormal_regression\\x94\\x89\\x8c\\x0bpoint_width\\x94K\\x14\\x8c\\x0cshow_ellipse\\x94\\x89\\x8c\\tshow_grid\\x94\\x89\\x8c\\x0bshow_legend\\x94\\x88\\x8c\\rshow_reg_line\\x94\\x88u\\x8c\\x0b__version__\\x94K\\x05\\x8c\\x10context_settings\\x94]\\x94(\\x8c\\x15orangewidget.settings\\x94\\x8c\\x07Context\\x94\\x93\\x94)\\x81\\x94}\\x94(\\x8c\\x06values\\x94}\\x94(\\x8c\\nattr_color\\x94\\x8c\\tlanguages\\x94Ke\\x86\\x94\\x8c\\nattr_label\\x94\\x8c\\x04name\\x94Kg\\x86\\x94\\x8c\\nattr_shape\\x94\\x8c\\x08position\\x94Ke\\x86\\x94\\x8c\\tattr_size\\x94NJ\\xfe\\xff\\xff\\xff\\x86\\x94\\x8c\\x06attr_x\\x94\\x8c\\x06weight\\x94Kf\\x86\\x94\\x8c\\x06attr_y\\x94\\x8c\\rprofile_value\\x94Kf\\x86\\x94h\\n}\\x94h\\x17K\\x05u\\x8c\\nattributes\\x94}\\x94(\\x8c\\nUnnamed: 0\\x94K\\x02\\x8c\\x06degree\\x94K\\x01\\x8c\\x08position\\x94K\\x01\\x8c\\tlanguages\\x94K\\x01\\x8c\\x06weight\\x94K\\x02\\x8c\\rprofile_value\\x94K\\x02u\\x8c\\x05metas\\x94}\\x94(\\x8c\\x04name\\x94K\\x03\\x8c\\x05email\\x94K\\x03uubh\\x1c)\\x81\\x94}\\x94(h\\x1f}\\x94(\\x8c\\nattr_color\\x94NJ\\xfe\\xff\\xff\\xff\\x86\\x94\\x8c\\nattr_label\\x94NJ\\xfe\\xff\\xff\\xff\\x86\\x94\\x8c\\nattr_shape\\x94NJ\\xfe\\xff\\xff\\xff\\x86\\x94\\x8c\\tattr_size\\x94NJ\\xfe\\xff\\xff\\xff\\x86\\x94\\x8c\\x06attr_x\\x94\\x8c\\x03X.0\\x94Kf\\x86\\x94\\x8c\\x06attr_y\\x94\\x8c\\x03X.7\\x94Ke\\x86\\x94\\x8c\\x05graph\\x94}\\x94h\\x17K\\x05uh3}\\x94(hKK\\x02\\x8c\\x03X.4\\x94K\\x01\\x8c\\x03X.5\\x94K\\x01hNK\\x01\\x8c\\x03X.8\\x94K\\x02\\x8c\\x03X.9\\x94K\\x02uh;}\\x94(\\x8c\\x03X.3\\x94K\\x03\\x8c\\x03X.6\\x94K\\x03uubeu.'"
      ]
     },
     "execution_count": 20,
     "metadata": {},
     "output_type": "execute_result"
    }
   ],
   "source": [
    "import base64\n",
    "\n",
    "pickle_bytes = base64.b64decode(pickle_encoded)\n",
    "pickle_bytes"
   ]
  },
  {
   "cell_type": "code",
   "execution_count": 23,
   "metadata": {},
   "outputs": [
    {
     "data": {
      "text/plain": [
       "{'auto_commit': True,\n",
       " 'auto_sample': True,\n",
       " 'controlAreaVisible': True,\n",
       " 'savedWidgetGeometry': b'\\x01\\xd9\\xd0\\xcb\\x00\\x03\\x00\\x00\\x00\\x00\\x00\\x90\\x00\\x00\\x00\\xbf\\x00\\x00\\x05\\xdb\\x00\\x00\\x03\\x9e\\x00\\x00\\x00\\x90\\x00\\x00\\x00\\xdb\\x00\\x00\\x05\\xdb\\x00\\x00\\x03\\x9e\\x00\\x00\\x00\\x00\\x00\\x00\\x00\\x00\\x06\\xc0\\x00\\x00\\x00\\x90\\x00\\x00\\x00\\xdb\\x00\\x00\\x05\\xdb\\x00\\x00\\x03\\x9e',\n",
       " 'selection': None,\n",
       " 'tooltip_shows_all': False,\n",
       " 'visual_settings': {},\n",
       " 'graph': {'alpha_value': 163,\n",
       "  'class_density': False,\n",
       "  'jitter_continuous': True,\n",
       "  'jitter_size': 0,\n",
       "  'label_only_selected': False,\n",
       "  'orthonormal_regression': False,\n",
       "  'point_width': 20,\n",
       "  'show_ellipse': False,\n",
       "  'show_grid': False,\n",
       "  'show_legend': True,\n",
       "  'show_reg_line': True},\n",
       " '__version__': 5,\n",
       " 'context_settings': [<__main__.DummyOrangeWidget.settings.Context at 0x10f6b0fe0>,\n",
       "  <__main__.DummyOrangeWidget.settings.Context at 0x10fca0440>]}"
      ]
     },
     "execution_count": 23,
     "metadata": {},
     "output_type": "execute_result"
    }
   ],
   "source": [
    "import pickle\n",
    "import sys\n",
    "\n",
    "class DummyOrangeWidget:\n",
    "    class settings:\n",
    "        class Context:\n",
    "            pass\n",
    "\n",
    "sys.modules['orangewidget'] = DummyOrangeWidget\n",
    "sys.modules['orangewidget.settings'] = DummyOrangeWidget.settings\n",
    "\n",
    "data = pickle.loads(pickle_bytes)\n",
    "\n",
    "data"
   ]
  },
  {
   "cell_type": "code",
   "execution_count": null,
   "metadata": {},
   "outputs": [],
   "source": []
  }
 ],
 "metadata": {
  "kernelspec": {
   "display_name": "Python 3",
   "language": "python",
   "name": "python3"
  },
  "language_info": {
   "codemirror_mode": {
    "name": "ipython",
    "version": 3
   },
   "file_extension": ".py",
   "mimetype": "text/x-python",
   "name": "python",
   "nbconvert_exporter": "python",
   "pygments_lexer": "ipython3",
   "version": "3.12.3"
  }
 },
 "nbformat": 4,
 "nbformat_minor": 2
}
