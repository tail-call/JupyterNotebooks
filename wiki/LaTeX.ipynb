{
 "cells": [
  {
   "cell_type": "markdown",
   "metadata": {},
   "source": [
    "# LaTeX\n",
    "\n",
    "> \"All models are wrong, but some are useful.\" — George Box\n",
    "\n",
    "When doing a paper, you will need to typeset a bunch of formulæ.\n",
    "\n",
    "I love formulæ, and I want my formulæ to look as good as they possibly\n",
    "can.\n",
    "\n",
    "[LaTeX][1] is the ultimate formula typesetting solution for the most\n",
    "advanced (computer|data) scientists like me.\n",
    "\n",
    "It is supported in Jupyter Notebooks, powered by a wonderful [KaTeX][2]\n",
    "library.\n",
    "\n",
    "Just look at this:\n",
    "\n",
    "$$\n",
    "f(x) = \\int_{-\\infty}^\\infty\n",
    "    f(\\hat\\xi)\\,e^{2 \\pi i \\xi x}\n",
    "    \\,d\\xi\n",
    "$$\n",
    "\n",
    "This example was adapted from the KaTeX's website front page, and I\n",
    "don't really know what it means but it looks pretty.\n",
    "\n",
    "<!-- [DONE] Also I couldn't get to position the hat over the *f* correctly, so fixing this is left as an excercise for the reader. -->\n",
    "\n",
    "As a challenge, I will typeset some formulæ from the legendary\n",
    "[Hundred-Page Machine Learning Book][3] by [Andriy Burkov][4], the\n",
    "phenomenal data scientist of our age. This, as I hope, will enhance\n",
    "my formula typesetting skills.\n",
    "\n",
    "[1]: https://www.latex-project.org/\n",
    "[2]: https://katex.org/\n",
    "[3]: https://themlbook.com/\n",
    "[4]: https://github.com/aburkov"
   ]
  },
  {
   "cell_type": "markdown",
   "metadata": {},
   "source": [
    "## First Few\n",
    "\n",
    "In my edition of the book, the first centered formula is that of the\n",
    "equation of the hyperplane:\n",
    "\n",
    "$$\n",
    "\\textbf{wx} - b = 0\n",
    "$$\n",
    "\n",
    "By convention, in this book vectors are typeset using the **bold**\n",
    "font. In LaTeX, this can be achieved using the `\\textbf{macro}`.\n",
    "\n",
    "Next formula, the formula of the predicted label $y$ for some feature\n",
    "vector $\\textbf{x}$, includes a function name typeset in the upright\n",
    "font, unlike regular math symbols that are typeset in *italics*. For\n",
    "this we will need `\\mathrm{macro}`:\n",
    "\n",
    "$$\n",
    "y = \\mathrm{sign}(\\textbf{wx} - b)\n",
    "$$\n",
    "\n",
    "Next formula is even cooler: it has tiny asterisks over some symbols.\n",
    "By putting a `^` in front of anything, we can render it in superscript\n",
    "which lets us achieve similar effect:\n",
    "\n",
    "$$\n",
    "f(\\textbf{x}) = \\mathrm{sign}(\\textbf{w} ^* \\textbf{x} - b ^*)\n",
    "$$"
   ]
  },
  {
   "cell_type": "markdown",
   "metadata": {
    "vscode": {
     "languageId": "plaintext"
    }
   },
   "source": [
    "## On Capitalism\n",
    "\n",
    "A notation analogous to capital sigma is the *capi talpino tation*.\n",
    "For expressing a formula from 2.1.3 \"Capital Pi Notation\", we will\n",
    "employ `\\prod`, `\\stackrel`, `\\text`, and `\\cdot`:\n",
    "\n",
    "$$\n",
    "\\prod_{i=1}^n x_i\n",
    "  \\stackrel{\\text{def}}{=}\n",
    "x_1 \\cdot x_2 \\cdot \\ldots \\cdot x_{n - 1} \\cdot x_n\n",
    "$$"
   ]
  },
  {
   "cell_type": "markdown",
   "metadata": {},
   "source": [
    "## Derivatives\n",
    "\n",
    "First derivative:\n",
    "\n",
    "$$\\frac{df(x)}{dx}, \\frac{d}{dx}f(x), \\frac{df}{dx}$$\n",
    "\n",
    "Second derivative:\n",
    "\n",
    "$$\\frac{d^2f(x)}{dx^2}, \\frac{d^2}{dx^2}f(x), \\frac{d^2f}{dx^2}$$\n",
    "\n",
    "`\\partial` derivative:\n",
    "\n",
    "$$\\frac{\\partial f}{\\partial x}$$\n",
    "\n",
    "Mixed partial derivative:\n",
    "\n",
    "$$\\frac{\\partial^2 f}{\\partial x \\partial y}$$\n",
    "\n"
   ]
  },
  {
   "cell_type": "markdown",
   "metadata": {},
   "source": [
    "## Matrices\n",
    "\n",
    "Now the hot stuff: *`\\bmatrix` multiplication.*\n",
    "\n",
    "$$\n",
    "\\textbf{W} \\textbf{x} = \\begin{bmatrix}\n",
    "  w^{(1,1)} & w^{(1,2)} & w^{(1,3)} \\\\\n",
    "  w^{(2,1)} & w^{(2,2)} & w^{(2,3)}\n",
    "\\end{bmatrix} \\begin{bmatrix}\n",
    "  x^{(1)} \\\\\n",
    "  x^{(2)} \\\\\n",
    "  x^{(3)}\n",
    "\\end{bmatrix} \\\\\n",
    "\\stackrel{\\mathrm{def}}{=} \\begin{bmatrix}\n",
    "  w^{(1,1)}x^{(1)} + w^{(1,2)}x^{(2)} + w^{(1,3)}x^{(3)} \\\\\n",
    "  w^{(2,1)}x^{(1)} + w^{(2,2)}x^{(2)} + w^{(2,3)}x^{(3)}\n",
    "\\end{bmatrix} \\\\\n",
    "= \\begin{bmatrix}\n",
    "  \\textbf{w}^{(1)} \\textbf{x} \\\\\n",
    "  \\textbf{w}^{(2)} \\textbf{x}\n",
    "\\end{bmatrix}\n",
    "$$"
   ]
  },
  {
   "cell_type": "markdown",
   "metadata": {},
   "source": [
    "# **Ready for More?**\n",
    "\n",
    "_Sign up for my \"LaTeX for the Life\" newsletter where I will tell you\n",
    "all the things you need to know about the LaTeX formulæ and other\n",
    "advanced scientific topics. It is available for free online with a\n",
    "premium subscription option. Link is in the desciption._"
   ]
  },
  {
   "cell_type": "markdown",
   "metadata": {},
   "source": []
  }
 ],
 "metadata": {
  "language_info": {
   "name": "python"
  }
 },
 "nbformat": 4,
 "nbformat_minor": 2
}
