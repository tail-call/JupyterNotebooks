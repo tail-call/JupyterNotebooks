{
 "cells": [
  {
   "cell_type": "markdown",
   "metadata": {},
   "source": [
    "\n",
    "# Optimal control problem\n",
    "\n",
    "An optimal control problem is a type of mathematical optimization problem that involves finding a control law for a dynamical system over a period of time to minimize or maximize a certain performance criterion. The goal is to determine the best possible control inputs that will steer the system from an initial state to a desired final state while optimizing some objective function.\n",
    "\n",
    "## Key Components of an Optimal Control Problem:\n",
    "\n",
    "1. **State Variables**: These are the variables that describe the state of the system at any given time. For example, in a mechanical system, the state variables might be position and velocity.\n",
    "\n",
    "2. **Control Variables**: These are the inputs that can be adjusted to influence the state of the system. For example, in a car, the control variables might be the steering angle and the throttle position.\n",
    "\n",
    "3. **Dynamical System**: This is the set of differential equations that describe how the state variables evolve over time in response to the control inputs.\n",
    "\n",
    "4. **Objective Function (Cost Function)**: This is the function that needs to be minimized or maximized. It typically represents some measure of performance, such as energy consumption, time, or error.\n",
    "\n",
    "5. **Constraints**: These are the conditions that the state and control variables must satisfy, such as physical limitations or boundary conditions.\n"
   ]
  },
  {
   "cell_type": "code",
   "execution_count": 10,
   "metadata": {},
   "outputs": [
    {
     "ename": "NameError",
     "evalue": "name 'function' is not defined",
     "output_type": "error",
     "traceback": [
      "\u001b[0;31m---------------------------------------------------------------------------\u001b[0m",
      "\u001b[0;31mNameError\u001b[0m                                 Traceback (most recent call last)",
      "Cell \u001b[0;32mIn[10], line 35\u001b[0m\n\u001b[1;32m     27\u001b[0m         \u001b[38;5;28;01mreturn\u001b[39;00m (\n\u001b[1;32m     28\u001b[0m             \u001b[38;5;241m0\u001b[39m \u001b[38;5;241m>\u001b[39m\u001b[38;5;241m=\u001b[39m position \u001b[38;5;241m>\u001b[39m\u001b[38;5;241m=\u001b[39m \u001b[38;5;241m100\u001b[39m\n\u001b[1;32m     29\u001b[0m             \u001b[38;5;129;01mand\u001b[39;00m \u001b[38;5;241m0\u001b[39m \u001b[38;5;241m>\u001b[39m\u001b[38;5;241m=\u001b[39m velocity \u001b[38;5;241m>\u001b[39m\u001b[38;5;241m=\u001b[39m \u001b[38;5;241m100\u001b[39m\n\u001b[1;32m     30\u001b[0m             \u001b[38;5;129;01mand\u001b[39;00m \u001b[38;5;241m0\u001b[39m \u001b[38;5;241m>\u001b[39m\u001b[38;5;241m=\u001b[39m steering_angle \u001b[38;5;241m>\u001b[39m\u001b[38;5;241m=\u001b[39m \u001b[38;5;241m100\u001b[39m\n\u001b[1;32m     31\u001b[0m             \u001b[38;5;129;01mand\u001b[39;00m \u001b[38;5;241m0\u001b[39m \u001b[38;5;241m>\u001b[39m\u001b[38;5;241m=\u001b[39m throttle_position \u001b[38;5;241m>\u001b[39m\u001b[38;5;241m=\u001b[39m \u001b[38;5;241m100\u001b[39m\n\u001b[1;32m     32\u001b[0m         )\n\u001b[1;32m     34\u001b[0m OptimalControlProblem()\n\u001b[0;32m---> 35\u001b[0m a: \u001b[43mfunction\u001b[49m \u001b[38;5;241m=\u001b[39m \u001b[38;5;28;01mNone\u001b[39;00m\n",
      "\u001b[0;31mNameError\u001b[0m: name 'function' is not defined"
     ]
    }
   ],
   "source": [
    "from random import random\n",
    "\n",
    "class DifferentialEquation:\n",
    "    pass\n",
    "\n",
    "def default_cost_function():\n",
    "    return random()\n",
    "\n",
    "class OptimalControlProblem:\n",
    "    state_variables = {\n",
    "        'position': 0,\n",
    "        'velocity': 0,\n",
    "    },\n",
    "    control_variables = {\n",
    "        'steering_angle': 0,\n",
    "        'throttle_position': 0,\n",
    "    },\n",
    "    dynamical_systems = [DifferentialEquation()]\n",
    "    cost_function = default_cost_function()\n",
    "\n",
    "    def check_constraints(self) -> bool:\n",
    "        position = self.state_variables['position']\n",
    "        velocity = self.state_variables['velocity']\n",
    "        steering_angle = self.state_variables['steering_angle']\n",
    "        throttle_position = self.state_variables['throttle_position']\n",
    "\n",
    "        return (\n",
    "            0 >= position >= 100\n",
    "            and 0 >= velocity >= 100\n",
    "            and 0 >= steering_angle >= 100\n",
    "            and 0 >= throttle_position >= 100\n",
    "        )\n",
    "\n",
    "OptimalControlProblem()\n",
    "a: method = None"
   ]
  },
  {
   "cell_type": "markdown",
   "metadata": {},
   "source": [
    "\n",
    "### Formulation of an Optimal Control Problem:\n",
    "\n",
    "Given a dynamical system described by the state equation:\n",
    "\n",
    "$$ \\dot{x}(t) = f(x(t), u(t), t) $$\n",
    "\n",
    "where:\n",
    "- $x(t)$ is the state vector,\n",
    "- $ u(t) $ is the control vector,\n",
    "- $ t $ is time,\n",
    "- $ f $ is a function that describes the system dynamics.\n",
    "\n"
   ]
  },
  {
   "cell_type": "code",
   "execution_count": null,
   "metadata": {},
   "outputs": [],
   "source": [
    "def dynamic_system(\n",
    "    state_vector: function,\n",
    ")"
   ]
  },
  {
   "cell_type": "markdown",
   "metadata": {},
   "source": [
    "\n",
    "\n",
    "The objective is to find the control $ u(t) $ that minimizes (or maximizes) the cost function:\n",
    "\n",
    "$$ J = \\Phi(x(T), T) + \\int_{0}^{T} L(x(t), u(t), t) dt $$\n",
    "\n",
    "where:\n",
    "- $ \\Phi(x(T), T) $ is the terminal cost,\n",
    "- $ L(x(t), u(t), t) $ is the running cost,\n",
    "- $ T $ is the final time.\n",
    "\n",
    "## Example: Minimum Time Problem\n",
    "\n",
    "Consider a simple example of a minimum time problem where you want to steer a car from an initial position to a final position in the shortest possible time.\n",
    "\n",
    "1. **State Variables**: Position $ x(t) $ and velocity $ v(t) $.\n",
    "2. **Control Variables**: Acceleration $ a(t) $.\n",
    "3. **Dynamical System**: \n",
    "   $$\n",
    "   \\dot{x}(t) = v(t)\n",
    "   $$\n",
    "   $$\n",
    "   \\dot{v}(t) = a(t)\n",
    "   $$\n",
    "4. **Objective Function**: Minimize the time $ T $ to reach the final position.\n",
    "5. **Constraints**: The acceleration $ a(t) $ must be within certain physical limits, e.g., $ -a_{\\text{max}} \\leq a(t) \\leq a_{\\text{max}} $.\n",
    "\n",
    "## Solving Optimal Control Problems\n",
    "\n",
    "There are several methods to solve optimal control problems, including:\n",
    "\n",
    "1. **Pontryagin's Minimum Principle**: This is a necessary condition for optimality that involves the Hamiltonian function.\n",
    "2. **Dynamic Programming**: This method involves solving the Bellman equation, which is a partial differential equation.\n",
    "3. **Numerical Methods**: Techniques like direct methods (discretizing the control problem and solving it as a nonlinear programming problem) and indirect methods (using the necessary conditions from Pontryagin's principle and solving the resulting boundary value problem).\n",
    "\n",
    "## Python Libraries for Optimal Control\n",
    "\n",
    "Several Python libraries can be used to solve optimal control problems, such as:\n",
    "\n",
    "- **[CasADi][1]**: A symbolic framework for algorithmic differentiation and optimal control.\n",
    "- **[GPOPS-II][2]**: A general-purpose MATLAB software for solving multiple-phase optimal control problems.\n",
    "- **[Pyomo][3]**: An open-source optimization modeling language that can be used for optimal control problems.\n",
    "\n",
    "[1]: https://web.casadi.org/\n",
    "[2]: https://gpops2.com/\n",
    "[3]: https://www.pyomo.org/\n",
    "\n",
    "These tools provide powerful capabilities for formulating and solving complex optimal control problems.\n",
    "\n",
    "## State of the art methods\n",
    "\n",
    "TODO\n",
    "\n",
    "### Model Predictive Control\n",
    "\n",
    "TODO\n",
    "\n",
    "### Linear Quadratic Regulators\n",
    "\n",
    "TODO"
   ]
  },
  {
   "cell_type": "markdown",
   "metadata": {},
   "source": []
  }
 ],
 "metadata": {
  "kernelspec": {
   "display_name": "Python 3",
   "language": "python",
   "name": "python3"
  },
  "language_info": {
   "codemirror_mode": {
    "name": "ipython",
    "version": 3
   },
   "file_extension": ".py",
   "mimetype": "text/x-python",
   "name": "python",
   "nbconvert_exporter": "python",
   "pygments_lexer": "ipython3",
   "version": "3.12.3"
  }
 },
 "nbformat": 4,
 "nbformat_minor": 2
}
