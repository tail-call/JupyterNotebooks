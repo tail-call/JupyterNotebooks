{
 "cells": [
  {
   "cell_type": "markdown",
   "metadata": {},
   "source": [
    "# Какая-то математика\n",
    "\n",
    "См. также [LaTeX.ipynb](LaTeX.ipynb#First+Few)"
   ]
  },
  {
   "cell_type": "markdown",
   "metadata": {},
   "source": [
    "## Транспонирование"
   ]
  },
  {
   "cell_type": "markdown",
   "metadata": {},
   "source": [
    "\n",
    "- **Транспонирование** это отражение относительно главной диагонали. См. [1], рис. 2.1:\n",
    "\n",
    "$$\n",
    "\\textbf{A} = \\begin{bmatrix}\n",
    "A_{1,1} A_{1,2} \\\\\n",
    "A_{2,1} A_{2,2} \\\\\n",
    "A_{3,1} A_{3,2}\n",
    "\\end{bmatrix} \\Rightarrow A^T = \\begin{bmatrix}\n",
    "A_{1,1} A_{1,2} A_{3,1} \\\\\n",
    "A_{1,1} A_{1,2} A_{3,2}\n",
    "\\end{bmatrix}\n",
    "$$"
   ]
  },
  {
   "cell_type": "markdown",
   "metadata": {},
   "source": [
    "## Обратная матрица"
   ]
  },
  {
   "cell_type": "markdown",
   "metadata": {},
   "source": [
    "\n",
    "- Матрица, обратная к $\\textbf{A}$, обозначается $\\textbf{A}^{-1}$.\n",
    "- $\\forall \\textbf{A}, \\textbf{A}^{-1}$ справедливо соотношение:\n",
    "\n",
    "$$\n",
    "\\textbf{A}^{-1} \\textbf{A} = \\textbf{I}_n,\n",
    "$$\n",
    "\n",
    "где $\\textbf{I}_n$ — единичная матрица с размером $n$.\n",
    "\n",
    "Преобразуем это равенство:\n",
    "\n",
    "$$\n",
    "\\textbf{A}\\textbf{x} = \\textbf{b}\n",
    "$$\n",
    "\n",
    "$$\n",
    "\\textbf{A}^{-1}\\textbf{A}\\textbf{x} = \\textbf{A}^{-1}\\textbf{b}\n",
    "$$\n",
    "\n",
    "$$\n",
    "\\textbf{I}_n\\textbf{x} = \\textbf{A}^{-1}\\textbf{b}\n",
    "$$\n",
    "\n",
    "$$\n",
    "\\textbf{x} = \\textbf{A}^{-1}\\textbf{b} \\quad \\text{(F1)}\n",
    "$$\n",
    "\n",
    "- $\\exists \\textbf{A}^{-1}$ iff (F1) имеет единственное решение $\\forall \\textbf{b}$.\n",
    "- При этом если у (F1) больше одного решения, то число его решений всегда $\\infin$.\n",
    "\n",
    "- ⊐$\\textbf{x}, \\textbf{y}$ — решения (F1), тогда:\n",
    "\n",
    "$$\n",
    "\\textbf{z} = \\alpha \\textbf{x} + (1 - \\alpha)\\textbf{y}\n",
    "$$\n",
    "\n",
    "тоже решение $\\forall \\alpha \\in \\mathbb{R}$."
   ]
  },
  {
   "cell_type": "markdown",
   "metadata": {},
   "source": []
  },
  {
   "cell_type": "markdown",
   "metadata": {},
   "source": []
  },
  {
   "cell_type": "markdown",
   "metadata": {},
   "source": [
    "## Источники"
   ]
  },
  {
   "cell_type": "markdown",
   "metadata": {},
   "source": [
    "\n",
    "1. Гудфеллоу, \"Глубокое Обучение\", 2018"
   ]
  },
  {
   "cell_type": "markdown",
   "metadata": {},
   "source": []
  }
 ],
 "metadata": {
  "language_info": {
   "name": "python"
  }
 },
 "nbformat": 4,
 "nbformat_minor": 2
}
