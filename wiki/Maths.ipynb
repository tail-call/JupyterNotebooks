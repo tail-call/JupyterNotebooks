{
 "cells": [
  {
   "cell_type": "markdown",
   "metadata": {},
   "source": [
    "# Какая-то математика\n",
    "\n",
    "См. также [LaTeX.ipynb](LaTeX.ipynb#First+Few)"
   ]
  },
  {
   "cell_type": "markdown",
   "metadata": {},
   "source": [
    "## Транспонирование"
   ]
  },
  {
   "cell_type": "markdown",
   "metadata": {},
   "source": [
    "\n",
    "- **Транспонирование** это отражение относительно главной диагонали. См. [1], рис. 2.1:\n",
    "\n",
    "$$\n",
    "\\textbf{A} = \\begin{bmatrix}\n",
    "A_{1,1} A_{1,2} \\\\\n",
    "A_{2,1} A_{2,2} \\\\\n",
    "A_{3,1} A_{3,2}\n",
    "\\end{bmatrix} \\Rightarrow A^T = \\begin{bmatrix}\n",
    "A_{1,1} A_{1,2} A_{3,1} \\\\\n",
    "A_{1,1} A_{1,2} A_{3,2}\n",
    "\\end{bmatrix}\n",
    "$$"
   ]
  },
  {
   "cell_type": "markdown",
   "metadata": {},
   "source": [
    "## Обратная матрица"
   ]
  },
  {
   "cell_type": "markdown",
   "metadata": {},
   "source": [
    "\n",
    "- Матрица, обратная к $\\textbf{A}$, обозначается $\\textbf{A}^{-1}$.\n",
    "- $\\forall \\textbf{A}, \\textbf{A}^{-1}$ справедливо соотношение:\n",
    "\n",
    "$$\n",
    "\\textbf{A}^{-1} \\textbf{A} = \\textbf{I}_n,\n",
    "$$\n",
    "\n",
    "где $\\textbf{I}_n$ — единичная матрица с размером $n$.\n",
    "\n",
    "Преобразуем это равенство:\n",
    "\n",
    "$$\n",
    "\\textbf{A}\\textbf{x} = \\textbf{b}\n",
    "$$\n",
    "\n",
    "$$\n",
    "\\textbf{A}^{-1}\\textbf{A}\\textbf{x} = \\textbf{A}^{-1}\\textbf{b}\n",
    "$$\n",
    "\n",
    "$$\n",
    "\\textbf{I}_n\\textbf{x} = \\textbf{A}^{-1}\\textbf{b}\n",
    "$$\n",
    "\n",
    "$$\n",
    "\\textbf{x} = \\textbf{A}^{-1}\\textbf{b} \\quad \\text{(F1)}\n",
    "$$\n",
    "\n",
    "- $\\exists \\textbf{A}^{-1}$ iff (F1) имеет единственное решение $\\forall \\textbf{b}$.\n",
    "- При этом если у (F1) больше одного решения, то число его решений всегда $\\infin$.\n",
    "\n",
    "- ⊐$\\textbf{x}, \\textbf{y}$ — решения (F1), тогда:\n",
    "\n",
    "$$\n",
    "\\textbf{z} = \\alpha \\textbf{x} + (1 - \\alpha)\\textbf{y}\n",
    "$$\n",
    "\n",
    "тоже решение $\\forall \\alpha \\in \\mathbb{R}$."
   ]
  },
  {
   "cell_type": "markdown",
   "metadata": {},
   "source": [
    "## Условная вероятность\n",
    "\n",
    "$$\n",
    "P(\\mathrm{y} = y | \\mathrm{x} = x) =\n",
    "  \\frac{P(\\mathrm{y} = y, \\mathrm{x} = x)}{P(\\mathrm{x} = x)}\n",
    "$$\n",
    "\n",
    "- Определена только когда $P(\\mathrm{x} = x) > 0$"
   ]
  },
  {
   "cell_type": "markdown",
   "metadata": {},
   "source": [
    "## Цепное правило для вероятностей\n",
    "\n",
    "- Любое совместное распределение вероятности нескольких случайных\n",
    "  величин можно разложить в произведение условных вероятностей одной\n",
    "  величины:\n",
    "\n",
    "$$\n",
    "P(\\mathrm{x}^{(1)}, …, \\mathrm{x}^{(n)}) =\n",
    "  P(\\mathrm{x}^{(1)})\n",
    "  \\prod_{i=2}^n\n",
    "  P(\\mathrm{x}^{(i)} | \\mathrm{x}^{(1)}, …, \\mathrm{x}^{(i - 1)})\n",
    "$$\n",
    "\n",
    "- Таким образом:\n",
    "\n",
    "$$\n",
    "P(\\mathrm{a}, \\mathrm{b}, \\mathrm{c}) =\n",
    "  P(\\mathrm{a} | \\mathrm{b}, \\mathrm{c}) P(\\mathrm{b}, \\mathrm{c})\n",
    "$$\n",
    "\n",
    "$$\n",
    "P(\\mathrm{b}, \\mathrm{c}) = P(\\mathrm{b} | \\mathrm{c})P(\\mathrm{c})\n",
    "$$\n",
    "\n",
    "$$\n",
    "P(\\mathrm{a}, \\mathrm{b}, \\mathrm{c}) =\n",
    "   P(\\mathrm{a} | \\mathrm{b}, \\mathrm{c})\n",
    "   P(\\mathrm{b} | \\mathrm{c})\n",
    "   P(\\mathrm{c})\n",
    "$$"
   ]
  },
  {
   "cell_type": "markdown",
   "metadata": {},
   "source": [
    "## Нормальное распределение\n",
    "\n",
    "$$\n",
    "\\mathcal{N}(x; \\mu, \\sigma^2) =\n",
    "  \\sqrt{\\frac{1}{2 \\pi \\sigma^2}}\n",
    "  e^{-\\frac{1}{2\\sigma^2} (x - \\mu)^2}\n",
    "$$\n",
    "\n",
    "- Согласно **центральной предельной теореме**, $\\sum$ многих независимых\n",
    "  случайных величин аппроксимируется нормальным распределением."
   ]
  },
  {
   "cell_type": "markdown",
   "metadata": {},
   "source": [
    "## Бернулли распределение\n",
    "\n",
    "$$\n",
    "P(\\mathrm{x} = 1) = \\phi\n",
    "$$\n",
    "\n",
    "$$\n",
    "P(\\mathrm{x} = 0) = 1 - \\phi\n",
    "$$\n",
    "\n",
    "$$\n",
    "P(\\mathrm{x} = x) = \\phi^x(1 - \\phi)^{1-x}\n",
    "$$\n",
    "\n",
    "- Математическое ожидание:\n",
    "\n",
    "$$\n",
    "\\mathbb{E}_{x}[\\mathrm{x}] = \\phi\n",
    "$$\n",
    "\n",
    "- Дисперсия:\n",
    "\n",
    "$$\n",
    "\\mathrm{Var}_x(\\mathrm{x}) = \\phi(1 - \\phi)\n",
    "$$"
   ]
  },
  {
   "cell_type": "markdown",
   "metadata": {},
   "source": [
    "## Логистическая сигмоида\n",
    "\n",
    "$$\n",
    "\\sigma(x) = \\frac{1}{1 + e^{-x}}\n",
    "$$"
   ]
  },
  {
   "cell_type": "code",
   "execution_count": 8,
   "metadata": {},
   "outputs": [
    {
     "data": {
      "image/png": "[encoded data removed]",
      "text/plain": [
       "<Figure size 640x480 with 1 Axes>"
      ]
     },
     "metadata": {},
     "output_type": "display_data"
    }
   ],
   "source": [
    "import matplotlib.pyplot as plt\n",
    "import numpy as np\n",
    "\n",
    "def sigmoid(x):\n",
    "    return 1 / (1 + np.exp(-x))\n",
    "\n",
    "x = np.linspace(-10, 10, 200)\n",
    "\n",
    "y = sigmoid(x)\n",
    "\n",
    "plt.plot(x, y)\n",
    "plt.title('Сигмоида')\n",
    "plt.xlabel('x')\n",
    "plt.ylabel('y')\n",
    "plt.grid(True)\n",
    "plt.show()"
   ]
  },
  {
   "cell_type": "markdown",
   "metadata": {},
   "source": [
    "## Источники"
   ]
  },
  {
   "cell_type": "markdown",
   "metadata": {},
   "source": [
    "\n",
    "1. Гудфеллоу, \"Глубокое Обучение\", 2018"
   ]
  },
  {
   "cell_type": "markdown",
   "metadata": {},
   "source": []
  }
 ],
 "metadata": {
  "kernelspec": {
   "display_name": "Python 3",
   "language": "python",
   "name": "python3"
  },
  "language_info": {
   "codemirror_mode": {
    "name": "ipython",
    "version": 3
   },
   "file_extension": ".py",
   "mimetype": "text/x-python",
   "name": "python",
   "nbconvert_exporter": "python",
   "pygments_lexer": "ipython3",
   "version": "3.12.3"
  }
 },
 "nbformat": 4,
 "nbformat_minor": 2
}
