{
 "cells": [
  {
   "cell_type": "markdown",
   "id": "3601460f",
   "metadata": {},
   "source": [
    "# Методы исследования характеристических свойств нейронных сетей с применением теоретико-игрового подхода\n",
    "\n",
    "- **Теория**: И.В.Томилов ivan-tomilov3@yandex.ru\n",
    "- **Реализация**: М.А.Зайцева maria@tail-call.ru\n",
    "- **Поддержка CUDA**: А.Е.Григорьева admin@linkennt.ru\n",
    "- **Ревизия**: 7\n",
    "\n",
    "- **Другие ревизии**: [ссылка](https://disk.yandex.ru/d/aZozDpBlzh_z1A)\n",
    "<!-- please do not append text into this block -->"
   ]
  },
  {
   "cell_type": "markdown",
   "id": "3e53163b",
   "metadata": {},
   "source": [
    "## 0. Изменения\n",
    "\n",
    "* Ещё больше кода перенесено в библиотеку"
   ]
  },
  {
   "cell_type": "markdown",
   "id": "39a4bc90",
   "metadata": {},
   "source": [
    "## 1. Настройки"
   ]
  },
  {
   "cell_type": "code",
   "execution_count": null,
   "id": "30fabc90",
   "metadata": {
    "scrolled": true,
    "vscode": {
     "languageId": "shellscript"
    }
   },
   "outputs": [],
   "source": [
    "## 1.1 Install dependencies\n",
    "\n",
    "# pip install -r requirements.txt"
   ]
  },
  {
   "cell_type": "code",
   "execution_count": null,
   "id": "bedf16ba",
   "metadata": {},
   "outputs": [],
   "source": [
    "## 1.2 Import common library\n",
    "\n",
    "import cgtnnlib.common as common"
   ]
  },
  {
   "cell_type": "markdown",
   "id": "582f0286",
   "metadata": {},
   "source": [
    "## 2. Обучение"
   ]
  },
  {
   "cell_type": "code",
   "execution_count": null,
   "id": "28c4d097",
   "metadata": {},
   "outputs": [],
   "source": [
    "\n",
    "# 5.3. Training\n",
    "\n",
    "common.train_main()\n",
    "common.report.save()\n",
    "\n",
    "print(\"Done!\")"
   ]
  },
  {
   "cell_type": "markdown",
   "id": "989ea9a9",
   "metadata": {},
   "source": [
    "## 3. Валидация "
   ]
  },
  {
   "cell_type": "code",
   "execution_count": null,
   "id": "f42862da",
   "metadata": {},
   "outputs": [],
   "source": [
    "\n",
    "# 6.2. Evaluation\n",
    "\n",
    "common.evaluate_main()\n",
    "common.report.save()\n",
    "\n",
    "print(\"Done!\")"
   ]
  },
  {
   "cell_type": "markdown",
   "id": "6c613fb6",
   "metadata": {},
   "source": [
    "## 7. Анализ данных"
   ]
  },
  {
   "cell_type": "code",
   "execution_count": 1,
   "id": "a60f12cb",
   "metadata": {},
   "outputs": [],
   "source": [
    "from cgtnnlib.analyze import analyze_main\n",
    "\n",
    "analyze_main(report_path='./report/report.json')"
   ]
  }
 ],
 "metadata": {
  "jupytext": {
   "cell_metadata_filter": "-all",
   "encoding": "# coding: utf-8",
   "executable": "/usr/bin/env python",
   "main_language": "python",
   "notebook_metadata_filter": "-all"
  },
  "kernelspec": {
   "display_name": "Python 3",
   "language": "python",
   "name": "python3"
  },
  "language_info": {
   "codemirror_mode": {
    "name": "ipython",
    "version": 3
   },
   "file_extension": ".py",
   "mimetype": "text/x-python",
   "name": "python",
   "nbconvert_exporter": "python",
   "pygments_lexer": "ipython3",
   "version": "3.12.3"
  }
 },
 "nbformat": 4,
 "nbformat_minor": 5
}
