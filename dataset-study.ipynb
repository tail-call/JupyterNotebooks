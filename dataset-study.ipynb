{
 "cells": [
  {
   "cell_type": "markdown",
   "metadata": {},
   "source": [
    "# Описания датасетов\n"
   ]
  },
  {
   "cell_type": "code",
   "execution_count": 1,
   "metadata": {},
   "outputs": [
    {
     "data": {
      "text/plain": [
       "<module 'pandas' from '/Users/scales/.pyenv/versions/3.12.3/lib/python3.12/site-packages/pandas/__init__.py'>"
      ]
     },
     "execution_count": 1,
     "metadata": {},
     "output_type": "execute_result"
    }
   ],
   "source": [
    "import pandas as pd\n",
    "pd"
   ]
  },
  {
   "cell_type": "markdown",
   "metadata": {},
   "source": [
    "\n",
    "## Датасет №1: wisc_bc_data.csv\n",
    "\n",
    "- **Источник:** [UCI Machine Learning Repository](https://archive.ics.uci.edu/dataset/17/breast+cancer+wisconsin+diagnostic)\n",
    "- **Примеры:** 569\n",
    "- **Признаки:** 30\n",
    "\n",
    "Примеры получены из оцифрованных изображений тонкоигольных аспиратов образований молочной железы. Примеры отражают характеристики клеточных ядер, такие как радиус, текстура, периметр, площадь, гладкость и другие. С каждым примером ассоциирован диагноз, относящий исследованную опухоль к злокачественной (M, 212 примеров), либо к доброкачественной (B, 357 примеров).\n",
    "\n",
    "|       |               id |   radius_mean |   texture_mean |   perimeter_mean |   area_mean |   smoothness_mean |   compactness_mean |   concavity_mean |   points_mean |   symmetry_mean |   dimension_mean |   radius_se |   texture_se |   perimeter_se |   area_se |   smoothness_se |   compactness_se |   concavity_se |    points_se |   symmetry_se |   dimension_se |   radius_worst |   texture_worst |   perimeter_worst |   area_worst |   smoothness_worst |   compactness_worst |   concavity_worst |   points_worst |   symmetry_worst |   dimension_worst |\n",
    "|:------|-----------------:|--------------:|---------------:|-----------------:|------------:|------------------:|-------------------:|-----------------:|--------------:|----------------:|-----------------:|------------:|-------------:|---------------:|----------:|----------------:|-----------------:|---------------:|-------------:|--------------:|---------------:|---------------:|----------------:|------------------:|-------------:|-------------------:|--------------------:|------------------:|---------------:|-----------------:|------------------:|\n",
    "| count |    569           |     569       |      569       |          569     |     569     |       569         |        569         |      569         |   569         |     569         |     569          |  569        |   569        |      569       |  569      |    569          |      569         |    569         | 569          |  569          |   569          |      569       |       569       |          569      |      569     |        569         |          569        |        569        |    569         |      569         |       569         |\n",
    "| mean  |      3.03718e+07 |      14.1273  |       19.2896  |           91.969 |     654.889 |         0.0963603 |          0.104341  |        0.0887993 |     0.0489191 |       0.181162  |       0.0627976  |    0.405172 |     1.21685  |        2.86606 |   40.3371 |      0.00704098 |        0.0254781 |      0.0318937 |   0.0117961  |    0.0205423  |     0.0037949  |       16.2692  |        25.6772  |          107.261  |      880.583 |          0.132369  |            0.254265 |          0.272188 |      0.114606  |        0.290076  |         0.0839458 |\n",
    "| std   |      1.25021e+08 |       3.52405 |        4.30104 |           24.299 |     351.914 |         0.0140641 |          0.0528128 |        0.0797198 |     0.0388028 |       0.0274143 |       0.00706036 |    0.277313 |     0.551648 |        2.02185 |   45.491  |      0.00300252 |        0.0179082 |      0.0301861 |   0.00617029 |    0.00826637 |     0.00264607 |        4.83324 |         6.14626 |           33.6025 |      569.357 |          0.0228324 |            0.157336 |          0.208624 |      0.0657323 |        0.0618675 |         0.0180613 |\n",
    "| min   |   8670           |       6.981   |        9.71    |           43.79  |     143.5   |         0.05263   |          0.01938   |        0         |     0         |       0.106     |       0.04996    |    0.1115   |     0.3602   |        0.757   |    6.802  |      0.001713   |        0.002252  |      0         |   0          |    0.007882   |     0.0008948  |        7.93    |        12.02    |           50.41   |      185.2   |          0.07117   |            0.02729  |          0        |      0         |        0.1565    |         0.05504   |\n",
    "| 25%   | 869218           |      11.7     |       16.17    |           75.17  |     420.3   |         0.08637   |          0.06492   |        0.02956   |     0.02031   |       0.1619    |       0.0577     |    0.2324   |     0.8339   |        1.606   |   17.85   |      0.005169   |        0.01308   |      0.01509   |   0.007638   |    0.01516    |     0.002248   |       13.01    |        21.08    |           84.11   |      515.3   |          0.1166    |            0.1472   |          0.1145   |      0.06493   |        0.2504    |         0.07146   |\n",
    "| 50%   | 906024           |      13.37    |       18.84    |           86.24  |     551.1   |         0.09587   |          0.09263   |        0.06154   |     0.0335    |       0.1792    |       0.06154    |    0.3242   |     1.108    |        2.287   |   24.53   |      0.00638    |        0.02045   |      0.02589   |   0.01093    |    0.01873    |     0.003187   |       14.97    |        25.41    |           97.66   |      686.5   |          0.1313    |            0.2119   |          0.2267   |      0.09993   |        0.2822    |         0.08004   |\n",
    "| 75%   |      8.81313e+06 |      15.78    |       21.8     |          104.1   |     782.7   |         0.1053    |          0.1304    |        0.1307    |     0.074     |       0.1957    |       0.06612    |    0.4789   |     1.474    |        3.357   |   45.19   |      0.008146   |        0.03245   |      0.04205   |   0.01471    |    0.02348    |     0.004558   |       18.79    |        29.72    |          125.4    |     1084     |          0.146     |            0.3391   |          0.3829   |      0.1614    |        0.3179    |         0.09208   |\n",
    "| max   |      9.11321e+08 |      28.11    |       39.28    |          188.5   |    2501     |         0.1634    |          0.3454    |        0.4268    |     0.2012    |       0.304     |       0.09744    |    2.873    |     4.885    |       21.98    |  542.2    |      0.03113    |        0.1354    |      0.396     |   0.05279    |    0.07895    |     0.02984    |       36.04    |        49.54    |          251.2    |     4254     |          0.2226    |            1.058    |          1.252    |      0.291     |        0.6638    |         0.2075    |\n",
    "\n",
    "\n",
    "|Колонка|Значение|\n",
    "|-|-|\n",
    "|id|-|\n",
    "|diagnosis|-|\n",
    "|radius_mean|-|\n",
    "|texture_mean|-|\n",
    "|perimeter_mean|-|\n",
    "|area_mean|-|\n",
    "|smoothness_mean|-|\n",
    "|compactness_mean|-|\n",
    "|concavity_mean|-|\n",
    "|points_mean|-|\n",
    "|symmetry_mean|-|\n",
    "|dimension_mean|-|\n",
    "|radius_se|-|\n",
    "|texture_se|-|\n",
    "|perimeter_se|-|\n",
    "|area_se|-|\n",
    "|smoothness_se|-|\n",
    "|compactness_se|-|\n",
    "|concavity_se|-|\n",
    "|points_se|-|\n",
    "|symmetry_se|-|\n",
    "|dimension_se|-|\n",
    "|radius_worst|-|\n",
    "|texture_worst|-|\n",
    "|perimeter_worst|-|\n",
    "|area_worst|-|\n",
    "|smoothness_worst|-|\n",
    "|compactness_worst|-|\n",
    "|concavity_worst|-|\n",
    "|points_worst|-|\n",
    "|symmetry_worst|-|\n",
    "|dimension_worst|-|\n",
    "\n",
    "\n",
    "В репозитории [norinhossamm/Breast-Cancer-Wisconsin](https://github.com/norinhossamm/Breast-Cancer-Wisconsin/blob/main/README.md) была проведена работа по исследованию датасета:\n",
    "- построены [точечные диаграммы](https://private-user-images.githubusercontent.com/111150436/356276686-b395ca8c-4faf-4fa8-b324-73d459f8ad35.png?jwt=eyJhbGciOiJIUzI1NiIsInR5cCI6IkpXVCJ9.eyJpc3MiOiJnaXRodWIuY29tIiwiYXVkIjoicmF3LmdpdGh1YnVzZXJjb250ZW50LmNvbSIsImtleSI6ImtleTUiLCJleHAiOjE3MzQzMzc1MzksIm5iZiI6MTczNDMzNzIzOSwicGF0aCI6Ii8xMTExNTA0MzYvMzU2Mjc2Njg2LWIzOTVjYThjLTRmYWYtNGZhOC1iMzI0LTczZDQ1OWY4YWQzNS5wbmc_WC1BbXotQWxnb3JpdGhtPUFXUzQtSE1BQy1TSEEyNTYmWC1BbXotQ3JlZGVudGlhbD1BS0lBVkNPRFlMU0E1M1BRSzRaQSUyRjIwMjQxMjE2JTJGdXMtZWFzdC0xJTJGczMlMkZhd3M0X3JlcXVlc3QmWC1BbXotRGF0ZT0yMDI0MTIxNlQwODIwMzlaJlgtQW16LUV4cGlyZXM9MzAwJlgtQW16LVNpZ25hdHVyZT05OTA5YjZjNzA1OGY1ZGM0MTM5MTJjZTEwZTYzNGZhOTFhNzM1MmZlOTZjMGYzYTNlZmQ2ZTk0MWQxMGZiYjgxJlgtQW16LVNpZ25lZEhlYWRlcnM9aG9zdCJ9.CDzyyl5bQXb2SclD8XymlBJONeMkO7-YzqD0ijtvtqI), показывающие отношения между каждой парой признаков\n",
    "- рассчитаны [корреляции между признаками](https://private-user-images.githubusercontent.com/111150436/356276635-9dd81beb-1b72-4d28-8450-c786a1868fbc.png?jwt=eyJhbGciOiJIUzI1NiIsInR5cCI6IkpXVCJ9.eyJpc3MiOiJnaXRodWIuY29tIiwiYXVkIjoicmF3LmdpdGh1YnVzZXJjb250ZW50LmNvbSIsImtleSI6ImtleTUiLCJleHAiOjE3MzQzMzc2MDcsIm5iZiI6MTczNDMzNzMwNywicGF0aCI6Ii8xMTExNTA0MzYvMzU2Mjc2NjM1LTlkZDgxYmViLTFiNzItNGQyOC04NDUwLWM3ODZhMTg2OGZiYy5wbmc_WC1BbXotQWxnb3JpdGhtPUFXUzQtSE1BQy1TSEEyNTYmWC1BbXotQ3JlZGVudGlhbD1BS0lBVkNPRFlMU0E1M1BRSzRaQSUyRjIwMjQxMjE2JTJGdXMtZWFzdC0xJTJGczMlMkZhd3M0X3JlcXVlc3QmWC1BbXotRGF0ZT0yMDI0MTIxNlQwODIxNDdaJlgtQW16LUV4cGlyZXM9MzAwJlgtQW16LVNpZ25hdHVyZT1lZWVlNmM5NTM4NTM0ZjY2ZDIxYWFmMzE1YzgzZDIyZWE4YTk0MzE0ZjFkMjE3NzNiZDc4ZGEyNDJhNTgyNTJkJlgtQW16LVNpZ25lZEhlYWRlcnM9aG9zdCJ9.H6e7NXM8pj9YlnE7-AAYv3ug2Izf6xkVRtZOuD57JMs)\n",
    "\n",
    "Возможный источник шума в этом датасете - колонка id, содержащая возрастающие целые числа, никак не влияющие на целевую переменную."
   ]
  },
  {
   "cell_type": "code",
   "execution_count": null,
   "metadata": {},
   "outputs": [],
   "source": [
    "df = pd.read_csv('data/wisc_bc_data.csv')"
   ]
  },
  {
   "cell_type": "code",
   "execution_count": 20,
   "metadata": {},
   "outputs": [
    {
     "name": "stdout",
     "output_type": "stream",
     "text": [
      "|       |               id |   radius_mean |   texture_mean |   perimeter_mean |   area_mean |   smoothness_mean |   compactness_mean |   concavity_mean |   points_mean |   symmetry_mean |   dimension_mean |   radius_se |   texture_se |   perimeter_se |   area_se |   smoothness_se |   compactness_se |   concavity_se |    points_se |   symmetry_se |   dimension_se |   radius_worst |   texture_worst |   perimeter_worst |   area_worst |   smoothness_worst |   compactness_worst |   concavity_worst |   points_worst |   symmetry_worst |   dimension_worst |\n",
      "|:------|-----------------:|--------------:|---------------:|-----------------:|------------:|------------------:|-------------------:|-----------------:|--------------:|----------------:|-----------------:|------------:|-------------:|---------------:|----------:|----------------:|-----------------:|---------------:|-------------:|--------------:|---------------:|---------------:|----------------:|------------------:|-------------:|-------------------:|--------------------:|------------------:|---------------:|-----------------:|------------------:|\n",
      "| count |    569           |     569       |      569       |          569     |     569     |       569         |        569         |      569         |   569         |     569         |     569          |  569        |   569        |      569       |  569      |    569          |      569         |    569         | 569          |  569          |   569          |      569       |       569       |          569      |      569     |        569         |          569        |        569        |    569         |      569         |       569         |\n",
      "| mean  |      3.03718e+07 |      14.1273  |       19.2896  |           91.969 |     654.889 |         0.0963603 |          0.104341  |        0.0887993 |     0.0489191 |       0.181162  |       0.0627976  |    0.405172 |     1.21685  |        2.86606 |   40.3371 |      0.00704098 |        0.0254781 |      0.0318937 |   0.0117961  |    0.0205423  |     0.0037949  |       16.2692  |        25.6772  |          107.261  |      880.583 |          0.132369  |            0.254265 |          0.272188 |      0.114606  |        0.290076  |         0.0839458 |\n",
      "| std   |      1.25021e+08 |       3.52405 |        4.30104 |           24.299 |     351.914 |         0.0140641 |          0.0528128 |        0.0797198 |     0.0388028 |       0.0274143 |       0.00706036 |    0.277313 |     0.551648 |        2.02185 |   45.491  |      0.00300252 |        0.0179082 |      0.0301861 |   0.00617029 |    0.00826637 |     0.00264607 |        4.83324 |         6.14626 |           33.6025 |      569.357 |          0.0228324 |            0.157336 |          0.208624 |      0.0657323 |        0.0618675 |         0.0180613 |\n",
      "| min   |   8670           |       6.981   |        9.71    |           43.79  |     143.5   |         0.05263   |          0.01938   |        0         |     0         |       0.106     |       0.04996    |    0.1115   |     0.3602   |        0.757   |    6.802  |      0.001713   |        0.002252  |      0         |   0          |    0.007882   |     0.0008948  |        7.93    |        12.02    |           50.41   |      185.2   |          0.07117   |            0.02729  |          0        |      0         |        0.1565    |         0.05504   |\n",
      "| 25%   | 869218           |      11.7     |       16.17    |           75.17  |     420.3   |         0.08637   |          0.06492   |        0.02956   |     0.02031   |       0.1619    |       0.0577     |    0.2324   |     0.8339   |        1.606   |   17.85   |      0.005169   |        0.01308   |      0.01509   |   0.007638   |    0.01516    |     0.002248   |       13.01    |        21.08    |           84.11   |      515.3   |          0.1166    |            0.1472   |          0.1145   |      0.06493   |        0.2504    |         0.07146   |\n",
      "| 50%   | 906024           |      13.37    |       18.84    |           86.24  |     551.1   |         0.09587   |          0.09263   |        0.06154   |     0.0335    |       0.1792    |       0.06154    |    0.3242   |     1.108    |        2.287   |   24.53   |      0.00638    |        0.02045   |      0.02589   |   0.01093    |    0.01873    |     0.003187   |       14.97    |        25.41    |           97.66   |      686.5   |          0.1313    |            0.2119   |          0.2267   |      0.09993   |        0.2822    |         0.08004   |\n",
      "| 75%   |      8.81313e+06 |      15.78    |       21.8     |          104.1   |     782.7   |         0.1053    |          0.1304    |        0.1307    |     0.074     |       0.1957    |       0.06612    |    0.4789   |     1.474    |        3.357   |   45.19   |      0.008146   |        0.03245   |      0.04205   |   0.01471    |    0.02348    |     0.004558   |       18.79    |        29.72    |          125.4    |     1084     |          0.146     |            0.3391   |          0.3829   |      0.1614    |        0.3179    |         0.09208   |\n",
      "| max   |      9.11321e+08 |      28.11    |       39.28    |          188.5   |    2501     |         0.1634    |          0.3454    |        0.4268    |     0.2012    |       0.304     |       0.09744    |    2.873    |     4.885    |       21.98    |  542.2    |      0.03113    |        0.1354    |      0.396     |   0.05279    |    0.07895    |     0.02984    |       36.04    |        49.54    |          251.2    |     4254     |          0.2226    |            1.058    |          1.252    |      0.291     |        0.6638    |         0.2075    |\n"
     ]
    }
   ],
   "source": [
    "print(df.describe().to_markdown())"
   ]
  },
  {
   "cell_type": "code",
   "execution_count": 13,
   "metadata": {},
   "outputs": [
    {
     "name": "stdout",
     "output_type": "stream",
     "text": [
      "|Колонка|Значение|\n",
      "|-|-|\n",
      "|id|-|\n",
      "|diagnosis|-|\n",
      "|radius_mean|-|\n",
      "|texture_mean|-|\n",
      "|perimeter_mean|-|\n",
      "|area_mean|-|\n",
      "|smoothness_mean|-|\n",
      "|compactness_mean|-|\n",
      "|concavity_mean|-|\n",
      "|points_mean|-|\n",
      "|symmetry_mean|-|\n",
      "|dimension_mean|-|\n",
      "|radius_se|-|\n",
      "|texture_se|-|\n",
      "|perimeter_se|-|\n",
      "|area_se|-|\n",
      "|smoothness_se|-|\n",
      "|compactness_se|-|\n",
      "|concavity_se|-|\n",
      "|points_se|-|\n",
      "|symmetry_se|-|\n",
      "|dimension_se|-|\n",
      "|radius_worst|-|\n",
      "|texture_worst|-|\n",
      "|perimeter_worst|-|\n",
      "|area_worst|-|\n",
      "|smoothness_worst|-|\n",
      "|compactness_worst|-|\n",
      "|concavity_worst|-|\n",
      "|points_worst|-|\n",
      "|symmetry_worst|-|\n",
      "|dimension_worst|-|\n"
     ]
    }
   ],
   "source": [
    "print('|Колонка|Значение|')\n",
    "print('|-|-|')\n",
    "for col in df.columns:\n",
    "    print(f\"|{col}|-|\")"
   ]
  },
  {
   "cell_type": "markdown",
   "metadata": {},
   "source": [
    "## Датасет №2: car_evaluation.csv\n",
    "\n",
    "**Описание:** датасет оценку стоимостей машин\n",
    "\n",
    "\n",
    "## Датасет №3: StudentPerformanceFactors.csv\n",
    "\n",
    "**Описание:** датасет успеваемость учеников\n"
   ]
  },
  {
   "cell_type": "markdown",
   "metadata": {},
   "source": []
  }
 ],
 "metadata": {
  "kernelspec": {
   "display_name": "3.12.3",
   "language": "python",
   "name": "python3"
  },
  "language_info": {
   "codemirror_mode": {
    "name": "ipython",
    "version": 3
   },
   "file_extension": ".py",
   "mimetype": "text/x-python",
   "name": "python",
   "nbconvert_exporter": "python",
   "pygments_lexer": "ipython3",
   "version": "3.12.3"
  }
 },
 "nbformat": 4,
 "nbformat_minor": 2
}
